{
 "cells": [
  {
   "cell_type": "code",
   "execution_count": 169,
   "metadata": {},
   "outputs": [],
   "source": [
    "import json\n",
    "import pandas as pd\n",
    "import numpy as np\n",
    "import urllib, http.client"
   ]
  },
  {
   "cell_type": "code",
   "execution_count": 170,
   "metadata": {},
   "outputs": [],
   "source": [
    "url = 'https://www.data.gouv.fr/fr/datasets/r/0dba0390-5eba-401f-aae5-933243c0b163'\n",
    "with urllib.request.urlopen(url) as link:\n",
    "    try:\n",
    "        data = json.loads(link.read().decode())\n",
    "    except http.client.IncompleteRead as e:\n",
    "        data = e.partial\n",
    "            "
   ]
  },
  {
   "cell_type": "code",
   "execution_count": 130,
   "metadata": {},
   "outputs": [],
   "source": [
    "from pandas.io.json import json_normalize #for flatting the json for pandas "
   ]
  },
  {
   "cell_type": "code",
   "execution_count": 189,
   "metadata": {},
   "outputs": [
    {
     "name": "stdout",
     "output_type": "stream",
     "text": [
      "<class 'pandas.core.frame.DataFrame'>\n",
      "RangeIndex: 5111 entries, 0 to 5110\n",
      "Data columns (total 65 columns):\n",
      "datasetid                         5111 non-null object\n",
      "fields.accessibility              244 non-null object\n",
      "fields.accessibility_label_en     244 non-null object\n",
      "fields.accessibility_label_fr     244 non-null object\n",
      "fields.age_max                    652 non-null float64\n",
      "fields.age_min                    325 non-null float64\n",
      "fields.canonicalurl               5111 non-null object\n",
      "fields.conditions_en              1039 non-null object\n",
      "fields.conditions_es              1036 non-null object\n",
      "fields.conditions_fr              1184 non-null object\n",
      "fields.criteria                   602 non-null object\n",
      "fields.description_en             4867 non-null object\n",
      "fields.description_es             4862 non-null object\n",
      "fields.description_fr             5107 non-null object\n",
      "fields.firstdate                  5111 non-null object\n",
      "fields.firsttimeend               5111 non-null object\n",
      "fields.firsttimestart             5111 non-null object\n",
      "fields.html_en                    4867 non-null object\n",
      "fields.html_es                    4862 non-null object\n",
      "fields.html_fr                    5101 non-null object\n",
      "fields.keywords_en                8 non-null object\n",
      "fields.keywords_es                1 non-null object\n",
      "fields.keywords_fr                854 non-null object\n",
      "fields.label_multivalued          5109 non-null object\n",
      "fields.lastdate                   5111 non-null object\n",
      "fields.lasttimeend                5111 non-null object\n",
      "fields.lasttimestart              5111 non-null object\n",
      "fields.location_address           5110 non-null object\n",
      "fields.location_city              5097 non-null object\n",
      "fields.location_coordinates       5111 non-null object\n",
      "fields.location_country_fr        5111 non-null object\n",
      "fields.location_countrycode       5111 non-null object\n",
      "fields.location_department        5075 non-null object\n",
      "fields.location_description_en    1 non-null object\n",
      "fields.location_description_es    1 non-null object\n",
      "fields.location_description_fr    2 non-null object\n",
      "fields.location_district          1675 non-null object\n",
      "fields.location_insee             4746 non-null object\n",
      "fields.location_links             1 non-null object\n",
      "fields.location_name              5111 non-null object\n",
      "fields.location_postalcode        1809 non-null object\n",
      "fields.location_region            5093 non-null object\n",
      "fields.location_uid               5111 non-null object\n",
      "fields.location_website           2 non-null object\n",
      "fields.longdescription_en         4867 non-null object\n",
      "fields.longdescription_es         4862 non-null object\n",
      "fields.longdescription_fr         5101 non-null object\n",
      "fields.origin_uid                 5111 non-null object\n",
      "fields.range_en                   5111 non-null object\n",
      "fields.range_fr                   5111 non-null object\n",
      "fields.registration               211 non-null object\n",
      "fields.slug                       5111 non-null object\n",
      "fields.taggroups                  5109 non-null object\n",
      "fields.tags                       5109 non-null object\n",
      "fields.timings                    5111 non-null object\n",
      "fields.timings_end                5051 non-null object\n",
      "fields.title_en                   4867 non-null object\n",
      "fields.title_es                   4862 non-null object\n",
      "fields.title_fr                   5108 non-null object\n",
      "fields.uid                        5111 non-null object\n",
      "fields.updatedat                  5111 non-null object\n",
      "fields.value_multi                211 non-null object\n",
      "geometry.coordinates              5111 non-null object\n",
      "geometry.type                     5111 non-null object\n",
      "recordid                          5111 non-null object\n",
      "dtypes: float64(2), object(63)\n",
      "memory usage: 2.5+ MB\n"
     ]
    }
   ],
   "source": [
    "data_norm = json_normalize(data)\n",
    "data_norm.info()"
   ]
  },
  {
   "cell_type": "code",
   "execution_count": null,
   "metadata": {},
   "outputs": [],
   "source": []
  }
 ],
 "metadata": {
  "kernelspec": {
   "display_name": "Python 3",
   "language": "python",
   "name": "python3"
  },
  "language_info": {
   "codemirror_mode": {
    "name": "ipython",
    "version": 3
   },
   "file_extension": ".py",
   "mimetype": "text/x-python",
   "name": "python",
   "nbconvert_exporter": "python",
   "pygments_lexer": "ipython3",
   "version": "3.7.3"
  }
 },
 "nbformat": 4,
 "nbformat_minor": 2
}
