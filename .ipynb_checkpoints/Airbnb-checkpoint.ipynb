{
 "cells": [
  {
   "cell_type": "code",
   "execution_count": 1,
   "metadata": {},
   "outputs": [],
   "source": [
    "import pandas as pd\n",
    "import os\n",
    "os.getcwd()\n",
    "%matplotlib notebook\n",
    "%matplotlib inline\n",
    "import matplotlib.pyplot as plt\n",
    "plt.style.use('dark_background')\n",
    "import numpy as np"
   ]
  },
  {
   "cell_type": "markdown",
   "metadata": {},
   "source": [
    "##### Loading the dataset\n",
    "Changing to working directory and reading the file using pandas read_csv. \n",
    "The file is ; delimited and contains a header"
   ]
  },
  {
   "cell_type": "code",
   "execution_count": 2,
   "metadata": {},
   "outputs": [
    {
     "data": {
      "text/plain": [
       "['airbnb-listings_netherlands.csv',\n",
       " 'creditcard.csv',\n",
       " 'F1',\n",
       " 'housing',\n",
       " 'PythonDA',\n",
       " 'WideWorldImporters-Full.bak']"
      ]
     },
     "execution_count": 2,
     "metadata": {},
     "output_type": "execute_result"
    }
   ],
   "source": [
    "os.chdir('E:\\\\Datasets')\n",
    "os.listdir()"
   ]
  },
  {
   "cell_type": "code",
   "execution_count": 3,
   "metadata": {},
   "outputs": [],
   "source": [
    "path = os.path.join(os.listdir()[0])\n",
    "airbnb = pd.read_csv(path,delimiter=';',header=0) "
   ]
  },
  {
   "cell_type": "markdown",
   "metadata": {},
   "source": [
    "##### Inspecting the dataset\n",
    "The file contains 89 columns with 15,180 rows. "
   ]
  },
  {
   "cell_type": "code",
   "execution_count": 4,
   "metadata": {},
   "outputs": [
    {
     "name": "stdout",
     "output_type": "stream",
     "text": [
      "<class 'pandas.core.frame.DataFrame'>\n",
      "RangeIndex: 15181 entries, 0 to 15180\n",
      "Data columns (total 89 columns):\n",
      "ID                                15181 non-null int64\n",
      "Listing Url                       15181 non-null object\n",
      "Scrape ID                         15181 non-null int64\n",
      "Last Scraped                      15181 non-null object\n",
      "Name                              15181 non-null object\n",
      "Summary                           14748 non-null object\n",
      "Space                             11289 non-null object\n",
      "Description                       15181 non-null object\n",
      "Experiences Offered               15181 non-null object\n",
      "Neighborhood Overview             10022 non-null object\n",
      "Notes                             6506 non-null object\n",
      "Transit                           10210 non-null object\n",
      "Access                            9409 non-null object\n",
      "Interaction                       9115 non-null object\n",
      "House Rules                       10572 non-null object\n",
      "Thumbnail Url                     11336 non-null object\n",
      "Medium Url                        11336 non-null object\n",
      "Picture Url                       15167 non-null object\n",
      "XL Picture Url                    11336 non-null object\n",
      "Host ID                           15181 non-null int64\n",
      "Host URL                          15181 non-null object\n",
      "Host Name                         15178 non-null object\n",
      "Host Since                        15178 non-null object\n",
      "Host Location                     15136 non-null object\n",
      "Host About                        9415 non-null object\n",
      "Host Response Time                11535 non-null object\n",
      "Host Response Rate                11535 non-null float64\n",
      "Host Acceptance Rate              0 non-null float64\n",
      "Host Thumbnail Url                15178 non-null object\n",
      "Host Picture Url                  15178 non-null object\n",
      "Host Neighbourhood                10480 non-null object\n",
      "Host Listings Count               15178 non-null float64\n",
      "Host Total Listings Count         15178 non-null float64\n",
      "Host Verifications                15167 non-null object\n",
      "Street                            15181 non-null object\n",
      "Neighbourhood                     9932 non-null object\n",
      "Neighbourhood Cleansed            15181 non-null object\n",
      "Neighbourhood Group Cleansed      0 non-null float64\n",
      "City                              15180 non-null object\n",
      "State                             15155 non-null object\n",
      "Zipcode                           14528 non-null object\n",
      "Market                            15149 non-null object\n",
      "Smart Location                    15181 non-null object\n",
      "Country Code                      15181 non-null object\n",
      "Country                           15181 non-null object\n",
      "Latitude                          15181 non-null float64\n",
      "Longitude                         15181 non-null float64\n",
      "Property Type                     15181 non-null object\n",
      "Room Type                         15181 non-null object\n",
      "Accommodates                      15181 non-null int64\n",
      "Bathrooms                         15163 non-null float64\n",
      "Bedrooms                          15169 non-null float64\n",
      "Beds                              15164 non-null float64\n",
      "Bed Type                          15181 non-null object\n",
      "Amenities                         15135 non-null object\n",
      "Square Feet                       490 non-null float64\n",
      "Price                             15173 non-null float64\n",
      "Weekly Price                      2718 non-null float64\n",
      "Monthly Price                     1994 non-null float64\n",
      "Security Deposit                  7752 non-null float64\n",
      "Cleaning Fee                      11468 non-null float64\n",
      "Guests Included                   15181 non-null int64\n",
      "Extra People                      15181 non-null int64\n",
      "Minimum Nights                    15181 non-null int64\n",
      "Maximum Nights                    15181 non-null int64\n",
      "Calendar Updated                  15181 non-null object\n",
      "Has Availability                  0 non-null float64\n",
      "Availability 30                   15181 non-null int64\n",
      "Availability 60                   15181 non-null int64\n",
      "Availability 90                   15181 non-null int64\n",
      "Availability 365                  15181 non-null int64\n",
      "Calendar last Scraped             15181 non-null object\n",
      "Number of Reviews                 15181 non-null int64\n",
      "First Review                      13001 non-null object\n",
      "Last Review                       13001 non-null object\n",
      "Review Scores Rating              12864 non-null float64\n",
      "Review Scores Accuracy            12844 non-null float64\n",
      "Review Scores Cleanliness         12847 non-null float64\n",
      "Review Scores Checkin             12829 non-null float64\n",
      "Review Scores Communication       12850 non-null float64\n",
      "Review Scores Location            12830 non-null float64\n",
      "Review Scores Value               12829 non-null float64\n",
      "License                           0 non-null float64\n",
      "Jurisdiction Names                14721 non-null object\n",
      "Cancellation Policy               15181 non-null object\n",
      "Calculated host listings count    15181 non-null int64\n",
      "Reviews per Month                 13001 non-null float64\n",
      "Geolocation                       15181 non-null object\n",
      "Features                          15172 non-null object\n",
      "dtypes: float64(26), int64(14), object(49)\n",
      "memory usage: 10.3+ MB\n"
     ]
    }
   ],
   "source": [
    "airbnb.info()"
   ]
  },
  {
   "cell_type": "code",
   "execution_count": 5,
   "metadata": {},
   "outputs": [],
   "source": [
    "airbnb.columns = airbnb.columns.str.replace(' ','_',) # replace whitespace with _ in the column header"
   ]
  },
  {
   "cell_type": "code",
   "execution_count": 6,
   "metadata": {},
   "outputs": [
    {
     "name": "stdout",
     "output_type": "stream",
     "text": [
      "<class 'pandas.core.frame.DataFrame'>\n",
      "RangeIndex: 15181 entries, 0 to 15180\n",
      "Data columns (total 89 columns):\n",
      "ID                                15181 non-null int64\n",
      "Listing_Url                       15181 non-null object\n",
      "Scrape_ID                         15181 non-null int64\n",
      "Last_Scraped                      15181 non-null object\n",
      "Name                              15181 non-null object\n",
      "Summary                           14748 non-null object\n",
      "Space                             11289 non-null object\n",
      "Description                       15181 non-null object\n",
      "Experiences_Offered               15181 non-null object\n",
      "Neighborhood_Overview             10022 non-null object\n",
      "Notes                             6506 non-null object\n",
      "Transit                           10210 non-null object\n",
      "Access                            9409 non-null object\n",
      "Interaction                       9115 non-null object\n",
      "House_Rules                       10572 non-null object\n",
      "Thumbnail_Url                     11336 non-null object\n",
      "Medium_Url                        11336 non-null object\n",
      "Picture_Url                       15167 non-null object\n",
      "XL_Picture_Url                    11336 non-null object\n",
      "Host_ID                           15181 non-null int64\n",
      "Host_URL                          15181 non-null object\n",
      "Host_Name                         15178 non-null object\n",
      "Host_Since                        15178 non-null object\n",
      "Host_Location                     15136 non-null object\n",
      "Host_About                        9415 non-null object\n",
      "Host_Response_Time                11535 non-null object\n",
      "Host_Response_Rate                11535 non-null float64\n",
      "Host_Acceptance_Rate              0 non-null float64\n",
      "Host_Thumbnail_Url                15178 non-null object\n",
      "Host_Picture_Url                  15178 non-null object\n",
      "Host_Neighbourhood                10480 non-null object\n",
      "Host_Listings_Count               15178 non-null float64\n",
      "Host_Total_Listings_Count         15178 non-null float64\n",
      "Host_Verifications                15167 non-null object\n",
      "Street                            15181 non-null object\n",
      "Neighbourhood                     9932 non-null object\n",
      "Neighbourhood_Cleansed            15181 non-null object\n",
      "Neighbourhood_Group_Cleansed      0 non-null float64\n",
      "City                              15180 non-null object\n",
      "State                             15155 non-null object\n",
      "Zipcode                           14528 non-null object\n",
      "Market                            15149 non-null object\n",
      "Smart_Location                    15181 non-null object\n",
      "Country_Code                      15181 non-null object\n",
      "Country                           15181 non-null object\n",
      "Latitude                          15181 non-null float64\n",
      "Longitude                         15181 non-null float64\n",
      "Property_Type                     15181 non-null object\n",
      "Room_Type                         15181 non-null object\n",
      "Accommodates                      15181 non-null int64\n",
      "Bathrooms                         15163 non-null float64\n",
      "Bedrooms                          15169 non-null float64\n",
      "Beds                              15164 non-null float64\n",
      "Bed_Type                          15181 non-null object\n",
      "Amenities                         15135 non-null object\n",
      "Square_Feet                       490 non-null float64\n",
      "Price                             15173 non-null float64\n",
      "Weekly_Price                      2718 non-null float64\n",
      "Monthly_Price                     1994 non-null float64\n",
      "Security_Deposit                  7752 non-null float64\n",
      "Cleaning_Fee                      11468 non-null float64\n",
      "Guests_Included                   15181 non-null int64\n",
      "Extra_People                      15181 non-null int64\n",
      "Minimum_Nights                    15181 non-null int64\n",
      "Maximum_Nights                    15181 non-null int64\n",
      "Calendar_Updated                  15181 non-null object\n",
      "Has_Availability                  0 non-null float64\n",
      "Availability_30                   15181 non-null int64\n",
      "Availability_60                   15181 non-null int64\n",
      "Availability_90                   15181 non-null int64\n",
      "Availability_365                  15181 non-null int64\n",
      "Calendar_last_Scraped             15181 non-null object\n",
      "Number_of_Reviews                 15181 non-null int64\n",
      "First_Review                      13001 non-null object\n",
      "Last_Review                       13001 non-null object\n",
      "Review_Scores_Rating              12864 non-null float64\n",
      "Review_Scores_Accuracy            12844 non-null float64\n",
      "Review_Scores_Cleanliness         12847 non-null float64\n",
      "Review_Scores_Checkin             12829 non-null float64\n",
      "Review_Scores_Communication       12850 non-null float64\n",
      "Review_Scores_Location            12830 non-null float64\n",
      "Review_Scores_Value               12829 non-null float64\n",
      "License                           0 non-null float64\n",
      "Jurisdiction_Names                14721 non-null object\n",
      "Cancellation_Policy               15181 non-null object\n",
      "Calculated_host_listings_count    15181 non-null int64\n",
      "Reviews_per_Month                 13001 non-null float64\n",
      "Geolocation                       15181 non-null object\n",
      "Features                          15172 non-null object\n",
      "dtypes: float64(26), int64(14), object(49)\n",
      "memory usage: 10.3+ MB\n"
     ]
    }
   ],
   "source": [
    "airbnb.info()"
   ]
  },
  {
   "cell_type": "code",
   "execution_count": 7,
   "metadata": {},
   "outputs": [
    {
     "data": {
      "text/html": [
       "<div>\n",
       "<style scoped>\n",
       "    .dataframe tbody tr th:only-of-type {\n",
       "        vertical-align: middle;\n",
       "    }\n",
       "\n",
       "    .dataframe tbody tr th {\n",
       "        vertical-align: top;\n",
       "    }\n",
       "\n",
       "    .dataframe thead th {\n",
       "        text-align: right;\n",
       "    }\n",
       "</style>\n",
       "<table border=\"1\" class=\"dataframe\">\n",
       "  <thead>\n",
       "    <tr style=\"text-align: right;\">\n",
       "      <th></th>\n",
       "      <th>ID</th>\n",
       "      <th>Listing_Url</th>\n",
       "      <th>Scrape_ID</th>\n",
       "      <th>Last_Scraped</th>\n",
       "      <th>Name</th>\n",
       "      <th>Summary</th>\n",
       "      <th>Space</th>\n",
       "      <th>Description</th>\n",
       "      <th>Experiences_Offered</th>\n",
       "      <th>Neighborhood_Overview</th>\n",
       "      <th>...</th>\n",
       "      <th>Review_Scores_Communication</th>\n",
       "      <th>Review_Scores_Location</th>\n",
       "      <th>Review_Scores_Value</th>\n",
       "      <th>License</th>\n",
       "      <th>Jurisdiction_Names</th>\n",
       "      <th>Cancellation_Policy</th>\n",
       "      <th>Calculated_host_listings_count</th>\n",
       "      <th>Reviews_per_Month</th>\n",
       "      <th>Geolocation</th>\n",
       "      <th>Features</th>\n",
       "    </tr>\n",
       "  </thead>\n",
       "  <tbody>\n",
       "  </tbody>\n",
       "</table>\n",
       "<p>0 rows × 89 columns</p>\n",
       "</div>"
      ],
      "text/plain": [
       "Empty DataFrame\n",
       "Columns: [ID, Listing_Url, Scrape_ID, Last_Scraped, Name, Summary, Space, Description, Experiences_Offered, Neighborhood_Overview, Notes, Transit, Access, Interaction, House_Rules, Thumbnail_Url, Medium_Url, Picture_Url, XL_Picture_Url, Host_ID, Host_URL, Host_Name, Host_Since, Host_Location, Host_About, Host_Response_Time, Host_Response_Rate, Host_Acceptance_Rate, Host_Thumbnail_Url, Host_Picture_Url, Host_Neighbourhood, Host_Listings_Count, Host_Total_Listings_Count, Host_Verifications, Street, Neighbourhood, Neighbourhood_Cleansed, Neighbourhood_Group_Cleansed, City, State, Zipcode, Market, Smart_Location, Country_Code, Country, Latitude, Longitude, Property_Type, Room_Type, Accommodates, Bathrooms, Bedrooms, Beds, Bed_Type, Amenities, Square_Feet, Price, Weekly_Price, Monthly_Price, Security_Deposit, Cleaning_Fee, Guests_Included, Extra_People, Minimum_Nights, Maximum_Nights, Calendar_Updated, Has_Availability, Availability_30, Availability_60, Availability_90, Availability_365, Calendar_last_Scraped, Number_of_Reviews, First_Review, Last_Review, Review_Scores_Rating, Review_Scores_Accuracy, Review_Scores_Cleanliness, Review_Scores_Checkin, Review_Scores_Communication, Review_Scores_Location, Review_Scores_Value, License, Jurisdiction_Names, Cancellation_Policy, Calculated_host_listings_count, Reviews_per_Month, Geolocation, Features]\n",
       "Index: []\n",
       "\n",
       "[0 rows x 89 columns]"
      ]
     },
     "execution_count": 7,
     "metadata": {},
     "output_type": "execute_result"
    }
   ],
   "source": [
    "airbnb[airbnb.duplicated() == True] == 0 # checking if any rows are duplicated"
   ]
  },
  {
   "cell_type": "code",
   "execution_count": 8,
   "metadata": {},
   "outputs": [],
   "source": [
    "missing_val = airbnb.isnull().sum() /len(airbnb)\n",
    "missing_val_gt_50 = airbnb.columns[missing_val > 0.5]"
   ]
  },
  {
   "cell_type": "code",
   "execution_count": 9,
   "metadata": {},
   "outputs": [
    {
     "data": {
      "text/plain": [
       "Index(['Notes', 'Host_Acceptance_Rate', 'Neighbourhood_Group_Cleansed',\n",
       "       'Square_Feet', 'Weekly_Price', 'Monthly_Price', 'Has_Availability',\n",
       "       'License'],\n",
       "      dtype='object')"
      ]
     },
     "execution_count": 9,
     "metadata": {},
     "output_type": "execute_result"
    }
   ],
   "source": [
    "missing_val_gt_50"
   ]
  },
  {
   "cell_type": "code",
   "execution_count": 10,
   "metadata": {},
   "outputs": [],
   "source": [
    "airbnb.drop(missing_val_gt_50,axis=1,inplace=True)"
   ]
  },
  {
   "cell_type": "code",
   "execution_count": 11,
   "metadata": {},
   "outputs": [
    {
     "data": {
      "text/plain": [
       "Index(['Neighborhood_Overview', 'Transit', 'Access', 'Interaction',\n",
       "       'House_Rules', 'Host_About', 'Host_Neighbourhood', 'Neighbourhood',\n",
       "       'Security_Deposit'],\n",
       "      dtype='object')"
      ]
     },
     "execution_count": 11,
     "metadata": {},
     "output_type": "execute_result"
    }
   ],
   "source": [
    "missing_val = airbnb.isnull().sum() /len(airbnb)\n",
    "missing_val_gt_30 = airbnb.columns[missing_val > 0.3]\n",
    "missing_val_gt_30"
   ]
  },
  {
   "cell_type": "markdown",
   "metadata": {},
   "source": [
    "\n",
    "\n",
    "Getting the columns which are of **numeric data type** and split them into a different column."
   ]
  },
  {
   "cell_type": "code",
   "execution_count": 12,
   "metadata": {},
   "outputs": [
    {
     "data": {
      "text/plain": [
       "Index(['ID', 'Scrape_ID', 'Host_ID', 'Host_Response_Rate',\n",
       "       'Host_Listings_Count', 'Host_Total_Listings_Count', 'Latitude',\n",
       "       'Longitude', 'Accommodates', 'Bathrooms', 'Bedrooms', 'Beds', 'Price',\n",
       "       'Security_Deposit', 'Cleaning_Fee', 'Guests_Included', 'Extra_People',\n",
       "       'Minimum_Nights', 'Maximum_Nights', 'Availability_30',\n",
       "       'Availability_60', 'Availability_90', 'Availability_365',\n",
       "       'Number_of_Reviews', 'Review_Scores_Rating', 'Review_Scores_Accuracy',\n",
       "       'Review_Scores_Cleanliness', 'Review_Scores_Checkin',\n",
       "       'Review_Scores_Communication', 'Review_Scores_Location',\n",
       "       'Review_Scores_Value', 'Calculated_host_listings_count',\n",
       "       'Reviews_per_Month'],\n",
       "      dtype='object')"
      ]
     },
     "execution_count": 12,
     "metadata": {},
     "output_type": "execute_result"
    }
   ],
   "source": [
    "num_airbnb = airbnb.select_dtypes(include=np.number)\n",
    "num_airbnb.columns"
   ]
  },
  {
   "cell_type": "markdown",
   "metadata": {},
   "source": [
    "Getting the columns which are of **categorical data type** and split them into a different column."
   ]
  },
  {
   "cell_type": "code",
   "execution_count": 13,
   "metadata": {},
   "outputs": [
    {
     "data": {
      "text/plain": [
       "Index(['Listing_Url', 'Last_Scraped', 'Name', 'Summary', 'Space',\n",
       "       'Description', 'Experiences_Offered', 'Neighborhood_Overview',\n",
       "       'Transit', 'Access', 'Interaction', 'House_Rules', 'Thumbnail_Url',\n",
       "       'Medium_Url', 'Picture_Url', 'XL_Picture_Url', 'Host_URL', 'Host_Name',\n",
       "       'Host_Since', 'Host_Location', 'Host_About', 'Host_Response_Time',\n",
       "       'Host_Thumbnail_Url', 'Host_Picture_Url', 'Host_Neighbourhood',\n",
       "       'Host_Verifications', 'Street', 'Neighbourhood',\n",
       "       'Neighbourhood_Cleansed', 'City', 'State', 'Zipcode', 'Market',\n",
       "       'Smart_Location', 'Country_Code', 'Country', 'Property_Type',\n",
       "       'Room_Type', 'Bed_Type', 'Amenities', 'Calendar_Updated',\n",
       "       'Calendar_last_Scraped', 'First_Review', 'Last_Review',\n",
       "       'Jurisdiction_Names', 'Cancellation_Policy', 'Geolocation', 'Features'],\n",
       "      dtype='object')"
      ]
     },
     "execution_count": 13,
     "metadata": {},
     "output_type": "execute_result"
    }
   ],
   "source": [
    "cat_airbnb = airbnb.select_dtypes(include=np.object)\n",
    "cat_airbnb.columns"
   ]
  },
  {
   "cell_type": "code",
   "execution_count": 14,
   "metadata": {},
   "outputs": [
    {
     "name": "stdout",
     "output_type": "stream",
     "text": [
      "<class 'pandas.core.frame.DataFrame'>\n",
      "RangeIndex: 15181 entries, 0 to 15180\n",
      "Data columns (total 33 columns):\n",
      "ID                                15181 non-null int64\n",
      "Scrape_ID                         15181 non-null int64\n",
      "Host_ID                           15181 non-null int64\n",
      "Host_Response_Rate                11535 non-null float64\n",
      "Host_Listings_Count               15178 non-null float64\n",
      "Host_Total_Listings_Count         15178 non-null float64\n",
      "Latitude                          15181 non-null float64\n",
      "Longitude                         15181 non-null float64\n",
      "Accommodates                      15181 non-null int64\n",
      "Bathrooms                         15163 non-null float64\n",
      "Bedrooms                          15169 non-null float64\n",
      "Beds                              15164 non-null float64\n",
      "Price                             15173 non-null float64\n",
      "Security_Deposit                  7752 non-null float64\n",
      "Cleaning_Fee                      11468 non-null float64\n",
      "Guests_Included                   15181 non-null int64\n",
      "Extra_People                      15181 non-null int64\n",
      "Minimum_Nights                    15181 non-null int64\n",
      "Maximum_Nights                    15181 non-null int64\n",
      "Availability_30                   15181 non-null int64\n",
      "Availability_60                   15181 non-null int64\n",
      "Availability_90                   15181 non-null int64\n",
      "Availability_365                  15181 non-null int64\n",
      "Number_of_Reviews                 15181 non-null int64\n",
      "Review_Scores_Rating              12864 non-null float64\n",
      "Review_Scores_Accuracy            12844 non-null float64\n",
      "Review_Scores_Cleanliness         12847 non-null float64\n",
      "Review_Scores_Checkin             12829 non-null float64\n",
      "Review_Scores_Communication       12850 non-null float64\n",
      "Review_Scores_Location            12830 non-null float64\n",
      "Review_Scores_Value               12829 non-null float64\n",
      "Calculated_host_listings_count    15181 non-null int64\n",
      "Reviews_per_Month                 13001 non-null float64\n",
      "dtypes: float64(19), int64(14)\n",
      "memory usage: 3.8 MB\n"
     ]
    }
   ],
   "source": [
    "num_airbnb.info()"
   ]
  },
  {
   "cell_type": "markdown",
   "metadata": {},
   "source": [
    "Lets take the mean for the numerical columns which are having Na values"
   ]
  },
  {
   "cell_type": "code",
   "execution_count": 15,
   "metadata": {},
   "outputs": [],
   "source": [
    "num_airbnb = num_airbnb.fillna(num_airbnb.mean())"
   ]
  },
  {
   "cell_type": "markdown",
   "metadata": {},
   "source": [
    "Correlation matrix for all the numerical values"
   ]
  },
  {
   "cell_type": "code",
   "execution_count": 16,
   "metadata": {},
   "outputs": [],
   "source": [
    "correlation = num_airbnb.corr().round(2) "
   ]
  },
  {
   "cell_type": "markdown",
   "metadata": {},
   "source": [
    "Accommodates,Bedroom,Beds have higher correlation. When house has more bedroom,beds and more people to accomodate higher the price. "
   ]
  },
  {
   "cell_type": "code",
   "execution_count": 17,
   "metadata": {},
   "outputs": [
    {
     "data": {
      "text/plain": [
       "Review_Scores_Rating              1.00\n",
       "Review_Scores_Value               0.69\n",
       "Review_Scores_Cleanliness         0.66\n",
       "Review_Scores_Accuracy            0.66\n",
       "Review_Scores_Communication       0.57\n",
       "Review_Scores_Checkin             0.55\n",
       "Review_Scores_Location            0.39\n",
       "Price                             0.06\n",
       "Security_Deposit                  0.06\n",
       "Host_Response_Rate                0.06\n",
       "Bedrooms                          0.03\n",
       "Cleaning_Fee                      0.02\n",
       "Latitude                          0.01\n",
       "Minimum_Nights                    0.00\n",
       "Scrape_ID                        -0.00\n",
       "Bathrooms                         0.00\n",
       "Longitude                        -0.01\n",
       "Guests_Included                  -0.01\n",
       "Availability_365                 -0.01\n",
       "Number_of_Reviews                -0.01\n",
       "Beds                             -0.01\n",
       "Extra_People                     -0.01\n",
       "Accommodates                     -0.02\n",
       "Reviews_per_Month                -0.02\n",
       "Maximum_Nights                   -0.02\n",
       "ID                               -0.03\n",
       "Availability_90                  -0.04\n",
       "Availability_30                  -0.05\n",
       "Availability_60                  -0.05\n",
       "Host_ID                          -0.08\n",
       "Host_Total_Listings_Count        -0.12\n",
       "Host_Listings_Count              -0.12\n",
       "Calculated_host_listings_count   -0.13\n",
       "Name: Review_Scores_Rating, dtype: float64"
      ]
     },
     "execution_count": 17,
     "metadata": {},
     "output_type": "execute_result"
    }
   ],
   "source": [
    "num_airbnb.corr().round(2)['Review_Scores_Rating'].sort_values(ascending=False)"
   ]
  },
  {
   "cell_type": "code",
   "execution_count": 18,
   "metadata": {},
   "outputs": [
    {
     "name": "stdout",
     "output_type": "stream",
     "text": [
      "<class 'pandas.core.frame.DataFrame'>\n",
      "RangeIndex: 15181 entries, 0 to 15180\n",
      "Data columns (total 48 columns):\n",
      "Listing_Url               15181 non-null object\n",
      "Last_Scraped              15181 non-null object\n",
      "Name                      15181 non-null object\n",
      "Summary                   14748 non-null object\n",
      "Space                     11289 non-null object\n",
      "Description               15181 non-null object\n",
      "Experiences_Offered       15181 non-null object\n",
      "Neighborhood_Overview     10022 non-null object\n",
      "Transit                   10210 non-null object\n",
      "Access                    9409 non-null object\n",
      "Interaction               9115 non-null object\n",
      "House_Rules               10572 non-null object\n",
      "Thumbnail_Url             11336 non-null object\n",
      "Medium_Url                11336 non-null object\n",
      "Picture_Url               15167 non-null object\n",
      "XL_Picture_Url            11336 non-null object\n",
      "Host_URL                  15181 non-null object\n",
      "Host_Name                 15178 non-null object\n",
      "Host_Since                15178 non-null object\n",
      "Host_Location             15136 non-null object\n",
      "Host_About                9415 non-null object\n",
      "Host_Response_Time        11535 non-null object\n",
      "Host_Thumbnail_Url        15178 non-null object\n",
      "Host_Picture_Url          15178 non-null object\n",
      "Host_Neighbourhood        10480 non-null object\n",
      "Host_Verifications        15167 non-null object\n",
      "Street                    15181 non-null object\n",
      "Neighbourhood             9932 non-null object\n",
      "Neighbourhood_Cleansed    15181 non-null object\n",
      "City                      15180 non-null object\n",
      "State                     15155 non-null object\n",
      "Zipcode                   14528 non-null object\n",
      "Market                    15149 non-null object\n",
      "Smart_Location            15181 non-null object\n",
      "Country_Code              15181 non-null object\n",
      "Country                   15181 non-null object\n",
      "Property_Type             15181 non-null object\n",
      "Room_Type                 15181 non-null object\n",
      "Bed_Type                  15181 non-null object\n",
      "Amenities                 15135 non-null object\n",
      "Calendar_Updated          15181 non-null object\n",
      "Calendar_last_Scraped     15181 non-null object\n",
      "First_Review              13001 non-null object\n",
      "Last_Review               13001 non-null object\n",
      "Jurisdiction_Names        14721 non-null object\n",
      "Cancellation_Policy       15181 non-null object\n",
      "Geolocation               15181 non-null object\n",
      "Features                  15172 non-null object\n",
      "dtypes: object(48)\n",
      "memory usage: 5.6+ MB\n"
     ]
    }
   ],
   "source": [
    "cat_airbnb.info()"
   ]
  },
  {
   "cell_type": "markdown",
   "metadata": {},
   "source": [
    "Grouping the list of features to impute and clean values."
   ]
  },
  {
   "cell_type": "code",
   "execution_count": 19,
   "metadata": {},
   "outputs": [],
   "source": [
    "categorical_list = ['Property_Type',\n",
    "'Room_Type',\n",
    "'Bed_Type',\n",
    "'Cancellation_Policy',\n",
    "'Host_Response_Time',\n",
    "'Neighbourhood_Cleansed',\n",
    "'City',\n",
    "'Host_Location',\n",
    "'Host_Neighbourhood',\n",
    "'Neighbourhood',\n",
    "'State'\n",
    "]\n",
    "\n",
    "replace_na_with_zero = ['Extra_People',\n",
    "'Minimum_Nights',\n",
    "'Maximum_Nights',\n",
    "'Review_Scores_Cleanliness',\n",
    "'Review_Scores_Checkin',\n",
    "'Review_Scores_Communication',\n",
    "'Review_Scores_Location',\n",
    "'Review_Scores_Value',\n",
    "'Bathrooms',\n",
    "'Bedrooms',\n",
    "'Beds',\n",
    "'Price',\n",
    "'Cleaning_Fee',\n",
    "'Review_Scores_Rating',\n",
    "'Review_Scores_Accuracy',\n",
    "'Reviews_per_Month',\n",
    "'Security_Deposit',\n",
    "'Number_of_Reviews',\n",
    "'Calculated_host_listings_count',\n",
    "'Accommodates',\n",
    "'Guests_Included',\n",
    "'Availability_30',\n",
    "'Availability_60',\n",
    "'Availability_90',\n",
    "'Availability_365',\n",
    "'Latitude',\n",
    "'Longitude'\n",
    "]\n",
    "\n",
    "replace_val_with_0_or_1 = ['Summary',\n",
    "'Space',\n",
    "'Neighborhood_Overview',\n",
    "'Interaction',\n",
    "'Thumbnail_Url',\n",
    "'Medium_Url',\n",
    "'Picture_Url',\n",
    "'XL_Picture_Url',\n",
    "'Host_URL',\n",
    "'Host_Name',\n",
    "'Host_About',\n",
    "'Host_Thumbnail_Url',\n",
    "'Host_Picture_Url',\n",
    "'Transit',\n",
    "'Access',\n",
    "'House_Rules'\n",
    "]\n",
    "\n",
    "\n",
    "\n",
    "replace_with_count_values = ['Host_Verifications',\n",
    "'Amenities',\n",
    "'Features'\n",
    "]\n",
    "\n",
    "replace_na_with_1 = ['Host_Listings_Count',\n",
    "'Host_Total_Listings_Count'\n",
    "]\n",
    "\n",
    "replace_date_values = ['Host_Since',\n",
    "'First_Review',\n",
    "'Last_Review'\n",
    "]"
   ]
  },
  {
   "cell_type": "code",
   "execution_count": 30,
   "metadata": {},
   "outputs": [
    {
     "name": "stdout",
     "output_type": "stream",
     "text": [
      "<class 'pandas.core.frame.DataFrame'>\n",
      "RangeIndex: 15181 entries, 0 to 15180\n",
      "Columns: 701 entries, Property_Type_Apartment to State_noord Holland\n",
      "dtypes: int8(701)\n",
      "memory usage: 10.1 MB\n"
     ]
    }
   ],
   "source": [
    "# categorical_list = airbnb[categorical_list].replace(np.nan,'Not Available')\n",
    "# categorical_list = pd.get_dummies(categorical_list)\n",
    "categorical_list = categorical_list.astype('int8')\n",
    "categorical_list.info()"
   ]
  },
  {
   "cell_type": "code",
   "execution_count": 21,
   "metadata": {},
   "outputs": [
    {
     "name": "stdout",
     "output_type": "stream",
     "text": [
      "<class 'pandas.core.frame.DataFrame'>\n",
      "RangeIndex: 15181 entries, 0 to 15180\n",
      "Data columns (total 27 columns):\n",
      "Extra_People                      15181 non-null int64\n",
      "Minimum_Nights                    15181 non-null int64\n",
      "Maximum_Nights                    15181 non-null int64\n",
      "Review_Scores_Cleanliness         15181 non-null float64\n",
      "Review_Scores_Checkin             15181 non-null float64\n",
      "Review_Scores_Communication       15181 non-null float64\n",
      "Review_Scores_Location            15181 non-null float64\n",
      "Review_Scores_Value               15181 non-null float64\n",
      "Bathrooms                         15181 non-null float64\n",
      "Bedrooms                          15181 non-null float64\n",
      "Beds                              15181 non-null float64\n",
      "Price                             15181 non-null float64\n",
      "Cleaning_Fee                      15181 non-null float64\n",
      "Review_Scores_Rating              15181 non-null float64\n",
      "Review_Scores_Accuracy            15181 non-null float64\n",
      "Reviews_per_Month                 15181 non-null float64\n",
      "Security_Deposit                  15181 non-null float64\n",
      "Number_of_Reviews                 15181 non-null int64\n",
      "Calculated_host_listings_count    15181 non-null int64\n",
      "Accommodates                      15181 non-null int64\n",
      "Guests_Included                   15181 non-null int64\n",
      "Availability_30                   15181 non-null int64\n",
      "Availability_60                   15181 non-null int64\n",
      "Availability_90                   15181 non-null int64\n",
      "Availability_365                  15181 non-null int64\n",
      "Latitude                          15181 non-null float64\n",
      "Longitude                         15181 non-null float64\n",
      "dtypes: float64(16), int64(11)\n",
      "memory usage: 3.1 MB\n"
     ]
    }
   ],
   "source": [
    "replace_na_with_zero = airbnb[replace_na_with_zero].replace(np.nan,0)\n",
    "replace_na_with_zero.info()"
   ]
  },
  {
   "cell_type": "code",
   "execution_count": 22,
   "metadata": {},
   "outputs": [
    {
     "name": "stdout",
     "output_type": "stream",
     "text": [
      "<class 'pandas.core.frame.DataFrame'>\n",
      "RangeIndex: 15181 entries, 0 to 15180\n",
      "Data columns (total 16 columns):\n",
      "Summary                  15181 non-null int8\n",
      "Space                    15181 non-null int8\n",
      "Neighborhood_Overview    15181 non-null int8\n",
      "Interaction              15181 non-null int8\n",
      "Thumbnail_Url            15181 non-null int8\n",
      "Medium_Url               15181 non-null int8\n",
      "Picture_Url              15181 non-null int8\n",
      "XL_Picture_Url           15181 non-null int8\n",
      "Host_URL                 15181 non-null int8\n",
      "Host_Name                15181 non-null int8\n",
      "Host_About               15181 non-null int8\n",
      "Host_Thumbnail_Url       15181 non-null int8\n",
      "Host_Picture_Url         15181 non-null int8\n",
      "Transit                  15181 non-null int8\n",
      "Access                   15181 non-null int8\n",
      "House_Rules              15181 non-null int8\n",
      "dtypes: int8(16)\n",
      "memory usage: 237.3 KB\n"
     ]
    }
   ],
   "source": [
    "replace_val_with_0_or_1 = airbnb[replace_val_with_0_or_1].apply(lambda col: pd.notna(col).astype('int8'))\n",
    "replace_val_with_0_or_1.info()"
   ]
  },
  {
   "cell_type": "code",
   "execution_count": 23,
   "metadata": {},
   "outputs": [
    {
     "name": "stdout",
     "output_type": "stream",
     "text": [
      "<class 'pandas.core.frame.DataFrame'>\n",
      "RangeIndex: 15181 entries, 0 to 15180\n",
      "Data columns (total 3 columns):\n",
      "Host_Verifications    15181 non-null int8\n",
      "Amenities             15181 non-null int8\n",
      "Features              15181 non-null int8\n",
      "dtypes: int8(3)\n",
      "memory usage: 44.6 KB\n"
     ]
    }
   ],
   "source": [
    "replace_with_count_values = airbnb[replace_with_count_values].apply(lambda col: col.str.split(',').str.len().fillna(0).astype('int8'))\n",
    "replace_with_count_values.info()"
   ]
  },
  {
   "cell_type": "code",
   "execution_count": 24,
   "metadata": {},
   "outputs": [
    {
     "name": "stdout",
     "output_type": "stream",
     "text": [
      "<class 'pandas.core.frame.DataFrame'>\n",
      "RangeIndex: 15181 entries, 0 to 15180\n",
      "Data columns (total 2 columns):\n",
      "Host_Listings_Count          15181 non-null float64\n",
      "Host_Total_Listings_Count    15181 non-null float64\n",
      "dtypes: float64(2)\n",
      "memory usage: 237.3 KB\n"
     ]
    }
   ],
   "source": [
    "replace_na_with_1 = airbnb[replace_na_with_1].replace(np.nan,1)\n",
    "replace_na_with_1.info()"
   ]
  },
  {
   "cell_type": "code",
   "execution_count": 25,
   "metadata": {},
   "outputs": [
    {
     "name": "stdout",
     "output_type": "stream",
     "text": [
      "<class 'pandas.core.frame.DataFrame'>\n",
      "RangeIndex: 15181 entries, 0 to 15180\n",
      "Data columns (total 3 columns):\n",
      "Host_Since      15181 non-null int32\n",
      "First_Review    15181 non-null int32\n",
      "Last_Review     15181 non-null int32\n",
      "dtypes: int32(3)\n",
      "memory usage: 178.0 KB\n"
     ]
    }
   ],
   "source": [
    "replace_date_values = airbnb[replace_date_values].fillna(method='ffill')\n",
    "replace_date_values = replace_date_values.apply(lambda col: pd.factorize(col,sort=True)[0].astype('int'))\n",
    "replace_date_values.info()"
   ]
  },
  {
   "cell_type": "code",
   "execution_count": 63,
   "metadata": {},
   "outputs": [],
   "source": [
    "updated = pd.concat([categorical_list,\n",
    "           replace_na_with_zero,\n",
    "           replace_val_with_0_or_1,\n",
    "           replace_with_count_values,\n",
    "           replace_na_with_1,\n",
    "           replace_date_values\n",
    "          ],axis=1)"
   ]
  },
  {
   "cell_type": "code",
   "execution_count": 65,
   "metadata": {},
   "outputs": [
    {
     "name": "stdout",
     "output_type": "stream",
     "text": [
      "<class 'pandas.core.frame.DataFrame'>\n",
      "RangeIndex: 15181 entries, 0 to 15180\n",
      "Columns: 752 entries, Property_Type_Apartment to Last_Review\n",
      "dtypes: float64(18), int32(3), int64(11), int8(720)\n",
      "memory usage: 14.0 MB\n"
     ]
    }
   ],
   "source": [
    "updated.info()"
   ]
  },
  {
   "cell_type": "code",
   "execution_count": 67,
   "metadata": {},
   "outputs": [],
   "source": [
    "correlation = updated.corr()"
   ]
  },
  {
   "cell_type": "code",
   "execution_count": 68,
   "metadata": {},
   "outputs": [
    {
     "data": {
      "text/plain": [
       "Price                                             1.000000\n",
       "Accommodates                                      0.562822\n",
       "Bedrooms                                          0.537698\n",
       "Beds                                              0.511277\n",
       "Guests_Included                                   0.364912\n",
       "Cleaning_Fee                                      0.364290\n",
       "Bathrooms                                         0.324807\n",
       "Room_Type_Entire home/apt                         0.316342\n",
       "Security_Deposit                                  0.226117\n",
       "Neighbourhood_Cleansed_Centrum-West               0.190903\n",
       "Amenities                                         0.187655\n",
       "Availability_30                                   0.174742\n",
       "Cancellation_Policy_strict                        0.146660\n",
       "Availability_60                                   0.139785\n",
       "Extra_People                                      0.129945\n",
       "Neighbourhood_Grachtengordel                      0.124031\n",
       "Availability_365                                  0.119076\n",
       "Host_Neighbourhood_Grachtengordel                 0.116178\n",
       "Availability_90                                   0.111759\n",
       "Calculated_host_listings_count                    0.108775\n",
       "Property_Type_House                               0.108347\n",
       "Property_Type_Boat                                0.107826\n",
       "Host_Total_Listings_Count                         0.103821\n",
       "Host_Listings_Count                               0.103821\n",
       "Neighbourhood_Cleansed_Centrum-Oost               0.103195\n",
       "Host_Neighbourhood_Jordaan                        0.101818\n",
       "Host_Neighbourhood_San Giovanni                   0.098431\n",
       "City_Amsterdam                                    0.091355\n",
       "Neighbourhood_De Wallen                           0.087795\n",
       "Neighbourhood_Jordaan                             0.085890\n",
       "                                                    ...   \n",
       "City_Amsterdam Zuid-Oost                         -0.048833\n",
       "Review_Scores_Accuracy                           -0.050919\n",
       "Review_Scores_Value                              -0.051909\n",
       "Neighbourhood_Cleansed_Bijlmer-Centrum           -0.052239\n",
       "Review_Scores_Checkin                            -0.052316\n",
       "Review_Scores_Communication                      -0.052693\n",
       "Neighbourhood_Cleansed_Geuzenveld - Slotermeer   -0.052756\n",
       "Host_Response_Time_Not Available                 -0.053111\n",
       "Neighbourhood_Cleansed_Osdorp                    -0.053631\n",
       "Neighbourhood_Not Available                      -0.054633\n",
       "Bed_Type_Pull-out Sofa                           -0.055603\n",
       "Cancellation_Policy_moderate                     -0.056101\n",
       "First_Review                                     -0.056921\n",
       "Host_Neighbourhood_Not Available                 -0.059415\n",
       "Host_Neighbourhood_Indische Buurt                -0.059568\n",
       "Neighbourhood_Cleansed_Bijlmer-Oost              -0.060401\n",
       "Neighbourhood_Indische Buurt                     -0.061075\n",
       "Neighbourhood_Bos en Lommer                      -0.072749\n",
       "Host_Neighbourhood_Bos en Lommer                 -0.072925\n",
       "City_Amsterdam-Zuidoost                          -0.079019\n",
       "Number_of_Reviews                                -0.080992\n",
       "Neighbourhood_Cleansed_Bos en Lommer             -0.096877\n",
       "Cancellation_Policy_flexible                     -0.101186\n",
       "Property_Type_Apartment                          -0.112444\n",
       "Reviews_per_Month                                -0.140595\n",
       "Thumbnail_Url                                    -0.144762\n",
       "Medium_Url                                       -0.144762\n",
       "XL_Picture_Url                                   -0.144762\n",
       "Room_Type_Private room                           -0.312562\n",
       "Host_URL                                               NaN\n",
       "Name: Price, Length: 752, dtype: float64"
      ]
     },
     "execution_count": 68,
     "metadata": {},
     "output_type": "execute_result"
    }
   ],
   "source": [
    "correlation['Price'].sort_values(ascending=False)"
   ]
  },
  {
   "cell_type": "code",
   "execution_count": 12,
   "metadata": {},
   "outputs": [
    {
     "ename": "SyntaxError",
     "evalue": "unexpected EOF while parsing (<ipython-input-12-97aaf68245d5>, line 1)",
     "output_type": "error",
     "traceback": [
      "\u001b[1;36m  File \u001b[1;32m\"<ipython-input-12-97aaf68245d5>\"\u001b[1;36m, line \u001b[1;32m1\u001b[0m\n\u001b[1;33m    airbnb['Room_Type]'.info()\u001b[0m\n\u001b[1;37m                              ^\u001b[0m\n\u001b[1;31mSyntaxError\u001b[0m\u001b[1;31m:\u001b[0m unexpected EOF while parsing\n"
     ]
    }
   ],
   "source": [
    "airbnb['Room_Type]'.info"
   ]
  },
  {
   "cell_type": "code",
   "execution_count": null,
   "metadata": {},
   "outputs": [],
   "source": []
  }
 ],
 "metadata": {
  "kernelspec": {
   "display_name": "Python 3",
   "language": "python",
   "name": "python3"
  },
  "language_info": {
   "codemirror_mode": {
    "name": "ipython",
    "version": 3
   },
   "file_extension": ".py",
   "mimetype": "text/x-python",
   "name": "python",
   "nbconvert_exporter": "python",
   "pygments_lexer": "ipython3",
   "version": "3.7.3"
  }
 },
 "nbformat": 4,
 "nbformat_minor": 2
}
