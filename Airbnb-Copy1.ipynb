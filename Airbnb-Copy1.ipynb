{
 "cells": [
  {
   "cell_type": "code",
   "execution_count": 1,
   "metadata": {},
   "outputs": [
    {
     "name": "stdout",
     "output_type": "stream",
     "text": [
      "C:\\Users\\bhara\\MachineLearning\n"
     ]
    }
   ],
   "source": [
    "import pandas as pd\n",
    "import os\n",
    "print(os.getcwd())\n",
    "%matplotlib notebook\n",
    "%matplotlib inline\n",
    "import matplotlib.pyplot as plt\n",
    "plt.style.use('dark_background')\n",
    "import numpy as np"
   ]
  },
  {
   "cell_type": "markdown",
   "metadata": {},
   "source": [
    "##### Loading the dataset\n",
    "Changing to working directory and reading the file using pandas read_csv. \n",
    "The file is ; delimited and contains a header"
   ]
  },
  {
   "cell_type": "code",
   "execution_count": 2,
   "metadata": {},
   "outputs": [
    {
     "data": {
      "text/plain": [
       "['airbnb-listings_netherlands.csv',\n",
       " 'Churn_Modelling.csv',\n",
       " 'creditcard.csv',\n",
       " 'dataexam.txt',\n",
       " 'F1',\n",
       " 'housing',\n",
       " 'Kaggle',\n",
       " 'ml-100k',\n",
       " 'model.pkl',\n",
       " 'nlp',\n",
       " 'PythonDA',\n",
       " 'Sensor',\n",
       " 'WideWorldImporters-Full.bak']"
      ]
     },
     "execution_count": 2,
     "metadata": {},
     "output_type": "execute_result"
    }
   ],
   "source": [
    "os.chdir('E:\\\\Datasets')\n",
    "os.listdir()"
   ]
  },
  {
   "cell_type": "code",
   "execution_count": 3,
   "metadata": {},
   "outputs": [
    {
     "data": {
      "text/html": [
       "<div>\n",
       "<style scoped>\n",
       "    .dataframe tbody tr th:only-of-type {\n",
       "        vertical-align: middle;\n",
       "    }\n",
       "\n",
       "    .dataframe tbody tr th {\n",
       "        vertical-align: top;\n",
       "    }\n",
       "\n",
       "    .dataframe thead th {\n",
       "        text-align: right;\n",
       "    }\n",
       "</style>\n",
       "<table border=\"1\" class=\"dataframe\">\n",
       "  <thead>\n",
       "    <tr style=\"text-align: right;\">\n",
       "      <th></th>\n",
       "      <th>ID</th>\n",
       "      <th>Listing Url</th>\n",
       "      <th>Scrape ID</th>\n",
       "      <th>Last Scraped</th>\n",
       "      <th>Name</th>\n",
       "      <th>Summary</th>\n",
       "      <th>Space</th>\n",
       "      <th>Description</th>\n",
       "      <th>Experiences Offered</th>\n",
       "      <th>Neighborhood Overview</th>\n",
       "      <th>...</th>\n",
       "      <th>Review Scores Communication</th>\n",
       "      <th>Review Scores Location</th>\n",
       "      <th>Review Scores Value</th>\n",
       "      <th>License</th>\n",
       "      <th>Jurisdiction Names</th>\n",
       "      <th>Cancellation Policy</th>\n",
       "      <th>Calculated host listings count</th>\n",
       "      <th>Reviews per Month</th>\n",
       "      <th>Geolocation</th>\n",
       "      <th>Features</th>\n",
       "    </tr>\n",
       "  </thead>\n",
       "  <tbody>\n",
       "    <tr>\n",
       "      <td>0</td>\n",
       "      <td>9752227</td>\n",
       "      <td>https://www.airbnb.com/rooms/9752227</td>\n",
       "      <td>20170402075052</td>\n",
       "      <td>2017-04-02</td>\n",
       "      <td>Amsterdam Suites, Art Deco suite</td>\n",
       "      <td>A Bed &amp; Breakfast Suite providing guests with ...</td>\n",
       "      <td>The suite offers state of the art entertainmen...</td>\n",
       "      <td>A Bed &amp; Breakfast Suite providing guests with ...</td>\n",
       "      <td>none</td>\n",
       "      <td>Amsterdam Suites is situated in the heart of t...</td>\n",
       "      <td>...</td>\n",
       "      <td>10.0</td>\n",
       "      <td>8.0</td>\n",
       "      <td>9.0</td>\n",
       "      <td>NaN</td>\n",
       "      <td>Amsterdam</td>\n",
       "      <td>moderate</td>\n",
       "      <td>2</td>\n",
       "      <td>0.13</td>\n",
       "      <td>52.3556516257,4.87922738637</td>\n",
       "      <td>Host Has Profile Pic,Host Identity Verified,Is...</td>\n",
       "    </tr>\n",
       "    <tr>\n",
       "      <td>1</td>\n",
       "      <td>711269</td>\n",
       "      <td>https://www.airbnb.com/rooms/711269</td>\n",
       "      <td>20170402075052</td>\n",
       "      <td>2017-04-02</td>\n",
       "      <td>Apt for Professionals/Families</td>\n",
       "      <td>Luxurious ,very light and spacious two-bedroom...</td>\n",
       "      <td>Luxurious ,very light and spacious two-bedroom...</td>\n",
       "      <td>Luxurious ,very light and spacious two-bedroom...</td>\n",
       "      <td>none</td>\n",
       "      <td>The neighborhood is characterized by a spaciou...</td>\n",
       "      <td>...</td>\n",
       "      <td>10.0</td>\n",
       "      <td>9.0</td>\n",
       "      <td>9.0</td>\n",
       "      <td>NaN</td>\n",
       "      <td>Amsterdam</td>\n",
       "      <td>strict</td>\n",
       "      <td>1</td>\n",
       "      <td>0.41</td>\n",
       "      <td>52.3452962399,4.86919559653</td>\n",
       "      <td>Host Has Profile Pic,Host Identity Verified,Is...</td>\n",
       "    </tr>\n",
       "    <tr>\n",
       "      <td>2</td>\n",
       "      <td>7433172</td>\n",
       "      <td>https://www.airbnb.com/rooms/7433172</td>\n",
       "      <td>20170402075052</td>\n",
       "      <td>2017-04-02</td>\n",
       "      <td>1 Br Apartment in Old South A'dam</td>\n",
       "      <td>A warm and spacious  1 bedroom apartment in Ol...</td>\n",
       "      <td>The apartment is about 75 sqm and is located o...</td>\n",
       "      <td>A warm and spacious  1 bedroom apartment in Ol...</td>\n",
       "      <td>none</td>\n",
       "      <td>The neighbourhood is wonderful and has tons of...</td>\n",
       "      <td>...</td>\n",
       "      <td>NaN</td>\n",
       "      <td>NaN</td>\n",
       "      <td>NaN</td>\n",
       "      <td>NaN</td>\n",
       "      <td>Amsterdam</td>\n",
       "      <td>strict</td>\n",
       "      <td>1</td>\n",
       "      <td>NaN</td>\n",
       "      <td>52.3429194511,4.85961518996</td>\n",
       "      <td>Host Has Profile Pic,Is Location Exact</td>\n",
       "    </tr>\n",
       "    <tr>\n",
       "      <td>3</td>\n",
       "      <td>16577285</td>\n",
       "      <td>https://www.airbnb.com/rooms/16577285</td>\n",
       "      <td>20170402075052</td>\n",
       "      <td>2017-04-02</td>\n",
       "      <td>AMSTERDAM OUD-ZUID/Vondelpark 25min. from Schi...</td>\n",
       "      <td>Welkome to this spacious apartment located in ...</td>\n",
       "      <td>Apartment is clean and spacious with one bedro...</td>\n",
       "      <td>Welkome to this spacious apartment located in ...</td>\n",
       "      <td>none</td>\n",
       "      <td>Bike rental is available on the corner of the ...</td>\n",
       "      <td>...</td>\n",
       "      <td>9.0</td>\n",
       "      <td>9.0</td>\n",
       "      <td>9.0</td>\n",
       "      <td>NaN</td>\n",
       "      <td>Amsterdam</td>\n",
       "      <td>moderate</td>\n",
       "      <td>1</td>\n",
       "      <td>2.73</td>\n",
       "      <td>52.353563977,4.8549571139</td>\n",
       "      <td>Host Has Profile Pic</td>\n",
       "    </tr>\n",
       "    <tr>\n",
       "      <td>4</td>\n",
       "      <td>16356202</td>\n",
       "      <td>https://www.airbnb.com/rooms/16356202</td>\n",
       "      <td>20170402075052</td>\n",
       "      <td>2017-04-02</td>\n",
       "      <td>Warm and quiet single room in beautiful apartm...</td>\n",
       "      <td>Cosy bedroom in an apartment at the top of the...</td>\n",
       "      <td>Your bedroom is small but quiet and with good ...</td>\n",
       "      <td>Cosy bedroom in an apartment at the top of the...</td>\n",
       "      <td>none</td>\n",
       "      <td>Schinkelbuurt is a beautiful zone in the west ...</td>\n",
       "      <td>...</td>\n",
       "      <td>10.0</td>\n",
       "      <td>9.0</td>\n",
       "      <td>10.0</td>\n",
       "      <td>NaN</td>\n",
       "      <td>Amsterdam</td>\n",
       "      <td>flexible</td>\n",
       "      <td>1</td>\n",
       "      <td>2.31</td>\n",
       "      <td>52.3523753503,4.85317422612</td>\n",
       "      <td>Host Has Profile Pic,Host Identity Verified,Is...</td>\n",
       "    </tr>\n",
       "  </tbody>\n",
       "</table>\n",
       "<p>5 rows × 89 columns</p>\n",
       "</div>"
      ],
      "text/plain": [
       "         ID                            Listing Url       Scrape ID  \\\n",
       "0   9752227   https://www.airbnb.com/rooms/9752227  20170402075052   \n",
       "1    711269    https://www.airbnb.com/rooms/711269  20170402075052   \n",
       "2   7433172   https://www.airbnb.com/rooms/7433172  20170402075052   \n",
       "3  16577285  https://www.airbnb.com/rooms/16577285  20170402075052   \n",
       "4  16356202  https://www.airbnb.com/rooms/16356202  20170402075052   \n",
       "\n",
       "  Last Scraped                                               Name  \\\n",
       "0   2017-04-02                   Amsterdam Suites, Art Deco suite   \n",
       "1   2017-04-02                     Apt for Professionals/Families   \n",
       "2   2017-04-02                  1 Br Apartment in Old South A'dam   \n",
       "3   2017-04-02  AMSTERDAM OUD-ZUID/Vondelpark 25min. from Schi...   \n",
       "4   2017-04-02  Warm and quiet single room in beautiful apartm...   \n",
       "\n",
       "                                             Summary  \\\n",
       "0  A Bed & Breakfast Suite providing guests with ...   \n",
       "1  Luxurious ,very light and spacious two-bedroom...   \n",
       "2  A warm and spacious  1 bedroom apartment in Ol...   \n",
       "3  Welkome to this spacious apartment located in ...   \n",
       "4  Cosy bedroom in an apartment at the top of the...   \n",
       "\n",
       "                                               Space  \\\n",
       "0  The suite offers state of the art entertainmen...   \n",
       "1  Luxurious ,very light and spacious two-bedroom...   \n",
       "2  The apartment is about 75 sqm and is located o...   \n",
       "3  Apartment is clean and spacious with one bedro...   \n",
       "4  Your bedroom is small but quiet and with good ...   \n",
       "\n",
       "                                         Description Experiences Offered  \\\n",
       "0  A Bed & Breakfast Suite providing guests with ...                none   \n",
       "1  Luxurious ,very light and spacious two-bedroom...                none   \n",
       "2  A warm and spacious  1 bedroom apartment in Ol...                none   \n",
       "3  Welkome to this spacious apartment located in ...                none   \n",
       "4  Cosy bedroom in an apartment at the top of the...                none   \n",
       "\n",
       "                               Neighborhood Overview  ...  \\\n",
       "0  Amsterdam Suites is situated in the heart of t...  ...   \n",
       "1  The neighborhood is characterized by a spaciou...  ...   \n",
       "2  The neighbourhood is wonderful and has tons of...  ...   \n",
       "3  Bike rental is available on the corner of the ...  ...   \n",
       "4  Schinkelbuurt is a beautiful zone in the west ...  ...   \n",
       "\n",
       "  Review Scores Communication Review Scores Location Review Scores Value  \\\n",
       "0                        10.0                    8.0                 9.0   \n",
       "1                        10.0                    9.0                 9.0   \n",
       "2                         NaN                    NaN                 NaN   \n",
       "3                         9.0                    9.0                 9.0   \n",
       "4                        10.0                    9.0                10.0   \n",
       "\n",
       "  License Jurisdiction Names Cancellation Policy  \\\n",
       "0     NaN          Amsterdam            moderate   \n",
       "1     NaN          Amsterdam              strict   \n",
       "2     NaN          Amsterdam              strict   \n",
       "3     NaN          Amsterdam            moderate   \n",
       "4     NaN          Amsterdam            flexible   \n",
       "\n",
       "  Calculated host listings count Reviews per Month  \\\n",
       "0                              2              0.13   \n",
       "1                              1              0.41   \n",
       "2                              1               NaN   \n",
       "3                              1              2.73   \n",
       "4                              1              2.31   \n",
       "\n",
       "                   Geolocation  \\\n",
       "0  52.3556516257,4.87922738637   \n",
       "1  52.3452962399,4.86919559653   \n",
       "2  52.3429194511,4.85961518996   \n",
       "3    52.353563977,4.8549571139   \n",
       "4  52.3523753503,4.85317422612   \n",
       "\n",
       "                                            Features  \n",
       "0  Host Has Profile Pic,Host Identity Verified,Is...  \n",
       "1  Host Has Profile Pic,Host Identity Verified,Is...  \n",
       "2             Host Has Profile Pic,Is Location Exact  \n",
       "3                               Host Has Profile Pic  \n",
       "4  Host Has Profile Pic,Host Identity Verified,Is...  \n",
       "\n",
       "[5 rows x 89 columns]"
      ]
     },
     "execution_count": 3,
     "metadata": {},
     "output_type": "execute_result"
    }
   ],
   "source": [
    "path = os.path.join(os.listdir()[0])\n",
    "airbnb = pd.read_csv(path,delimiter=';',header=0) \n",
    "airbnb.head()\n"
   ]
  },
  {
   "cell_type": "code",
   "execution_count": 4,
   "metadata": {},
   "outputs": [
    {
     "name": "stdout",
     "output_type": "stream",
     "text": [
      "<class 'pandas.core.frame.DataFrame'>\n",
      "RangeIndex: 15181 entries, 0 to 15180\n",
      "Data columns (total 89 columns):\n",
      "ID                                15181 non-null int64\n",
      "Listing Url                       15181 non-null object\n",
      "Scrape ID                         15181 non-null int64\n",
      "Last Scraped                      15181 non-null object\n",
      "Name                              15181 non-null object\n",
      "Summary                           14748 non-null object\n",
      "Space                             11289 non-null object\n",
      "Description                       15181 non-null object\n",
      "Experiences Offered               15181 non-null object\n",
      "Neighborhood Overview             10022 non-null object\n",
      "Notes                             6506 non-null object\n",
      "Transit                           10210 non-null object\n",
      "Access                            9409 non-null object\n",
      "Interaction                       9115 non-null object\n",
      "House Rules                       10572 non-null object\n",
      "Thumbnail Url                     11336 non-null object\n",
      "Medium Url                        11336 non-null object\n",
      "Picture Url                       15167 non-null object\n",
      "XL Picture Url                    11336 non-null object\n",
      "Host ID                           15181 non-null int64\n",
      "Host URL                          15181 non-null object\n",
      "Host Name                         15178 non-null object\n",
      "Host Since                        15178 non-null object\n",
      "Host Location                     15136 non-null object\n",
      "Host About                        9415 non-null object\n",
      "Host Response Time                11535 non-null object\n",
      "Host Response Rate                11535 non-null float64\n",
      "Host Acceptance Rate              0 non-null float64\n",
      "Host Thumbnail Url                15178 non-null object\n",
      "Host Picture Url                  15178 non-null object\n",
      "Host Neighbourhood                10480 non-null object\n",
      "Host Listings Count               15178 non-null float64\n",
      "Host Total Listings Count         15178 non-null float64\n",
      "Host Verifications                15167 non-null object\n",
      "Street                            15181 non-null object\n",
      "Neighbourhood                     9932 non-null object\n",
      "Neighbourhood Cleansed            15181 non-null object\n",
      "Neighbourhood Group Cleansed      0 non-null float64\n",
      "City                              15180 non-null object\n",
      "State                             15155 non-null object\n",
      "Zipcode                           14528 non-null object\n",
      "Market                            15149 non-null object\n",
      "Smart Location                    15181 non-null object\n",
      "Country Code                      15181 non-null object\n",
      "Country                           15181 non-null object\n",
      "Latitude                          15181 non-null float64\n",
      "Longitude                         15181 non-null float64\n",
      "Property Type                     15181 non-null object\n",
      "Room Type                         15181 non-null object\n",
      "Accommodates                      15181 non-null int64\n",
      "Bathrooms                         15163 non-null float64\n",
      "Bedrooms                          15169 non-null float64\n",
      "Beds                              15164 non-null float64\n",
      "Bed Type                          15181 non-null object\n",
      "Amenities                         15135 non-null object\n",
      "Square Feet                       490 non-null float64\n",
      "Price                             15173 non-null float64\n",
      "Weekly Price                      2718 non-null float64\n",
      "Monthly Price                     1994 non-null float64\n",
      "Security Deposit                  7752 non-null float64\n",
      "Cleaning Fee                      11468 non-null float64\n",
      "Guests Included                   15181 non-null int64\n",
      "Extra People                      15181 non-null int64\n",
      "Minimum Nights                    15181 non-null int64\n",
      "Maximum Nights                    15181 non-null int64\n",
      "Calendar Updated                  15181 non-null object\n",
      "Has Availability                  0 non-null float64\n",
      "Availability 30                   15181 non-null int64\n",
      "Availability 60                   15181 non-null int64\n",
      "Availability 90                   15181 non-null int64\n",
      "Availability 365                  15181 non-null int64\n",
      "Calendar last Scraped             15181 non-null object\n",
      "Number of Reviews                 15181 non-null int64\n",
      "First Review                      13001 non-null object\n",
      "Last Review                       13001 non-null object\n",
      "Review Scores Rating              12864 non-null float64\n",
      "Review Scores Accuracy            12844 non-null float64\n",
      "Review Scores Cleanliness         12847 non-null float64\n",
      "Review Scores Checkin             12829 non-null float64\n",
      "Review Scores Communication       12850 non-null float64\n",
      "Review Scores Location            12830 non-null float64\n",
      "Review Scores Value               12829 non-null float64\n",
      "License                           0 non-null float64\n",
      "Jurisdiction Names                14721 non-null object\n",
      "Cancellation Policy               15181 non-null object\n",
      "Calculated host listings count    15181 non-null int64\n",
      "Reviews per Month                 13001 non-null float64\n",
      "Geolocation                       15181 non-null object\n",
      "Features                          15172 non-null object\n",
      "dtypes: float64(26), int64(14), object(49)\n",
      "memory usage: 10.3+ MB\n"
     ]
    }
   ],
   "source": [
    "airbnb.info()"
   ]
  },
  {
   "cell_type": "markdown",
   "metadata": {},
   "source": [
    "##### Inspecting the dataset\n",
    "The file contains 89 columns with 15,180 rows. "
   ]
  },
  {
   "cell_type": "code",
   "execution_count": 5,
   "metadata": {},
   "outputs": [],
   "source": [
    "airbnb.columns = airbnb.columns.str.replace(' ','_',) # replace whitespace with _ in the column header"
   ]
  },
  {
   "cell_type": "code",
   "execution_count": 6,
   "metadata": {},
   "outputs": [
    {
     "data": {
      "text/html": [
       "<div>\n",
       "<style scoped>\n",
       "    .dataframe tbody tr th:only-of-type {\n",
       "        vertical-align: middle;\n",
       "    }\n",
       "\n",
       "    .dataframe tbody tr th {\n",
       "        vertical-align: top;\n",
       "    }\n",
       "\n",
       "    .dataframe thead th {\n",
       "        text-align: right;\n",
       "    }\n",
       "</style>\n",
       "<table border=\"1\" class=\"dataframe\">\n",
       "  <thead>\n",
       "    <tr style=\"text-align: right;\">\n",
       "      <th></th>\n",
       "      <th>ID</th>\n",
       "      <th>Listing_Url</th>\n",
       "      <th>Scrape_ID</th>\n",
       "      <th>Last_Scraped</th>\n",
       "      <th>Name</th>\n",
       "      <th>Summary</th>\n",
       "      <th>Space</th>\n",
       "      <th>Description</th>\n",
       "      <th>Experiences_Offered</th>\n",
       "      <th>Neighborhood_Overview</th>\n",
       "      <th>...</th>\n",
       "      <th>Review_Scores_Communication</th>\n",
       "      <th>Review_Scores_Location</th>\n",
       "      <th>Review_Scores_Value</th>\n",
       "      <th>License</th>\n",
       "      <th>Jurisdiction_Names</th>\n",
       "      <th>Cancellation_Policy</th>\n",
       "      <th>Calculated_host_listings_count</th>\n",
       "      <th>Reviews_per_Month</th>\n",
       "      <th>Geolocation</th>\n",
       "      <th>Features</th>\n",
       "    </tr>\n",
       "  </thead>\n",
       "  <tbody>\n",
       "  </tbody>\n",
       "</table>\n",
       "<p>0 rows × 89 columns</p>\n",
       "</div>"
      ],
      "text/plain": [
       "Empty DataFrame\n",
       "Columns: [ID, Listing_Url, Scrape_ID, Last_Scraped, Name, Summary, Space, Description, Experiences_Offered, Neighborhood_Overview, Notes, Transit, Access, Interaction, House_Rules, Thumbnail_Url, Medium_Url, Picture_Url, XL_Picture_Url, Host_ID, Host_URL, Host_Name, Host_Since, Host_Location, Host_About, Host_Response_Time, Host_Response_Rate, Host_Acceptance_Rate, Host_Thumbnail_Url, Host_Picture_Url, Host_Neighbourhood, Host_Listings_Count, Host_Total_Listings_Count, Host_Verifications, Street, Neighbourhood, Neighbourhood_Cleansed, Neighbourhood_Group_Cleansed, City, State, Zipcode, Market, Smart_Location, Country_Code, Country, Latitude, Longitude, Property_Type, Room_Type, Accommodates, Bathrooms, Bedrooms, Beds, Bed_Type, Amenities, Square_Feet, Price, Weekly_Price, Monthly_Price, Security_Deposit, Cleaning_Fee, Guests_Included, Extra_People, Minimum_Nights, Maximum_Nights, Calendar_Updated, Has_Availability, Availability_30, Availability_60, Availability_90, Availability_365, Calendar_last_Scraped, Number_of_Reviews, First_Review, Last_Review, Review_Scores_Rating, Review_Scores_Accuracy, Review_Scores_Cleanliness, Review_Scores_Checkin, Review_Scores_Communication, Review_Scores_Location, Review_Scores_Value, License, Jurisdiction_Names, Cancellation_Policy, Calculated_host_listings_count, Reviews_per_Month, Geolocation, Features]\n",
       "Index: []\n",
       "\n",
       "[0 rows x 89 columns]"
      ]
     },
     "execution_count": 6,
     "metadata": {},
     "output_type": "execute_result"
    }
   ],
   "source": [
    "airbnb[airbnb.duplicated() == True] == 0 # checking if any rows are duplicated"
   ]
  },
  {
   "cell_type": "code",
   "execution_count": 7,
   "metadata": {},
   "outputs": [],
   "source": [
    "missing_val = airbnb.isnull().sum() /len(airbnb)\n",
    "missing_val_gt_50 = airbnb.columns[missing_val > 0.5]"
   ]
  },
  {
   "cell_type": "code",
   "execution_count": 8,
   "metadata": {},
   "outputs": [
    {
     "data": {
      "text/plain": [
       "Index(['Notes', 'Host_Acceptance_Rate', 'Neighbourhood_Group_Cleansed',\n",
       "       'Square_Feet', 'Weekly_Price', 'Monthly_Price', 'Has_Availability',\n",
       "       'License'],\n",
       "      dtype='object')"
      ]
     },
     "execution_count": 8,
     "metadata": {},
     "output_type": "execute_result"
    }
   ],
   "source": [
    "missing_val_gt_50"
   ]
  },
  {
   "cell_type": "code",
   "execution_count": 9,
   "metadata": {},
   "outputs": [],
   "source": [
    "airbnb.drop(missing_val_gt_50,axis=1,inplace=True)"
   ]
  },
  {
   "cell_type": "code",
   "execution_count": 10,
   "metadata": {},
   "outputs": [
    {
     "data": {
      "text/plain": [
       "Index(['Neighborhood_Overview', 'Transit', 'Access', 'Interaction',\n",
       "       'House_Rules', 'Host_About', 'Host_Neighbourhood', 'Neighbourhood',\n",
       "       'Security_Deposit'],\n",
       "      dtype='object')"
      ]
     },
     "execution_count": 10,
     "metadata": {},
     "output_type": "execute_result"
    }
   ],
   "source": [
    "missing_val = airbnb.isnull().sum() /len(airbnb)\n",
    "missing_val_gt_30 = airbnb.columns[missing_val > 0.3]\n",
    "missing_val_gt_30"
   ]
  },
  {
   "cell_type": "markdown",
   "metadata": {},
   "source": [
    "\n",
    "\n",
    "Getting the columns which are of **numeric data type** and split them into a different column."
   ]
  },
  {
   "cell_type": "code",
   "execution_count": 11,
   "metadata": {},
   "outputs": [
    {
     "data": {
      "text/plain": [
       "Index(['ID', 'Scrape_ID', 'Host_ID', 'Host_Response_Rate',\n",
       "       'Host_Listings_Count', 'Host_Total_Listings_Count', 'Latitude',\n",
       "       'Longitude', 'Accommodates', 'Bathrooms', 'Bedrooms', 'Beds', 'Price',\n",
       "       'Security_Deposit', 'Cleaning_Fee', 'Guests_Included', 'Extra_People',\n",
       "       'Minimum_Nights', 'Maximum_Nights', 'Availability_30',\n",
       "       'Availability_60', 'Availability_90', 'Availability_365',\n",
       "       'Number_of_Reviews', 'Review_Scores_Rating', 'Review_Scores_Accuracy',\n",
       "       'Review_Scores_Cleanliness', 'Review_Scores_Checkin',\n",
       "       'Review_Scores_Communication', 'Review_Scores_Location',\n",
       "       'Review_Scores_Value', 'Calculated_host_listings_count',\n",
       "       'Reviews_per_Month'],\n",
       "      dtype='object')"
      ]
     },
     "execution_count": 11,
     "metadata": {},
     "output_type": "execute_result"
    }
   ],
   "source": [
    "num_airbnb = airbnb.select_dtypes(include=np.number)\n",
    "num_airbnb.columns"
   ]
  },
  {
   "cell_type": "markdown",
   "metadata": {},
   "source": [
    "Getting the columns which are of **categorical data type** and split them into a different column."
   ]
  },
  {
   "cell_type": "code",
   "execution_count": 12,
   "metadata": {},
   "outputs": [
    {
     "data": {
      "text/plain": [
       "Index(['Listing_Url', 'Last_Scraped', 'Name', 'Summary', 'Space',\n",
       "       'Description', 'Experiences_Offered', 'Neighborhood_Overview',\n",
       "       'Transit', 'Access', 'Interaction', 'House_Rules', 'Thumbnail_Url',\n",
       "       'Medium_Url', 'Picture_Url', 'XL_Picture_Url', 'Host_URL', 'Host_Name',\n",
       "       'Host_Since', 'Host_Location', 'Host_About', 'Host_Response_Time',\n",
       "       'Host_Thumbnail_Url', 'Host_Picture_Url', 'Host_Neighbourhood',\n",
       "       'Host_Verifications', 'Street', 'Neighbourhood',\n",
       "       'Neighbourhood_Cleansed', 'City', 'State', 'Zipcode', 'Market',\n",
       "       'Smart_Location', 'Country_Code', 'Country', 'Property_Type',\n",
       "       'Room_Type', 'Bed_Type', 'Amenities', 'Calendar_Updated',\n",
       "       'Calendar_last_Scraped', 'First_Review', 'Last_Review',\n",
       "       'Jurisdiction_Names', 'Cancellation_Policy', 'Geolocation', 'Features'],\n",
       "      dtype='object')"
      ]
     },
     "execution_count": 12,
     "metadata": {},
     "output_type": "execute_result"
    }
   ],
   "source": [
    "cat_airbnb = airbnb.select_dtypes(include=np.object)\n",
    "cat_airbnb.columns"
   ]
  },
  {
   "cell_type": "code",
   "execution_count": 13,
   "metadata": {},
   "outputs": [
    {
     "name": "stdout",
     "output_type": "stream",
     "text": [
      "<class 'pandas.core.frame.DataFrame'>\n",
      "RangeIndex: 15181 entries, 0 to 15180\n",
      "Data columns (total 33 columns):\n",
      "ID                                15181 non-null int64\n",
      "Scrape_ID                         15181 non-null int64\n",
      "Host_ID                           15181 non-null int64\n",
      "Host_Response_Rate                11535 non-null float64\n",
      "Host_Listings_Count               15178 non-null float64\n",
      "Host_Total_Listings_Count         15178 non-null float64\n",
      "Latitude                          15181 non-null float64\n",
      "Longitude                         15181 non-null float64\n",
      "Accommodates                      15181 non-null int64\n",
      "Bathrooms                         15163 non-null float64\n",
      "Bedrooms                          15169 non-null float64\n",
      "Beds                              15164 non-null float64\n",
      "Price                             15173 non-null float64\n",
      "Security_Deposit                  7752 non-null float64\n",
      "Cleaning_Fee                      11468 non-null float64\n",
      "Guests_Included                   15181 non-null int64\n",
      "Extra_People                      15181 non-null int64\n",
      "Minimum_Nights                    15181 non-null int64\n",
      "Maximum_Nights                    15181 non-null int64\n",
      "Availability_30                   15181 non-null int64\n",
      "Availability_60                   15181 non-null int64\n",
      "Availability_90                   15181 non-null int64\n",
      "Availability_365                  15181 non-null int64\n",
      "Number_of_Reviews                 15181 non-null int64\n",
      "Review_Scores_Rating              12864 non-null float64\n",
      "Review_Scores_Accuracy            12844 non-null float64\n",
      "Review_Scores_Cleanliness         12847 non-null float64\n",
      "Review_Scores_Checkin             12829 non-null float64\n",
      "Review_Scores_Communication       12850 non-null float64\n",
      "Review_Scores_Location            12830 non-null float64\n",
      "Review_Scores_Value               12829 non-null float64\n",
      "Calculated_host_listings_count    15181 non-null int64\n",
      "Reviews_per_Month                 13001 non-null float64\n",
      "dtypes: float64(19), int64(14)\n",
      "memory usage: 3.8 MB\n"
     ]
    }
   ],
   "source": [
    "num_airbnb.info()"
   ]
  },
  {
   "cell_type": "markdown",
   "metadata": {},
   "source": [
    "Lets take the mean for the numerical columns which are having Na values"
   ]
  },
  {
   "cell_type": "code",
   "execution_count": 14,
   "metadata": {},
   "outputs": [],
   "source": [
    "num_airbnb = num_airbnb.fillna(num_airbnb.mean())"
   ]
  },
  {
   "cell_type": "markdown",
   "metadata": {},
   "source": [
    "Correlation matrix for all the numerical values"
   ]
  },
  {
   "cell_type": "code",
   "execution_count": 15,
   "metadata": {},
   "outputs": [],
   "source": [
    "correlation = num_airbnb.corr().round(2) "
   ]
  },
  {
   "cell_type": "markdown",
   "metadata": {},
   "source": [
    "Accommodates,Bedroom,Beds have higher correlation. When house has more bedroom,beds and more people to accomodate higher the price. "
   ]
  },
  {
   "cell_type": "code",
   "execution_count": 16,
   "metadata": {},
   "outputs": [
    {
     "data": {
      "text/plain": [
       "Price                             1.00\n",
       "Accommodates                      0.57\n",
       "Bedrooms                          0.54\n",
       "Beds                              0.51\n",
       "Cleaning_Fee                      0.44\n",
       "Guests_Included                   0.37\n",
       "Bathrooms                         0.33\n",
       "Security_Deposit                  0.21\n",
       "Availability_30                   0.18\n",
       "Availability_60                   0.14\n",
       "Review_Scores_Location            0.14\n",
       "Extra_People                      0.13\n",
       "Availability_365                  0.12\n",
       "Availability_90                   0.11\n",
       "Calculated_host_listings_count    0.11\n",
       "Host_Total_Listings_Count         0.10\n",
       "Host_Listings_Count               0.10\n",
       "Review_Scores_Rating              0.06\n",
       "Review_Scores_Cleanliness         0.04\n",
       "Latitude                          0.03\n",
       "Longitude                         0.03\n",
       "Review_Scores_Accuracy            0.02\n",
       "Review_Scores_Checkin             0.02\n",
       "Review_Scores_Communication       0.02\n",
       "Host_Response_Rate                0.01\n",
       "Review_Scores_Value               0.01\n",
       "Maximum_Nights                   -0.00\n",
       "Scrape_ID                        -0.00\n",
       "Minimum_Nights                    0.00\n",
       "Host_ID                          -0.04\n",
       "ID                               -0.06\n",
       "Number_of_Reviews                -0.08\n",
       "Reviews_per_Month                -0.13\n",
       "Name: Price, dtype: float64"
      ]
     },
     "execution_count": 16,
     "metadata": {},
     "output_type": "execute_result"
    }
   ],
   "source": [
    "num_airbnb.corr().round(2)['Price'].sort_values(ascending=False)"
   ]
  },
  {
   "cell_type": "code",
   "execution_count": 17,
   "metadata": {},
   "outputs": [
    {
     "name": "stdout",
     "output_type": "stream",
     "text": [
      "<class 'pandas.core.frame.DataFrame'>\n",
      "RangeIndex: 15181 entries, 0 to 15180\n",
      "Data columns (total 48 columns):\n",
      "Listing_Url               15181 non-null object\n",
      "Last_Scraped              15181 non-null object\n",
      "Name                      15181 non-null object\n",
      "Summary                   14748 non-null object\n",
      "Space                     11289 non-null object\n",
      "Description               15181 non-null object\n",
      "Experiences_Offered       15181 non-null object\n",
      "Neighborhood_Overview     10022 non-null object\n",
      "Transit                   10210 non-null object\n",
      "Access                    9409 non-null object\n",
      "Interaction               9115 non-null object\n",
      "House_Rules               10572 non-null object\n",
      "Thumbnail_Url             11336 non-null object\n",
      "Medium_Url                11336 non-null object\n",
      "Picture_Url               15167 non-null object\n",
      "XL_Picture_Url            11336 non-null object\n",
      "Host_URL                  15181 non-null object\n",
      "Host_Name                 15178 non-null object\n",
      "Host_Since                15178 non-null object\n",
      "Host_Location             15136 non-null object\n",
      "Host_About                9415 non-null object\n",
      "Host_Response_Time        11535 non-null object\n",
      "Host_Thumbnail_Url        15178 non-null object\n",
      "Host_Picture_Url          15178 non-null object\n",
      "Host_Neighbourhood        10480 non-null object\n",
      "Host_Verifications        15167 non-null object\n",
      "Street                    15181 non-null object\n",
      "Neighbourhood             9932 non-null object\n",
      "Neighbourhood_Cleansed    15181 non-null object\n",
      "City                      15180 non-null object\n",
      "State                     15155 non-null object\n",
      "Zipcode                   14528 non-null object\n",
      "Market                    15149 non-null object\n",
      "Smart_Location            15181 non-null object\n",
      "Country_Code              15181 non-null object\n",
      "Country                   15181 non-null object\n",
      "Property_Type             15181 non-null object\n",
      "Room_Type                 15181 non-null object\n",
      "Bed_Type                  15181 non-null object\n",
      "Amenities                 15135 non-null object\n",
      "Calendar_Updated          15181 non-null object\n",
      "Calendar_last_Scraped     15181 non-null object\n",
      "First_Review              13001 non-null object\n",
      "Last_Review               13001 non-null object\n",
      "Jurisdiction_Names        14721 non-null object\n",
      "Cancellation_Policy       15181 non-null object\n",
      "Geolocation               15181 non-null object\n",
      "Features                  15172 non-null object\n",
      "dtypes: object(48)\n",
      "memory usage: 5.6+ MB\n"
     ]
    }
   ],
   "source": [
    "cat_airbnb.info()"
   ]
  },
  {
   "cell_type": "code",
   "execution_count": 22,
   "metadata": {},
   "outputs": [
    {
     "data": {
      "text/plain": [
       "Amsterdam                       14869\n",
       "Amsterdam-Zuidoost                198\n",
       "Amsterdam Zuid-Oost                54\n",
       "De Pijp                             6\n",
       "Jordaan                             5\n",
       "Watergraafsmeer                     5\n",
       "Amstelveen                          5\n",
       "Amsterdam Zuidoost                  4\n",
       "Ámsterdam                           4\n",
       "Amsterdam (Zunderdorp)              3\n",
       "Badhoevedorp                        3\n",
       "Diemen                              2\n",
       "Zeeburg                             2\n",
       "Lijnden                             1\n",
       "Amsterdão                           1\n",
       "Amsterdam, Noord-Holland, NL        1\n",
       "Haarlem                             1\n",
       "Jordaan, Amsterdam                  1\n",
       "Oud Ade                             1\n",
       "1054 Amsterdam                      1\n",
       "AMSTERDAM                           1\n",
       "Am                                  1\n",
       "North Holland                       1\n",
       "Buitenveldert                       1\n",
       "Centrem                             1\n",
       "Nederland                           1\n",
       "Duivendrecht                        1\n",
       "Amsterda                            1\n",
       "Амстердам                           1\n",
       "Java- eiland                        1\n",
       "Amsterdam West                      1\n",
       "Geuzenveld/Slotermeer               1\n",
       "Halfweg                             1\n",
       "Name: City, dtype: int64"
      ]
     },
     "execution_count": 22,
     "metadata": {},
     "output_type": "execute_result"
    }
   ],
   "source": [
    "airbnb.City.value_counts()"
   ]
  },
  {
   "cell_type": "code",
   "execution_count": 130,
   "metadata": {},
   "outputs": [
    {
     "ename": "TypeError",
     "evalue": "replace() takes no keyword arguments",
     "output_type": "error",
     "traceback": [
      "\u001b[1;31m---------------------------------------------------------------------------\u001b[0m",
      "\u001b[1;31mTypeError\u001b[0m                                 Traceback (most recent call last)",
      "\u001b[1;32m<ipython-input-130-83cbf6e2b12c>\u001b[0m in \u001b[0;36m<module>\u001b[1;34m\u001b[0m\n\u001b[1;32m----> 1\u001b[1;33m \u001b[0mairbnb\u001b[0m\u001b[1;33m.\u001b[0m\u001b[0mCity\u001b[0m\u001b[1;33m.\u001b[0m\u001b[0mapply\u001b[0m\u001b[1;33m(\u001b[0m\u001b[1;32mlambda\u001b[0m \u001b[0mx\u001b[0m\u001b[1;33m:\u001b[0m \u001b[0mstr\u001b[0m\u001b[1;33m(\u001b[0m\u001b[0mx\u001b[0m\u001b[1;33m)\u001b[0m\u001b[1;33m.\u001b[0m\u001b[0mlower\u001b[0m\u001b[1;33m(\u001b[0m\u001b[1;33m)\u001b[0m\u001b[1;33m.\u001b[0m\u001b[0mreplace\u001b[0m\u001b[1;33m(\u001b[0m\u001b[0mregex\u001b[0m\u001b[1;33m=\u001b[0m\u001b[1;34mr'mster'\u001b[0m\u001b[1;33m,\u001b[0m\u001b[0mvalue\u001b[0m\u001b[1;33m=\u001b[0m\u001b[1;34m'amsterdam'\u001b[0m\u001b[1;33m)\u001b[0m\u001b[1;33m)\u001b[0m\u001b[1;33m\u001b[0m\u001b[1;33m\u001b[0m\u001b[0m\n\u001b[0m",
      "\u001b[1;32m~\\Anaconda3\\lib\\site-packages\\pandas\\core\\series.py\u001b[0m in \u001b[0;36mapply\u001b[1;34m(self, func, convert_dtype, args, **kwds)\u001b[0m\n\u001b[0;32m   4040\u001b[0m             \u001b[1;32melse\u001b[0m\u001b[1;33m:\u001b[0m\u001b[1;33m\u001b[0m\u001b[1;33m\u001b[0m\u001b[0m\n\u001b[0;32m   4041\u001b[0m                 \u001b[0mvalues\u001b[0m \u001b[1;33m=\u001b[0m \u001b[0mself\u001b[0m\u001b[1;33m.\u001b[0m\u001b[0mastype\u001b[0m\u001b[1;33m(\u001b[0m\u001b[0mobject\u001b[0m\u001b[1;33m)\u001b[0m\u001b[1;33m.\u001b[0m\u001b[0mvalues\u001b[0m\u001b[1;33m\u001b[0m\u001b[1;33m\u001b[0m\u001b[0m\n\u001b[1;32m-> 4042\u001b[1;33m                 \u001b[0mmapped\u001b[0m \u001b[1;33m=\u001b[0m \u001b[0mlib\u001b[0m\u001b[1;33m.\u001b[0m\u001b[0mmap_infer\u001b[0m\u001b[1;33m(\u001b[0m\u001b[0mvalues\u001b[0m\u001b[1;33m,\u001b[0m \u001b[0mf\u001b[0m\u001b[1;33m,\u001b[0m \u001b[0mconvert\u001b[0m\u001b[1;33m=\u001b[0m\u001b[0mconvert_dtype\u001b[0m\u001b[1;33m)\u001b[0m\u001b[1;33m\u001b[0m\u001b[1;33m\u001b[0m\u001b[0m\n\u001b[0m\u001b[0;32m   4043\u001b[0m \u001b[1;33m\u001b[0m\u001b[0m\n\u001b[0;32m   4044\u001b[0m         \u001b[1;32mif\u001b[0m \u001b[0mlen\u001b[0m\u001b[1;33m(\u001b[0m\u001b[0mmapped\u001b[0m\u001b[1;33m)\u001b[0m \u001b[1;32mand\u001b[0m \u001b[0misinstance\u001b[0m\u001b[1;33m(\u001b[0m\u001b[0mmapped\u001b[0m\u001b[1;33m[\u001b[0m\u001b[1;36m0\u001b[0m\u001b[1;33m]\u001b[0m\u001b[1;33m,\u001b[0m \u001b[0mSeries\u001b[0m\u001b[1;33m)\u001b[0m\u001b[1;33m:\u001b[0m\u001b[1;33m\u001b[0m\u001b[1;33m\u001b[0m\u001b[0m\n",
      "\u001b[1;32mpandas\\_libs\\lib.pyx\u001b[0m in \u001b[0;36mpandas._libs.lib.map_infer\u001b[1;34m()\u001b[0m\n",
      "\u001b[1;32m<ipython-input-130-83cbf6e2b12c>\u001b[0m in \u001b[0;36m<lambda>\u001b[1;34m(x)\u001b[0m\n\u001b[1;32m----> 1\u001b[1;33m \u001b[0mairbnb\u001b[0m\u001b[1;33m.\u001b[0m\u001b[0mCity\u001b[0m\u001b[1;33m.\u001b[0m\u001b[0mapply\u001b[0m\u001b[1;33m(\u001b[0m\u001b[1;32mlambda\u001b[0m \u001b[0mx\u001b[0m\u001b[1;33m:\u001b[0m \u001b[0mstr\u001b[0m\u001b[1;33m(\u001b[0m\u001b[0mx\u001b[0m\u001b[1;33m)\u001b[0m\u001b[1;33m.\u001b[0m\u001b[0mlower\u001b[0m\u001b[1;33m(\u001b[0m\u001b[1;33m)\u001b[0m\u001b[1;33m.\u001b[0m\u001b[0mreplace\u001b[0m\u001b[1;33m(\u001b[0m\u001b[0mregex\u001b[0m\u001b[1;33m=\u001b[0m\u001b[1;34mr'mster'\u001b[0m\u001b[1;33m,\u001b[0m\u001b[0mvalue\u001b[0m\u001b[1;33m=\u001b[0m\u001b[1;34m'amsterdam'\u001b[0m\u001b[1;33m)\u001b[0m\u001b[1;33m)\u001b[0m\u001b[1;33m\u001b[0m\u001b[1;33m\u001b[0m\u001b[0m\n\u001b[0m",
      "\u001b[1;31mTypeError\u001b[0m: replace() takes no keyword arguments"
     ]
    }
   ],
   "source": [
    "airbnb.City.apply(lambda x: str(x).lower().replace(regex=r'mster',value='amsterdam'))"
   ]
  },
  {
   "cell_type": "code",
   "execution_count": 105,
   "metadata": {},
   "outputs": [
    {
     "name": "stdout",
     "output_type": "stream",
     "text": [
      "True\n"
     ]
    }
   ],
   "source": [
    "import string \n",
    "string.punctuation\n",
    "airbnb.State.replace()"
   ]
  },
  {
   "cell_type": "code",
   "execution_count": 146,
   "metadata": {},
   "outputs": [],
   "source": [
    "airbnb.State = airbnb.State.str.lower().replace(\n",
    "    ['noord holland',\n",
    "     'north holland',\n",
    "     'north-holland',\n",
    "     'noord holland',\n",
    "     'nh','amsterdam',\n",
    "     'netherlands'\n",
    "     r'amster',\n",
    "     r'holland$'\n",
    "    ],\n",
    "    'holland',regex=True)"
   ]
  },
  {
   "cell_type": "code",
   "execution_count": 147,
   "metadata": {},
   "outputs": [
    {
     "data": {
      "text/plain": [
       "holland                 15092\n",
       "am                          2\n",
       "van heemskeckstraat         1\n",
       "kx                          1\n",
       "nr                          1\n",
       "                        ...  \n",
       "dp                          1\n",
       "jt                          1\n",
       "emmy andriessestraat        1\n",
       "jan tooropstraat            1\n",
       "hc                          1\n",
       "Name: State, Length: 63, dtype: int64"
      ]
     },
     "execution_count": 147,
     "metadata": {},
     "output_type": "execute_result"
    }
   ],
   "source": [
    "airbnb.State.value_counts()"
   ]
  },
  {
   "cell_type": "code",
   "execution_count": 179,
   "metadata": {},
   "outputs": [
    {
     "data": {
      "text/plain": [
       "array(['holland', 'ng', 'bw', 'blancefloorstraat', 'ch', nan, 'am', 'gj',\n",
       "       'sx', 'ke', 'slotermeerlaan', 'kx', '244', 'holanda septentrional',\n",
       "       'ka', 'ah', 'van heemskeckstraat', 'modern', 'transvaalstraat',\n",
       "       'vl', 'nr', 'hunzestraat', 'tl', 'gn', 'ce', 'rj',\n",
       "       'valckenierstraat 1', 'zeedijk', 'dp', 'kw', 'jan tooropstraat',\n",
       "       'ln', 'nc', 'amstel', 'jt', 'nb', 'boord holland', 'ts',\n",
       "       'noordholland', 'mj', 'pieter calandlaan', 'vx',\n",
       "       'fritz dietrich kahlenbergstraat', 'south holland', 'insulindeweg',\n",
       "       'zuiderzeeweg', 'wx', 'xh', 'nah', 'jordaan holland',\n",
       "       '2 de egelantiersdwarsstraat 13 iii', 'hc', 'gd', 'ga', 'nw',\n",
       "       'emmy andriessestraat', 'nassaukade', 'nederland', '38c',\n",
       "       'nieuwe hoogstraat', 'daniel stalpertstraat', 'borgerstraat',\n",
       "       'ijburglaan', 'nm'], dtype=object)"
      ]
     },
     "execution_count": 179,
     "metadata": {},
     "output_type": "execute_result"
    }
   ],
   "source": [
    "airbnb.State.unique()"
   ]
  },
  {
   "cell_type": "code",
   "execution_count": 218,
   "metadata": {},
   "outputs": [
    {
     "data": {
      "text/plain": [
       "0                                     Netherlands\n",
       "1        Amsterdam North Holland, The Netherlands\n",
       "2                       Shanghai, Shanghai, China\n",
       "3            Amsterdam North Holland, Netherlands\n",
       "4            Amsterdam North Holland, Netherlands\n",
       "                           ...                   \n",
       "15176    Amsterdam Noord-Holland, The Netherlands\n",
       "15177        Amsterdam North Holland, Netherlands\n",
       "15178        Amsterdam North Holland, Netherlands\n",
       "15179    Amsterdam North Holland, The Netherlands\n",
       "15180        Amsterdam North Holland, Netherlands\n",
       "Name: Host_Location, Length: 15181, dtype: object"
      ]
     },
     "execution_count": 218,
     "metadata": {},
     "output_type": "execute_result"
    }
   ],
   "source": [
    "airbnb.Host_Location.replace(r'(^Amsterdam.)','Amsterdam',regex=True)"
   ]
  },
  {
   "cell_type": "markdown",
   "metadata": {},
   "source": [
    "Grouping the list of features to impute and clean values."
   ]
  },
  {
   "cell_type": "code",
   "execution_count": 200,
   "metadata": {},
   "outputs": [
    {
     "data": {
      "text/plain": [
       "Amsterdam, North Holland, Netherlands        6826\n",
       "Amsterdam, North Holland, The Netherlands    4458\n",
       "Amsterdam, Noord-Holland, The Netherlands    1666\n",
       "NL                                           1155\n",
       "Netherlands                                   115\n",
       "                                             ... \n",
       "Cesena, Emilia-Romagna, Italy                   1\n",
       "San Francisco, California, United States        1\n",
       "Empe, Gelderland, Netherlands                   1\n",
       "Amsterdan                                       1\n",
       "Hoorn, North Holland, The Netherlands           1\n",
       "Name: Host_Location, Length: 409, dtype: int64"
      ]
     },
     "execution_count": 200,
     "metadata": {},
     "output_type": "execute_result"
    }
   ],
   "source": [
    "airbnb.Host_Location.value_counts()"
   ]
  },
  {
   "cell_type": "code",
   "execution_count": 156,
   "metadata": {},
   "outputs": [],
   "source": [
    "categorical_list = ['Property_Type',\n",
    "'Room_Type',\n",
    "'Bed_Type',\n",
    "'Cancellation_Policy',\n",
    "'Host_Response_Time',\n",
    "'Neighbourhood_Cleansed',\n",
    "'City',\n",
    "'Host_Location',\n",
    "'Host_Neighbourhood',\n",
    "'Neighbourhood',\n",
    "'State'\n",
    "]\n",
    "\n",
    "replace_na_with_zero = ['Extra_People',\n",
    "'Minimum_Nights',\n",
    "'Maximum_Nights',\n",
    "'Review_Scores_Cleanliness',\n",
    "'Review_Scores_Checkin',\n",
    "'Review_Scores_Communication',\n",
    "'Review_Scores_Location',\n",
    "'Review_Scores_Value',\n",
    "'Bathrooms',\n",
    "'Bedrooms',\n",
    "'Beds',\n",
    "'Price',\n",
    "'Cleaning_Fee',\n",
    "'Review_Scores_Rating',\n",
    "'Review_Scores_Accuracy',\n",
    "'Reviews_per_Month',\n",
    "'Security_Deposit',\n",
    "'Number_of_Reviews',\n",
    "'Calculated_host_listings_count',\n",
    "'Accommodates',\n",
    "'Guests_Included',\n",
    "'Availability_30',\n",
    "'Availability_60',\n",
    "'Availability_90',\n",
    "'Availability_365',\n",
    "'Latitude',\n",
    "'Longitude'\n",
    "]\n",
    "\n",
    "replace_val_with_0_or_1 = ['Summary',\n",
    "'Space',\n",
    "'Neighborhood_Overview',\n",
    "'Interaction',\n",
    "'Thumbnail_Url',\n",
    "'Medium_Url',\n",
    "'Picture_Url',\n",
    "'XL_Picture_Url',\n",
    "'Host_URL',\n",
    "'Host_Name',\n",
    "'Host_About',\n",
    "'Host_Thumbnail_Url',\n",
    "'Host_Picture_Url',\n",
    "'Transit',\n",
    "'Access',\n",
    "'House_Rules'\n",
    "]\n",
    "\n",
    "\n",
    "replace_with_count_values = ['Host_Verifications',\n",
    "'Amenities',\n",
    "'Features'\n",
    "]\n",
    "\n",
    "replace_na_with_1 = ['Host_Listings_Count',\n",
    "'Host_Total_Listings_Count'\n",
    "]\n",
    "\n",
    "replace_date_values = ['Host_Since',\n",
    "'First_Review',\n",
    "'Last_Review'\n",
    "]"
   ]
  },
  {
   "cell_type": "code",
   "execution_count": 161,
   "metadata": {
    "scrolled": true
   },
   "outputs": [
    {
     "ename": "ValueError",
     "evalue": "Must pass DataFrame with boolean values only",
     "output_type": "error",
     "traceback": [
      "\u001b[1;31m---------------------------------------------------------------------------\u001b[0m",
      "\u001b[1;31mValueError\u001b[0m                                Traceback (most recent call last)",
      "\u001b[1;32m<ipython-input-161-370eec43534a>\u001b[0m in \u001b[0;36m<module>\u001b[1;34m\u001b[0m\n\u001b[1;32m----> 1\u001b[1;33m \u001b[0mcategorical_list\u001b[0m \u001b[1;33m=\u001b[0m \u001b[0mairbnb\u001b[0m\u001b[1;33m[\u001b[0m\u001b[0mcategorical_list\u001b[0m\u001b[1;33m]\u001b[0m\u001b[1;33m.\u001b[0m\u001b[0mreplace\u001b[0m\u001b[1;33m(\u001b[0m\u001b[0mnp\u001b[0m\u001b[1;33m.\u001b[0m\u001b[0mnan\u001b[0m\u001b[1;33m,\u001b[0m\u001b[1;34m'Not Available'\u001b[0m\u001b[1;33m)\u001b[0m\u001b[1;33m\u001b[0m\u001b[1;33m\u001b[0m\u001b[0m\n\u001b[0m\u001b[0;32m      2\u001b[0m \u001b[0mcategorical_list\u001b[0m \u001b[1;33m=\u001b[0m \u001b[0mpd\u001b[0m\u001b[1;33m.\u001b[0m\u001b[0mget_dummies\u001b[0m\u001b[1;33m(\u001b[0m\u001b[0mcategorical_list\u001b[0m\u001b[1;33m)\u001b[0m\u001b[1;33m.\u001b[0m\u001b[0mastype\u001b[0m\u001b[1;33m(\u001b[0m\u001b[1;34m'int8'\u001b[0m\u001b[1;33m)\u001b[0m\u001b[1;33m\u001b[0m\u001b[1;33m\u001b[0m\u001b[0m\n\u001b[0;32m      3\u001b[0m \u001b[0mcategorical_list\u001b[0m\u001b[1;33m\u001b[0m\u001b[1;33m\u001b[0m\u001b[0m\n",
      "\u001b[1;32m~\\Anaconda3\\lib\\site-packages\\pandas\\core\\frame.py\u001b[0m in \u001b[0;36m__getitem__\u001b[1;34m(self, key)\u001b[0m\n\u001b[0;32m   2965\u001b[0m         \u001b[1;31m# Do we have a (boolean) DataFrame?\u001b[0m\u001b[1;33m\u001b[0m\u001b[1;33m\u001b[0m\u001b[1;33m\u001b[0m\u001b[0m\n\u001b[0;32m   2966\u001b[0m         \u001b[1;32mif\u001b[0m \u001b[0misinstance\u001b[0m\u001b[1;33m(\u001b[0m\u001b[0mkey\u001b[0m\u001b[1;33m,\u001b[0m \u001b[0mDataFrame\u001b[0m\u001b[1;33m)\u001b[0m\u001b[1;33m:\u001b[0m\u001b[1;33m\u001b[0m\u001b[1;33m\u001b[0m\u001b[0m\n\u001b[1;32m-> 2967\u001b[1;33m             \u001b[1;32mreturn\u001b[0m \u001b[0mself\u001b[0m\u001b[1;33m.\u001b[0m\u001b[0m_getitem_frame\u001b[0m\u001b[1;33m(\u001b[0m\u001b[0mkey\u001b[0m\u001b[1;33m)\u001b[0m\u001b[1;33m\u001b[0m\u001b[1;33m\u001b[0m\u001b[0m\n\u001b[0m\u001b[0;32m   2968\u001b[0m \u001b[1;33m\u001b[0m\u001b[0m\n\u001b[0;32m   2969\u001b[0m         \u001b[1;31m# Do we have a (boolean) 1d indexer?\u001b[0m\u001b[1;33m\u001b[0m\u001b[1;33m\u001b[0m\u001b[1;33m\u001b[0m\u001b[0m\n",
      "\u001b[1;32m~\\Anaconda3\\lib\\site-packages\\pandas\\core\\frame.py\u001b[0m in \u001b[0;36m_getitem_frame\u001b[1;34m(self, key)\u001b[0m\n\u001b[0;32m   3064\u001b[0m     \u001b[1;32mdef\u001b[0m \u001b[0m_getitem_frame\u001b[0m\u001b[1;33m(\u001b[0m\u001b[0mself\u001b[0m\u001b[1;33m,\u001b[0m \u001b[0mkey\u001b[0m\u001b[1;33m)\u001b[0m\u001b[1;33m:\u001b[0m\u001b[1;33m\u001b[0m\u001b[1;33m\u001b[0m\u001b[0m\n\u001b[0;32m   3065\u001b[0m         \u001b[1;32mif\u001b[0m \u001b[0mkey\u001b[0m\u001b[1;33m.\u001b[0m\u001b[0mvalues\u001b[0m\u001b[1;33m.\u001b[0m\u001b[0msize\u001b[0m \u001b[1;32mand\u001b[0m \u001b[1;32mnot\u001b[0m \u001b[0mis_bool_dtype\u001b[0m\u001b[1;33m(\u001b[0m\u001b[0mkey\u001b[0m\u001b[1;33m.\u001b[0m\u001b[0mvalues\u001b[0m\u001b[1;33m)\u001b[0m\u001b[1;33m:\u001b[0m\u001b[1;33m\u001b[0m\u001b[1;33m\u001b[0m\u001b[0m\n\u001b[1;32m-> 3066\u001b[1;33m             \u001b[1;32mraise\u001b[0m \u001b[0mValueError\u001b[0m\u001b[1;33m(\u001b[0m\u001b[1;34m\"Must pass DataFrame with boolean values only\"\u001b[0m\u001b[1;33m)\u001b[0m\u001b[1;33m\u001b[0m\u001b[1;33m\u001b[0m\u001b[0m\n\u001b[0m\u001b[0;32m   3067\u001b[0m         \u001b[1;32mreturn\u001b[0m \u001b[0mself\u001b[0m\u001b[1;33m.\u001b[0m\u001b[0mwhere\u001b[0m\u001b[1;33m(\u001b[0m\u001b[0mkey\u001b[0m\u001b[1;33m)\u001b[0m\u001b[1;33m\u001b[0m\u001b[1;33m\u001b[0m\u001b[0m\n\u001b[0;32m   3068\u001b[0m \u001b[1;33m\u001b[0m\u001b[0m\n",
      "\u001b[1;31mValueError\u001b[0m: Must pass DataFrame with boolean values only"
     ]
    }
   ],
   "source": [
    "categorical_list = airbnb[categorical_list].replace(np.nan,'Not Available')\n",
    "categorical_list = pd.get_dummies(categorical_list).astype('int8')\n",
    "categorical_list"
   ]
  },
  {
   "cell_type": "code",
   "execution_count": 165,
   "metadata": {},
   "outputs": [
    {
     "name": "stdout",
     "output_type": "stream",
     "text": [
      "<class 'pandas.core.frame.DataFrame'>\n",
      "RangeIndex: 15181 entries, 0 to 15180\n",
      "Data columns (total 27 columns):\n",
      "Extra_People                      15181 non-null int64\n",
      "Minimum_Nights                    15181 non-null int64\n",
      "Maximum_Nights                    15181 non-null int64\n",
      "Review_Scores_Cleanliness         15181 non-null float64\n",
      "Review_Scores_Checkin             15181 non-null float64\n",
      "Review_Scores_Communication       15181 non-null float64\n",
      "Review_Scores_Location            15181 non-null float64\n",
      "Review_Scores_Value               15181 non-null float64\n",
      "Bathrooms                         15181 non-null float64\n",
      "Bedrooms                          15181 non-null float64\n",
      "Beds                              15181 non-null float64\n",
      "Price                             15181 non-null float64\n",
      "Cleaning_Fee                      15181 non-null float64\n",
      "Review_Scores_Rating              15181 non-null float64\n",
      "Review_Scores_Accuracy            15181 non-null float64\n",
      "Reviews_per_Month                 15181 non-null float64\n",
      "Security_Deposit                  15181 non-null float64\n",
      "Number_of_Reviews                 15181 non-null int64\n",
      "Calculated_host_listings_count    15181 non-null int64\n",
      "Accommodates                      15181 non-null int64\n",
      "Guests_Included                   15181 non-null int64\n",
      "Availability_30                   15181 non-null int64\n",
      "Availability_60                   15181 non-null int64\n",
      "Availability_90                   15181 non-null int64\n",
      "Availability_365                  15181 non-null int64\n",
      "Latitude                          15181 non-null float64\n",
      "Longitude                         15181 non-null float64\n",
      "dtypes: float64(16), int64(11)\n",
      "memory usage: 3.1 MB\n"
     ]
    }
   ],
   "source": [
    "replace_na_with_zero = airbnb[replace_na_with_zero].replace(np.nan,0)\n",
    "replace_na_with_zero.info()"
   ]
  },
  {
   "cell_type": "code",
   "execution_count": 166,
   "metadata": {},
   "outputs": [
    {
     "name": "stdout",
     "output_type": "stream",
     "text": [
      "<class 'pandas.core.frame.DataFrame'>\n",
      "RangeIndex: 15181 entries, 0 to 15180\n",
      "Data columns (total 16 columns):\n",
      "Summary                  15181 non-null int8\n",
      "Space                    15181 non-null int8\n",
      "Neighborhood_Overview    15181 non-null int8\n",
      "Interaction              15181 non-null int8\n",
      "Thumbnail_Url            15181 non-null int8\n",
      "Medium_Url               15181 non-null int8\n",
      "Picture_Url              15181 non-null int8\n",
      "XL_Picture_Url           15181 non-null int8\n",
      "Host_URL                 15181 non-null int8\n",
      "Host_Name                15181 non-null int8\n",
      "Host_About               15181 non-null int8\n",
      "Host_Thumbnail_Url       15181 non-null int8\n",
      "Host_Picture_Url         15181 non-null int8\n",
      "Transit                  15181 non-null int8\n",
      "Access                   15181 non-null int8\n",
      "House_Rules              15181 non-null int8\n",
      "dtypes: int8(16)\n",
      "memory usage: 237.3 KB\n"
     ]
    }
   ],
   "source": [
    "replace_val_with_0_or_1 = airbnb[replace_val_with_0_or_1].apply(lambda col: pd.notna(col).astype('int8'))\n",
    "replace_val_with_0_or_1.info()"
   ]
  },
  {
   "cell_type": "code",
   "execution_count": 167,
   "metadata": {},
   "outputs": [
    {
     "name": "stdout",
     "output_type": "stream",
     "text": [
      "<class 'pandas.core.frame.DataFrame'>\n",
      "RangeIndex: 15181 entries, 0 to 15180\n",
      "Data columns (total 3 columns):\n",
      "Host_Verifications    15181 non-null int8\n",
      "Amenities             15181 non-null int8\n",
      "Features              15181 non-null int8\n",
      "dtypes: int8(3)\n",
      "memory usage: 44.6 KB\n"
     ]
    }
   ],
   "source": [
    "replace_with_count_values = airbnb[replace_with_count_values].apply(lambda col: col.str.split(',').str.len().fillna(0).astype('int8'))\n",
    "replace_with_count_values.info()"
   ]
  },
  {
   "cell_type": "code",
   "execution_count": 168,
   "metadata": {},
   "outputs": [
    {
     "name": "stdout",
     "output_type": "stream",
     "text": [
      "<class 'pandas.core.frame.DataFrame'>\n",
      "RangeIndex: 15181 entries, 0 to 15180\n",
      "Data columns (total 2 columns):\n",
      "Host_Listings_Count          15181 non-null float64\n",
      "Host_Total_Listings_Count    15181 non-null float64\n",
      "dtypes: float64(2)\n",
      "memory usage: 237.3 KB\n"
     ]
    }
   ],
   "source": [
    "replace_na_with_1 = airbnb[replace_na_with_1].replace(np.nan,1)\n",
    "replace_na_with_1.info()"
   ]
  },
  {
   "cell_type": "code",
   "execution_count": 169,
   "metadata": {},
   "outputs": [
    {
     "name": "stdout",
     "output_type": "stream",
     "text": [
      "<class 'pandas.core.frame.DataFrame'>\n",
      "RangeIndex: 15181 entries, 0 to 15180\n",
      "Data columns (total 3 columns):\n",
      "Host_Since      15181 non-null int32\n",
      "First_Review    15181 non-null int32\n",
      "Last_Review     15181 non-null int32\n",
      "dtypes: int32(3)\n",
      "memory usage: 178.0 KB\n"
     ]
    }
   ],
   "source": [
    "replace_date_values = airbnb[replace_date_values].fillna(method='ffill')\n",
    "replace_date_values = replace_date_values.apply(lambda col: pd.factorize(col,sort=True)[0].astype('int'))\n",
    "replace_date_values.info()"
   ]
  },
  {
   "cell_type": "code",
   "execution_count": 170,
   "metadata": {},
   "outputs": [],
   "source": [
    "updated = pd.concat([categorical_list,\n",
    "           replace_na_with_zero,\n",
    "           replace_val_with_0_or_1,\n",
    "           replace_with_count_values,\n",
    "           replace_na_with_1,\n",
    "           replace_date_values\n",
    "          ],axis=1)"
   ]
  },
  {
   "cell_type": "code",
   "execution_count": 171,
   "metadata": {},
   "outputs": [
    {
     "name": "stdout",
     "output_type": "stream",
     "text": [
      "<class 'pandas.core.frame.DataFrame'>\n",
      "RangeIndex: 15181 entries, 0 to 15180\n",
      "Columns: 729 entries, Property_Type_Apartment to Last_Review\n",
      "dtypes: float64(18), int32(3), int64(11), int8(697)\n",
      "memory usage: 13.6 MB\n"
     ]
    }
   ],
   "source": [
    "updated.info()"
   ]
  },
  {
   "cell_type": "code",
   "execution_count": 177,
   "metadata": {},
   "outputs": [],
   "source": [
    "correlation = updated.corr()"
   ]
  },
  {
   "cell_type": "code",
   "execution_count": 178,
   "metadata": {},
   "outputs": [
    {
     "data": {
      "text/plain": [
       "Price                                  1.000000\n",
       "Accommodates                           0.562822\n",
       "Bedrooms                               0.537698\n",
       "Beds                                   0.511277\n",
       "Guests_Included                        0.364912\n",
       "Cleaning_Fee                           0.364290\n",
       "Bathrooms                              0.324807\n",
       "Room_Type_Entire home/apt              0.316342\n",
       "Security_Deposit                       0.226117\n",
       "Neighbourhood_Cleansed_Centrum-West    0.190903\n",
       "Amenities                              0.187655\n",
       "Availability_30                        0.174742\n",
       "Cancellation_Policy_strict             0.146660\n",
       "Availability_60                        0.139785\n",
       "Extra_People                           0.129945\n",
       "Neighbourhood_Grachtengordel           0.124031\n",
       "Availability_365                       0.119076\n",
       "Host_Neighbourhood_Grachtengordel      0.116178\n",
       "Availability_90                        0.111759\n",
       "Calculated_host_listings_count         0.108775\n",
       "Property_Type_House                    0.108347\n",
       "Property_Type_Boat                     0.107826\n",
       "Host_Listings_Count                    0.103821\n",
       "Host_Total_Listings_Count              0.103821\n",
       "Neighbourhood_Cleansed_Centrum-Oost    0.103195\n",
       "Host_Neighbourhood_Jordaan             0.101818\n",
       "Name: Price, dtype: float64"
      ]
     },
     "execution_count": 178,
     "metadata": {},
     "output_type": "execute_result"
    }
   ],
   "source": [
    "correlation['Price'][correlation['Price'] > 0.1].sort_values(ascending=False)"
   ]
  },
  {
   "cell_type": "code",
   "execution_count": null,
   "metadata": {},
   "outputs": [],
   "source": []
  },
  {
   "cell_type": "code",
   "execution_count": null,
   "metadata": {},
   "outputs": [],
   "source": [
    "from sklearn.feature_selection import SelectKBest,f_regression\n",
    "sel = SelectKBest(f_regression,k=89)"
   ]
  },
  {
   "cell_type": "code",
   "execution_count": null,
   "metadata": {},
   "outputs": [],
   "source": [
    "val = correlation[correlation > 0.5] "
   ]
  },
  {
   "cell_type": "code",
   "execution_count": 175,
   "metadata": {},
   "outputs": [],
   "source": [
    "updated['updated_cat'] = pd.cut(updated['Accommodates'],\n",
    "                    bins=[0,1,2,3,4,8,12,np.inf],\n",
    "                    labels=[1,2,3,4,5,6,7])\n",
    "# binning the category in order to split train and test data based on the accommodates to get a stratified split"
   ]
  },
  {
   "cell_type": "code",
   "execution_count": null,
   "metadata": {},
   "outputs": [],
   "source": [
    "from sklearn.model_selection import StratifiedShuffleSplit\n",
    "strata = StratifiedShuffleSplit(n_splits=1,test_size=0.2,random_state=42)\n",
    "for train_size,test_size in strata.split(updated,updated['updated_cat']):\n",
    "    train_set = updated.iloc[train_size]\n",
    "    test_set = updated.iloc[test_size]"
   ]
  },
  {
   "cell_type": "code",
   "execution_count": null,
   "metadata": {},
   "outputs": [],
   "source": [
    "train_set['updated_cat'].value_counts() / len(updated)"
   ]
  },
  {
   "cell_type": "code",
   "execution_count": null,
   "metadata": {},
   "outputs": [],
   "source": [
    "data = train_set.drop(['Price','updated_cat'],axis=1)\n",
    "price = train_set['Price'].copy()"
   ]
  },
  {
   "cell_type": "code",
   "execution_count": null,
   "metadata": {},
   "outputs": [],
   "source": [
    "from sklearn.preprocessing import StandardScaler\n",
    "stdsclr = StandardScaler()\n",
    "scaled = stdsclr.fit_transform(data)"
   ]
  },
  {
   "cell_type": "code",
   "execution_count": null,
   "metadata": {},
   "outputs": [],
   "source": [
    "from sklearn.ensemble import RandomForestRegressor\n",
    "from sklearn.metrics import mean_squared_error\n",
    "rforest_reg = RandomForestRegressor(n_jobs=-1,random_state=42)"
   ]
  },
  {
   "cell_type": "code",
   "execution_count": null,
   "metadata": {},
   "outputs": [],
   "source": [
    "rforest_reg.fit(scaled,price)"
   ]
  },
  {
   "cell_type": "code",
   "execution_count": null,
   "metadata": {},
   "outputs": [],
   "source": [
    "rpredictor = rforest_reg.predict(scaled)\n",
    "mse = mean_squared_error(price,rpredictor)\n",
    "rmse = np.sqrt(mse)\n",
    "rmse"
   ]
  },
  {
   "cell_type": "code",
   "execution_count": null,
   "metadata": {},
   "outputs": [],
   "source": [
    "from sklearn.model_selection import cross_val_score\n",
    "rand_score = cross_val_score(rforest_reg,scaled,price,\n",
    "                            scoring='neg_mean_squared_error',cv=10,n_jobs=-1)\n",
    "forest_rmse = np.sqrt(-rand_score)"
   ]
  },
  {
   "cell_type": "code",
   "execution_count": null,
   "metadata": {},
   "outputs": [],
   "source": [
    "np.mean(forest_rmse),np.std(forest_rmse)"
   ]
  },
  {
   "cell_type": "code",
   "execution_count": null,
   "metadata": {},
   "outputs": [],
   "source": [
    "from scipy import stats\n",
    "confidence = 0.95\n",
    "squared_errors = (rpredictor - price)**2"
   ]
  },
  {
   "cell_type": "code",
   "execution_count": null,
   "metadata": {},
   "outputs": [],
   "source": [
    "np.sqrt(stats.t.interval(confidence,len(squared_errors) -1,loc=squared_errors.mean(),\n",
    "                 scale=stats.sem(squared_errors)))"
   ]
  },
  {
   "cell_type": "code",
   "execution_count": null,
   "metadata": {},
   "outputs": [],
   "source": []
  }
 ],
 "metadata": {
  "kernelspec": {
   "display_name": "Python 3",
   "language": "python",
   "name": "python3"
  },
  "language_info": {
   "codemirror_mode": {
    "name": "ipython",
    "version": 3
   },
   "file_extension": ".py",
   "mimetype": "text/x-python",
   "name": "python",
   "nbconvert_exporter": "python",
   "pygments_lexer": "ipython3",
   "version": "3.7.4"
  }
 },
 "nbformat": 4,
 "nbformat_minor": 2
}
