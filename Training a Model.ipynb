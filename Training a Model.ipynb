{
 "cells": [
  {
   "cell_type": "markdown",
   "metadata": {},
   "source": [
    "Linear Regression Equation - Normal Equation<br>\n",
    "$ \\hat{\\theta} = (X^{T}X)^{-1} X^{T} y $ <br>\n",
    "$ \\hat{\\theta} - \\text{Minimises the cost function} $ <br>\n",
    "$ y - \\text{vector of the target values containing } y^{(1)} \\text{ to } y^{(m)} $ "
   ]
  },
  {
   "cell_type": "code",
   "execution_count": 1,
   "metadata": {},
   "outputs": [],
   "source": [
    "import numpy as np\n",
    "np.random.seed(42)"
   ]
  },
  {
   "cell_type": "code",
   "execution_count": 2,
   "metadata": {},
   "outputs": [],
   "source": [
    "x = 2 * np.random.rand(100,1)\n",
    "y = 4 + 3 *  x + np.random.randn(100,1)"
   ]
  },
  {
   "cell_type": "code",
   "execution_count": 3,
   "metadata": {},
   "outputs": [],
   "source": [
    "%matplotlib inline\n",
    "import matplotlib.pyplot as plt\n",
    "plt.style.use('dark_background')"
   ]
  },
  {
   "cell_type": "code",
   "execution_count": 4,
   "metadata": {},
   "outputs": [
    {
     "data": {
      "image/png": "[encoded data removed]",
      "text/plain": [
       "<Figure size 432x288 with 1 Axes>"
      ]
     },
     "metadata": {
      "needs_background": "dark"
     },
     "output_type": "display_data"
    }
   ],
   "source": [
    "plt.scatter(x,y,marker='.')\n",
    "plt.xlabel(\"X1\")\n",
    "plt.ylabel(\"Y\",rotation=0)\n",
    "plt.show()"
   ]
  },
  {
   "cell_type": "code",
   "execution_count": 5,
   "metadata": {},
   "outputs": [],
   "source": [
    "x_b = np.c_[np.ones((100,1)),x] # adding x0 = 1 to each instance"
   ]
  },
  {
   "cell_type": "code",
   "execution_count": 6,
   "metadata": {},
   "outputs": [
    {
     "data": {
      "text/plain": [
       "array([[1.        , 0.74908024],\n",
       "       [1.        , 1.90142861],\n",
       "       [1.        , 1.46398788],\n",
       "       [1.        , 1.19731697],\n",
       "       [1.        , 0.31203728],\n",
       "       [1.        , 0.31198904],\n",
       "       [1.        , 0.11616722],\n",
       "       [1.        , 1.73235229],\n",
       "       [1.        , 1.20223002],\n",
       "       [1.        , 1.41614516],\n",
       "       [1.        , 0.04116899],\n",
       "       [1.        , 1.9398197 ],\n",
       "       [1.        , 1.66488528],\n",
       "       [1.        , 0.42467822],\n",
       "       [1.        , 0.36364993],\n",
       "       [1.        , 0.36680902],\n",
       "       [1.        , 0.60848449],\n",
       "       [1.        , 1.04951286],\n",
       "       [1.        , 0.86389004],\n",
       "       [1.        , 0.58245828],\n",
       "       [1.        , 1.22370579],\n",
       "       [1.        , 0.27898772],\n",
       "       [1.        , 0.5842893 ],\n",
       "       [1.        , 0.73272369],\n",
       "       [1.        , 0.91213997],\n",
       "       [1.        , 1.57035192],\n",
       "       [1.        , 0.39934756],\n",
       "       [1.        , 1.02846888],\n",
       "       [1.        , 1.18482914],\n",
       "       [1.        , 0.09290083],\n",
       "       [1.        , 1.2150897 ],\n",
       "       [1.        , 0.34104825],\n",
       "       [1.        , 0.13010319],\n",
       "       [1.        , 1.89777107],\n",
       "       [1.        , 1.93126407],\n",
       "       [1.        , 1.6167947 ],\n",
       "       [1.        , 0.60922754],\n",
       "       [1.        , 0.19534423],\n",
       "       [1.        , 1.36846605],\n",
       "       [1.        , 0.88030499],\n",
       "       [1.        , 0.24407647],\n",
       "       [1.        , 0.99035382],\n",
       "       [1.        , 0.06877704],\n",
       "       [1.        , 1.8186408 ],\n",
       "       [1.        , 0.51755996],\n",
       "       [1.        , 1.32504457],\n",
       "       [1.        , 0.62342215],\n",
       "       [1.        , 1.04013604],\n",
       "       [1.        , 1.09342056],\n",
       "       [1.        , 0.36970891],\n",
       "       [1.        , 1.93916926],\n",
       "       [1.        , 1.55026565],\n",
       "       [1.        , 1.87899788],\n",
       "       [1.        , 1.7896547 ],\n",
       "       [1.        , 1.19579996],\n",
       "       [1.        , 1.84374847],\n",
       "       [1.        , 0.176985  ],\n",
       "       [1.        , 0.39196572],\n",
       "       [1.        , 0.09045458],\n",
       "       [1.        , 0.65066066],\n",
       "       [1.        , 0.77735458],\n",
       "       [1.        , 0.54269806],\n",
       "       [1.        , 1.65747502],\n",
       "       [1.        , 0.71350665],\n",
       "       [1.        , 0.56186902],\n",
       "       [1.        , 1.08539217],\n",
       "       [1.        , 0.28184845],\n",
       "       [1.        , 1.60439396],\n",
       "       [1.        , 0.14910129],\n",
       "       [1.        , 1.97377387],\n",
       "       [1.        , 1.54448954],\n",
       "       [1.        , 0.39743136],\n",
       "       [1.        , 0.01104423],\n",
       "       [1.        , 1.63092286],\n",
       "       [1.        , 1.41371469],\n",
       "       [1.        , 1.45801434],\n",
       "       [1.        , 1.54254069],\n",
       "       [1.        , 0.1480893 ],\n",
       "       [1.        , 0.71693146],\n",
       "       [1.        , 0.23173812],\n",
       "       [1.        , 1.72620685],\n",
       "       [1.        , 1.24659625],\n",
       "       [1.        , 0.66179605],\n",
       "       [1.        , 0.1271167 ],\n",
       "       [1.        , 0.62196464],\n",
       "       [1.        , 0.65036664],\n",
       "       [1.        , 1.45921236],\n",
       "       [1.        , 1.27511494],\n",
       "       [1.        , 1.77442549],\n",
       "       [1.        , 0.94442985],\n",
       "       [1.        , 0.23918849],\n",
       "       [1.        , 1.42648957],\n",
       "       [1.        , 1.5215701 ],\n",
       "       [1.        , 1.1225544 ],\n",
       "       [1.        , 1.54193436],\n",
       "       [1.        , 0.98759119],\n",
       "       [1.        , 1.04546566],\n",
       "       [1.        , 0.85508204],\n",
       "       [1.        , 0.05083825],\n",
       "       [1.        , 0.21578285]])"
      ]
     },
     "execution_count": 6,
     "metadata": {},
     "output_type": "execute_result"
    }
   ],
   "source": [
    "x_b"
   ]
  },
  {
   "cell_type": "code",
   "execution_count": 7,
   "metadata": {},
   "outputs": [],
   "source": [
    "theta = np.linalg.inv(x_b.T @ x_b) @ x_b.T @ y"
   ]
  },
  {
   "cell_type": "code",
   "execution_count": 8,
   "metadata": {},
   "outputs": [
    {
     "data": {
      "text/plain": [
       "array([[4.21509616],\n",
       "       [2.77011339]])"
      ]
     },
     "execution_count": 8,
     "metadata": {},
     "output_type": "execute_result"
    }
   ],
   "source": [
    "theta \n",
    "# noise makes it impossible to get the exact values. "
   ]
  },
  {
   "cell_type": "markdown",
   "metadata": {},
   "source": [
    "The theta value is very close to our normal equation. "
   ]
  },
  {
   "cell_type": "code",
   "execution_count": 9,
   "metadata": {},
   "outputs": [],
   "source": [
    "x_new = np.array([[0],[2]])\n",
    "x_new_b = np.c_[np.ones((2,1)),x_new]\n",
    "y_predict = x_new_b @ theta"
   ]
  },
  {
   "cell_type": "code",
   "execution_count": 10,
   "metadata": {},
   "outputs": [
    {
     "data": {
      "text/plain": [
       "array([[4.21509616],\n",
       "       [9.75532293]])"
      ]
     },
     "execution_count": 10,
     "metadata": {},
     "output_type": "execute_result"
    }
   ],
   "source": [
    "y_predict"
   ]
  },
  {
   "cell_type": "code",
   "execution_count": 11,
   "metadata": {},
   "outputs": [
    {
     "data": {
      "text/plain": [
       "array([[0],\n",
       "       [2]])"
      ]
     },
     "execution_count": 11,
     "metadata": {},
     "output_type": "execute_result"
    }
   ],
   "source": [
    "x_new"
   ]
  },
  {
   "cell_type": "code",
   "execution_count": 12,
   "metadata": {},
   "outputs": [
    {
     "data": {
      "text/plain": [
       "array([[1., 0.],\n",
       "       [1., 2.]])"
      ]
     },
     "execution_count": 12,
     "metadata": {},
     "output_type": "execute_result"
    }
   ],
   "source": [
    "x_new_b"
   ]
  },
  {
   "cell_type": "code",
   "execution_count": 13,
   "metadata": {},
   "outputs": [
    {
     "data": {
      "image/png": "[encoded data removed]",
      "text/plain": [
       "<Figure size 432x288 with 1 Axes>"
      ]
     },
     "metadata": {
      "needs_background": "dark"
     },
     "output_type": "display_data"
    }
   ],
   "source": [
    "plt.plot(x_new,y_predict,\"r--\",label='Prediction')\n",
    "plt.plot(x,y,\"y.\")\n",
    "plt.xlabel(\"$x$\",size=20)\n",
    "plt.ylabel(\"$y$\",rotation=0,size=20)\n",
    "plt.legend() ; plt.show()"
   ]
  },
  {
   "cell_type": "markdown",
   "metadata": {},
   "source": [
    "Performing the same Linear regression with sklearn"
   ]
  },
  {
   "cell_type": "code",
   "execution_count": 14,
   "metadata": {},
   "outputs": [
    {
     "data": {
      "text/plain": [
       "(array([4.21509616]), array([[2.77011339]]))"
      ]
     },
     "execution_count": 14,
     "metadata": {},
     "output_type": "execute_result"
    }
   ],
   "source": [
    "from sklearn.linear_model import LinearRegression\n",
    "lin_reg = LinearRegression()\n",
    "lin_reg.fit(x,y)\n",
    "lin_reg.intercept_,lin_reg.coef_"
   ]
  },
  {
   "cell_type": "code",
   "execution_count": 15,
   "metadata": {},
   "outputs": [
    {
     "data": {
      "text/plain": [
       "array([[4.21509616],\n",
       "       [9.75532293]])"
      ]
     },
     "execution_count": 15,
     "metadata": {},
     "output_type": "execute_result"
    }
   ],
   "source": [
    "lin_reg.predict(x_new)"
   ]
  },
  {
   "cell_type": "markdown",
   "metadata": {},
   "source": [
    "Based on scipy.linalg.lstsq "
   ]
  },
  {
   "cell_type": "code",
   "execution_count": 16,
   "metadata": {},
   "outputs": [],
   "source": [
    "theta_best_svd, residuals,rank,s = np.linalg.lstsq(x_b,y,rcond=-1)"
   ]
  },
  {
   "cell_type": "code",
   "execution_count": 17,
   "metadata": {},
   "outputs": [
    {
     "data": {
      "text/plain": [
       "array([[4.21509616],\n",
       "       [2.77011339]])"
      ]
     },
     "execution_count": 17,
     "metadata": {},
     "output_type": "execute_result"
    }
   ],
   "source": [
    "theta_best_svd"
   ]
  },
  {
   "cell_type": "markdown",
   "metadata": {},
   "source": [
    "$ \\hat{\\theta} = X^{+}y $ <br>\n",
    "$ X^{+} \\text{ is the pseudoinverse / moore penrose inverse} $"
   ]
  },
  {
   "cell_type": "code",
   "execution_count": 18,
   "metadata": {},
   "outputs": [
    {
     "data": {
      "text/plain": [
       "array([[4.21509616],\n",
       "       [2.77011339]])"
      ]
     },
     "execution_count": 18,
     "metadata": {},
     "output_type": "execute_result"
    }
   ],
   "source": [
    "np.linalg.pinv(x_b).dot(y)"
   ]
  },
  {
   "cell_type": "markdown",
   "metadata": {},
   "source": [
    "Pseduoinverse is computed via matrix factorization technique called SVD\n",
    "This is more efficient than the normal equation as if the matrix $ X^{T} $ is not invertiable or singular. if m < n or if some features are redundant. \n",
    "pseudo inverse is always defined. "
   ]
  },
  {
   "cell_type": "markdown",
   "metadata": {},
   "source": [
    "##### Compuational Complexity "
   ]
  },
  {
   "cell_type": "markdown",
   "metadata": {},
   "source": [
    "Both Normal equation ($ O(n^{2.4})$ to $ O(n^{3})$)  and the SVD approach ($ O(n^{2})$)is high and the approach will be slow when the number of features grows large.<br>\n",
    "+ve - both are linear with regards to the number of instances so they are O(m) <br>\n",
    "\n",
    "Once the linear regression model is trained on the above method, the prediction is very fast. <br>\n",
    "making prediction on twice many instances will just take roughly twice as much time "
   ]
  },
  {
   "cell_type": "markdown",
   "metadata": {},
   "source": [
    "##### Gradient Descent\n",
    "A very general optimization algorithm capable of finding the optimal solution. \n",
    "**The idea is to tweak parameters iteratively in order to minimize a cost function**"
   ]
  },
  {
   "cell_type": "code",
   "execution_count": 19,
   "metadata": {},
   "outputs": [],
   "source": [
    "def lipschitz(x): return np.sqrt(x**2 + 5)"
   ]
  },
  {
   "cell_type": "code",
   "execution_count": 20,
   "metadata": {},
   "outputs": [
    {
     "data": {
      "text/plain": [
       "100.024996875781"
      ]
     },
     "execution_count": 20,
     "metadata": {},
     "output_type": "execute_result"
    }
   ],
   "source": [
    "lipschitz(100)"
   ]
  },
  {
   "cell_type": "markdown",
   "metadata": {},
   "source": [
    "The training model searches for a combination of model parameters that minimizes a cost function (over a training set). It is a search in the model's parameter space. The more the parameters a model has the more dimensions this space has. \n",
    "\n",
    "When using gradient descent ensure all the features are at similar scale. StandardScaler class helps in scaling the feature variables. else the algorithm will converge very slowly. "
   ]
  },
  {
   "cell_type": "markdown",
   "metadata": {},
   "source": [
    "##### Batch Gradient Descent\n",
    "\n",
    "$$ \\frac{\\partial}{\\partial{\\theta_j}} MSE(\\theta) = \\frac{2}{m} \\sum_{i=1}^m(\\theta^Tx^{(i)} - y^{(i)})x_j^{(i)}$$\n",
    "\n",
    "Calculating how much the cost function will change if you change $\\theta_j$ a little bit. Taking the partial derivative \n",
    "\n",
    "we calculate the $\\nabla_\\theta MSE(\\theta) = \\frac{2}{m}X^T(X\\theta - y)$ \n",
    "\n",
    "Calculating the gradient step $ \\theta^{\\text{next step}} = \\theta - \\eta\\nabla_\\theta MSE(\\theta) $"
   ]
  },
  {
   "cell_type": "code",
   "execution_count": 21,
   "metadata": {},
   "outputs": [],
   "source": [
    "eta = 0.1 # \n",
    "n_iterations = 100\n",
    "theta = np.random.randn(2,1) \n",
    "m = x.size\n",
    "for i in range(n_iterations):\n",
    "    gradients = 2/m * x_b.T @ (x_b @ theta - y)\n",
    "#     print(f\"gradient value {i}\",str(gradients),f\"Theta value {i}\",str(theta),\"\\n\")\n",
    "    theta = theta - eta * gradients"
   ]
  },
  {
   "cell_type": "code",
   "execution_count": 22,
   "metadata": {},
   "outputs": [
    {
     "data": {
      "text/plain": [
       "array([[4.16104533],\n",
       "       [2.81783733]])"
      ]
     },
     "execution_count": 22,
     "metadata": {},
     "output_type": "execute_result"
    }
   ],
   "source": [
    "theta"
   ]
  },
  {
   "cell_type": "code",
   "execution_count": 23,
   "metadata": {},
   "outputs": [],
   "source": [
    "theta = np.random.randn(2,1) "
   ]
  },
  {
   "cell_type": "markdown",
   "metadata": {},
   "source": [
    "How to set the number of iterations. <br>\n",
    "if its too low, you will still be far away from the optimal solution, it will take a long time<br>\n",
    "if the rate is high, the algorithm diverges and jumping all over the place and actually getting further and further away from the step. <br>\n",
    "\n",
    "To get a good learning rate we need to use Grid search and limit the number of iterations so that grid search can eliminate models that take too long to converge. <br>\n",
    "\n",
    "How to get the number of iterations? <br>\n",
    "\n",
    ">set a large iteration number and interrupt the algorithm when the gradient vector becomes tiny\n",
    "norm becomes smaller to a tiny number $\\epsilon$ (tolerance). Then the gradient has almost reached minimum"
   ]
  },
  {
   "cell_type": "markdown",
   "metadata": {},
   "source": [
    "Stochastic Gradient Descent"
   ]
  },
  {
   "cell_type": "markdown",
   "metadata": {},
   "source": [
    "SGD overcomes the negatives of the batch gradient descent which is uses the whole training set to compute the gradient at every step. <br>\n",
    "\n",
    "SGD picks random instance in the training set at every step and computes the gradients based only on that single instance. \n",
    "\n",
    "SGD helps in getting out of the local minima due to the random points being taken. \n",
    "however,it will never settle down once the global minima is reached.\n",
    "\n",
    "A process similar to simulated annealing algorithm is used where reduce the learning rate slowly  at each iteration. "
   ]
  },
  {
   "cell_type": "code",
   "execution_count": 24,
   "metadata": {},
   "outputs": [
    {
     "data": {
      "image/png": "[encoded data removed]",
      "text/plain": [
       "<Figure size 432x288 with 1 Axes>"
      ]
     },
     "metadata": {
      "needs_background": "dark"
     },
     "output_type": "display_data"
    }
   ],
   "source": [
    "theta_path_sgd = []\n",
    "np.random.seed(42)\n",
    "n_epochs = 50 \n",
    "t0, t1 = 5,50 # learning schedule hyperparameters\n",
    "\n",
    "def learning_schedule(t):\n",
    "    return t0 / (t + t1)\n",
    "m = len(x_b)\n",
    "\n",
    "theta = np.random.randn(2,1) # intialize a random theta\n",
    "\n",
    "for epoch in range(n_epochs):\n",
    "    for i in range(m):\n",
    "        if (epoch == 0 and i < 20):\n",
    "            y_predict = x_new_b @ theta\n",
    "            style = \"b-\" if i > 0 else \"r--\"\n",
    "            plt.plot(x_new,y_predict,style)\n",
    "        random_index = np.random.randint(m)\n",
    "        xi = x_b[random_index:random_index+1]\n",
    "        yi = y[random_index:random_index+1]\n",
    "        gradients = 2 * xi.T @ (xi @ theta - yi)\n",
    "        eta = learning_schedule(epoch * m + i)\n",
    "        theta = theta - eta * gradients\n",
    "        theta_path_sgd.append(theta)\n",
    "plt.plot(x,y,\"b.\")\n",
    "plt.xlabel(\"$x_1$\",fontsize=18)\n",
    "plt.ylabel(\"$y_1$\",fontsize=18,rotation=0)\n",
    "plt.show()"
   ]
  },
  {
   "cell_type": "code",
   "execution_count": 25,
   "metadata": {},
   "outputs": [
    {
     "data": {
      "text/plain": [
       "array([[4.21076011],\n",
       "       [2.74856079]])"
      ]
     },
     "execution_count": 25,
     "metadata": {},
     "output_type": "execute_result"
    }
   ],
   "source": [
    "theta"
   ]
  },
  {
   "cell_type": "markdown",
   "metadata": {},
   "source": [
    "For stochastic gradient descent the training instances must be independent and indentically distributed \n",
    "When using stochastic gradient descent always pick the xi and yi at random else the SGD will start to optimize one label after another and will not settle close to the global minimum"
   ]
  },
  {
   "cell_type": "markdown",
   "metadata": {},
   "source": [
    "##### Performing Linear Regression with SGD\n",
    "\n",
    "The SGD regressor defaults to optimizing the squared error cost function. "
   ]
  },
  {
   "cell_type": "code",
   "execution_count": 26,
   "metadata": {},
   "outputs": [
    {
     "data": {
      "text/plain": [
       "SGDRegressor(alpha=0.0001, average=False, early_stopping=False, epsilon=0.1,\n",
       "             eta0=0.1, fit_intercept=True, l1_ratio=0.15,\n",
       "             learning_rate='invscaling', loss='squared_loss', max_iter=1000,\n",
       "             n_iter_no_change=5, penalty=None, power_t=0.25, random_state=None,\n",
       "             shuffle=True, tol=0.001, validation_fraction=0.1, verbose=0,\n",
       "             warm_start=False)"
      ]
     },
     "execution_count": 26,
     "metadata": {},
     "output_type": "execute_result"
    }
   ],
   "source": [
    "from sklearn.linear_model import SGDRegressor\n",
    "sgd_reg = SGDRegressor(max_iter=1000,tol=1e-3,penalty=None,eta0=1e-1)\n",
    "sgd_reg.fit(x,y.ravel())"
   ]
  },
  {
   "cell_type": "code",
   "execution_count": 27,
   "metadata": {},
   "outputs": [
    {
     "data": {
      "text/plain": [
       "(array([4.23868557]), array([2.82181634]))"
      ]
     },
     "execution_count": 27,
     "metadata": {},
     "output_type": "execute_result"
    }
   ],
   "source": [
    "sgd_reg.intercept_,sgd_reg.coef_"
   ]
  },
  {
   "cell_type": "markdown",
   "metadata": {},
   "source": [
    "Mini-batch gradient descent\n",
    "Similar to SGD, at every step instead of computing gradients based on just one instance, Mini batch gradient computs the gradients on small random sets of instances. \n",
    "\n",
    ">The advantage over SGD is that we can get a performance boost from the hardware optimization of matrix operations. "
   ]
  },
  {
   "cell_type": "code",
   "execution_count": 28,
   "metadata": {},
   "outputs": [
    {
     "data": {
      "text/plain": [
       "array([[1., 0.],\n",
       "       [1., 2.]])"
      ]
     },
     "execution_count": 28,
     "metadata": {},
     "output_type": "execute_result"
    }
   ],
   "source": [
    "x_new_b"
   ]
  },
  {
   "cell_type": "markdown",
   "metadata": {},
   "source": [
    "##### Polynomial Regression \n",
    "The data is not linear and is more complex. add powers of feature as new features, then train the model on this extended set of features. "
   ]
  },
  {
   "cell_type": "code",
   "execution_count": 29,
   "metadata": {},
   "outputs": [],
   "source": [
    "np.random.seed(42)\n",
    "m = 100\n",
    "x = 6 * np.random.rand(m,1) - 3\n",
    "y = 0.5 * x**2 + x + 2 + np.random.randn(m,1)"
   ]
  },
  {
   "cell_type": "code",
   "execution_count": 30,
   "metadata": {},
   "outputs": [
    {
     "data": {
      "image/png": "[encoded data removed]",
      "text/plain": [
       "<Figure size 432x288 with 1 Axes>"
      ]
     },
     "metadata": {
      "needs_background": "dark"
     },
     "output_type": "display_data"
    }
   ],
   "source": [
    "plt.plot(x,y,'b.')\n",
    "plt.xlabel(\"$x_1$\",fontsize=18)\n",
    "plt.ylabel(\"$y_1$\",fontsize=18,rotation=0)\n",
    "plt.show()"
   ]
  },
  {
   "cell_type": "code",
   "execution_count": 31,
   "metadata": {},
   "outputs": [],
   "source": [
    "from sklearn.preprocessing import PolynomialFeatures\n",
    "ply_features = PolynomialFeatures(degree=2,include_bias=False)"
   ]
  },
  {
   "cell_type": "code",
   "execution_count": 32,
   "metadata": {},
   "outputs": [],
   "source": [
    "x_poly = ply_features.fit_transform(x)"
   ]
  },
  {
   "cell_type": "code",
   "execution_count": 33,
   "metadata": {},
   "outputs": [
    {
     "data": {
      "text/plain": [
       "array([-0.75275929])"
      ]
     },
     "execution_count": 33,
     "metadata": {},
     "output_type": "execute_result"
    }
   ],
   "source": [
    "x[0]"
   ]
  },
  {
   "cell_type": "code",
   "execution_count": 34,
   "metadata": {},
   "outputs": [
    {
     "data": {
      "text/plain": [
       "array([-0.75275929,  0.56664654])"
      ]
     },
     "execution_count": 34,
     "metadata": {},
     "output_type": "execute_result"
    }
   ],
   "source": [
    "x_poly[0]"
   ]
  },
  {
   "cell_type": "code",
   "execution_count": 35,
   "metadata": {},
   "outputs": [],
   "source": [
    "lin_reg = LinearRegression()"
   ]
  },
  {
   "cell_type": "code",
   "execution_count": 36,
   "metadata": {},
   "outputs": [
    {
     "data": {
      "text/plain": [
       "LinearRegression(copy_X=True, fit_intercept=True, n_jobs=None, normalize=False)"
      ]
     },
     "execution_count": 36,
     "metadata": {},
     "output_type": "execute_result"
    }
   ],
   "source": [
    "lin_reg.fit(x_poly,y)"
   ]
  },
  {
   "cell_type": "code",
   "execution_count": 37,
   "metadata": {},
   "outputs": [
    {
     "data": {
      "text/plain": [
       "(array([1.78134581]), array([[0.93366893, 0.56456263]]))"
      ]
     },
     "execution_count": 37,
     "metadata": {},
     "output_type": "execute_result"
    }
   ],
   "source": [
    "lin_reg.intercept_,lin_reg.coef_"
   ]
  },
  {
   "cell_type": "code",
   "execution_count": 38,
   "metadata": {},
   "outputs": [
    {
     "data": {
      "image/png": "[encoded data removed]",
      "text/plain": [
       "<Figure size 432x288 with 1 Axes>"
      ]
     },
     "metadata": {
      "needs_background": "dark"
     },
     "output_type": "display_data"
    }
   ],
   "source": [
    "x_new = np.linspace(-3,3,100).reshape(100,1)\n",
    "x_new_poly = ply_features.transform(x_new)\n",
    "y_new = lin_reg.predict(x_new_poly)\n",
    "plt.plot(x,y,'b.')\n",
    "plt.plot(x_new,y_new,'r-',label='predictions')\n",
    "plt.legend()\n",
    "plt.show()"
   ]
  },
  {
   "cell_type": "markdown",
   "metadata": {},
   "source": [
    "When there are multiple features, Polynomial Regression is capable of finding relationships between the features \n",
    "\n",
    "PolynomialFeatures degree=d transforms an array containing n features into an array containing \n",
    "$ \\frac{(n+d)!}{d!n!}$ features"
   ]
  },
  {
   "cell_type": "code",
   "execution_count": 39,
   "metadata": {},
   "outputs": [
    {
     "data": {
      "image/png": "[encoded data removed]",
      "text/plain": [
       "<Figure size 432x288 with 1 Axes>"
      ]
     },
     "metadata": {
      "needs_background": "dark"
     },
     "output_type": "display_data"
    }
   ],
   "source": [
    "from sklearn.preprocessing import StandardScaler\n",
    "from sklearn.pipeline import Pipeline\n",
    "\n",
    "for style, width, degree in (('g-',1,300),('y--',2,2),('r+-',2,1)):\n",
    "    ply_more = PolynomialFeatures(degree=degree,include_bias=False)\n",
    "    std_scalar = StandardScaler()\n",
    "    lin_alg = LinearRegression()\n",
    "    polynomial_reg = Pipeline([\n",
    "        ('poly regression',ply_more),\n",
    "        ('standard scalar',std_scalar),\n",
    "        ('linear regression',lin_alg)\n",
    "    ])\n",
    "    polynomial_reg.fit(x,y)\n",
    "    y_newbig = polynomial_reg.predict(x_new)\n",
    "    plt.plot(x_new,y_newbig,style,label=str(degree),linewidth=width)\n",
    "\n",
    "plt.plot(x,y,'b.',linewidth=3)\n",
    "plt.legend(loc='upper left')\n",
    "plt.show()"
   ]
  },
  {
   "cell_type": "code",
   "execution_count": 40,
   "metadata": {},
   "outputs": [],
   "source": [
    "from sklearn.metrics import mean_squared_error\n",
    "from sklearn.model_selection import train_test_split\n"
   ]
  },
  {
   "cell_type": "code",
   "execution_count": 41,
   "metadata": {},
   "outputs": [],
   "source": [
    "def learning_curves(model,x,y):\n",
    "    x_train,x_test,y_train,y_test = train_test_split(x,y,test_size=0.2)\n",
    "    train_errors,test_errors =[],[]\n",
    "    for m in range(1,len(x_train)):\n",
    "        model.fit(x_train[:m],y_train[:m])\n",
    "        y_train_predict = model.predict(x_train[:m])\n",
    "        y_val_predict = model.predict(x_test)\n",
    "        train_errors.append(mean_squared_error(y_train[:m],y_train_predict))\n",
    "        test_errors.append(mean_squared_error(y_test,y_val_predict))\n",
    "    plt.plot(np.sqrt(train_errors),'b-',linewidth=2,label='Train')\n",
    "    plt.plot(np.sqrt(test_errors),'r+-',linewidth=2,label='Test')\n",
    "    plt.xlabel('Training set size')\n",
    "    plt.ylabel('RMSE')\n",
    "    plt.legend(loc='best')"
   ]
  },
  {
   "cell_type": "code",
   "execution_count": 42,
   "metadata": {},
   "outputs": [
    {
     "data": {
      "image/png": "[encoded data removed]",
      "text/plain": [
       "<Figure size 432x288 with 1 Axes>"
      ]
     },
     "metadata": {
      "needs_background": "dark"
     },
     "output_type": "display_data"
    }
   ],
   "source": [
    "lin_reg = LinearRegression()\n",
    "learning_curves(lin_reg,x,y)"
   ]
  },
  {
   "cell_type": "markdown",
   "metadata": {},
   "source": [
    "At first the training model has only 2 instances so it can fit the model perfectly untill new data points are fed. \n",
    "\n",
    "The training error is initially very low and starts to increase and adding new data points doesn't make it better or worse \n",
    "\n",
    "The test error initialy is very high as the model cannot generalize and when the new data points are added it starts to decrease \n",
    "\n",
    "Both training and test error at somepoints hovers a point and are underfitted as the test and training RMSE are pretty close. "
   ]
  },
  {
   "cell_type": "code",
   "execution_count": 43,
   "metadata": {},
   "outputs": [
    {
     "data": {
      "image/png": "[encoded data removed]",
      "text/plain": [
       "<Figure size 432x288 with 1 Axes>"
      ]
     },
     "metadata": {
      "needs_background": "dark"
     },
     "output_type": "display_data"
    }
   ],
   "source": [
    "from sklearn.pipeline import Pipeline\n",
    "poly_features = Pipeline([\n",
    "    (\"poly\",PolynomialFeatures(degree=10,include_bias=False)),\n",
    "    (\"lin\",LinearRegression())\n",
    "])\n",
    "\n",
    "learning_curves(poly_features,x,y)"
   ]
  },
  {
   "cell_type": "markdown",
   "metadata": {},
   "source": [
    "##### Regularized Linear Models\n",
    "\n",
    "for linear model, regularization is mostly achieved by constraining the weights of the model.\n",
    "\n",
    "**Ridge Regression** also called Tikhonov regularization is a regularized version of the Linear regression \n",
    "\n",
    "Regularization term  $\\alpha\\Sigma_{i=1}^{n}\\theta_{i}^{2}$ is added to the cost function. \n",
    "\n",
    "this forces the learning algorithm to not only fit the data but also keep the model weights as small as possible. \n",
    "\n",
    "the hyperparameter $\\alpha$ controls how much to regularize the model. if $\\alpha$ is 0 then the ridge regression is linear regression, if $\\alpha$ is large then all weights end up very close to zero and line becomes a flat line going through the data's mean. \n",
    "\n",
    "$J(\\theta) = \\text{MSE}(\\theta) + \\alpha\\frac{1}{2}\\Sigma^{n}_{i}\\theta_i^2$\n",
    "\n",
    "note: $\\theta_0$ is not regularized as the sum starts from 1 and not 0. \n",
    "\n",
    "if $w$ is a vector of feature weights, then the regularization term is equal to $\\frac{1}{2}(||w||_2)^2$ \n",
    "\n",
    "Note: feature scaling to be done before performing ridge regression.\n",
    "\n",
    "Closed for solution: $ \\hat{\\theta} = (X^TX + \\alpha{A})^{-1} X^T y$ <br>\n",
    "where $\\alpha$ is the hyperparameter and $A$ is an identify matrix with first value in row and column as 0(intercept) and main diagonal having ones. \n",
    "\n"
   ]
  },
  {
   "cell_type": "code",
   "execution_count": 44,
   "metadata": {},
   "outputs": [
    {
     "data": {
      "text/plain": [
       "Ridge(alpha=0.1, copy_X=True, fit_intercept=True, max_iter=None,\n",
       "      normalize=False, random_state=42, solver='cholesky', tol=0.001)"
      ]
     },
     "execution_count": 44,
     "metadata": {},
     "output_type": "execute_result"
    }
   ],
   "source": [
    "from sklearn.linear_model import Ridge\n",
    "ridge_reg = Ridge(alpha=0.1,solver='cholesky',random_state=42)\n",
    "ridge_reg.fit(x,y)"
   ]
  },
  {
   "cell_type": "code",
   "execution_count": 45,
   "metadata": {},
   "outputs": [
    {
     "data": {
      "text/plain": [
       "array([[5.25067411]])"
      ]
     },
     "execution_count": 45,
     "metadata": {},
     "output_type": "execute_result"
    }
   ],
   "source": [
    "ridge_reg.predict([[2]])"
   ]
  },
  {
   "cell_type": "code",
   "execution_count": 46,
   "metadata": {},
   "outputs": [
    {
     "data": {
      "text/plain": [
       "array([5.24417517])"
      ]
     },
     "execution_count": 46,
     "metadata": {},
     "output_type": "execute_result"
    }
   ],
   "source": [
    "sgd_reg = SGDRegressor(penalty=\"l2\")\n",
    "sgd_reg.fit(x,y.ravel())\n",
    "sgd_reg.predict([[2]])"
   ]
  },
  {
   "cell_type": "markdown",
   "metadata": {},
   "source": [
    "The hyperparameter $l_2$ lets SGD to add the regularization term to the cost function to half the square of the $l_2$ norm which is ridge regression \n",
    "\n",
    "##### Lasso Regression \n",
    "\n",
    "Least Absolute Shrinkage and Selection Operator Regression \n",
    "similar to ridge Lasso uses $l_1$ norm \n",
    "\n",
    "$J(\\theta) = \\text{MSE}(\\theta) + \\alpha\\Sigma^{n}_{i=1}|\\theta_i|$\n",
    "\n",
    "the important characteristic is that Lasso tends to completely eliminate the weights of tthe least important features. \n"
   ]
  },
  {
   "cell_type": "code",
   "execution_count": 47,
   "metadata": {},
   "outputs": [
    {
     "data": {
      "text/plain": [
       "Lasso(alpha=0.1, copy_X=True, fit_intercept=True, max_iter=1000,\n",
       "      normalize=False, positive=False, precompute=False, random_state=42,\n",
       "      selection='cyclic', tol=0.0001, warm_start=False)"
      ]
     },
     "execution_count": 47,
     "metadata": {},
     "output_type": "execute_result"
    }
   ],
   "source": [
    "from sklearn.linear_model import Lasso\n",
    "lasso_reg = Lasso(alpha=0.1,random_state=42)\n",
    "lasso_reg.fit(x,y)\n"
   ]
  },
  {
   "cell_type": "code",
   "execution_count": 48,
   "metadata": {},
   "outputs": [
    {
     "data": {
      "text/plain": [
       "array([3.55834302, 5.18217554])"
      ]
     },
     "execution_count": 48,
     "metadata": {},
     "output_type": "execute_result"
    }
   ],
   "source": [
    "x_n = [[0],[2]]\n",
    "lasso_reg.predict(x_n)"
   ]
  },
  {
   "cell_type": "code",
   "execution_count": 49,
   "metadata": {},
   "outputs": [
    {
     "data": {
      "text/plain": [
       "(array([3.55834302]), array([0.81191626]))"
      ]
     },
     "execution_count": 49,
     "metadata": {},
     "output_type": "execute_result"
    }
   ],
   "source": [
    "lasso_reg.intercept_,lasso_reg.coef_"
   ]
  },
  {
   "cell_type": "markdown",
   "metadata": {},
   "source": [
    "##### Elastic Net \n",
    "Its a combination of Ridge and Lasso regression. \n",
    "The regularization term is a mix of both Ridge and Lasso's regularization terms. \n",
    "\n",
    "When r = 0, Elastic net is equivalent to Ridge regression\n",
    "When r = 1, its euqivalent to Lasso regression \n",
    "\n",
    "$J(\\theta) = \\text{MSE}(\\theta) + r\\alpha\\Sigma^{n}_{i=1}|\\theta_i| + \\frac{1-r}{2}\\alpha\\Sigma^{n}_{i=1}\\theta^2_i$\n",
    "\n",
    "by default ridge regression is useful, however when we know there are only few features that are useful then lasso or Elastic net is useful. "
   ]
  },
  {
   "cell_type": "code",
   "execution_count": 50,
   "metadata": {},
   "outputs": [
    {
     "data": {
      "text/plain": [
       "array([3.55886814, 5.18857068])"
      ]
     },
     "execution_count": 50,
     "metadata": {},
     "output_type": "execute_result"
    }
   ],
   "source": [
    "from sklearn.linear_model import ElasticNet\n",
    "elastic_reg = ElasticNet(alpha=0.1,l1_ratio=0.5)\n",
    "elastic_reg.fit(x,y)\n",
    "elastic_reg.predict(x_n)"
   ]
  },
  {
   "cell_type": "code",
   "execution_count": 51,
   "metadata": {},
   "outputs": [
    {
     "data": {
      "image/png": "[encoded data removed]",
      "text/plain": [
       "<Figure size 432x288 with 1 Axes>"
      ]
     },
     "metadata": {
      "needs_background": "dark"
     },
     "output_type": "display_data"
    }
   ],
   "source": [
    "plt.plot(x,y,'b.')\n",
    "plt.plot(x_n,lasso_reg.predict(x_n),'y-',label='Lasso')\n",
    "plt.plot(x_n,lin_reg.predict(x_n),'r--',label='Linear')\n",
    "plt.plot(x_n,ridge_reg.predict(x_n),'w-.',label='Ridge')\n",
    "plt.plot(x_n,ridge_reg.predict(x_n),'m:',label='Elastic Net')\n",
    "plt.legend()\n",
    "plt.show()"
   ]
  },
  {
   "cell_type": "markdown",
   "metadata": {},
   "source": [
    "##### Early Stopping \n",
    "\n",
    "A different way to regularize iterative learning algorithms like Gradient descent is to stop training as soon the validation error reaches a minimum. \n"
   ]
  },
  {
   "cell_type": "code",
   "execution_count": null,
   "metadata": {},
   "outputs": [],
   "source": []
  },
  {
   "cell_type": "markdown",
   "metadata": {},
   "source": [
    "##### Logistic Regression \n",
    "\n",
    "Some regression algorithms can be used for classification. Logistic Regression is one of them.\n",
    "Also called logit regression is commonly used to estimate the probablity that an instance belongs to a particular class.\n",
    "\n",
    "Estimating the probablities\n",
    "\n",
    "Comuptes the weighted sum of the input features plus the bias term. outputs the logistic of the result. \n",
    "\n",
    "$\\hat{p} = h_\\theta(X) = \\sigma(X^T\\theta) $ is a vectorized form of the estimiated probablity of the logistic regression. \n",
    "\n",
    "Here the logistic $\\sigma(.)$ outputs a number between 0 and 1\n",
    "\n",
    "$\\sigma(t) = \\frac{1}{1 + e^{-t}}$\n"
   ]
  },
  {
   "cell_type": "code",
   "execution_count": 52,
   "metadata": {},
   "outputs": [],
   "source": [
    "t = np.arange(-10,10,0.2)\n",
    "sigmoid = 1 / (1 + np.exp(-t))"
   ]
  },
  {
   "cell_type": "code",
   "execution_count": 53,
   "metadata": {},
   "outputs": [
    {
     "data": {
      "text/plain": [
       "<matplotlib.legend.Legend at 0x255530e8a90>"
      ]
     },
     "execution_count": 53,
     "metadata": {},
     "output_type": "execute_result"
    },
    {
     "data": {
      "image/png": "[encoded data removed]",
      "text/plain": [
       "<Figure size 432x288 with 1 Axes>"
      ]
     },
     "metadata": {
      "needs_background": "dark"
     },
     "output_type": "display_data"
    }
   ],
   "source": [
    "plt.plot(t,sigmoid,'b-',label=\"sigmoid\")\n",
    "plt.grid(which='major')\n",
    "plt.legend()"
   ]
  },
  {
   "cell_type": "code",
   "execution_count": null,
   "metadata": {},
   "outputs": [],
   "source": []
  }
 ],
 "metadata": {
  "kernelspec": {
   "display_name": "Python 3",
   "language": "python",
   "name": "python3"
  },
  "language_info": {
   "codemirror_mode": {
    "name": "ipython",
    "version": 3
   },
   "file_extension": ".py",
   "mimetype": "text/x-python",
   "name": "python",
   "nbconvert_exporter": "python",
   "pygments_lexer": "ipython3",
   "version": "3.7.3"
  }
 },
 "nbformat": 4,
 "nbformat_minor": 2
}
