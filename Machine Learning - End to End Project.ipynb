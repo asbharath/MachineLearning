{
 "cells": [
  {
   "cell_type": "markdown",
   "metadata": {},
   "source": [
    "### End to End - Machine Learning \n",
    "\n",
    "##### Framing the problem \n",
    "\n",
    "The given dataset is a list of population, median income, median housing\n",
    "price in the state of california \n",
    "\n",
    "Business Goal: Depending on the median housee price and other signals, is it worth investing in a given area.\n",
    "\n",
    "Currend Model: Understand the current solution and try to get the performance on the current model. \n",
    "\n",
    "Data Pipeline: Sequence of data processing components is called a data pipeline\n",
    "\n",
    "    side note: univariate regression problem is when a single response is predicted for a many predictors*\n",
    "    similarly multivariate regrssion problem is when multiple response variables are predicted for many predictors*\n",
    "\n",
    "\n",
    "##### Selecting a performance measure \n",
    "\n",
    "In this case of linear regression - Root mean squared\n",
    "\n",
    "$$ RMSE(X,h) = \\sqrt{\\frac{1}{n} \\sum_{i=1}^\\infty (y_{i}-\\hat{h}(x_{i}))^2} $$\n",
    "\n",
    "$$ x \\text{ is the vector of the feature values} $$\n",
    "$$ y \\text{ is the desired output value of that instance} $$\n",
    "$$ n \\text{ is the total number of observations} $$\n",
    "$$ X \\text{ is a matrix contains all the feature values in each column } x^{T} $$\n",
    "$$ h \\text{ is a prediction function which gives } \\hat{y} $$\n",
    "$$ RMSE(X,h) \\text{ is the cost function measured on the set of examples using your hypothesis h } $$\n",
    "\n",
    "RMSE is generally preferred but in some contexts we may need to use a different measure \n",
    "eg: Mean Absolute Error \n",
    "\n",
    "$$ MAE(X,h) = \\frac{1}{n} \\sum_{i=1}^{m} |{y_{i}- h(x_{i})}| $$\n",
    "\n",
    "    Computing the squared root corresponds to Euclidean norm. also called L-2 norm\n",
    "    Computing the sum of absolutes corresponds to L1 norm\n",
    "    \n",
    "Higher the norm index the more focus is given to the large values and smaller ones are ignored.\n",
    "\n",
    "##### Check the Assumptions\n",
    "\n",
    "In the case of the real estate pricing example the downstream might convert the prices and class them as Cheap, medium and expensive. Hence in this case we need to get the category right rather than the price itself. Instead of regression this becomes a classification problem. \n",
    "\n"
   ]
  },
  {
   "cell_type": "markdown",
   "metadata": {},
   "source": [
    "#### Getting the Data "
   ]
  },
  {
   "cell_type": "code",
   "execution_count": 1,
   "metadata": {},
   "outputs": [],
   "source": [
    "# import statements and setting the download folder\n",
    "import os\n",
    "import tarfile\n",
    "import urllib\n",
    "\n",
    "URL_LINK = \"https://raw.githubusercontent.com/ageron/handson-ml2/master/\"\n",
    "os.chdir(\"E:\\\\Datasets\") # changing dir\n",
    "PATH = os.path.join(\"housing\") #name of the folder\n",
    "DOWNLOAD_FILE = URL_LINK + \"datasets/housing/housing.tgz\""
   ]
  },
  {
   "cell_type": "code",
   "execution_count": 2,
   "metadata": {},
   "outputs": [],
   "source": [
    "# creating a generic fucntion to download the file \n",
    "\n",
    "def get_housing_data(download_file=DOWNLOAD_FILE, path=PATH):\n",
    "    '''Pass the file to download and path where to store the file'''\n",
    "    if not os.path.isdir(path):\n",
    "        os.makedirs(path)\n",
    "    if \"tgz\" in download_file: # Checking if we need to extract the file\n",
    "        tgz_path = os.path.join(path,\"housing.tgz\")\n",
    "        urllib.request.urlretrieve(download_file,tgz_path)\n",
    "        housing_tgz = tarfile.open(tgz_path)\n",
    "        housing_tgz.extractall(path=path)\n",
    "        housing_tgz.close()\n",
    "    else: \n",
    "        print(\"check the file in the system\")"
   ]
  },
  {
   "cell_type": "code",
   "execution_count": 3,
   "metadata": {},
   "outputs": [],
   "source": [
    "get_housing_data(DOWNLOAD_FILE,PATH) # download the dataset"
   ]
  },
  {
   "cell_type": "code",
   "execution_count": 4,
   "metadata": {},
   "outputs": [],
   "source": [
    "#importing pandas \n",
    "import pandas as pd\n",
    "def load_dataset(path=PATH):\n",
    "    if os.path.isfile(os.path.join(path,'housing.csv')):\n",
    "        csv_path = os.path.join(path,'housing.csv')\n",
    "        return pd.read_csv(csv_path)\n",
    "    else:\n",
    "        return \"file not found\"\n"
   ]
  },
  {
   "cell_type": "code",
   "execution_count": 5,
   "metadata": {},
   "outputs": [],
   "source": [
    "data = load_dataset(PATH) #loading the data to pandas"
   ]
  },
  {
   "cell_type": "code",
   "execution_count": 6,
   "metadata": {},
   "outputs": [
    {
     "data": {
      "text/html": [
       "<div>\n",
       "<style scoped>\n",
       "    .dataframe tbody tr th:only-of-type {\n",
       "        vertical-align: middle;\n",
       "    }\n",
       "\n",
       "    .dataframe tbody tr th {\n",
       "        vertical-align: top;\n",
       "    }\n",
       "\n",
       "    .dataframe thead th {\n",
       "        text-align: right;\n",
       "    }\n",
       "</style>\n",
       "<table border=\"1\" class=\"dataframe\">\n",
       "  <thead>\n",
       "    <tr style=\"text-align: right;\">\n",
       "      <th></th>\n",
       "      <th>longitude</th>\n",
       "      <th>latitude</th>\n",
       "      <th>housing_median_age</th>\n",
       "      <th>total_rooms</th>\n",
       "      <th>total_bedrooms</th>\n",
       "      <th>population</th>\n",
       "      <th>households</th>\n",
       "      <th>median_income</th>\n",
       "      <th>median_house_value</th>\n",
       "      <th>ocean_proximity</th>\n",
       "    </tr>\n",
       "  </thead>\n",
       "  <tbody>\n",
       "    <tr>\n",
       "      <th>0</th>\n",
       "      <td>-122.23</td>\n",
       "      <td>37.88</td>\n",
       "      <td>41.0</td>\n",
       "      <td>880.0</td>\n",
       "      <td>129.0</td>\n",
       "      <td>322.0</td>\n",
       "      <td>126.0</td>\n",
       "      <td>8.3252</td>\n",
       "      <td>452600.0</td>\n",
       "      <td>NEAR BAY</td>\n",
       "    </tr>\n",
       "    <tr>\n",
       "      <th>1</th>\n",
       "      <td>-122.22</td>\n",
       "      <td>37.86</td>\n",
       "      <td>21.0</td>\n",
       "      <td>7099.0</td>\n",
       "      <td>1106.0</td>\n",
       "      <td>2401.0</td>\n",
       "      <td>1138.0</td>\n",
       "      <td>8.3014</td>\n",
       "      <td>358500.0</td>\n",
       "      <td>NEAR BAY</td>\n",
       "    </tr>\n",
       "    <tr>\n",
       "      <th>2</th>\n",
       "      <td>-122.24</td>\n",
       "      <td>37.85</td>\n",
       "      <td>52.0</td>\n",
       "      <td>1467.0</td>\n",
       "      <td>190.0</td>\n",
       "      <td>496.0</td>\n",
       "      <td>177.0</td>\n",
       "      <td>7.2574</td>\n",
       "      <td>352100.0</td>\n",
       "      <td>NEAR BAY</td>\n",
       "    </tr>\n",
       "    <tr>\n",
       "      <th>3</th>\n",
       "      <td>-122.25</td>\n",
       "      <td>37.85</td>\n",
       "      <td>52.0</td>\n",
       "      <td>1274.0</td>\n",
       "      <td>235.0</td>\n",
       "      <td>558.0</td>\n",
       "      <td>219.0</td>\n",
       "      <td>5.6431</td>\n",
       "      <td>341300.0</td>\n",
       "      <td>NEAR BAY</td>\n",
       "    </tr>\n",
       "    <tr>\n",
       "      <th>4</th>\n",
       "      <td>-122.25</td>\n",
       "      <td>37.85</td>\n",
       "      <td>52.0</td>\n",
       "      <td>1627.0</td>\n",
       "      <td>280.0</td>\n",
       "      <td>565.0</td>\n",
       "      <td>259.0</td>\n",
       "      <td>3.8462</td>\n",
       "      <td>342200.0</td>\n",
       "      <td>NEAR BAY</td>\n",
       "    </tr>\n",
       "  </tbody>\n",
       "</table>\n",
       "</div>"
      ],
      "text/plain": [
       "   longitude  latitude  housing_median_age  total_rooms  total_bedrooms  \\\n",
       "0    -122.23     37.88                41.0        880.0           129.0   \n",
       "1    -122.22     37.86                21.0       7099.0          1106.0   \n",
       "2    -122.24     37.85                52.0       1467.0           190.0   \n",
       "3    -122.25     37.85                52.0       1274.0           235.0   \n",
       "4    -122.25     37.85                52.0       1627.0           280.0   \n",
       "\n",
       "   population  households  median_income  median_house_value ocean_proximity  \n",
       "0       322.0       126.0         8.3252            452600.0        NEAR BAY  \n",
       "1      2401.0      1138.0         8.3014            358500.0        NEAR BAY  \n",
       "2       496.0       177.0         7.2574            352100.0        NEAR BAY  \n",
       "3       558.0       219.0         5.6431            341300.0        NEAR BAY  \n",
       "4       565.0       259.0         3.8462            342200.0        NEAR BAY  "
      ]
     },
     "execution_count": 6,
     "metadata": {},
     "output_type": "execute_result"
    }
   ],
   "source": [
    "data.head() #getting first 5 rows of data"
   ]
  },
  {
   "cell_type": "code",
   "execution_count": 7,
   "metadata": {},
   "outputs": [
    {
     "name": "stdout",
     "output_type": "stream",
     "text": [
      "<class 'pandas.core.frame.DataFrame'>\n",
      "RangeIndex: 20640 entries, 0 to 20639\n",
      "Data columns (total 10 columns):\n",
      "longitude             20640 non-null float64\n",
      "latitude              20640 non-null float64\n",
      "housing_median_age    20640 non-null float64\n",
      "total_rooms           20640 non-null float64\n",
      "total_bedrooms        20433 non-null float64\n",
      "population            20640 non-null float64\n",
      "households            20640 non-null float64\n",
      "median_income         20640 non-null float64\n",
      "median_house_value    20640 non-null float64\n",
      "ocean_proximity       20640 non-null object\n",
      "dtypes: float64(9), object(1)\n",
      "memory usage: 1.6+ MB\n"
     ]
    }
   ],
   "source": [
    "data.info() #info about the data"
   ]
  },
  {
   "cell_type": "code",
   "execution_count": 8,
   "metadata": {},
   "outputs": [
    {
     "data": {
      "text/plain": [
       "<1H OCEAN     9136\n",
       "INLAND        6551\n",
       "NEAR OCEAN    2658\n",
       "NEAR BAY      2290\n",
       "ISLAND           5\n",
       "Name: ocean_proximity, dtype: int64"
      ]
     },
     "execution_count": 8,
     "metadata": {},
     "output_type": "execute_result"
    }
   ],
   "source": [
    "data['ocean_proximity'].value_counts() #getting count of unique values of ocean_proximity "
   ]
  },
  {
   "cell_type": "code",
   "execution_count": 9,
   "metadata": {},
   "outputs": [
    {
     "data": {
      "text/html": [
       "<div>\n",
       "<style scoped>\n",
       "    .dataframe tbody tr th:only-of-type {\n",
       "        vertical-align: middle;\n",
       "    }\n",
       "\n",
       "    .dataframe tbody tr th {\n",
       "        vertical-align: top;\n",
       "    }\n",
       "\n",
       "    .dataframe thead th {\n",
       "        text-align: right;\n",
       "    }\n",
       "</style>\n",
       "<table border=\"1\" class=\"dataframe\">\n",
       "  <thead>\n",
       "    <tr style=\"text-align: right;\">\n",
       "      <th></th>\n",
       "      <th>longitude</th>\n",
       "      <th>latitude</th>\n",
       "      <th>housing_median_age</th>\n",
       "      <th>total_rooms</th>\n",
       "      <th>total_bedrooms</th>\n",
       "      <th>population</th>\n",
       "      <th>households</th>\n",
       "      <th>median_income</th>\n",
       "      <th>median_house_value</th>\n",
       "    </tr>\n",
       "  </thead>\n",
       "  <tbody>\n",
       "    <tr>\n",
       "      <th>count</th>\n",
       "      <td>20640.000000</td>\n",
       "      <td>20640.000000</td>\n",
       "      <td>20640.000000</td>\n",
       "      <td>20640.000000</td>\n",
       "      <td>20433.000000</td>\n",
       "      <td>20640.000000</td>\n",
       "      <td>20640.000000</td>\n",
       "      <td>20640.000000</td>\n",
       "      <td>20640.000000</td>\n",
       "    </tr>\n",
       "    <tr>\n",
       "      <th>mean</th>\n",
       "      <td>-119.569704</td>\n",
       "      <td>35.631861</td>\n",
       "      <td>28.639486</td>\n",
       "      <td>2635.763081</td>\n",
       "      <td>537.870553</td>\n",
       "      <td>1425.476744</td>\n",
       "      <td>499.539680</td>\n",
       "      <td>3.870671</td>\n",
       "      <td>206855.816909</td>\n",
       "    </tr>\n",
       "    <tr>\n",
       "      <th>std</th>\n",
       "      <td>2.003532</td>\n",
       "      <td>2.135952</td>\n",
       "      <td>12.585558</td>\n",
       "      <td>2181.615252</td>\n",
       "      <td>421.385070</td>\n",
       "      <td>1132.462122</td>\n",
       "      <td>382.329753</td>\n",
       "      <td>1.899822</td>\n",
       "      <td>115395.615874</td>\n",
       "    </tr>\n",
       "    <tr>\n",
       "      <th>min</th>\n",
       "      <td>-124.350000</td>\n",
       "      <td>32.540000</td>\n",
       "      <td>1.000000</td>\n",
       "      <td>2.000000</td>\n",
       "      <td>1.000000</td>\n",
       "      <td>3.000000</td>\n",
       "      <td>1.000000</td>\n",
       "      <td>0.499900</td>\n",
       "      <td>14999.000000</td>\n",
       "    </tr>\n",
       "    <tr>\n",
       "      <th>25%</th>\n",
       "      <td>-121.800000</td>\n",
       "      <td>33.930000</td>\n",
       "      <td>18.000000</td>\n",
       "      <td>1447.750000</td>\n",
       "      <td>296.000000</td>\n",
       "      <td>787.000000</td>\n",
       "      <td>280.000000</td>\n",
       "      <td>2.563400</td>\n",
       "      <td>119600.000000</td>\n",
       "    </tr>\n",
       "    <tr>\n",
       "      <th>50%</th>\n",
       "      <td>-118.490000</td>\n",
       "      <td>34.260000</td>\n",
       "      <td>29.000000</td>\n",
       "      <td>2127.000000</td>\n",
       "      <td>435.000000</td>\n",
       "      <td>1166.000000</td>\n",
       "      <td>409.000000</td>\n",
       "      <td>3.534800</td>\n",
       "      <td>179700.000000</td>\n",
       "    </tr>\n",
       "    <tr>\n",
       "      <th>75%</th>\n",
       "      <td>-118.010000</td>\n",
       "      <td>37.710000</td>\n",
       "      <td>37.000000</td>\n",
       "      <td>3148.000000</td>\n",
       "      <td>647.000000</td>\n",
       "      <td>1725.000000</td>\n",
       "      <td>605.000000</td>\n",
       "      <td>4.743250</td>\n",
       "      <td>264725.000000</td>\n",
       "    </tr>\n",
       "    <tr>\n",
       "      <th>max</th>\n",
       "      <td>-114.310000</td>\n",
       "      <td>41.950000</td>\n",
       "      <td>52.000000</td>\n",
       "      <td>39320.000000</td>\n",
       "      <td>6445.000000</td>\n",
       "      <td>35682.000000</td>\n",
       "      <td>6082.000000</td>\n",
       "      <td>15.000100</td>\n",
       "      <td>500001.000000</td>\n",
       "    </tr>\n",
       "  </tbody>\n",
       "</table>\n",
       "</div>"
      ],
      "text/plain": [
       "          longitude      latitude  housing_median_age   total_rooms  \\\n",
       "count  20640.000000  20640.000000        20640.000000  20640.000000   \n",
       "mean    -119.569704     35.631861           28.639486   2635.763081   \n",
       "std        2.003532      2.135952           12.585558   2181.615252   \n",
       "min     -124.350000     32.540000            1.000000      2.000000   \n",
       "25%     -121.800000     33.930000           18.000000   1447.750000   \n",
       "50%     -118.490000     34.260000           29.000000   2127.000000   \n",
       "75%     -118.010000     37.710000           37.000000   3148.000000   \n",
       "max     -114.310000     41.950000           52.000000  39320.000000   \n",
       "\n",
       "       total_bedrooms    population    households  median_income  \\\n",
       "count    20433.000000  20640.000000  20640.000000   20640.000000   \n",
       "mean       537.870553   1425.476744    499.539680       3.870671   \n",
       "std        421.385070   1132.462122    382.329753       1.899822   \n",
       "min          1.000000      3.000000      1.000000       0.499900   \n",
       "25%        296.000000    787.000000    280.000000       2.563400   \n",
       "50%        435.000000   1166.000000    409.000000       3.534800   \n",
       "75%        647.000000   1725.000000    605.000000       4.743250   \n",
       "max       6445.000000  35682.000000   6082.000000      15.000100   \n",
       "\n",
       "       median_house_value  \n",
       "count        20640.000000  \n",
       "mean        206855.816909  \n",
       "std         115395.615874  \n",
       "min          14999.000000  \n",
       "25%         119600.000000  \n",
       "50%         179700.000000  \n",
       "75%         264725.000000  \n",
       "max         500001.000000  "
      ]
     },
     "execution_count": 9,
     "metadata": {},
     "output_type": "execute_result"
    }
   ],
   "source": [
    "data.describe() # getting stats about the data set "
   ]
  },
  {
   "cell_type": "markdown",
   "metadata": {},
   "source": [
    "##### Visualizing the data via histrogram "
   ]
  },
  {
   "cell_type": "code",
   "execution_count": 10,
   "metadata": {},
   "outputs": [
    {
     "data": {
      "image/png": "[encoded data removed]",
      "text/plain": [
       "<Figure size 1440x1080 with 9 Axes>"
      ]
     },
     "metadata": {},
     "output_type": "display_data"
    }
   ],
   "source": [
    "%matplotlib inline \n",
    "#magic function to plot and store the figure in the notebook \n",
    "import matplotlib.pyplot as plt \n",
    "plt.style.use('dark_background')\n",
    "data.hist(bins = 50,figsize=(20,15))\n",
    "plt.show()"
   ]
  },
  {
   "cell_type": "markdown",
   "metadata": {},
   "source": [
    "\n",
    "#### Observations\n",
    "\n",
    "    1. The median_income is not expressed in dollars and the data is capped\n",
    "    2. Similarly the median_age and also the median_house_value is capped at \n",
    "        a.since Median_house_value is our target variable we need to find out why this is capped? \n",
    "If we need to model including the median_house_value beyond 500k.\n",
    "    \n",
    "    collect the proper labels for which the values were capped\n",
    "    remove the district from training set and test set for which the house values beyond 500,000 were capped\n",
    "\n",
    "--\n",
    "\n",
    "    3.These attributes are of different scale, we need to perform feature scaling to bring them in the same scale\n",
    "    4.Since the histograms are tail heavy we need to bring them to a normal distribution in order for the model to detect the patterns. "
   ]
  },
  {
   "cell_type": "markdown",
   "metadata": {},
   "source": [
    "###### Data Snooping Bias \n",
    "\n",
    "When we split the training set to test set, we shouldn't look at the test set data as we might detect certain pattern and might be biased to that. \n",
    "\n",
    "###### Sampling Bias\n",
    "\n",
    "When the sample size is not too large, we should be aware of the sampling bias. The sample chosen should representive of the population. \n",
    "\n",
    "###### Stratified sampling\n",
    "\n",
    "The training data is divided into subgroups and right numbers are sampled across the 2 groups. \n",
    "the right number of instances is sampled from each stratum to guarantee that the\n",
    "test set is representative of the overall population."
   ]
  },
  {
   "cell_type": "code",
   "execution_count": 11,
   "metadata": {},
   "outputs": [],
   "source": [
    "# scikit learn has a train_test_split function which split the training set and test set\n",
    "from sklearn.model_selection import train_test_split\n",
    "train_set, test_set = train_test_split(data,test_size=0.2,random_state = 42)"
   ]
  },
  {
   "cell_type": "markdown",
   "metadata": {},
   "source": [
    "##### Pandas cut function \n",
    "Used in order to convert continuous variable into groups or ranges \n",
    "Bin values into discrete intervals\n",
    "##### Numpy infy function\n",
    "Numpy.inf gives the positive infinity.\n",
    "\n"
   ]
  },
  {
   "cell_type": "code",
   "execution_count": 12,
   "metadata": {},
   "outputs": [],
   "source": [
    "import numpy as np\n",
    "# converting the continuous variable to a categorical variable\n",
    "# We use this information to get the stratified sampling. \n",
    "data['income_cat'] = pd.cut(data['median_income'],\n",
    "                     bins = [0.,1.5,3.0,4.5,6.,np.inf],\n",
    "                     labels = [1,2,3,4,5])"
   ]
  },
  {
   "cell_type": "code",
   "execution_count": 13,
   "metadata": {},
   "outputs": [
    {
     "data": {
      "image/png": "[encoded data removed]",
      "text/plain": [
       "<Figure size 432x288 with 1 Axes>"
      ]
     },
     "metadata": {
      "needs_background": "dark"
     },
     "output_type": "display_data"
    }
   ],
   "source": [
    "data['income_cat'].hist()\n",
    "plt.show()"
   ]
  },
  {
   "cell_type": "code",
   "execution_count": 14,
   "metadata": {},
   "outputs": [],
   "source": [
    "from sklearn.model_selection import StratifiedShuffleSplit\n",
    "strasplit = StratifiedShuffleSplit(n_splits=1,test_size=0.2,random_state=42)\n",
    "for train_index, test_index in strasplit.split(data,data['income_cat']):\n",
    "    strain_set = data.iloc[train_index]\n",
    "    stest_set = data.iloc[test_index]"
   ]
  },
  {
   "cell_type": "code",
   "execution_count": 15,
   "metadata": {},
   "outputs": [
    {
     "data": {
      "text/plain": [
       "3    0.350594\n",
       "2    0.318859\n",
       "4    0.176296\n",
       "5    0.114402\n",
       "1    0.039850\n",
       "Name: income_cat, dtype: float64"
      ]
     },
     "execution_count": 15,
     "metadata": {},
     "output_type": "execute_result"
    }
   ],
   "source": [
    "strain_set['income_cat'].value_counts() / len(strain_set)"
   ]
  },
  {
   "cell_type": "code",
   "execution_count": 16,
   "metadata": {},
   "outputs": [],
   "source": [
    "data.drop(labels='income_cat',axis=1,inplace=True) #drop the column income_cat \n",
    "# inplace=False by default will return None and not perform the operation. \n",
    "# the console will display the dataframe without the column. In order to apply the drop inplace = True"
   ]
  },
  {
   "cell_type": "code",
   "execution_count": 17,
   "metadata": {},
   "outputs": [
    {
     "name": "stdout",
     "output_type": "stream",
     "text": [
      "<class 'pandas.core.frame.DataFrame'>\n",
      "RangeIndex: 20640 entries, 0 to 20639\n",
      "Data columns (total 10 columns):\n",
      "longitude             20640 non-null float64\n",
      "latitude              20640 non-null float64\n",
      "housing_median_age    20640 non-null float64\n",
      "total_rooms           20640 non-null float64\n",
      "total_bedrooms        20433 non-null float64\n",
      "population            20640 non-null float64\n",
      "households            20640 non-null float64\n",
      "median_income         20640 non-null float64\n",
      "median_house_value    20640 non-null float64\n",
      "ocean_proximity       20640 non-null object\n",
      "dtypes: float64(9), object(1)\n",
      "memory usage: 1.6+ MB\n"
     ]
    }
   ],
   "source": [
    "data.info()"
   ]
  },
  {
   "cell_type": "markdown",
   "metadata": {},
   "source": [
    "#### Exploratory Data Analysis"
   ]
  },
  {
   "cell_type": "code",
   "execution_count": 18,
   "metadata": {},
   "outputs": [],
   "source": [
    "# Analysing the location data with longititude and Latitude \n",
    "data = strain_set.copy() #taking the copy of the training data "
   ]
  },
  {
   "cell_type": "code",
   "execution_count": 19,
   "metadata": {},
   "outputs": [
    {
     "data": {
      "text/html": [
       "<div>\n",
       "<style scoped>\n",
       "    .dataframe tbody tr th:only-of-type {\n",
       "        vertical-align: middle;\n",
       "    }\n",
       "\n",
       "    .dataframe tbody tr th {\n",
       "        vertical-align: top;\n",
       "    }\n",
       "\n",
       "    .dataframe thead th {\n",
       "        text-align: right;\n",
       "    }\n",
       "</style>\n",
       "<table border=\"1\" class=\"dataframe\">\n",
       "  <thead>\n",
       "    <tr style=\"text-align: right;\">\n",
       "      <th></th>\n",
       "      <th>longitude</th>\n",
       "      <th>latitude</th>\n",
       "      <th>housing_median_age</th>\n",
       "      <th>total_rooms</th>\n",
       "      <th>total_bedrooms</th>\n",
       "      <th>population</th>\n",
       "      <th>households</th>\n",
       "      <th>median_income</th>\n",
       "      <th>median_house_value</th>\n",
       "      <th>ocean_proximity</th>\n",
       "      <th>income_cat</th>\n",
       "    </tr>\n",
       "  </thead>\n",
       "  <tbody>\n",
       "    <tr>\n",
       "      <th>17606</th>\n",
       "      <td>-121.89</td>\n",
       "      <td>37.29</td>\n",
       "      <td>38.0</td>\n",
       "      <td>1568.0</td>\n",
       "      <td>351.0</td>\n",
       "      <td>710.0</td>\n",
       "      <td>339.0</td>\n",
       "      <td>2.7042</td>\n",
       "      <td>286600.0</td>\n",
       "      <td>&lt;1H OCEAN</td>\n",
       "      <td>2</td>\n",
       "    </tr>\n",
       "    <tr>\n",
       "      <th>18632</th>\n",
       "      <td>-121.93</td>\n",
       "      <td>37.05</td>\n",
       "      <td>14.0</td>\n",
       "      <td>679.0</td>\n",
       "      <td>108.0</td>\n",
       "      <td>306.0</td>\n",
       "      <td>113.0</td>\n",
       "      <td>6.4214</td>\n",
       "      <td>340600.0</td>\n",
       "      <td>&lt;1H OCEAN</td>\n",
       "      <td>5</td>\n",
       "    </tr>\n",
       "    <tr>\n",
       "      <th>14650</th>\n",
       "      <td>-117.20</td>\n",
       "      <td>32.77</td>\n",
       "      <td>31.0</td>\n",
       "      <td>1952.0</td>\n",
       "      <td>471.0</td>\n",
       "      <td>936.0</td>\n",
       "      <td>462.0</td>\n",
       "      <td>2.8621</td>\n",
       "      <td>196900.0</td>\n",
       "      <td>NEAR OCEAN</td>\n",
       "      <td>2</td>\n",
       "    </tr>\n",
       "    <tr>\n",
       "      <th>3230</th>\n",
       "      <td>-119.61</td>\n",
       "      <td>36.31</td>\n",
       "      <td>25.0</td>\n",
       "      <td>1847.0</td>\n",
       "      <td>371.0</td>\n",
       "      <td>1460.0</td>\n",
       "      <td>353.0</td>\n",
       "      <td>1.8839</td>\n",
       "      <td>46300.0</td>\n",
       "      <td>INLAND</td>\n",
       "      <td>2</td>\n",
       "    </tr>\n",
       "    <tr>\n",
       "      <th>3555</th>\n",
       "      <td>-118.59</td>\n",
       "      <td>34.23</td>\n",
       "      <td>17.0</td>\n",
       "      <td>6592.0</td>\n",
       "      <td>1525.0</td>\n",
       "      <td>4459.0</td>\n",
       "      <td>1463.0</td>\n",
       "      <td>3.0347</td>\n",
       "      <td>254500.0</td>\n",
       "      <td>&lt;1H OCEAN</td>\n",
       "      <td>3</td>\n",
       "    </tr>\n",
       "  </tbody>\n",
       "</table>\n",
       "</div>"
      ],
      "text/plain": [
       "       longitude  latitude  housing_median_age  total_rooms  total_bedrooms  \\\n",
       "17606    -121.89     37.29                38.0       1568.0           351.0   \n",
       "18632    -121.93     37.05                14.0        679.0           108.0   \n",
       "14650    -117.20     32.77                31.0       1952.0           471.0   \n",
       "3230     -119.61     36.31                25.0       1847.0           371.0   \n",
       "3555     -118.59     34.23                17.0       6592.0          1525.0   \n",
       "\n",
       "       population  households  median_income  median_house_value  \\\n",
       "17606       710.0       339.0         2.7042            286600.0   \n",
       "18632       306.0       113.0         6.4214            340600.0   \n",
       "14650       936.0       462.0         2.8621            196900.0   \n",
       "3230       1460.0       353.0         1.8839             46300.0   \n",
       "3555       4459.0      1463.0         3.0347            254500.0   \n",
       "\n",
       "      ocean_proximity income_cat  \n",
       "17606       <1H OCEAN          2  \n",
       "18632       <1H OCEAN          5  \n",
       "14650      NEAR OCEAN          2  \n",
       "3230           INLAND          2  \n",
       "3555        <1H OCEAN          3  "
      ]
     },
     "execution_count": 19,
     "metadata": {},
     "output_type": "execute_result"
    }
   ],
   "source": [
    "data.head()"
   ]
  },
  {
   "cell_type": "code",
   "execution_count": 20,
   "metadata": {},
   "outputs": [
    {
     "data": {
      "image/png": "[encoded data removed]",
      "text/plain": [
       "<Figure size 432x288 with 1 Axes>"
      ]
     },
     "metadata": {
      "needs_background": "dark"
     },
     "output_type": "display_data"
    }
   ],
   "source": [
    "data.plot(kind='scatter',x='longitude',y='latitude')\n",
    "plt.show()"
   ]
  },
  {
   "cell_type": "code",
   "execution_count": 21,
   "metadata": {},
   "outputs": [
    {
     "data": {
      "image/png": "[encoded data removed]",
      "text/plain": [
       "<Figure size 432x288 with 1 Axes>"
      ]
     },
     "metadata": {
      "needs_background": "dark"
     },
     "output_type": "display_data"
    }
   ],
   "source": [
    "data.plot(kind='scatter',x='longitude',y='latitude',alpha=0.2)\n",
    "plt.show()"
   ]
  },
  {
   "cell_type": "code",
   "execution_count": 22,
   "metadata": {},
   "outputs": [
    {
     "data": {
      "text/plain": [
       "<matplotlib.legend.Legend at 0x1d40c9cdc18>"
      ]
     },
     "execution_count": 22,
     "metadata": {},
     "output_type": "execute_result"
    },
    {
     "data": {
      "image/png": "[encoded data removed]",
      "text/plain": [
       "<Figure size 720x504 with 2 Axes>"
      ]
     },
     "metadata": {
      "needs_background": "dark"
     },
     "output_type": "display_data"
    }
   ],
   "source": [
    "data.plot(kind='scatter',x='longitude',y='latitude',alpha=0.5,\n",
    "         s=data['population']/100,label='population',figsize=(10,7),\n",
    "         c='median_house_value',cmap=plt.get_cmap('jet'),colorbar=True,sharex=False)\n",
    "plt.legend()"
   ]
  },
  {
   "cell_type": "markdown",
   "metadata": {},
   "source": [
    "#### Looking for Correlations in the data "
   ]
  },
  {
   "cell_type": "code",
   "execution_count": 23,
   "metadata": {},
   "outputs": [],
   "source": [
    "corr_matrix = data.corr() "
   ]
  },
  {
   "cell_type": "code",
   "execution_count": 24,
   "metadata": {},
   "outputs": [
    {
     "data": {
      "text/plain": [
       "median_house_value    1.000000\n",
       "median_income         0.687160\n",
       "total_rooms           0.135097\n",
       "housing_median_age    0.114110\n",
       "households            0.064506\n",
       "total_bedrooms        0.047689\n",
       "population           -0.026920\n",
       "longitude            -0.047432\n",
       "latitude             -0.142724\n",
       "Name: median_house_value, dtype: float64"
      ]
     },
     "execution_count": 24,
     "metadata": {},
     "output_type": "execute_result"
    }
   ],
   "source": [
    "corr_matrix['median_house_value'].sort_values(ascending=False)"
   ]
  },
  {
   "cell_type": "markdown",
   "metadata": {},
   "source": [
    "    there is a positive correlation between median house value and median income. \n",
    "    there is a slight negative correlation between latitude and the house pricing. \n",
    "\n",
    "note: correlation only gives a linear relationship about the data. Non linear relationship is not represented in correlation.\n",
    "\n",
    "Another way is to compute the scatter_matrix from pandas function to check for correlations "
   ]
  },
  {
   "cell_type": "code",
   "execution_count": 25,
   "metadata": {},
   "outputs": [
    {
     "data": {
      "image/png": "[encoded data removed]",
      "text/plain": [
       "<Figure size 864x576 with 16 Axes>"
      ]
     },
     "metadata": {
      "needs_background": "dark"
     },
     "output_type": "display_data"
    }
   ],
   "source": [
    "from pandas.plotting import scatter_matrix\n",
    "attributes = [\"median_house_value\", \"median_income\", \"total_rooms\",\n",
    "\"housing_median_age\"]\n",
    "scatter_matrix(data[attributes],figsize=(12,8))\n",
    "plt.show()\n"
   ]
  },
  {
   "cell_type": "markdown",
   "metadata": {},
   "source": [
    "Looking at the correlation between median income and medain housing value "
   ]
  },
  {
   "cell_type": "code",
   "execution_count": 26,
   "metadata": {},
   "outputs": [
    {
     "data": {
      "image/png": "[encoded data removed]",
      "text/plain": [
       "<Figure size 720x504 with 1 Axes>"
      ]
     },
     "metadata": {
      "needs_background": "dark"
     },
     "output_type": "display_data"
    }
   ],
   "source": [
    "data.plot(kind='scatter',y='median_house_value',x='median_income',figsize=(10,7))\n",
    "plt.show()\n",
    "# median income versus median house value "
   ]
  },
  {
   "cell_type": "raw",
   "metadata": {},
   "source": [
    "There correlation is strong and there is an upward trend. \n",
    "there data capping at $500,000 is visible from the above graph and similar patterns are visible at $450,000 and $350,000"
   ]
  },
  {
   "cell_type": "code",
   "execution_count": 27,
   "metadata": {},
   "outputs": [
    {
     "data": {
      "text/html": [
       "<div>\n",
       "<style scoped>\n",
       "    .dataframe tbody tr th:only-of-type {\n",
       "        vertical-align: middle;\n",
       "    }\n",
       "\n",
       "    .dataframe tbody tr th {\n",
       "        vertical-align: top;\n",
       "    }\n",
       "\n",
       "    .dataframe thead th {\n",
       "        text-align: right;\n",
       "    }\n",
       "</style>\n",
       "<table border=\"1\" class=\"dataframe\">\n",
       "  <thead>\n",
       "    <tr style=\"text-align: right;\">\n",
       "      <th></th>\n",
       "      <th>longitude</th>\n",
       "      <th>latitude</th>\n",
       "      <th>housing_median_age</th>\n",
       "      <th>total_rooms</th>\n",
       "      <th>total_bedrooms</th>\n",
       "      <th>population</th>\n",
       "      <th>households</th>\n",
       "      <th>median_income</th>\n",
       "      <th>median_house_value</th>\n",
       "      <th>ocean_proximity</th>\n",
       "      <th>income_cat</th>\n",
       "    </tr>\n",
       "  </thead>\n",
       "  <tbody>\n",
       "    <tr>\n",
       "      <th>17606</th>\n",
       "      <td>-121.89</td>\n",
       "      <td>37.29</td>\n",
       "      <td>38.0</td>\n",
       "      <td>1568.0</td>\n",
       "      <td>351.0</td>\n",
       "      <td>710.0</td>\n",
       "      <td>339.0</td>\n",
       "      <td>2.7042</td>\n",
       "      <td>286600.0</td>\n",
       "      <td>&lt;1H OCEAN</td>\n",
       "      <td>2</td>\n",
       "    </tr>\n",
       "    <tr>\n",
       "      <th>18632</th>\n",
       "      <td>-121.93</td>\n",
       "      <td>37.05</td>\n",
       "      <td>14.0</td>\n",
       "      <td>679.0</td>\n",
       "      <td>108.0</td>\n",
       "      <td>306.0</td>\n",
       "      <td>113.0</td>\n",
       "      <td>6.4214</td>\n",
       "      <td>340600.0</td>\n",
       "      <td>&lt;1H OCEAN</td>\n",
       "      <td>5</td>\n",
       "    </tr>\n",
       "    <tr>\n",
       "      <th>14650</th>\n",
       "      <td>-117.20</td>\n",
       "      <td>32.77</td>\n",
       "      <td>31.0</td>\n",
       "      <td>1952.0</td>\n",
       "      <td>471.0</td>\n",
       "      <td>936.0</td>\n",
       "      <td>462.0</td>\n",
       "      <td>2.8621</td>\n",
       "      <td>196900.0</td>\n",
       "      <td>NEAR OCEAN</td>\n",
       "      <td>2</td>\n",
       "    </tr>\n",
       "    <tr>\n",
       "      <th>3230</th>\n",
       "      <td>-119.61</td>\n",
       "      <td>36.31</td>\n",
       "      <td>25.0</td>\n",
       "      <td>1847.0</td>\n",
       "      <td>371.0</td>\n",
       "      <td>1460.0</td>\n",
       "      <td>353.0</td>\n",
       "      <td>1.8839</td>\n",
       "      <td>46300.0</td>\n",
       "      <td>INLAND</td>\n",
       "      <td>2</td>\n",
       "    </tr>\n",
       "    <tr>\n",
       "      <th>3555</th>\n",
       "      <td>-118.59</td>\n",
       "      <td>34.23</td>\n",
       "      <td>17.0</td>\n",
       "      <td>6592.0</td>\n",
       "      <td>1525.0</td>\n",
       "      <td>4459.0</td>\n",
       "      <td>1463.0</td>\n",
       "      <td>3.0347</td>\n",
       "      <td>254500.0</td>\n",
       "      <td>&lt;1H OCEAN</td>\n",
       "      <td>3</td>\n",
       "    </tr>\n",
       "  </tbody>\n",
       "</table>\n",
       "</div>"
      ],
      "text/plain": [
       "       longitude  latitude  housing_median_age  total_rooms  total_bedrooms  \\\n",
       "17606    -121.89     37.29                38.0       1568.0           351.0   \n",
       "18632    -121.93     37.05                14.0        679.0           108.0   \n",
       "14650    -117.20     32.77                31.0       1952.0           471.0   \n",
       "3230     -119.61     36.31                25.0       1847.0           371.0   \n",
       "3555     -118.59     34.23                17.0       6592.0          1525.0   \n",
       "\n",
       "       population  households  median_income  median_house_value  \\\n",
       "17606       710.0       339.0         2.7042            286600.0   \n",
       "18632       306.0       113.0         6.4214            340600.0   \n",
       "14650       936.0       462.0         2.8621            196900.0   \n",
       "3230       1460.0       353.0         1.8839             46300.0   \n",
       "3555       4459.0      1463.0         3.0347            254500.0   \n",
       "\n",
       "      ocean_proximity income_cat  \n",
       "17606       <1H OCEAN          2  \n",
       "18632       <1H OCEAN          5  \n",
       "14650      NEAR OCEAN          2  \n",
       "3230           INLAND          2  \n",
       "3555        <1H OCEAN          3  "
      ]
     },
     "execution_count": 27,
     "metadata": {},
     "output_type": "execute_result"
    }
   ],
   "source": [
    "data.head()"
   ]
  },
  {
   "cell_type": "code",
   "execution_count": 28,
   "metadata": {},
   "outputs": [],
   "source": [
    "data['rooms_per_household'] = data['total_rooms']/data['households']\n",
    "data['bedroom_per_room'] = data['total_bedrooms']/data['total_rooms']\n",
    "data['population_per_household'] = data['population']/data['households']"
   ]
  },
  {
   "cell_type": "code",
   "execution_count": 29,
   "metadata": {},
   "outputs": [
    {
     "data": {
      "text/html": [
       "<div>\n",
       "<style scoped>\n",
       "    .dataframe tbody tr th:only-of-type {\n",
       "        vertical-align: middle;\n",
       "    }\n",
       "\n",
       "    .dataframe tbody tr th {\n",
       "        vertical-align: top;\n",
       "    }\n",
       "\n",
       "    .dataframe thead th {\n",
       "        text-align: right;\n",
       "    }\n",
       "</style>\n",
       "<table border=\"1\" class=\"dataframe\">\n",
       "  <thead>\n",
       "    <tr style=\"text-align: right;\">\n",
       "      <th></th>\n",
       "      <th>longitude</th>\n",
       "      <th>latitude</th>\n",
       "      <th>housing_median_age</th>\n",
       "      <th>total_rooms</th>\n",
       "      <th>total_bedrooms</th>\n",
       "      <th>population</th>\n",
       "      <th>households</th>\n",
       "      <th>median_income</th>\n",
       "      <th>median_house_value</th>\n",
       "      <th>ocean_proximity</th>\n",
       "      <th>income_cat</th>\n",
       "      <th>rooms_per_household</th>\n",
       "      <th>bedroom_per_room</th>\n",
       "      <th>population_per_household</th>\n",
       "    </tr>\n",
       "  </thead>\n",
       "  <tbody>\n",
       "    <tr>\n",
       "      <th>17606</th>\n",
       "      <td>-121.89</td>\n",
       "      <td>37.29</td>\n",
       "      <td>38.0</td>\n",
       "      <td>1568.0</td>\n",
       "      <td>351.0</td>\n",
       "      <td>710.0</td>\n",
       "      <td>339.0</td>\n",
       "      <td>2.7042</td>\n",
       "      <td>286600.0</td>\n",
       "      <td>&lt;1H OCEAN</td>\n",
       "      <td>2</td>\n",
       "      <td>4.625369</td>\n",
       "      <td>0.223852</td>\n",
       "      <td>2.094395</td>\n",
       "    </tr>\n",
       "    <tr>\n",
       "      <th>18632</th>\n",
       "      <td>-121.93</td>\n",
       "      <td>37.05</td>\n",
       "      <td>14.0</td>\n",
       "      <td>679.0</td>\n",
       "      <td>108.0</td>\n",
       "      <td>306.0</td>\n",
       "      <td>113.0</td>\n",
       "      <td>6.4214</td>\n",
       "      <td>340600.0</td>\n",
       "      <td>&lt;1H OCEAN</td>\n",
       "      <td>5</td>\n",
       "      <td>6.008850</td>\n",
       "      <td>0.159057</td>\n",
       "      <td>2.707965</td>\n",
       "    </tr>\n",
       "    <tr>\n",
       "      <th>14650</th>\n",
       "      <td>-117.20</td>\n",
       "      <td>32.77</td>\n",
       "      <td>31.0</td>\n",
       "      <td>1952.0</td>\n",
       "      <td>471.0</td>\n",
       "      <td>936.0</td>\n",
       "      <td>462.0</td>\n",
       "      <td>2.8621</td>\n",
       "      <td>196900.0</td>\n",
       "      <td>NEAR OCEAN</td>\n",
       "      <td>2</td>\n",
       "      <td>4.225108</td>\n",
       "      <td>0.241291</td>\n",
       "      <td>2.025974</td>\n",
       "    </tr>\n",
       "    <tr>\n",
       "      <th>3230</th>\n",
       "      <td>-119.61</td>\n",
       "      <td>36.31</td>\n",
       "      <td>25.0</td>\n",
       "      <td>1847.0</td>\n",
       "      <td>371.0</td>\n",
       "      <td>1460.0</td>\n",
       "      <td>353.0</td>\n",
       "      <td>1.8839</td>\n",
       "      <td>46300.0</td>\n",
       "      <td>INLAND</td>\n",
       "      <td>2</td>\n",
       "      <td>5.232295</td>\n",
       "      <td>0.200866</td>\n",
       "      <td>4.135977</td>\n",
       "    </tr>\n",
       "    <tr>\n",
       "      <th>3555</th>\n",
       "      <td>-118.59</td>\n",
       "      <td>34.23</td>\n",
       "      <td>17.0</td>\n",
       "      <td>6592.0</td>\n",
       "      <td>1525.0</td>\n",
       "      <td>4459.0</td>\n",
       "      <td>1463.0</td>\n",
       "      <td>3.0347</td>\n",
       "      <td>254500.0</td>\n",
       "      <td>&lt;1H OCEAN</td>\n",
       "      <td>3</td>\n",
       "      <td>4.505810</td>\n",
       "      <td>0.231341</td>\n",
       "      <td>3.047847</td>\n",
       "    </tr>\n",
       "  </tbody>\n",
       "</table>\n",
       "</div>"
      ],
      "text/plain": [
       "       longitude  latitude  housing_median_age  total_rooms  total_bedrooms  \\\n",
       "17606    -121.89     37.29                38.0       1568.0           351.0   \n",
       "18632    -121.93     37.05                14.0        679.0           108.0   \n",
       "14650    -117.20     32.77                31.0       1952.0           471.0   \n",
       "3230     -119.61     36.31                25.0       1847.0           371.0   \n",
       "3555     -118.59     34.23                17.0       6592.0          1525.0   \n",
       "\n",
       "       population  households  median_income  median_house_value  \\\n",
       "17606       710.0       339.0         2.7042            286600.0   \n",
       "18632       306.0       113.0         6.4214            340600.0   \n",
       "14650       936.0       462.0         2.8621            196900.0   \n",
       "3230       1460.0       353.0         1.8839             46300.0   \n",
       "3555       4459.0      1463.0         3.0347            254500.0   \n",
       "\n",
       "      ocean_proximity income_cat  rooms_per_household  bedroom_per_room  \\\n",
       "17606       <1H OCEAN          2             4.625369          0.223852   \n",
       "18632       <1H OCEAN          5             6.008850          0.159057   \n",
       "14650      NEAR OCEAN          2             4.225108          0.241291   \n",
       "3230           INLAND          2             5.232295          0.200866   \n",
       "3555        <1H OCEAN          3             4.505810          0.231341   \n",
       "\n",
       "       population_per_household  \n",
       "17606                  2.094395  \n",
       "18632                  2.707965  \n",
       "14650                  2.025974  \n",
       "3230                   4.135977  \n",
       "3555                   3.047847  "
      ]
     },
     "execution_count": 29,
     "metadata": {},
     "output_type": "execute_result"
    }
   ],
   "source": [
    "data.head()"
   ]
  },
  {
   "cell_type": "code",
   "execution_count": 30,
   "metadata": {},
   "outputs": [
    {
     "data": {
      "text/plain": [
       "median_house_value          1.000000\n",
       "median_income               0.687160\n",
       "rooms_per_household         0.146285\n",
       "total_rooms                 0.135097\n",
       "housing_median_age          0.114110\n",
       "households                  0.064506\n",
       "total_bedrooms              0.047689\n",
       "population_per_household   -0.021985\n",
       "population                 -0.026920\n",
       "longitude                  -0.047432\n",
       "latitude                   -0.142724\n",
       "bedroom_per_room           -0.259984\n",
       "Name: median_house_value, dtype: float64"
      ]
     },
     "execution_count": 30,
     "metadata": {},
     "output_type": "execute_result"
    }
   ],
   "source": [
    "corr_matrix = data.corr()\n",
    "corr_matrix[\"median_house_value\"].sort_values(ascending=False)"
   ]
  },
  {
   "cell_type": "code",
   "execution_count": 31,
   "metadata": {},
   "outputs": [
    {
     "data": {
      "text/html": [
       "<div>\n",
       "<style scoped>\n",
       "    .dataframe tbody tr th:only-of-type {\n",
       "        vertical-align: middle;\n",
       "    }\n",
       "\n",
       "    .dataframe tbody tr th {\n",
       "        vertical-align: top;\n",
       "    }\n",
       "\n",
       "    .dataframe thead th {\n",
       "        text-align: right;\n",
       "    }\n",
       "</style>\n",
       "<table border=\"1\" class=\"dataframe\">\n",
       "  <thead>\n",
       "    <tr style=\"text-align: right;\">\n",
       "      <th></th>\n",
       "      <th>longitude</th>\n",
       "      <th>latitude</th>\n",
       "      <th>housing_median_age</th>\n",
       "      <th>total_rooms</th>\n",
       "      <th>total_bedrooms</th>\n",
       "      <th>population</th>\n",
       "      <th>households</th>\n",
       "      <th>median_income</th>\n",
       "      <th>median_house_value</th>\n",
       "      <th>rooms_per_household</th>\n",
       "      <th>bedroom_per_room</th>\n",
       "      <th>population_per_household</th>\n",
       "    </tr>\n",
       "  </thead>\n",
       "  <tbody>\n",
       "    <tr>\n",
       "      <th>longitude</th>\n",
       "      <td>1.000000</td>\n",
       "      <td>-0.924478</td>\n",
       "      <td>-0.105848</td>\n",
       "      <td>0.048871</td>\n",
       "      <td>0.076598</td>\n",
       "      <td>0.108030</td>\n",
       "      <td>0.063070</td>\n",
       "      <td>-0.019583</td>\n",
       "      <td>-0.047432</td>\n",
       "      <td>-0.028345</td>\n",
       "      <td>0.095603</td>\n",
       "      <td>-0.000410</td>\n",
       "    </tr>\n",
       "    <tr>\n",
       "      <th>latitude</th>\n",
       "      <td>-0.924478</td>\n",
       "      <td>1.000000</td>\n",
       "      <td>0.005766</td>\n",
       "      <td>-0.039184</td>\n",
       "      <td>-0.072419</td>\n",
       "      <td>-0.115222</td>\n",
       "      <td>-0.077647</td>\n",
       "      <td>-0.075205</td>\n",
       "      <td>-0.142724</td>\n",
       "      <td>0.107621</td>\n",
       "      <td>-0.116884</td>\n",
       "      <td>0.005420</td>\n",
       "    </tr>\n",
       "    <tr>\n",
       "      <th>housing_median_age</th>\n",
       "      <td>-0.105848</td>\n",
       "      <td>0.005766</td>\n",
       "      <td>1.000000</td>\n",
       "      <td>-0.364509</td>\n",
       "      <td>-0.325047</td>\n",
       "      <td>-0.298710</td>\n",
       "      <td>-0.306428</td>\n",
       "      <td>-0.111360</td>\n",
       "      <td>0.114110</td>\n",
       "      <td>-0.147186</td>\n",
       "      <td>0.136788</td>\n",
       "      <td>0.015031</td>\n",
       "    </tr>\n",
       "    <tr>\n",
       "      <th>total_rooms</th>\n",
       "      <td>0.048871</td>\n",
       "      <td>-0.039184</td>\n",
       "      <td>-0.364509</td>\n",
       "      <td>1.000000</td>\n",
       "      <td>0.929379</td>\n",
       "      <td>0.855109</td>\n",
       "      <td>0.918392</td>\n",
       "      <td>0.200087</td>\n",
       "      <td>0.135097</td>\n",
       "      <td>0.127519</td>\n",
       "      <td>-0.192606</td>\n",
       "      <td>-0.024810</td>\n",
       "    </tr>\n",
       "    <tr>\n",
       "      <th>total_bedrooms</th>\n",
       "      <td>0.076598</td>\n",
       "      <td>-0.072419</td>\n",
       "      <td>-0.325047</td>\n",
       "      <td>0.929379</td>\n",
       "      <td>1.000000</td>\n",
       "      <td>0.876320</td>\n",
       "      <td>0.980170</td>\n",
       "      <td>-0.009740</td>\n",
       "      <td>0.047689</td>\n",
       "      <td>0.000377</td>\n",
       "      <td>0.086960</td>\n",
       "      <td>-0.028370</td>\n",
       "    </tr>\n",
       "    <tr>\n",
       "      <th>population</th>\n",
       "      <td>0.108030</td>\n",
       "      <td>-0.115222</td>\n",
       "      <td>-0.298710</td>\n",
       "      <td>0.855109</td>\n",
       "      <td>0.876320</td>\n",
       "      <td>1.000000</td>\n",
       "      <td>0.904637</td>\n",
       "      <td>0.002380</td>\n",
       "      <td>-0.026920</td>\n",
       "      <td>-0.074692</td>\n",
       "      <td>0.037778</td>\n",
       "      <td>0.076225</td>\n",
       "    </tr>\n",
       "    <tr>\n",
       "      <th>households</th>\n",
       "      <td>0.063070</td>\n",
       "      <td>-0.077647</td>\n",
       "      <td>-0.306428</td>\n",
       "      <td>0.918392</td>\n",
       "      <td>0.980170</td>\n",
       "      <td>0.904637</td>\n",
       "      <td>1.000000</td>\n",
       "      <td>0.010781</td>\n",
       "      <td>0.064506</td>\n",
       "      <td>-0.083009</td>\n",
       "      <td>0.067162</td>\n",
       "      <td>-0.027416</td>\n",
       "    </tr>\n",
       "    <tr>\n",
       "      <th>median_income</th>\n",
       "      <td>-0.019583</td>\n",
       "      <td>-0.075205</td>\n",
       "      <td>-0.111360</td>\n",
       "      <td>0.200087</td>\n",
       "      <td>-0.009740</td>\n",
       "      <td>0.002380</td>\n",
       "      <td>0.010781</td>\n",
       "      <td>1.000000</td>\n",
       "      <td>0.687160</td>\n",
       "      <td>0.311563</td>\n",
       "      <td>-0.624674</td>\n",
       "      <td>0.021822</td>\n",
       "    </tr>\n",
       "    <tr>\n",
       "      <th>median_house_value</th>\n",
       "      <td>-0.047432</td>\n",
       "      <td>-0.142724</td>\n",
       "      <td>0.114110</td>\n",
       "      <td>0.135097</td>\n",
       "      <td>0.047689</td>\n",
       "      <td>-0.026920</td>\n",
       "      <td>0.064506</td>\n",
       "      <td>0.687160</td>\n",
       "      <td>1.000000</td>\n",
       "      <td>0.146285</td>\n",
       "      <td>-0.259984</td>\n",
       "      <td>-0.021985</td>\n",
       "    </tr>\n",
       "    <tr>\n",
       "      <th>rooms_per_household</th>\n",
       "      <td>-0.028345</td>\n",
       "      <td>0.107621</td>\n",
       "      <td>-0.147186</td>\n",
       "      <td>0.127519</td>\n",
       "      <td>0.000377</td>\n",
       "      <td>-0.074692</td>\n",
       "      <td>-0.083009</td>\n",
       "      <td>0.311563</td>\n",
       "      <td>0.146285</td>\n",
       "      <td>1.000000</td>\n",
       "      <td>-0.398546</td>\n",
       "      <td>-0.005314</td>\n",
       "    </tr>\n",
       "    <tr>\n",
       "      <th>bedroom_per_room</th>\n",
       "      <td>0.095603</td>\n",
       "      <td>-0.116884</td>\n",
       "      <td>0.136788</td>\n",
       "      <td>-0.192606</td>\n",
       "      <td>0.086960</td>\n",
       "      <td>0.037778</td>\n",
       "      <td>0.067162</td>\n",
       "      <td>-0.624674</td>\n",
       "      <td>-0.259984</td>\n",
       "      <td>-0.398546</td>\n",
       "      <td>1.000000</td>\n",
       "      <td>0.004279</td>\n",
       "    </tr>\n",
       "    <tr>\n",
       "      <th>population_per_household</th>\n",
       "      <td>-0.000410</td>\n",
       "      <td>0.005420</td>\n",
       "      <td>0.015031</td>\n",
       "      <td>-0.024810</td>\n",
       "      <td>-0.028370</td>\n",
       "      <td>0.076225</td>\n",
       "      <td>-0.027416</td>\n",
       "      <td>0.021822</td>\n",
       "      <td>-0.021985</td>\n",
       "      <td>-0.005314</td>\n",
       "      <td>0.004279</td>\n",
       "      <td>1.000000</td>\n",
       "    </tr>\n",
       "  </tbody>\n",
       "</table>\n",
       "</div>"
      ],
      "text/plain": [
       "                          longitude  latitude  housing_median_age  \\\n",
       "longitude                  1.000000 -0.924478           -0.105848   \n",
       "latitude                  -0.924478  1.000000            0.005766   \n",
       "housing_median_age        -0.105848  0.005766            1.000000   \n",
       "total_rooms                0.048871 -0.039184           -0.364509   \n",
       "total_bedrooms             0.076598 -0.072419           -0.325047   \n",
       "population                 0.108030 -0.115222           -0.298710   \n",
       "households                 0.063070 -0.077647           -0.306428   \n",
       "median_income             -0.019583 -0.075205           -0.111360   \n",
       "median_house_value        -0.047432 -0.142724            0.114110   \n",
       "rooms_per_household       -0.028345  0.107621           -0.147186   \n",
       "bedroom_per_room           0.095603 -0.116884            0.136788   \n",
       "population_per_household  -0.000410  0.005420            0.015031   \n",
       "\n",
       "                          total_rooms  total_bedrooms  population  households  \\\n",
       "longitude                    0.048871        0.076598    0.108030    0.063070   \n",
       "latitude                    -0.039184       -0.072419   -0.115222   -0.077647   \n",
       "housing_median_age          -0.364509       -0.325047   -0.298710   -0.306428   \n",
       "total_rooms                  1.000000        0.929379    0.855109    0.918392   \n",
       "total_bedrooms               0.929379        1.000000    0.876320    0.980170   \n",
       "population                   0.855109        0.876320    1.000000    0.904637   \n",
       "households                   0.918392        0.980170    0.904637    1.000000   \n",
       "median_income                0.200087       -0.009740    0.002380    0.010781   \n",
       "median_house_value           0.135097        0.047689   -0.026920    0.064506   \n",
       "rooms_per_household          0.127519        0.000377   -0.074692   -0.083009   \n",
       "bedroom_per_room            -0.192606        0.086960    0.037778    0.067162   \n",
       "population_per_household    -0.024810       -0.028370    0.076225   -0.027416   \n",
       "\n",
       "                          median_income  median_house_value  \\\n",
       "longitude                     -0.019583           -0.047432   \n",
       "latitude                      -0.075205           -0.142724   \n",
       "housing_median_age            -0.111360            0.114110   \n",
       "total_rooms                    0.200087            0.135097   \n",
       "total_bedrooms                -0.009740            0.047689   \n",
       "population                     0.002380           -0.026920   \n",
       "households                     0.010781            0.064506   \n",
       "median_income                  1.000000            0.687160   \n",
       "median_house_value             0.687160            1.000000   \n",
       "rooms_per_household            0.311563            0.146285   \n",
       "bedroom_per_room              -0.624674           -0.259984   \n",
       "population_per_household       0.021822           -0.021985   \n",
       "\n",
       "                          rooms_per_household  bedroom_per_room  \\\n",
       "longitude                           -0.028345          0.095603   \n",
       "latitude                             0.107621         -0.116884   \n",
       "housing_median_age                  -0.147186          0.136788   \n",
       "total_rooms                          0.127519         -0.192606   \n",
       "total_bedrooms                       0.000377          0.086960   \n",
       "population                          -0.074692          0.037778   \n",
       "households                          -0.083009          0.067162   \n",
       "median_income                        0.311563         -0.624674   \n",
       "median_house_value                   0.146285         -0.259984   \n",
       "rooms_per_household                  1.000000         -0.398546   \n",
       "bedroom_per_room                    -0.398546          1.000000   \n",
       "population_per_household            -0.005314          0.004279   \n",
       "\n",
       "                          population_per_household  \n",
       "longitude                                -0.000410  \n",
       "latitude                                  0.005420  \n",
       "housing_median_age                        0.015031  \n",
       "total_rooms                              -0.024810  \n",
       "total_bedrooms                           -0.028370  \n",
       "population                                0.076225  \n",
       "households                               -0.027416  \n",
       "median_income                             0.021822  \n",
       "median_house_value                       -0.021985  \n",
       "rooms_per_household                      -0.005314  \n",
       "bedroom_per_room                          0.004279  \n",
       "population_per_household                  1.000000  "
      ]
     },
     "execution_count": 31,
     "metadata": {},
     "output_type": "execute_result"
    }
   ],
   "source": [
    "corr_matrix"
   ]
  },
  {
   "cell_type": "markdown",
   "metadata": {},
   "source": [
    "Houses with lower bedroom / room has a negative correlation with the housing median price. \n",
    "lesser bedroom per room is expensive "
   ]
  },
  {
   "cell_type": "code",
   "execution_count": 32,
   "metadata": {},
   "outputs": [],
   "source": [
    "# drop here creates a copy of the strain_set without median house value and the income category\n",
    "data = strain_set.drop([\"median_house_value\",\"income_cat\"],axis=1)"
   ]
  },
  {
   "cell_type": "code",
   "execution_count": 33,
   "metadata": {},
   "outputs": [],
   "source": [
    "housing_value_label = strain_set['median_house_value'].copy()"
   ]
  },
  {
   "cell_type": "code",
   "execution_count": 34,
   "metadata": {},
   "outputs": [
    {
     "name": "stdout",
     "output_type": "stream",
     "text": [
      "<class 'pandas.core.frame.DataFrame'>\n",
      "Int64Index: 16512 entries, 17606 to 15775\n",
      "Data columns (total 9 columns):\n",
      "longitude             16512 non-null float64\n",
      "latitude              16512 non-null float64\n",
      "housing_median_age    16512 non-null float64\n",
      "total_rooms           16512 non-null float64\n",
      "total_bedrooms        16354 non-null float64\n",
      "population            16512 non-null float64\n",
      "households            16512 non-null float64\n",
      "median_income         16512 non-null float64\n",
      "ocean_proximity       16512 non-null object\n",
      "dtypes: float64(8), object(1)\n",
      "memory usage: 1.3+ MB\n"
     ]
    }
   ],
   "source": [
    "data.head()\n",
    "data.info()"
   ]
  },
  {
   "cell_type": "markdown",
   "metadata": {},
   "source": [
    "#### Data Cleaning \n",
    "The total bed rooms have missing values and needs to be fixed by\n",
    "\n",
    "    1.Remove the corresponding districts\n",
    "    2.Get rid of the whole attribute\n",
    "    3.Set value (zero, mean, median etc..) \n",
    "    \n"
   ]
  },
  {
   "cell_type": "markdown",
   "metadata": {},
   "source": [
    "Below methods like dropna, drop and fillna are used to \n",
    "\n",
    "    1.dropna (drops all the rows having missing values)\n",
    "    2.drop (completely removes the colum value or row value) depending on the axis\n",
    "    3.fillna (fills the data with strategy value used in the below case (median)"
   ]
  },
  {
   "cell_type": "code",
   "execution_count": 35,
   "metadata": {},
   "outputs": [],
   "source": [
    "# data.dropna(subset=['total_bedrooms']) #removes all the rows having missing values\n",
    "# data.drop('total_bedrooms',axis=1) # removes the entire column total_rooms\n",
    "# data['total_bedrooms'].fillna(data['total_bedrooms'].median(),inplace=True)"
   ]
  },
  {
   "cell_type": "code",
   "execution_count": 36,
   "metadata": {},
   "outputs": [
    {
     "data": {
      "text/plain": [
       "SimpleImputer(add_indicator=False, copy=True, fill_value=None,\n",
       "              missing_values=nan, strategy='median', verbose=0)"
      ]
     },
     "execution_count": 36,
     "metadata": {},
     "output_type": "execute_result"
    }
   ],
   "source": [
    "from sklearn.impute import SimpleImputer\n",
    "imputer = SimpleImputer(strategy='median')\n",
    "\n",
    "# dropping the ocean proximity as its not a numerical value \n",
    "data_num = data.drop('ocean_proximity',axis=1)\n",
    "\n",
    "imputer.fit(data_num)\n"
   ]
  },
  {
   "cell_type": "code",
   "execution_count": 37,
   "metadata": {},
   "outputs": [
    {
     "data": {
      "text/plain": [
       "array([-118.51  ,   34.26  ,   29.    , 2119.5   ,  433.    , 1164.    ,\n",
       "        408.    ,    3.5409])"
      ]
     },
     "execution_count": 37,
     "metadata": {},
     "output_type": "execute_result"
    }
   ],
   "source": [
    "imputer.statistics_ #median for each attribute is stored in the array list"
   ]
  },
  {
   "cell_type": "markdown",
   "metadata": {},
   "source": [
    "Its better to apply the imputer on all the numerical attributes, since we would not know if there will be any missing values in the future with the new dataset."
   ]
  },
  {
   "cell_type": "code",
   "execution_count": 38,
   "metadata": {},
   "outputs": [
    {
     "data": {
      "text/html": [
       "<div>\n",
       "<style scoped>\n",
       "    .dataframe tbody tr th:only-of-type {\n",
       "        vertical-align: middle;\n",
       "    }\n",
       "\n",
       "    .dataframe tbody tr th {\n",
       "        vertical-align: top;\n",
       "    }\n",
       "\n",
       "    .dataframe thead th {\n",
       "        text-align: right;\n",
       "    }\n",
       "</style>\n",
       "<table border=\"1\" class=\"dataframe\">\n",
       "  <thead>\n",
       "    <tr style=\"text-align: right;\">\n",
       "      <th></th>\n",
       "      <th>longitude</th>\n",
       "      <th>latitude</th>\n",
       "      <th>housing_median_age</th>\n",
       "      <th>total_rooms</th>\n",
       "      <th>total_bedrooms</th>\n",
       "      <th>population</th>\n",
       "      <th>households</th>\n",
       "      <th>median_income</th>\n",
       "    </tr>\n",
       "  </thead>\n",
       "  <tbody>\n",
       "    <tr>\n",
       "      <th>17606</th>\n",
       "      <td>-121.89</td>\n",
       "      <td>37.29</td>\n",
       "      <td>38.0</td>\n",
       "      <td>1568.0</td>\n",
       "      <td>351.0</td>\n",
       "      <td>710.0</td>\n",
       "      <td>339.0</td>\n",
       "      <td>2.7042</td>\n",
       "    </tr>\n",
       "    <tr>\n",
       "      <th>18632</th>\n",
       "      <td>-121.93</td>\n",
       "      <td>37.05</td>\n",
       "      <td>14.0</td>\n",
       "      <td>679.0</td>\n",
       "      <td>108.0</td>\n",
       "      <td>306.0</td>\n",
       "      <td>113.0</td>\n",
       "      <td>6.4214</td>\n",
       "    </tr>\n",
       "    <tr>\n",
       "      <th>14650</th>\n",
       "      <td>-117.20</td>\n",
       "      <td>32.77</td>\n",
       "      <td>31.0</td>\n",
       "      <td>1952.0</td>\n",
       "      <td>471.0</td>\n",
       "      <td>936.0</td>\n",
       "      <td>462.0</td>\n",
       "      <td>2.8621</td>\n",
       "    </tr>\n",
       "    <tr>\n",
       "      <th>3230</th>\n",
       "      <td>-119.61</td>\n",
       "      <td>36.31</td>\n",
       "      <td>25.0</td>\n",
       "      <td>1847.0</td>\n",
       "      <td>371.0</td>\n",
       "      <td>1460.0</td>\n",
       "      <td>353.0</td>\n",
       "      <td>1.8839</td>\n",
       "    </tr>\n",
       "    <tr>\n",
       "      <th>3555</th>\n",
       "      <td>-118.59</td>\n",
       "      <td>34.23</td>\n",
       "      <td>17.0</td>\n",
       "      <td>6592.0</td>\n",
       "      <td>1525.0</td>\n",
       "      <td>4459.0</td>\n",
       "      <td>1463.0</td>\n",
       "      <td>3.0347</td>\n",
       "    </tr>\n",
       "  </tbody>\n",
       "</table>\n",
       "</div>"
      ],
      "text/plain": [
       "       longitude  latitude  housing_median_age  total_rooms  total_bedrooms  \\\n",
       "17606    -121.89     37.29                38.0       1568.0           351.0   \n",
       "18632    -121.93     37.05                14.0        679.0           108.0   \n",
       "14650    -117.20     32.77                31.0       1952.0           471.0   \n",
       "3230     -119.61     36.31                25.0       1847.0           371.0   \n",
       "3555     -118.59     34.23                17.0       6592.0          1525.0   \n",
       "\n",
       "       population  households  median_income  \n",
       "17606       710.0       339.0         2.7042  \n",
       "18632       306.0       113.0         6.4214  \n",
       "14650       936.0       462.0         2.8621  \n",
       "3230       1460.0       353.0         1.8839  \n",
       "3555       4459.0      1463.0         3.0347  "
      ]
     },
     "execution_count": 38,
     "metadata": {},
     "output_type": "execute_result"
    }
   ],
   "source": [
    "data_num.head()"
   ]
  },
  {
   "cell_type": "code",
   "execution_count": 39,
   "metadata": {},
   "outputs": [
    {
     "data": {
      "text/html": [
       "<div>\n",
       "<style scoped>\n",
       "    .dataframe tbody tr th:only-of-type {\n",
       "        vertical-align: middle;\n",
       "    }\n",
       "\n",
       "    .dataframe tbody tr th {\n",
       "        vertical-align: top;\n",
       "    }\n",
       "\n",
       "    .dataframe thead th {\n",
       "        text-align: right;\n",
       "    }\n",
       "</style>\n",
       "<table border=\"1\" class=\"dataframe\">\n",
       "  <thead>\n",
       "    <tr style=\"text-align: right;\">\n",
       "      <th></th>\n",
       "      <th>longitude</th>\n",
       "      <th>latitude</th>\n",
       "      <th>housing_median_age</th>\n",
       "      <th>total_rooms</th>\n",
       "      <th>total_bedrooms</th>\n",
       "      <th>population</th>\n",
       "      <th>households</th>\n",
       "      <th>median_income</th>\n",
       "    </tr>\n",
       "  </thead>\n",
       "  <tbody>\n",
       "    <tr>\n",
       "      <th>4629</th>\n",
       "      <td>-118.30</td>\n",
       "      <td>34.07</td>\n",
       "      <td>18.0</td>\n",
       "      <td>3759.0</td>\n",
       "      <td>NaN</td>\n",
       "      <td>3296.0</td>\n",
       "      <td>1462.0</td>\n",
       "      <td>2.2708</td>\n",
       "    </tr>\n",
       "    <tr>\n",
       "      <th>6068</th>\n",
       "      <td>-117.86</td>\n",
       "      <td>34.01</td>\n",
       "      <td>16.0</td>\n",
       "      <td>4632.0</td>\n",
       "      <td>NaN</td>\n",
       "      <td>3038.0</td>\n",
       "      <td>727.0</td>\n",
       "      <td>5.1762</td>\n",
       "    </tr>\n",
       "    <tr>\n",
       "      <th>17923</th>\n",
       "      <td>-121.97</td>\n",
       "      <td>37.35</td>\n",
       "      <td>30.0</td>\n",
       "      <td>1955.0</td>\n",
       "      <td>NaN</td>\n",
       "      <td>999.0</td>\n",
       "      <td>386.0</td>\n",
       "      <td>4.6328</td>\n",
       "    </tr>\n",
       "    <tr>\n",
       "      <th>13656</th>\n",
       "      <td>-117.30</td>\n",
       "      <td>34.05</td>\n",
       "      <td>6.0</td>\n",
       "      <td>2155.0</td>\n",
       "      <td>NaN</td>\n",
       "      <td>1039.0</td>\n",
       "      <td>391.0</td>\n",
       "      <td>1.6675</td>\n",
       "    </tr>\n",
       "    <tr>\n",
       "      <th>19252</th>\n",
       "      <td>-122.79</td>\n",
       "      <td>38.48</td>\n",
       "      <td>7.0</td>\n",
       "      <td>6837.0</td>\n",
       "      <td>NaN</td>\n",
       "      <td>3468.0</td>\n",
       "      <td>1405.0</td>\n",
       "      <td>3.1662</td>\n",
       "    </tr>\n",
       "    <tr>\n",
       "      <th>20267</th>\n",
       "      <td>-119.19</td>\n",
       "      <td>34.20</td>\n",
       "      <td>18.0</td>\n",
       "      <td>3620.0</td>\n",
       "      <td>NaN</td>\n",
       "      <td>3171.0</td>\n",
       "      <td>779.0</td>\n",
       "      <td>3.3409</td>\n",
       "    </tr>\n",
       "    <tr>\n",
       "      <th>1606</th>\n",
       "      <td>-122.08</td>\n",
       "      <td>37.88</td>\n",
       "      <td>26.0</td>\n",
       "      <td>2947.0</td>\n",
       "      <td>NaN</td>\n",
       "      <td>825.0</td>\n",
       "      <td>626.0</td>\n",
       "      <td>2.9330</td>\n",
       "    </tr>\n",
       "    <tr>\n",
       "      <th>4496</th>\n",
       "      <td>-118.22</td>\n",
       "      <td>34.05</td>\n",
       "      <td>34.0</td>\n",
       "      <td>1113.0</td>\n",
       "      <td>NaN</td>\n",
       "      <td>928.0</td>\n",
       "      <td>290.0</td>\n",
       "      <td>3.1654</td>\n",
       "    </tr>\n",
       "    <tr>\n",
       "      <th>16879</th>\n",
       "      <td>-122.39</td>\n",
       "      <td>37.60</td>\n",
       "      <td>34.0</td>\n",
       "      <td>707.0</td>\n",
       "      <td>NaN</td>\n",
       "      <td>381.0</td>\n",
       "      <td>156.0</td>\n",
       "      <td>4.3750</td>\n",
       "    </tr>\n",
       "    <tr>\n",
       "      <th>2412</th>\n",
       "      <td>-119.45</td>\n",
       "      <td>36.61</td>\n",
       "      <td>24.0</td>\n",
       "      <td>1302.0</td>\n",
       "      <td>NaN</td>\n",
       "      <td>693.0</td>\n",
       "      <td>243.0</td>\n",
       "      <td>3.7917</td>\n",
       "    </tr>\n",
       "    <tr>\n",
       "      <th>9622</th>\n",
       "      <td>-120.32</td>\n",
       "      <td>37.29</td>\n",
       "      <td>38.0</td>\n",
       "      <td>576.0</td>\n",
       "      <td>NaN</td>\n",
       "      <td>478.0</td>\n",
       "      <td>112.0</td>\n",
       "      <td>2.3382</td>\n",
       "    </tr>\n",
       "    <tr>\n",
       "      <th>6590</th>\n",
       "      <td>-118.18</td>\n",
       "      <td>34.19</td>\n",
       "      <td>48.0</td>\n",
       "      <td>1371.0</td>\n",
       "      <td>NaN</td>\n",
       "      <td>528.0</td>\n",
       "      <td>155.0</td>\n",
       "      <td>15.0001</td>\n",
       "    </tr>\n",
       "    <tr>\n",
       "      <th>15890</th>\n",
       "      <td>-122.38</td>\n",
       "      <td>37.73</td>\n",
       "      <td>40.0</td>\n",
       "      <td>543.0</td>\n",
       "      <td>NaN</td>\n",
       "      <td>259.0</td>\n",
       "      <td>89.0</td>\n",
       "      <td>2.2167</td>\n",
       "    </tr>\n",
       "    <tr>\n",
       "      <th>14641</th>\n",
       "      <td>-117.20</td>\n",
       "      <td>32.79</td>\n",
       "      <td>29.0</td>\n",
       "      <td>1213.0</td>\n",
       "      <td>NaN</td>\n",
       "      <td>654.0</td>\n",
       "      <td>246.0</td>\n",
       "      <td>4.5987</td>\n",
       "    </tr>\n",
       "    <tr>\n",
       "      <th>7168</th>\n",
       "      <td>-118.17</td>\n",
       "      <td>34.06</td>\n",
       "      <td>43.0</td>\n",
       "      <td>464.0</td>\n",
       "      <td>NaN</td>\n",
       "      <td>416.0</td>\n",
       "      <td>120.0</td>\n",
       "      <td>2.4750</td>\n",
       "    </tr>\n",
       "    <tr>\n",
       "      <th>9571</th>\n",
       "      <td>-120.61</td>\n",
       "      <td>37.36</td>\n",
       "      <td>16.0</td>\n",
       "      <td>638.0</td>\n",
       "      <td>NaN</td>\n",
       "      <td>380.0</td>\n",
       "      <td>132.0</td>\n",
       "      <td>1.9135</td>\n",
       "    </tr>\n",
       "    <tr>\n",
       "      <th>4279</th>\n",
       "      <td>-118.31</td>\n",
       "      <td>34.09</td>\n",
       "      <td>37.0</td>\n",
       "      <td>773.0</td>\n",
       "      <td>NaN</td>\n",
       "      <td>835.0</td>\n",
       "      <td>312.0</td>\n",
       "      <td>1.8576</td>\n",
       "    </tr>\n",
       "    <tr>\n",
       "      <th>5751</th>\n",
       "      <td>-118.27</td>\n",
       "      <td>34.17</td>\n",
       "      <td>52.0</td>\n",
       "      <td>2010.0</td>\n",
       "      <td>NaN</td>\n",
       "      <td>908.0</td>\n",
       "      <td>326.0</td>\n",
       "      <td>6.9135</td>\n",
       "    </tr>\n",
       "    <tr>\n",
       "      <th>19485</th>\n",
       "      <td>-120.98</td>\n",
       "      <td>37.66</td>\n",
       "      <td>10.0</td>\n",
       "      <td>934.0</td>\n",
       "      <td>NaN</td>\n",
       "      <td>401.0</td>\n",
       "      <td>255.0</td>\n",
       "      <td>0.9336</td>\n",
       "    </tr>\n",
       "    <tr>\n",
       "      <th>19060</th>\n",
       "      <td>-122.41</td>\n",
       "      <td>38.16</td>\n",
       "      <td>37.0</td>\n",
       "      <td>1549.0</td>\n",
       "      <td>NaN</td>\n",
       "      <td>863.0</td>\n",
       "      <td>275.0</td>\n",
       "      <td>2.7457</td>\n",
       "    </tr>\n",
       "    <tr>\n",
       "      <th>4591</th>\n",
       "      <td>-118.28</td>\n",
       "      <td>34.06</td>\n",
       "      <td>42.0</td>\n",
       "      <td>2472.0</td>\n",
       "      <td>NaN</td>\n",
       "      <td>3795.0</td>\n",
       "      <td>1179.0</td>\n",
       "      <td>1.2254</td>\n",
       "    </tr>\n",
       "    <tr>\n",
       "      <th>538</th>\n",
       "      <td>-122.28</td>\n",
       "      <td>37.78</td>\n",
       "      <td>29.0</td>\n",
       "      <td>5154.0</td>\n",
       "      <td>NaN</td>\n",
       "      <td>3741.0</td>\n",
       "      <td>1273.0</td>\n",
       "      <td>2.5762</td>\n",
       "    </tr>\n",
       "    <tr>\n",
       "      <th>5654</th>\n",
       "      <td>-118.30</td>\n",
       "      <td>33.73</td>\n",
       "      <td>42.0</td>\n",
       "      <td>1731.0</td>\n",
       "      <td>NaN</td>\n",
       "      <td>866.0</td>\n",
       "      <td>403.0</td>\n",
       "      <td>2.7451</td>\n",
       "    </tr>\n",
       "    <tr>\n",
       "      <th>15397</th>\n",
       "      <td>-117.20</td>\n",
       "      <td>33.24</td>\n",
       "      <td>12.0</td>\n",
       "      <td>4992.0</td>\n",
       "      <td>NaN</td>\n",
       "      <td>2106.0</td>\n",
       "      <td>801.0</td>\n",
       "      <td>6.2079</td>\n",
       "    </tr>\n",
       "    <tr>\n",
       "      <th>9620</th>\n",
       "      <td>-120.40</td>\n",
       "      <td>37.30</td>\n",
       "      <td>28.0</td>\n",
       "      <td>1401.0</td>\n",
       "      <td>NaN</td>\n",
       "      <td>967.0</td>\n",
       "      <td>257.0</td>\n",
       "      <td>1.5917</td>\n",
       "    </tr>\n",
       "    <tr>\n",
       "      <th>20484</th>\n",
       "      <td>-118.72</td>\n",
       "      <td>34.28</td>\n",
       "      <td>17.0</td>\n",
       "      <td>3051.0</td>\n",
       "      <td>NaN</td>\n",
       "      <td>1705.0</td>\n",
       "      <td>495.0</td>\n",
       "      <td>5.7376</td>\n",
       "    </tr>\n",
       "    <tr>\n",
       "      <th>19150</th>\n",
       "      <td>-122.70</td>\n",
       "      <td>38.35</td>\n",
       "      <td>14.0</td>\n",
       "      <td>2313.0</td>\n",
       "      <td>NaN</td>\n",
       "      <td>954.0</td>\n",
       "      <td>397.0</td>\n",
       "      <td>3.7813</td>\n",
       "    </tr>\n",
       "    <tr>\n",
       "      <th>2420</th>\n",
       "      <td>-119.44</td>\n",
       "      <td>36.58</td>\n",
       "      <td>37.0</td>\n",
       "      <td>1054.0</td>\n",
       "      <td>NaN</td>\n",
       "      <td>879.0</td>\n",
       "      <td>257.0</td>\n",
       "      <td>2.5234</td>\n",
       "    </tr>\n",
       "    <tr>\n",
       "      <th>9970</th>\n",
       "      <td>-122.48</td>\n",
       "      <td>38.50</td>\n",
       "      <td>37.0</td>\n",
       "      <td>3049.0</td>\n",
       "      <td>NaN</td>\n",
       "      <td>1287.0</td>\n",
       "      <td>439.0</td>\n",
       "      <td>4.3125</td>\n",
       "    </tr>\n",
       "    <tr>\n",
       "      <th>17639</th>\n",
       "      <td>-121.90</td>\n",
       "      <td>37.28</td>\n",
       "      <td>26.0</td>\n",
       "      <td>3756.0</td>\n",
       "      <td>NaN</td>\n",
       "      <td>1408.0</td>\n",
       "      <td>535.0</td>\n",
       "      <td>5.6427</td>\n",
       "    </tr>\n",
       "    <tr>\n",
       "      <th>...</th>\n",
       "      <td>...</td>\n",
       "      <td>...</td>\n",
       "      <td>...</td>\n",
       "      <td>...</td>\n",
       "      <td>...</td>\n",
       "      <td>...</td>\n",
       "      <td>...</td>\n",
       "      <td>...</td>\n",
       "    </tr>\n",
       "    <tr>\n",
       "      <th>16757</th>\n",
       "      <td>-122.48</td>\n",
       "      <td>37.70</td>\n",
       "      <td>33.0</td>\n",
       "      <td>4492.0</td>\n",
       "      <td>NaN</td>\n",
       "      <td>3477.0</td>\n",
       "      <td>1537.0</td>\n",
       "      <td>3.0546</td>\n",
       "    </tr>\n",
       "    <tr>\n",
       "      <th>19932</th>\n",
       "      <td>-119.33</td>\n",
       "      <td>36.30</td>\n",
       "      <td>11.0</td>\n",
       "      <td>3045.0</td>\n",
       "      <td>NaN</td>\n",
       "      <td>1563.0</td>\n",
       "      <td>516.0</td>\n",
       "      <td>5.4337</td>\n",
       "    </tr>\n",
       "    <tr>\n",
       "      <th>4743</th>\n",
       "      <td>-118.36</td>\n",
       "      <td>34.05</td>\n",
       "      <td>42.0</td>\n",
       "      <td>1372.0</td>\n",
       "      <td>NaN</td>\n",
       "      <td>674.0</td>\n",
       "      <td>271.0</td>\n",
       "      <td>2.8793</td>\n",
       "    </tr>\n",
       "    <tr>\n",
       "      <th>18177</th>\n",
       "      <td>-122.00</td>\n",
       "      <td>37.36</td>\n",
       "      <td>17.0</td>\n",
       "      <td>2070.0</td>\n",
       "      <td>NaN</td>\n",
       "      <td>797.0</td>\n",
       "      <td>275.0</td>\n",
       "      <td>8.6155</td>\n",
       "    </tr>\n",
       "    <tr>\n",
       "      <th>6835</th>\n",
       "      <td>-118.12</td>\n",
       "      <td>34.08</td>\n",
       "      <td>35.0</td>\n",
       "      <td>2248.0</td>\n",
       "      <td>NaN</td>\n",
       "      <td>1762.0</td>\n",
       "      <td>622.0</td>\n",
       "      <td>3.0000</td>\n",
       "    </tr>\n",
       "    <tr>\n",
       "      <th>5236</th>\n",
       "      <td>-118.23</td>\n",
       "      <td>33.94</td>\n",
       "      <td>36.0</td>\n",
       "      <td>1110.0</td>\n",
       "      <td>NaN</td>\n",
       "      <td>1417.0</td>\n",
       "      <td>302.0</td>\n",
       "      <td>2.3333</td>\n",
       "    </tr>\n",
       "    <tr>\n",
       "      <th>6962</th>\n",
       "      <td>-118.05</td>\n",
       "      <td>33.99</td>\n",
       "      <td>38.0</td>\n",
       "      <td>1619.0</td>\n",
       "      <td>NaN</td>\n",
       "      <td>886.0</td>\n",
       "      <td>357.0</td>\n",
       "      <td>3.7328</td>\n",
       "    </tr>\n",
       "    <tr>\n",
       "      <th>12570</th>\n",
       "      <td>-121.44</td>\n",
       "      <td>38.54</td>\n",
       "      <td>39.0</td>\n",
       "      <td>2855.0</td>\n",
       "      <td>NaN</td>\n",
       "      <td>1217.0</td>\n",
       "      <td>562.0</td>\n",
       "      <td>3.2404</td>\n",
       "    </tr>\n",
       "    <tr>\n",
       "      <th>15607</th>\n",
       "      <td>-116.66</td>\n",
       "      <td>32.79</td>\n",
       "      <td>13.0</td>\n",
       "      <td>843.0</td>\n",
       "      <td>NaN</td>\n",
       "      <td>918.0</td>\n",
       "      <td>152.0</td>\n",
       "      <td>6.2152</td>\n",
       "    </tr>\n",
       "    <tr>\n",
       "      <th>19559</th>\n",
       "      <td>-120.98</td>\n",
       "      <td>37.60</td>\n",
       "      <td>36.0</td>\n",
       "      <td>1437.0</td>\n",
       "      <td>NaN</td>\n",
       "      <td>1073.0</td>\n",
       "      <td>320.0</td>\n",
       "      <td>2.1779</td>\n",
       "    </tr>\n",
       "    <tr>\n",
       "      <th>7113</th>\n",
       "      <td>-118.02</td>\n",
       "      <td>33.89</td>\n",
       "      <td>36.0</td>\n",
       "      <td>1375.0</td>\n",
       "      <td>NaN</td>\n",
       "      <td>670.0</td>\n",
       "      <td>221.0</td>\n",
       "      <td>5.0839</td>\n",
       "    </tr>\n",
       "    <tr>\n",
       "      <th>14173</th>\n",
       "      <td>-117.05</td>\n",
       "      <td>32.75</td>\n",
       "      <td>36.0</td>\n",
       "      <td>2024.0</td>\n",
       "      <td>NaN</td>\n",
       "      <td>1030.0</td>\n",
       "      <td>390.0</td>\n",
       "      <td>3.8233</td>\n",
       "    </tr>\n",
       "    <tr>\n",
       "      <th>11741</th>\n",
       "      <td>-121.13</td>\n",
       "      <td>38.87</td>\n",
       "      <td>48.0</td>\n",
       "      <td>1127.0</td>\n",
       "      <td>NaN</td>\n",
       "      <td>530.0</td>\n",
       "      <td>186.0</td>\n",
       "      <td>3.0917</td>\n",
       "    </tr>\n",
       "    <tr>\n",
       "      <th>13933</th>\n",
       "      <td>-117.31</td>\n",
       "      <td>34.25</td>\n",
       "      <td>29.0</td>\n",
       "      <td>4610.0</td>\n",
       "      <td>NaN</td>\n",
       "      <td>1569.0</td>\n",
       "      <td>592.0</td>\n",
       "      <td>2.7663</td>\n",
       "    </tr>\n",
       "    <tr>\n",
       "      <th>15137</th>\n",
       "      <td>-116.91</td>\n",
       "      <td>32.83</td>\n",
       "      <td>16.0</td>\n",
       "      <td>5203.0</td>\n",
       "      <td>NaN</td>\n",
       "      <td>2515.0</td>\n",
       "      <td>862.0</td>\n",
       "      <td>4.1050</td>\n",
       "    </tr>\n",
       "    <tr>\n",
       "      <th>15118</th>\n",
       "      <td>-116.95</td>\n",
       "      <td>32.84</td>\n",
       "      <td>31.0</td>\n",
       "      <td>1307.0</td>\n",
       "      <td>NaN</td>\n",
       "      <td>752.0</td>\n",
       "      <td>231.0</td>\n",
       "      <td>3.4286</td>\n",
       "    </tr>\n",
       "    <tr>\n",
       "      <th>16025</th>\n",
       "      <td>-122.44</td>\n",
       "      <td>37.73</td>\n",
       "      <td>39.0</td>\n",
       "      <td>1912.0</td>\n",
       "      <td>NaN</td>\n",
       "      <td>970.0</td>\n",
       "      <td>406.0</td>\n",
       "      <td>4.7813</td>\n",
       "    </tr>\n",
       "    <tr>\n",
       "      <th>17928</th>\n",
       "      <td>-121.97</td>\n",
       "      <td>37.34</td>\n",
       "      <td>33.0</td>\n",
       "      <td>3162.0</td>\n",
       "      <td>NaN</td>\n",
       "      <td>1553.0</td>\n",
       "      <td>686.0</td>\n",
       "      <td>3.6682</td>\n",
       "    </tr>\n",
       "    <tr>\n",
       "      <th>5678</th>\n",
       "      <td>-118.30</td>\n",
       "      <td>33.72</td>\n",
       "      <td>35.0</td>\n",
       "      <td>2790.0</td>\n",
       "      <td>NaN</td>\n",
       "      <td>1167.0</td>\n",
       "      <td>441.0</td>\n",
       "      <td>6.2028</td>\n",
       "    </tr>\n",
       "    <tr>\n",
       "      <th>19638</th>\n",
       "      <td>-120.97</td>\n",
       "      <td>37.43</td>\n",
       "      <td>27.0</td>\n",
       "      <td>1380.0</td>\n",
       "      <td>NaN</td>\n",
       "      <td>810.0</td>\n",
       "      <td>262.0</td>\n",
       "      <td>2.1875</td>\n",
       "    </tr>\n",
       "    <tr>\n",
       "      <th>10385</th>\n",
       "      <td>-117.65</td>\n",
       "      <td>33.60</td>\n",
       "      <td>15.0</td>\n",
       "      <td>5736.0</td>\n",
       "      <td>NaN</td>\n",
       "      <td>2529.0</td>\n",
       "      <td>762.0</td>\n",
       "      <td>6.4114</td>\n",
       "    </tr>\n",
       "    <tr>\n",
       "      <th>2647</th>\n",
       "      <td>-124.13</td>\n",
       "      <td>40.55</td>\n",
       "      <td>38.0</td>\n",
       "      <td>544.0</td>\n",
       "      <td>NaN</td>\n",
       "      <td>240.0</td>\n",
       "      <td>91.0</td>\n",
       "      <td>3.2500</td>\n",
       "    </tr>\n",
       "    <tr>\n",
       "      <th>14152</th>\n",
       "      <td>-117.09</td>\n",
       "      <td>32.77</td>\n",
       "      <td>31.0</td>\n",
       "      <td>3062.0</td>\n",
       "      <td>NaN</td>\n",
       "      <td>1263.0</td>\n",
       "      <td>539.0</td>\n",
       "      <td>3.0875</td>\n",
       "    </tr>\n",
       "    <tr>\n",
       "      <th>19766</th>\n",
       "      <td>-122.10</td>\n",
       "      <td>40.03</td>\n",
       "      <td>25.0</td>\n",
       "      <td>2516.0</td>\n",
       "      <td>NaN</td>\n",
       "      <td>1266.0</td>\n",
       "      <td>494.0</td>\n",
       "      <td>1.7566</td>\n",
       "    </tr>\n",
       "    <tr>\n",
       "      <th>1097</th>\n",
       "      <td>-121.77</td>\n",
       "      <td>39.66</td>\n",
       "      <td>20.0</td>\n",
       "      <td>3759.0</td>\n",
       "      <td>NaN</td>\n",
       "      <td>1705.0</td>\n",
       "      <td>600.0</td>\n",
       "      <td>4.7120</td>\n",
       "    </tr>\n",
       "    <tr>\n",
       "      <th>3376</th>\n",
       "      <td>-118.28</td>\n",
       "      <td>34.25</td>\n",
       "      <td>29.0</td>\n",
       "      <td>2559.0</td>\n",
       "      <td>NaN</td>\n",
       "      <td>1886.0</td>\n",
       "      <td>769.0</td>\n",
       "      <td>2.6036</td>\n",
       "    </tr>\n",
       "    <tr>\n",
       "      <th>4691</th>\n",
       "      <td>-118.37</td>\n",
       "      <td>34.07</td>\n",
       "      <td>50.0</td>\n",
       "      <td>2519.0</td>\n",
       "      <td>NaN</td>\n",
       "      <td>1117.0</td>\n",
       "      <td>516.0</td>\n",
       "      <td>4.3667</td>\n",
       "    </tr>\n",
       "    <tr>\n",
       "      <th>6052</th>\n",
       "      <td>-117.76</td>\n",
       "      <td>34.04</td>\n",
       "      <td>34.0</td>\n",
       "      <td>1914.0</td>\n",
       "      <td>NaN</td>\n",
       "      <td>1564.0</td>\n",
       "      <td>328.0</td>\n",
       "      <td>2.8347</td>\n",
       "    </tr>\n",
       "    <tr>\n",
       "      <th>17198</th>\n",
       "      <td>-119.75</td>\n",
       "      <td>34.45</td>\n",
       "      <td>6.0</td>\n",
       "      <td>2864.0</td>\n",
       "      <td>NaN</td>\n",
       "      <td>1404.0</td>\n",
       "      <td>603.0</td>\n",
       "      <td>5.5073</td>\n",
       "    </tr>\n",
       "    <tr>\n",
       "      <th>4738</th>\n",
       "      <td>-118.38</td>\n",
       "      <td>34.05</td>\n",
       "      <td>49.0</td>\n",
       "      <td>702.0</td>\n",
       "      <td>NaN</td>\n",
       "      <td>458.0</td>\n",
       "      <td>187.0</td>\n",
       "      <td>4.8958</td>\n",
       "    </tr>\n",
       "  </tbody>\n",
       "</table>\n",
       "<p>158 rows × 8 columns</p>\n",
       "</div>"
      ],
      "text/plain": [
       "       longitude  latitude  housing_median_age  total_rooms  total_bedrooms  \\\n",
       "4629     -118.30     34.07                18.0       3759.0             NaN   \n",
       "6068     -117.86     34.01                16.0       4632.0             NaN   \n",
       "17923    -121.97     37.35                30.0       1955.0             NaN   \n",
       "13656    -117.30     34.05                 6.0       2155.0             NaN   \n",
       "19252    -122.79     38.48                 7.0       6837.0             NaN   \n",
       "...          ...       ...                 ...          ...             ...   \n",
       "3376     -118.28     34.25                29.0       2559.0             NaN   \n",
       "4691     -118.37     34.07                50.0       2519.0             NaN   \n",
       "6052     -117.76     34.04                34.0       1914.0             NaN   \n",
       "17198    -119.75     34.45                 6.0       2864.0             NaN   \n",
       "4738     -118.38     34.05                49.0        702.0             NaN   \n",
       "\n",
       "       population  households  median_income  \n",
       "4629       3296.0      1462.0         2.2708  \n",
       "6068       3038.0       727.0         5.1762  \n",
       "17923       999.0       386.0         4.6328  \n",
       "13656      1039.0       391.0         1.6675  \n",
       "19252      3468.0      1405.0         3.1662  \n",
       "...           ...         ...            ...  \n",
       "3376       1886.0       769.0         2.6036  \n",
       "4691       1117.0       516.0         4.3667  \n",
       "6052       1564.0       328.0         2.8347  \n",
       "17198      1404.0       603.0         5.5073  \n",
       "4738        458.0       187.0         4.8958  \n",
       "\n",
       "[158 rows x 8 columns]"
      ]
     },
     "execution_count": 39,
     "metadata": {},
     "output_type": "execute_result"
    }
   ],
   "source": [
    "data_num.loc[data_num['total_bedrooms'].isna()==True,:] # number of rows in total_bedrooms having null values"
   ]
  },
  {
   "cell_type": "code",
   "execution_count": 40,
   "metadata": {},
   "outputs": [
    {
     "data": {
      "text/plain": [
       "array([-118.51  ,   34.26  ,   29.    , 2119.5   ,  433.    , 1164.    ,\n",
       "        408.    ,    3.5409])"
      ]
     },
     "execution_count": 40,
     "metadata": {},
     "output_type": "execute_result"
    }
   ],
   "source": [
    "data_num.median().values # pandas series "
   ]
  },
  {
   "cell_type": "markdown",
   "metadata": {},
   "source": [
    "Transforming the columns of the training set having null values to the median values. "
   ]
  },
  {
   "cell_type": "code",
   "execution_count": 41,
   "metadata": {},
   "outputs": [],
   "source": [
    "X = imputer.transform(data_num)"
   ]
  },
  {
   "cell_type": "markdown",
   "metadata": {},
   "source": [
    "The imputer transform is a ndarray and not a data frame. The below code is used to convert the array X into dataframe."
   ]
  },
  {
   "cell_type": "code",
   "execution_count": 42,
   "metadata": {},
   "outputs": [],
   "source": [
    "data_numtf = pd.DataFrame(X,columns=data_num.columns)"
   ]
  },
  {
   "cell_type": "code",
   "execution_count": 43,
   "metadata": {},
   "outputs": [
    {
     "data": {
      "text/html": [
       "<div>\n",
       "<style scoped>\n",
       "    .dataframe tbody tr th:only-of-type {\n",
       "        vertical-align: middle;\n",
       "    }\n",
       "\n",
       "    .dataframe tbody tr th {\n",
       "        vertical-align: top;\n",
       "    }\n",
       "\n",
       "    .dataframe thead th {\n",
       "        text-align: right;\n",
       "    }\n",
       "</style>\n",
       "<table border=\"1\" class=\"dataframe\">\n",
       "  <thead>\n",
       "    <tr style=\"text-align: right;\">\n",
       "      <th></th>\n",
       "      <th>longitude</th>\n",
       "      <th>latitude</th>\n",
       "      <th>housing_median_age</th>\n",
       "      <th>total_rooms</th>\n",
       "      <th>total_bedrooms</th>\n",
       "      <th>population</th>\n",
       "      <th>households</th>\n",
       "      <th>median_income</th>\n",
       "    </tr>\n",
       "  </thead>\n",
       "  <tbody>\n",
       "    <tr>\n",
       "      <th>0</th>\n",
       "      <td>-121.89</td>\n",
       "      <td>37.29</td>\n",
       "      <td>38.0</td>\n",
       "      <td>1568.0</td>\n",
       "      <td>351.0</td>\n",
       "      <td>710.0</td>\n",
       "      <td>339.0</td>\n",
       "      <td>2.7042</td>\n",
       "    </tr>\n",
       "    <tr>\n",
       "      <th>1</th>\n",
       "      <td>-121.93</td>\n",
       "      <td>37.05</td>\n",
       "      <td>14.0</td>\n",
       "      <td>679.0</td>\n",
       "      <td>108.0</td>\n",
       "      <td>306.0</td>\n",
       "      <td>113.0</td>\n",
       "      <td>6.4214</td>\n",
       "    </tr>\n",
       "    <tr>\n",
       "      <th>2</th>\n",
       "      <td>-117.20</td>\n",
       "      <td>32.77</td>\n",
       "      <td>31.0</td>\n",
       "      <td>1952.0</td>\n",
       "      <td>471.0</td>\n",
       "      <td>936.0</td>\n",
       "      <td>462.0</td>\n",
       "      <td>2.8621</td>\n",
       "    </tr>\n",
       "    <tr>\n",
       "      <th>3</th>\n",
       "      <td>-119.61</td>\n",
       "      <td>36.31</td>\n",
       "      <td>25.0</td>\n",
       "      <td>1847.0</td>\n",
       "      <td>371.0</td>\n",
       "      <td>1460.0</td>\n",
       "      <td>353.0</td>\n",
       "      <td>1.8839</td>\n",
       "    </tr>\n",
       "    <tr>\n",
       "      <th>4</th>\n",
       "      <td>-118.59</td>\n",
       "      <td>34.23</td>\n",
       "      <td>17.0</td>\n",
       "      <td>6592.0</td>\n",
       "      <td>1525.0</td>\n",
       "      <td>4459.0</td>\n",
       "      <td>1463.0</td>\n",
       "      <td>3.0347</td>\n",
       "    </tr>\n",
       "    <tr>\n",
       "      <th>5</th>\n",
       "      <td>-120.97</td>\n",
       "      <td>37.66</td>\n",
       "      <td>24.0</td>\n",
       "      <td>2930.0</td>\n",
       "      <td>588.0</td>\n",
       "      <td>1448.0</td>\n",
       "      <td>570.0</td>\n",
       "      <td>3.5395</td>\n",
       "    </tr>\n",
       "    <tr>\n",
       "      <th>6</th>\n",
       "      <td>-118.50</td>\n",
       "      <td>34.04</td>\n",
       "      <td>52.0</td>\n",
       "      <td>2233.0</td>\n",
       "      <td>317.0</td>\n",
       "      <td>769.0</td>\n",
       "      <td>277.0</td>\n",
       "      <td>8.3839</td>\n",
       "    </tr>\n",
       "    <tr>\n",
       "      <th>7</th>\n",
       "      <td>-117.24</td>\n",
       "      <td>34.15</td>\n",
       "      <td>26.0</td>\n",
       "      <td>2041.0</td>\n",
       "      <td>293.0</td>\n",
       "      <td>936.0</td>\n",
       "      <td>375.0</td>\n",
       "      <td>6.0000</td>\n",
       "    </tr>\n",
       "    <tr>\n",
       "      <th>8</th>\n",
       "      <td>-118.26</td>\n",
       "      <td>33.99</td>\n",
       "      <td>47.0</td>\n",
       "      <td>1865.0</td>\n",
       "      <td>465.0</td>\n",
       "      <td>1916.0</td>\n",
       "      <td>438.0</td>\n",
       "      <td>1.8242</td>\n",
       "    </tr>\n",
       "    <tr>\n",
       "      <th>9</th>\n",
       "      <td>-118.28</td>\n",
       "      <td>34.02</td>\n",
       "      <td>29.0</td>\n",
       "      <td>515.0</td>\n",
       "      <td>229.0</td>\n",
       "      <td>2690.0</td>\n",
       "      <td>217.0</td>\n",
       "      <td>0.4999</td>\n",
       "    </tr>\n",
       "    <tr>\n",
       "      <th>10</th>\n",
       "      <td>-121.31</td>\n",
       "      <td>38.02</td>\n",
       "      <td>24.0</td>\n",
       "      <td>4157.0</td>\n",
       "      <td>951.0</td>\n",
       "      <td>2734.0</td>\n",
       "      <td>879.0</td>\n",
       "      <td>2.7981</td>\n",
       "    </tr>\n",
       "    <tr>\n",
       "      <th>11</th>\n",
       "      <td>-121.62</td>\n",
       "      <td>39.14</td>\n",
       "      <td>41.0</td>\n",
       "      <td>2183.0</td>\n",
       "      <td>559.0</td>\n",
       "      <td>1202.0</td>\n",
       "      <td>506.0</td>\n",
       "      <td>1.6902</td>\n",
       "    </tr>\n",
       "    <tr>\n",
       "      <th>12</th>\n",
       "      <td>-122.69</td>\n",
       "      <td>38.51</td>\n",
       "      <td>18.0</td>\n",
       "      <td>3364.0</td>\n",
       "      <td>501.0</td>\n",
       "      <td>1442.0</td>\n",
       "      <td>506.0</td>\n",
       "      <td>6.6854</td>\n",
       "    </tr>\n",
       "    <tr>\n",
       "      <th>13</th>\n",
       "      <td>-117.06</td>\n",
       "      <td>34.17</td>\n",
       "      <td>21.0</td>\n",
       "      <td>2520.0</td>\n",
       "      <td>582.0</td>\n",
       "      <td>416.0</td>\n",
       "      <td>151.0</td>\n",
       "      <td>2.7120</td>\n",
       "    </tr>\n",
       "    <tr>\n",
       "      <th>14</th>\n",
       "      <td>-119.46</td>\n",
       "      <td>36.91</td>\n",
       "      <td>12.0</td>\n",
       "      <td>2980.0</td>\n",
       "      <td>495.0</td>\n",
       "      <td>1184.0</td>\n",
       "      <td>429.0</td>\n",
       "      <td>3.9141</td>\n",
       "    </tr>\n",
       "    <tr>\n",
       "      <th>15</th>\n",
       "      <td>-117.96</td>\n",
       "      <td>33.83</td>\n",
       "      <td>30.0</td>\n",
       "      <td>2838.0</td>\n",
       "      <td>649.0</td>\n",
       "      <td>1758.0</td>\n",
       "      <td>593.0</td>\n",
       "      <td>3.3831</td>\n",
       "    </tr>\n",
       "    <tr>\n",
       "      <th>16</th>\n",
       "      <td>-122.41</td>\n",
       "      <td>37.81</td>\n",
       "      <td>25.0</td>\n",
       "      <td>1178.0</td>\n",
       "      <td>545.0</td>\n",
       "      <td>592.0</td>\n",
       "      <td>441.0</td>\n",
       "      <td>3.6728</td>\n",
       "    </tr>\n",
       "    <tr>\n",
       "      <th>17</th>\n",
       "      <td>-119.02</td>\n",
       "      <td>35.35</td>\n",
       "      <td>42.0</td>\n",
       "      <td>1239.0</td>\n",
       "      <td>251.0</td>\n",
       "      <td>776.0</td>\n",
       "      <td>272.0</td>\n",
       "      <td>1.9830</td>\n",
       "    </tr>\n",
       "    <tr>\n",
       "      <th>18</th>\n",
       "      <td>-117.72</td>\n",
       "      <td>34.05</td>\n",
       "      <td>8.0</td>\n",
       "      <td>1841.0</td>\n",
       "      <td>409.0</td>\n",
       "      <td>1243.0</td>\n",
       "      <td>394.0</td>\n",
       "      <td>4.0614</td>\n",
       "    </tr>\n",
       "    <tr>\n",
       "      <th>19</th>\n",
       "      <td>-118.15</td>\n",
       "      <td>34.20</td>\n",
       "      <td>46.0</td>\n",
       "      <td>1505.0</td>\n",
       "      <td>261.0</td>\n",
       "      <td>857.0</td>\n",
       "      <td>269.0</td>\n",
       "      <td>4.5000</td>\n",
       "    </tr>\n",
       "    <tr>\n",
       "      <th>20</th>\n",
       "      <td>-118.30</td>\n",
       "      <td>34.19</td>\n",
       "      <td>14.0</td>\n",
       "      <td>3615.0</td>\n",
       "      <td>913.0</td>\n",
       "      <td>1924.0</td>\n",
       "      <td>852.0</td>\n",
       "      <td>3.5083</td>\n",
       "    </tr>\n",
       "    <tr>\n",
       "      <th>21</th>\n",
       "      <td>-122.05</td>\n",
       "      <td>37.31</td>\n",
       "      <td>25.0</td>\n",
       "      <td>4111.0</td>\n",
       "      <td>538.0</td>\n",
       "      <td>1585.0</td>\n",
       "      <td>568.0</td>\n",
       "      <td>9.2298</td>\n",
       "    </tr>\n",
       "    <tr>\n",
       "      <th>22</th>\n",
       "      <td>-120.66</td>\n",
       "      <td>35.49</td>\n",
       "      <td>17.0</td>\n",
       "      <td>4422.0</td>\n",
       "      <td>945.0</td>\n",
       "      <td>2307.0</td>\n",
       "      <td>885.0</td>\n",
       "      <td>2.8285</td>\n",
       "    </tr>\n",
       "    <tr>\n",
       "      <th>23</th>\n",
       "      <td>-117.25</td>\n",
       "      <td>34.16</td>\n",
       "      <td>37.0</td>\n",
       "      <td>1709.0</td>\n",
       "      <td>278.0</td>\n",
       "      <td>744.0</td>\n",
       "      <td>274.0</td>\n",
       "      <td>3.7188</td>\n",
       "    </tr>\n",
       "    <tr>\n",
       "      <th>24</th>\n",
       "      <td>-117.19</td>\n",
       "      <td>34.94</td>\n",
       "      <td>31.0</td>\n",
       "      <td>2034.0</td>\n",
       "      <td>444.0</td>\n",
       "      <td>1097.0</td>\n",
       "      <td>367.0</td>\n",
       "      <td>2.1522</td>\n",
       "    </tr>\n",
       "    <tr>\n",
       "      <th>25</th>\n",
       "      <td>-117.06</td>\n",
       "      <td>33.02</td>\n",
       "      <td>24.0</td>\n",
       "      <td>830.0</td>\n",
       "      <td>190.0</td>\n",
       "      <td>279.0</td>\n",
       "      <td>196.0</td>\n",
       "      <td>1.9176</td>\n",
       "    </tr>\n",
       "    <tr>\n",
       "      <th>26</th>\n",
       "      <td>-118.07</td>\n",
       "      <td>34.11</td>\n",
       "      <td>41.0</td>\n",
       "      <td>2869.0</td>\n",
       "      <td>563.0</td>\n",
       "      <td>1627.0</td>\n",
       "      <td>533.0</td>\n",
       "      <td>5.0736</td>\n",
       "    </tr>\n",
       "    <tr>\n",
       "      <th>27</th>\n",
       "      <td>-118.24</td>\n",
       "      <td>33.96</td>\n",
       "      <td>44.0</td>\n",
       "      <td>1338.0</td>\n",
       "      <td>366.0</td>\n",
       "      <td>1765.0</td>\n",
       "      <td>388.0</td>\n",
       "      <td>1.7778</td>\n",
       "    </tr>\n",
       "    <tr>\n",
       "      <th>28</th>\n",
       "      <td>-118.28</td>\n",
       "      <td>33.91</td>\n",
       "      <td>41.0</td>\n",
       "      <td>620.0</td>\n",
       "      <td>133.0</td>\n",
       "      <td>642.0</td>\n",
       "      <td>162.0</td>\n",
       "      <td>2.6546</td>\n",
       "    </tr>\n",
       "    <tr>\n",
       "      <th>29</th>\n",
       "      <td>-122.46</td>\n",
       "      <td>37.79</td>\n",
       "      <td>52.0</td>\n",
       "      <td>2059.0</td>\n",
       "      <td>416.0</td>\n",
       "      <td>999.0</td>\n",
       "      <td>402.0</td>\n",
       "      <td>3.7419</td>\n",
       "    </tr>\n",
       "    <tr>\n",
       "      <th>...</th>\n",
       "      <td>...</td>\n",
       "      <td>...</td>\n",
       "      <td>...</td>\n",
       "      <td>...</td>\n",
       "      <td>...</td>\n",
       "      <td>...</td>\n",
       "      <td>...</td>\n",
       "      <td>...</td>\n",
       "    </tr>\n",
       "    <tr>\n",
       "      <th>16482</th>\n",
       "      <td>-116.47</td>\n",
       "      <td>33.77</td>\n",
       "      <td>26.0</td>\n",
       "      <td>4300.0</td>\n",
       "      <td>767.0</td>\n",
       "      <td>1557.0</td>\n",
       "      <td>669.0</td>\n",
       "      <td>4.4107</td>\n",
       "    </tr>\n",
       "    <tr>\n",
       "      <th>16483</th>\n",
       "      <td>-118.23</td>\n",
       "      <td>33.78</td>\n",
       "      <td>20.0</td>\n",
       "      <td>59.0</td>\n",
       "      <td>24.0</td>\n",
       "      <td>69.0</td>\n",
       "      <td>23.0</td>\n",
       "      <td>2.5588</td>\n",
       "    </tr>\n",
       "    <tr>\n",
       "      <th>16484</th>\n",
       "      <td>-121.06</td>\n",
       "      <td>39.25</td>\n",
       "      <td>17.0</td>\n",
       "      <td>3127.0</td>\n",
       "      <td>539.0</td>\n",
       "      <td>1390.0</td>\n",
       "      <td>520.0</td>\n",
       "      <td>3.9537</td>\n",
       "    </tr>\n",
       "    <tr>\n",
       "      <th>16485</th>\n",
       "      <td>-122.03</td>\n",
       "      <td>37.29</td>\n",
       "      <td>22.0</td>\n",
       "      <td>3118.0</td>\n",
       "      <td>438.0</td>\n",
       "      <td>1147.0</td>\n",
       "      <td>425.0</td>\n",
       "      <td>10.3653</td>\n",
       "    </tr>\n",
       "    <tr>\n",
       "      <th>16486</th>\n",
       "      <td>-118.17</td>\n",
       "      <td>34.09</td>\n",
       "      <td>33.0</td>\n",
       "      <td>2907.0</td>\n",
       "      <td>797.0</td>\n",
       "      <td>3212.0</td>\n",
       "      <td>793.0</td>\n",
       "      <td>2.2348</td>\n",
       "    </tr>\n",
       "    <tr>\n",
       "      <th>16487</th>\n",
       "      <td>-122.86</td>\n",
       "      <td>40.56</td>\n",
       "      <td>12.0</td>\n",
       "      <td>1350.0</td>\n",
       "      <td>300.0</td>\n",
       "      <td>423.0</td>\n",
       "      <td>172.0</td>\n",
       "      <td>1.7393</td>\n",
       "    </tr>\n",
       "    <tr>\n",
       "      <th>16488</th>\n",
       "      <td>-122.48</td>\n",
       "      <td>38.51</td>\n",
       "      <td>49.0</td>\n",
       "      <td>1977.0</td>\n",
       "      <td>393.0</td>\n",
       "      <td>741.0</td>\n",
       "      <td>339.0</td>\n",
       "      <td>3.1312</td>\n",
       "    </tr>\n",
       "    <tr>\n",
       "      <th>16489</th>\n",
       "      <td>-117.17</td>\n",
       "      <td>32.78</td>\n",
       "      <td>17.0</td>\n",
       "      <td>3845.0</td>\n",
       "      <td>1051.0</td>\n",
       "      <td>3102.0</td>\n",
       "      <td>944.0</td>\n",
       "      <td>2.3658</td>\n",
       "    </tr>\n",
       "    <tr>\n",
       "      <th>16490</th>\n",
       "      <td>-122.07</td>\n",
       "      <td>37.71</td>\n",
       "      <td>40.0</td>\n",
       "      <td>1808.0</td>\n",
       "      <td>302.0</td>\n",
       "      <td>746.0</td>\n",
       "      <td>270.0</td>\n",
       "      <td>5.3015</td>\n",
       "    </tr>\n",
       "    <tr>\n",
       "      <th>16491</th>\n",
       "      <td>-118.01</td>\n",
       "      <td>33.87</td>\n",
       "      <td>25.0</td>\n",
       "      <td>6348.0</td>\n",
       "      <td>1615.0</td>\n",
       "      <td>4188.0</td>\n",
       "      <td>1497.0</td>\n",
       "      <td>3.1390</td>\n",
       "    </tr>\n",
       "    <tr>\n",
       "      <th>16492</th>\n",
       "      <td>-122.21</td>\n",
       "      <td>37.78</td>\n",
       "      <td>43.0</td>\n",
       "      <td>1702.0</td>\n",
       "      <td>460.0</td>\n",
       "      <td>1227.0</td>\n",
       "      <td>407.0</td>\n",
       "      <td>1.7188</td>\n",
       "    </tr>\n",
       "    <tr>\n",
       "      <th>16493</th>\n",
       "      <td>-117.23</td>\n",
       "      <td>33.94</td>\n",
       "      <td>8.0</td>\n",
       "      <td>2405.0</td>\n",
       "      <td>537.0</td>\n",
       "      <td>1594.0</td>\n",
       "      <td>517.0</td>\n",
       "      <td>3.0789</td>\n",
       "    </tr>\n",
       "    <tr>\n",
       "      <th>16494</th>\n",
       "      <td>-121.29</td>\n",
       "      <td>38.14</td>\n",
       "      <td>34.0</td>\n",
       "      <td>2770.0</td>\n",
       "      <td>544.0</td>\n",
       "      <td>1409.0</td>\n",
       "      <td>535.0</td>\n",
       "      <td>3.2338</td>\n",
       "    </tr>\n",
       "    <tr>\n",
       "      <th>16495</th>\n",
       "      <td>-117.82</td>\n",
       "      <td>33.76</td>\n",
       "      <td>33.0</td>\n",
       "      <td>2774.0</td>\n",
       "      <td>428.0</td>\n",
       "      <td>1229.0</td>\n",
       "      <td>407.0</td>\n",
       "      <td>6.2944</td>\n",
       "    </tr>\n",
       "    <tr>\n",
       "      <th>16496</th>\n",
       "      <td>-119.34</td>\n",
       "      <td>36.31</td>\n",
       "      <td>14.0</td>\n",
       "      <td>1635.0</td>\n",
       "      <td>422.0</td>\n",
       "      <td>870.0</td>\n",
       "      <td>399.0</td>\n",
       "      <td>2.7000</td>\n",
       "    </tr>\n",
       "    <tr>\n",
       "      <th>16497</th>\n",
       "      <td>-122.14</td>\n",
       "      <td>38.03</td>\n",
       "      <td>42.0</td>\n",
       "      <td>118.0</td>\n",
       "      <td>34.0</td>\n",
       "      <td>54.0</td>\n",
       "      <td>30.0</td>\n",
       "      <td>2.5795</td>\n",
       "    </tr>\n",
       "    <tr>\n",
       "      <th>16498</th>\n",
       "      <td>-120.37</td>\n",
       "      <td>38.23</td>\n",
       "      <td>13.0</td>\n",
       "      <td>4401.0</td>\n",
       "      <td>829.0</td>\n",
       "      <td>924.0</td>\n",
       "      <td>383.0</td>\n",
       "      <td>2.6942</td>\n",
       "    </tr>\n",
       "    <tr>\n",
       "      <th>16499</th>\n",
       "      <td>-118.42</td>\n",
       "      <td>34.04</td>\n",
       "      <td>52.0</td>\n",
       "      <td>1358.0</td>\n",
       "      <td>272.0</td>\n",
       "      <td>574.0</td>\n",
       "      <td>267.0</td>\n",
       "      <td>5.6454</td>\n",
       "    </tr>\n",
       "    <tr>\n",
       "      <th>16500</th>\n",
       "      <td>-117.97</td>\n",
       "      <td>33.88</td>\n",
       "      <td>16.0</td>\n",
       "      <td>2003.0</td>\n",
       "      <td>300.0</td>\n",
       "      <td>1172.0</td>\n",
       "      <td>318.0</td>\n",
       "      <td>6.0394</td>\n",
       "    </tr>\n",
       "    <tr>\n",
       "      <th>16501</th>\n",
       "      <td>-117.67</td>\n",
       "      <td>33.60</td>\n",
       "      <td>25.0</td>\n",
       "      <td>3164.0</td>\n",
       "      <td>449.0</td>\n",
       "      <td>1517.0</td>\n",
       "      <td>453.0</td>\n",
       "      <td>6.7921</td>\n",
       "    </tr>\n",
       "    <tr>\n",
       "      <th>16502</th>\n",
       "      <td>-117.29</td>\n",
       "      <td>33.08</td>\n",
       "      <td>18.0</td>\n",
       "      <td>3225.0</td>\n",
       "      <td>515.0</td>\n",
       "      <td>1463.0</td>\n",
       "      <td>476.0</td>\n",
       "      <td>5.7787</td>\n",
       "    </tr>\n",
       "    <tr>\n",
       "      <th>16503</th>\n",
       "      <td>-118.37</td>\n",
       "      <td>34.18</td>\n",
       "      <td>36.0</td>\n",
       "      <td>1608.0</td>\n",
       "      <td>373.0</td>\n",
       "      <td>1217.0</td>\n",
       "      <td>374.0</td>\n",
       "      <td>2.9728</td>\n",
       "    </tr>\n",
       "    <tr>\n",
       "      <th>16504</th>\n",
       "      <td>-117.14</td>\n",
       "      <td>33.81</td>\n",
       "      <td>13.0</td>\n",
       "      <td>4496.0</td>\n",
       "      <td>756.0</td>\n",
       "      <td>2044.0</td>\n",
       "      <td>695.0</td>\n",
       "      <td>3.2778</td>\n",
       "    </tr>\n",
       "    <tr>\n",
       "      <th>16505</th>\n",
       "      <td>-117.77</td>\n",
       "      <td>34.08</td>\n",
       "      <td>27.0</td>\n",
       "      <td>5929.0</td>\n",
       "      <td>932.0</td>\n",
       "      <td>2817.0</td>\n",
       "      <td>828.0</td>\n",
       "      <td>6.0434</td>\n",
       "    </tr>\n",
       "    <tr>\n",
       "      <th>16506</th>\n",
       "      <td>-118.20</td>\n",
       "      <td>33.97</td>\n",
       "      <td>43.0</td>\n",
       "      <td>825.0</td>\n",
       "      <td>212.0</td>\n",
       "      <td>820.0</td>\n",
       "      <td>184.0</td>\n",
       "      <td>1.8897</td>\n",
       "    </tr>\n",
       "    <tr>\n",
       "      <th>16507</th>\n",
       "      <td>-118.13</td>\n",
       "      <td>34.20</td>\n",
       "      <td>46.0</td>\n",
       "      <td>1271.0</td>\n",
       "      <td>236.0</td>\n",
       "      <td>573.0</td>\n",
       "      <td>210.0</td>\n",
       "      <td>4.9312</td>\n",
       "    </tr>\n",
       "    <tr>\n",
       "      <th>16508</th>\n",
       "      <td>-117.56</td>\n",
       "      <td>33.88</td>\n",
       "      <td>40.0</td>\n",
       "      <td>1196.0</td>\n",
       "      <td>294.0</td>\n",
       "      <td>1052.0</td>\n",
       "      <td>258.0</td>\n",
       "      <td>2.0682</td>\n",
       "    </tr>\n",
       "    <tr>\n",
       "      <th>16509</th>\n",
       "      <td>-116.40</td>\n",
       "      <td>34.09</td>\n",
       "      <td>9.0</td>\n",
       "      <td>4855.0</td>\n",
       "      <td>872.0</td>\n",
       "      <td>2098.0</td>\n",
       "      <td>765.0</td>\n",
       "      <td>3.2723</td>\n",
       "    </tr>\n",
       "    <tr>\n",
       "      <th>16510</th>\n",
       "      <td>-118.01</td>\n",
       "      <td>33.82</td>\n",
       "      <td>31.0</td>\n",
       "      <td>1960.0</td>\n",
       "      <td>380.0</td>\n",
       "      <td>1356.0</td>\n",
       "      <td>356.0</td>\n",
       "      <td>4.0625</td>\n",
       "    </tr>\n",
       "    <tr>\n",
       "      <th>16511</th>\n",
       "      <td>-122.45</td>\n",
       "      <td>37.77</td>\n",
       "      <td>52.0</td>\n",
       "      <td>3095.0</td>\n",
       "      <td>682.0</td>\n",
       "      <td>1269.0</td>\n",
       "      <td>639.0</td>\n",
       "      <td>3.5750</td>\n",
       "    </tr>\n",
       "  </tbody>\n",
       "</table>\n",
       "<p>16512 rows × 8 columns</p>\n",
       "</div>"
      ],
      "text/plain": [
       "       longitude  latitude  housing_median_age  total_rooms  total_bedrooms  \\\n",
       "0        -121.89     37.29                38.0       1568.0           351.0   \n",
       "1        -121.93     37.05                14.0        679.0           108.0   \n",
       "2        -117.20     32.77                31.0       1952.0           471.0   \n",
       "3        -119.61     36.31                25.0       1847.0           371.0   \n",
       "4        -118.59     34.23                17.0       6592.0          1525.0   \n",
       "...          ...       ...                 ...          ...             ...   \n",
       "16507    -118.13     34.20                46.0       1271.0           236.0   \n",
       "16508    -117.56     33.88                40.0       1196.0           294.0   \n",
       "16509    -116.40     34.09                 9.0       4855.0           872.0   \n",
       "16510    -118.01     33.82                31.0       1960.0           380.0   \n",
       "16511    -122.45     37.77                52.0       3095.0           682.0   \n",
       "\n",
       "       population  households  median_income  \n",
       "0           710.0       339.0         2.7042  \n",
       "1           306.0       113.0         6.4214  \n",
       "2           936.0       462.0         2.8621  \n",
       "3          1460.0       353.0         1.8839  \n",
       "4          4459.0      1463.0         3.0347  \n",
       "...           ...         ...            ...  \n",
       "16507       573.0       210.0         4.9312  \n",
       "16508      1052.0       258.0         2.0682  \n",
       "16509      2098.0       765.0         3.2723  \n",
       "16510      1356.0       356.0         4.0625  \n",
       "16511      1269.0       639.0         3.5750  \n",
       "\n",
       "[16512 rows x 8 columns]"
      ]
     },
     "execution_count": 43,
     "metadata": {},
     "output_type": "execute_result"
    }
   ],
   "source": [
    "data_numtf"
   ]
  },
  {
   "cell_type": "markdown",
   "metadata": {},
   "source": [
    "##### SciKit learn design \n",
    "\n",
    "**Estimator** \n",
    ">Any object that can estimate some parameters based on a dataset is called estimator.\n",
    "imputer is an estimator and it is performed by fit() method\n",
    "Any other parameter which needs to guide the estimator is given as a hyperparameter. In this case its Imputer strategy\n",
    "\n",
    "**Transformers** \n",
    ">Some estimators can also transform a dataset \n",
    "Transformers is performed by the transform() method. Transform method usually relies on the learned parameters,as in this case of an imputer. \n",
    "fit_transform() is the same as fitting first and then transforming it. \n",
    "sometimes fit_transform is optimized to run faster. \n",
    "\n",
    "**Predictors** \n",
    ">Some estimators are capable of making predictions given a dataset \n",
    "eg: LinearRegression model is a predictor which uses predict() method to perform. \n",
    "Also it has a score() method to measure the quality of the predictions on the test set\n",
    "\n",
    "**Inspection** \n",
    ">All the estimator's hyperparatmers are accessible via a public instance variables \n",
    "eg; imputer.strategy \n",
    "all the estimator's learned parameters are also accessible via a public instance variable with an underscore eg: imputer.statistics_ \n",
    "\n",
    "**Non proliferation of classes** \n",
    ">Datasets are represented as NumPy arrays or SciPy\n",
    "sparse matrices, instead of homemade classes. Hyperparameters are just regular\n",
    "Python strings or numbers.\n",
    "\n",
    "**Composition** \n",
    ">Existing building blocks are reused as much as possible. For\n",
    "example, it is easy to create a Pipeline estimator from an arbitrary sequence of\n",
    "transformers followed by a final estimator.\n",
    "\n",
    "**Sensible defaults** \n",
    ">SciKit learns provides reasonable defaults for most parameters. "
   ]
  },
  {
   "cell_type": "markdown",
   "metadata": {},
   "source": [
    "#### Handling text and catagorical attributes "
   ]
  },
  {
   "cell_type": "markdown",
   "metadata": {},
   "source": [
    "In our dataset we have only ocean proximity as the categorical variable "
   ]
  },
  {
   "cell_type": "code",
   "execution_count": 44,
   "metadata": {},
   "outputs": [
    {
     "data": {
      "text/html": [
       "<div>\n",
       "<style scoped>\n",
       "    .dataframe tbody tr th:only-of-type {\n",
       "        vertical-align: middle;\n",
       "    }\n",
       "\n",
       "    .dataframe tbody tr th {\n",
       "        vertical-align: top;\n",
       "    }\n",
       "\n",
       "    .dataframe thead th {\n",
       "        text-align: right;\n",
       "    }\n",
       "</style>\n",
       "<table border=\"1\" class=\"dataframe\">\n",
       "  <thead>\n",
       "    <tr style=\"text-align: right;\">\n",
       "      <th></th>\n",
       "      <th>ocean_proximity</th>\n",
       "    </tr>\n",
       "  </thead>\n",
       "  <tbody>\n",
       "    <tr>\n",
       "      <th>17606</th>\n",
       "      <td>&lt;1H OCEAN</td>\n",
       "    </tr>\n",
       "    <tr>\n",
       "      <th>18632</th>\n",
       "      <td>&lt;1H OCEAN</td>\n",
       "    </tr>\n",
       "    <tr>\n",
       "      <th>14650</th>\n",
       "      <td>NEAR OCEAN</td>\n",
       "    </tr>\n",
       "    <tr>\n",
       "      <th>3230</th>\n",
       "      <td>INLAND</td>\n",
       "    </tr>\n",
       "    <tr>\n",
       "      <th>3555</th>\n",
       "      <td>&lt;1H OCEAN</td>\n",
       "    </tr>\n",
       "    <tr>\n",
       "      <th>19480</th>\n",
       "      <td>INLAND</td>\n",
       "    </tr>\n",
       "    <tr>\n",
       "      <th>8879</th>\n",
       "      <td>&lt;1H OCEAN</td>\n",
       "    </tr>\n",
       "    <tr>\n",
       "      <th>13685</th>\n",
       "      <td>INLAND</td>\n",
       "    </tr>\n",
       "    <tr>\n",
       "      <th>4937</th>\n",
       "      <td>&lt;1H OCEAN</td>\n",
       "    </tr>\n",
       "    <tr>\n",
       "      <th>4861</th>\n",
       "      <td>&lt;1H OCEAN</td>\n",
       "    </tr>\n",
       "  </tbody>\n",
       "</table>\n",
       "</div>"
      ],
      "text/plain": [
       "      ocean_proximity\n",
       "17606       <1H OCEAN\n",
       "18632       <1H OCEAN\n",
       "14650      NEAR OCEAN\n",
       "3230           INLAND\n",
       "3555        <1H OCEAN\n",
       "19480          INLAND\n",
       "8879        <1H OCEAN\n",
       "13685          INLAND\n",
       "4937        <1H OCEAN\n",
       "4861        <1H OCEAN"
      ]
     },
     "execution_count": 44,
     "metadata": {},
     "output_type": "execute_result"
    }
   ],
   "source": [
    "data_cat = data[['ocean_proximity']] \n",
    "#double brackets for storing the categorical value as dataframe\n",
    "data_cat.head(10)"
   ]
  },
  {
   "cell_type": "markdown",
   "metadata": {},
   "source": [
    "Encoding the categorical value to numerical value using OrdinalEncoder from sklearn"
   ]
  },
  {
   "cell_type": "code",
   "execution_count": 45,
   "metadata": {},
   "outputs": [],
   "source": [
    "from sklearn.preprocessing import OrdinalEncoder\n",
    "ordinal_encoder = OrdinalEncoder()"
   ]
  },
  {
   "cell_type": "code",
   "execution_count": 46,
   "metadata": {},
   "outputs": [],
   "source": [
    "data_cat_encoded = ordinal_encoder.fit_transform(data_cat)"
   ]
  },
  {
   "cell_type": "markdown",
   "metadata": {},
   "source": [
    "The list of categories can be obtained from the public instance variable of categories_"
   ]
  },
  {
   "cell_type": "code",
   "execution_count": 47,
   "metadata": {},
   "outputs": [
    {
     "data": {
      "text/plain": [
       "[array(['<1H OCEAN', 'INLAND', 'ISLAND', 'NEAR BAY', 'NEAR OCEAN'],\n",
       "       dtype=object)]"
      ]
     },
     "execution_count": 47,
     "metadata": {},
     "output_type": "execute_result"
    }
   ],
   "source": [
    "ordinal_encoder.categories_"
   ]
  },
  {
   "cell_type": "markdown",
   "metadata": {},
   "source": [
    "The problem with the oridinal encoder labelling is that ML algorithms will assume that 2 nearby values are more similar that 2 distant values.\n",
    "To solve this, we need to use OneHotEncoder module "
   ]
  },
  {
   "cell_type": "markdown",
   "metadata": {},
   "source": [
    "Encoding the categorical value to numerical value using OneHotEncoder from sklearn which returns a SciPy sparse matrix with 0's and 1's \n"
   ]
  },
  {
   "cell_type": "code",
   "execution_count": 48,
   "metadata": {},
   "outputs": [],
   "source": [
    "from sklearn.preprocessing import OneHotEncoder\n",
    "one_hot_encoder = OneHotEncoder()"
   ]
  },
  {
   "cell_type": "code",
   "execution_count": 49,
   "metadata": {},
   "outputs": [],
   "source": [
    "data_onehot_encode = one_hot_encoder.fit_transform(data_cat)"
   ]
  },
  {
   "cell_type": "code",
   "execution_count": 50,
   "metadata": {},
   "outputs": [
    {
     "data": {
      "text/plain": [
       "<16512x5 sparse matrix of type '<class 'numpy.float64'>'\n",
       "\twith 16512 stored elements in Compressed Sparse Row format>"
      ]
     },
     "execution_count": 50,
     "metadata": {},
     "output_type": "execute_result"
    }
   ],
   "source": [
    "data_onehot_encode"
   ]
  },
  {
   "cell_type": "code",
   "execution_count": 51,
   "metadata": {},
   "outputs": [
    {
     "data": {
      "text/plain": [
       "array([[1., 0., 0., 0., 0.],\n",
       "       [1., 0., 0., 0., 0.],\n",
       "       [0., 0., 0., 0., 1.],\n",
       "       ...,\n",
       "       [0., 1., 0., 0., 0.],\n",
       "       [1., 0., 0., 0., 0.],\n",
       "       [0., 0., 0., 1., 0.]])"
      ]
     },
     "execution_count": 51,
     "metadata": {},
     "output_type": "execute_result"
    }
   ],
   "source": [
    "data_onehot_encode.toarray() #converting to toarray in order to view the information "
   ]
  },
  {
   "cell_type": "code",
   "execution_count": 52,
   "metadata": {},
   "outputs": [
    {
     "data": {
      "text/plain": [
       "'The list of categories can be obtained _from the public instance variable of categories_'"
      ]
     },
     "execution_count": 52,
     "metadata": {},
     "output_type": "execute_result"
    }
   ],
   "source": [
    "one_hot_encoder.categories_\n",
    "'''The list of categories can be obtained _from the public instance variable of categories_'''"
   ]
  },
  {
   "cell_type": "markdown",
   "metadata": {},
   "source": [
    "When there are large number of the categorical variables one hot encoder will result in large number of input variables. this will slow down training and degrade performance. \n",
    "In such cases we may want to replace categorical variable with numerical variable. (instead of label values of ocean proximity, use distance from the ocean in meters etc.) \n",
    "\n",
    "Another alternate way is to replace the categorical with learnable low dimensional vector called <font color='green'>**embedding**</font>. Each category's representation will be learnt during training.  This is called <font color='green'>**representational learning**</font>"
   ]
  },
  {
   "cell_type": "markdown",
   "metadata": {},
   "source": [
    "#### Custom Transformers"
   ]
  },
  {
   "cell_type": "markdown",
   "metadata": {},
   "source": [
    "[**<font color='yellow'>Duck Typing</font>**](https://en.wikipedia.org/wiki/Duck_typing) When an object's suitability is determined by the presence of a certain method rather than the object's type itself. \n",
    "\n",
    "We don't need to instantiate the class, rather the method association with the object defines \n",
    "\n",
    "```python\n",
    "class Duck:\n",
    "    def fly(self):\n",
    "        print(\"Duck flying\")\n",
    "\n",
    "class Airplane:\n",
    "    def fly(self):\n",
    "        print(\"Airplane flying\")\n",
    "\n",
    "class Whale:\n",
    "    def swim(self):\n",
    "        print(\"Whale swimming\")\n",
    "\n",
    "for animal in Duck(), Airplane(), Whale():\n",
    "    animal.fly()\n",
    "```\n",
    "\n",
    "Output:\n",
    ">Duck flying<br>\n",
    "Airplane flying<br>\n",
    "AttributeError: 'Whale' object has no attribute 'fly'\n",
    "\n",
    "\n"
   ]
  },
  {
   "cell_type": "code",
   "execution_count": 53,
   "metadata": {},
   "outputs": [],
   "source": [
    "from sklearn.base import BaseEstimator, TransformerMixin\n",
    "\n",
    "rooms_ix,bedrooms_ix,population_ix,households_ix = 3,4,5,6\n",
    "\n",
    "class CombinedAttributesAdder(BaseEstimator,TransformerMixin):\n",
    "    def __init__(self,add_bedrooms_per_room=True):\n",
    "        self.add_bedrooms_per_room = add_bedrooms_per_room\n",
    "    def fit(self, X,y=None):\n",
    "        return self\n",
    "    def transform(self, X, y=None):\n",
    "        rooms_per_household = X[:,rooms_ix] / X[:,households_ix]\n",
    "        population_per_household = X[:,population_ix] / X[:,households_ix]\n",
    "        if self.add_bedrooms_per_room:\n",
    "            bedrooms_per_room = X[:,bedrooms_ix] / X[:,rooms_ix]\n",
    "            return np.c_[X,rooms_per_household,population_per_household,bedrooms_per_room]\n",
    "        else:\n",
    "            return np.c_[X,rooms_per_household,population_per_household]\n",
    "attr_adder = CombinedAttributesAdder(add_bedrooms_per_room=False)\n",
    "housing_extra_addribs = attr_adder.transform(data.values)"
   ]
  },
  {
   "cell_type": "markdown",
   "metadata": {},
   "source": [
    "combined attributes adder class inherits from BaseEstimator which contains get_params() and set_params() which is useful for automatic hyperparameter tuning. "
   ]
  },
  {
   "cell_type": "markdown",
   "metadata": {},
   "source": [
    "#### Feature scaling "
   ]
  },
  {
   "cell_type": "markdown",
   "metadata": {},
   "source": [
    "Machine learning algorithms won't perform well when input numerical data attributes are at different scale. \n",
    "\n",
    ">scaling the target variable is generally not required\n",
    "\n",
    "Two common ways of getting the all the attributes to scale: \n",
    "    \n",
    "    1.min-max scaling \n",
    "    2.standardization \n",
    "    \n",
    "Min-Max scaling is scaling technique where values are shifted and rescaled so that they end up from 0 to 1. sklearn has a inbuilt transformer called <font color='green'>MinMaxScalar</font>\n",
    "\n",
    "Standardization subtracts the mean value and then divides by standard deviation so that the resulting distribution has unit variance. \n",
    "\n",
    "This is not affected by outliers. \n",
    "Standardization does not bound values to specific range. (may be a problem for neural networks as it expects an input value from 0 to 1.\n",
    "\n",
    "<font color='green'>StandardScalar</font> is used to perform the standardization in sklearn. \n"
   ]
  },
  {
   "cell_type": "markdown",
   "metadata": {},
   "source": [
    ">Its always import to fit the scalers to only the training data and not to the full dataset(including test data). why is this? "
   ]
  },
  {
   "cell_type": "markdown",
   "metadata": {},
   "source": [
    "#### Transformation Pipelines"
   ]
  },
  {
   "cell_type": "markdown",
   "metadata": {},
   "source": [
    "SciKit-learn providess ***Pipeline*** class to perform the sequence of steps required for the transformation of the data. "
   ]
  },
  {
   "cell_type": "code",
   "execution_count": 54,
   "metadata": {},
   "outputs": [],
   "source": [
    "from sklearn.pipeline import Pipeline\n",
    "from sklearn.preprocessing import StandardScaler\n",
    "\n",
    "num_pipeline = Pipeline([\n",
    "                        ('imputer', SimpleImputer(strategy='median')),\n",
    "                        ('attribs',CombinedAttributesAdder()),\n",
    "                        ('std_scaler',StandardScaler())\n",
    "                        ])\n",
    "data_num_tf = num_pipeline.fit_transform(data_num)"
   ]
  },
  {
   "cell_type": "markdown",
   "metadata": {},
   "source": [
    "The last estimator in the Pipeline constructor should be a transformer. The class should contains the fit_transform() method.\n",
    "\n",
    "When the Pipeline's fit() method is called, the fit_transform() methods are called sequentially on all transformers passing the output of each call as parameter to the next call, untill it reaches the final estimator, for which it just calls the fit() method. "
   ]
  },
  {
   "cell_type": "markdown",
   "metadata": {},
   "source": [
    "Importing the columntransformer from the sklearn compose package"
   ]
  },
  {
   "cell_type": "code",
   "execution_count": 55,
   "metadata": {},
   "outputs": [],
   "source": [
    "from sklearn.compose import ColumnTransformer\n",
    "\n",
    "num_attrib = list(data_num)"
   ]
  },
  {
   "cell_type": "code",
   "execution_count": 56,
   "metadata": {},
   "outputs": [
    {
     "data": {
      "text/plain": [
       "['longitude',\n",
       " 'latitude',\n",
       " 'housing_median_age',\n",
       " 'total_rooms',\n",
       " 'total_bedrooms',\n",
       " 'population',\n",
       " 'households',\n",
       " 'median_income']"
      ]
     },
     "execution_count": 56,
     "metadata": {},
     "output_type": "execute_result"
    }
   ],
   "source": [
    "num_attrib"
   ]
  },
  {
   "cell_type": "code",
   "execution_count": 57,
   "metadata": {},
   "outputs": [],
   "source": [
    "cat_attrib = ['ocean_proximity']\n",
    "\n",
    "full_pipe = ColumnTransformer([('num',num_pipeline,num_attrib),\n",
    "                               ('cat',OneHotEncoder(),cat_attrib)])"
   ]
  },
  {
   "cell_type": "markdown",
   "metadata": {},
   "source": [
    "ColumnTransformer requires a list of tuples, where each tuple contains a name (can be anything as long it does not contain with double underscore\n"
   ]
  },
  {
   "cell_type": "code",
   "execution_count": 58,
   "metadata": {},
   "outputs": [],
   "source": [
    "data_prep = full_pipe.fit_transform(data)"
   ]
  },
  {
   "cell_type": "code",
   "execution_count": 59,
   "metadata": {},
   "outputs": [
    {
     "data": {
      "text/plain": [
       "array([[-1.15604281,  0.77194962,  0.74333089, -0.49323393, -0.44543821,\n",
       "        -0.63621141, -0.42069842, -0.61493744, -0.31205452, -0.08649871,\n",
       "         0.15531753,  1.        ,  0.        ,  0.        ,  0.        ,\n",
       "         0.        ],\n",
       "       [-1.17602483,  0.6596948 , -1.1653172 , -0.90896655, -1.0369278 ,\n",
       "        -0.99833135, -1.02222705,  1.33645936,  0.21768338, -0.03353391,\n",
       "        -0.83628902,  1.        ,  0.        ,  0.        ,  0.        ,\n",
       "         0.        ],\n",
       "       [ 1.18684903, -1.34218285,  0.18664186, -0.31365989, -0.15334458,\n",
       "        -0.43363936, -0.0933178 , -0.5320456 , -0.46531516, -0.09240499,\n",
       "         0.4222004 ,  0.        ,  0.        ,  0.        ,  0.        ,\n",
       "         1.        ],\n",
       "       [-0.01706767,  0.31357576, -0.29052016, -0.36276217, -0.39675594,\n",
       "         0.03604096, -0.38343559, -1.04556555, -0.07966124,  0.08973561,\n",
       "        -0.19645314,  0.        ,  1.        ,  0.        ,  0.        ,\n",
       "         0.        ],\n",
       "       [ 0.49247384, -0.65929936, -0.92673619,  1.85619316,  2.41221109,\n",
       "         2.72415407,  2.57097492, -0.44143679, -0.35783383, -0.00419445,\n",
       "         0.2699277 ,  1.        ,  0.        ,  0.        ,  0.        ,\n",
       "         0.        ]])"
      ]
     },
     "execution_count": 59,
     "metadata": {},
     "output_type": "execute_result"
    }
   ],
   "source": [
    "data_prep[:5]"
   ]
  },
  {
   "cell_type": "markdown",
   "metadata": {},
   "source": [
    "OneHotEncode retruns a sparse matrix while the num_pipeline returns a dense matrix. \n",
    "ColumnTransformer estimates the density of the final matrix. \n",
    "ratio of non-zero cells and returns a sparse matrix if the density is lower than given threshold  (sparse_threshold = 0.3)"
   ]
  },
  {
   "cell_type": "markdown",
   "metadata": {},
   "source": [
    "#### Select and Train a Model"
   ]
  },
  {
   "cell_type": "code",
   "execution_count": 60,
   "metadata": {},
   "outputs": [
    {
     "data": {
      "text/plain": [
       "LinearRegression(copy_X=True, fit_intercept=True, n_jobs=None, normalize=False)"
      ]
     },
     "execution_count": 60,
     "metadata": {},
     "output_type": "execute_result"
    }
   ],
   "source": [
    "from sklearn.linear_model import LinearRegression\n",
    "\n",
    "regressor = LinearRegression()\n",
    "regressor.fit(data_prep,housing_value_label) #data_prep is the predictor, housing_label_value is the Response "
   ]
  },
  {
   "cell_type": "code",
   "execution_count": 61,
   "metadata": {},
   "outputs": [
    {
     "name": "stdout",
     "output_type": "stream",
     "text": [
      "Predictions:  [210644.60459286 317768.80697211 210956.43331178  59218.98886849\n",
      " 189747.55849879]\n",
      "labels [286600.0, 340600.0, 196900.0, 46300.0, 254500.0]\n"
     ]
    }
   ],
   "source": [
    "some_data = data.iloc[:5]\n",
    "some_labels = housing_value_label.iloc[:5]\n",
    "some_data_prep = full_pipe.transform(some_data)\n",
    "print(\"Predictions: \",regressor.predict(some_data_prep))\n",
    "print(\"labels\",list(some_labels))\n"
   ]
  },
  {
   "cell_type": "markdown",
   "metadata": {},
   "source": [
    "Calculating the mean squared error"
   ]
  },
  {
   "cell_type": "code",
   "execution_count": 62,
   "metadata": {},
   "outputs": [],
   "source": [
    "from sklearn.metrics import mean_squared_error"
   ]
  },
  {
   "cell_type": "code",
   "execution_count": 63,
   "metadata": {},
   "outputs": [
    {
     "data": {
      "text/plain": [
       "68628.19819848923"
      ]
     },
     "execution_count": 63,
     "metadata": {},
     "output_type": "execute_result"
    }
   ],
   "source": [
    "data_prediction = regressor.predict(data_prep)\n",
    "lin_mse = mean_squared_error(housing_value_label,data_prediction)\n",
    "lin_rmse = np.sqrt(lin_mse)\n",
    "lin_rmse"
   ]
  },
  {
   "cell_type": "markdown",
   "metadata": {},
   "source": [
    "The root mean squared error value is higher and this is an example of underfitting the data. \n",
    "\n",
    "> Selecting a powerful model with more features <br>\n",
    "Feeding better features to the learning algorithm"
   ]
  },
  {
   "cell_type": "markdown",
   "metadata": {},
   "source": [
    "Model using Decision Trees"
   ]
  },
  {
   "cell_type": "code",
   "execution_count": 64,
   "metadata": {},
   "outputs": [
    {
     "data": {
      "text/plain": [
       "DecisionTreeRegressor(criterion='mse', max_depth=None, max_features=None,\n",
       "                      max_leaf_nodes=None, min_impurity_decrease=0.0,\n",
       "                      min_impurity_split=None, min_samples_leaf=1,\n",
       "                      min_samples_split=2, min_weight_fraction_leaf=0.0,\n",
       "                      presort=False, random_state=None, splitter='best')"
      ]
     },
     "execution_count": 64,
     "metadata": {},
     "output_type": "execute_result"
    }
   ],
   "source": [
    "from sklearn.tree import DecisionTreeRegressor\n",
    "tree_reg = DecisionTreeRegressor()\n",
    "tree_reg.fit(data_prep,housing_value_label)"
   ]
  },
  {
   "cell_type": "markdown",
   "metadata": {},
   "source": [
    "Model is trained on the decision tree"
   ]
  },
  {
   "cell_type": "code",
   "execution_count": 65,
   "metadata": {},
   "outputs": [
    {
     "data": {
      "text/plain": [
       "0.0"
      ]
     },
     "execution_count": 65,
     "metadata": {},
     "output_type": "execute_result"
    }
   ],
   "source": [
    "data_prediction = tree_reg.predict(data_prep)\n",
    "tree_mse = mean_squared_error(housing_value_label,data_prediction)\n",
    "tree_rmse = np.sqrt(tree_mse)\n",
    "tree_rmse"
   ]
  },
  {
   "cell_type": "markdown",
   "metadata": {},
   "source": [
    "I'ts more likely the model has overfitted the data. how can we be sure? "
   ]
  },
  {
   "cell_type": "markdown",
   "metadata": {},
   "source": [
    "#### Better evaluation using cross-validation"
   ]
  },
  {
   "cell_type": "markdown",
   "metadata": {},
   "source": [
    "One way is to use train_test_Split in order to evaluate the decision tree model\n",
    "Training the models against a smaller training set and evaluate them against the validation set. \n",
    "\n",
    ">Using SciKit learn K fold cross validation feature, smaller training sets are divided into 10 folds and evaluated aganist 1 fold while being trained on the remaining 9 folds. Each folds are randomly picked."
   ]
  },
  {
   "cell_type": "code",
   "execution_count": 66,
   "metadata": {},
   "outputs": [],
   "source": [
    "from sklearn.model_selection import cross_val_score"
   ]
  },
  {
   "cell_type": "markdown",
   "metadata": {},
   "source": [
    "[Model Evaluation scoring methods](https://scikit-learn.org/stable/modules/model_evaluation.html) - Reference SciKit Learn"
   ]
  },
  {
   "cell_type": "code",
   "execution_count": 67,
   "metadata": {},
   "outputs": [],
   "source": [
    "scores = cross_val_score(tree_reg,data_prep,housing_value_label,\n",
    "                         scoring='neg_mean_squared_error',cv=10)\n",
    "tree_rmse_scores = np.sqrt(-scores)"
   ]
  },
  {
   "cell_type": "markdown",
   "metadata": {},
   "source": [
    "Reason for the -ve sign:\n",
    "\n",
    ">SciKit learn cross validation feature expects a utility function rather than a cost function(lower is better). Scoring function is opposite of the MSE. hence the negative value"
   ]
  },
  {
   "cell_type": "code",
   "execution_count": 68,
   "metadata": {},
   "outputs": [],
   "source": [
    "def display_scores(scores):\n",
    "    print(\"scores: \",scores)\n",
    "    print(\"Mean:\",scores.mean())\n",
    "    print(\"Standard Deviation\",scores.std())"
   ]
  },
  {
   "cell_type": "code",
   "execution_count": 69,
   "metadata": {},
   "outputs": [
    {
     "name": "stdout",
     "output_type": "stream",
     "text": [
      "scores:  [70055.6039563  69190.13093509 70679.9819983  68870.82463427\n",
      " 71392.80630375 74449.24144808 71807.18028639 71418.06757521\n",
      " 76388.13928657 68990.27721449]\n",
      "Mean: 71324.22536384416\n",
      "Standard Deviation 2317.3476828245125\n"
     ]
    }
   ],
   "source": [
    "display_scores(tree_rmse_scores)"
   ]
  },
  {
   "cell_type": "markdown",
   "metadata": {},
   "source": [
    "Cross Validation score for linear regression"
   ]
  },
  {
   "cell_type": "code",
   "execution_count": 70,
   "metadata": {},
   "outputs": [],
   "source": [
    "lin_scores = cross_val_score(regressor,data_prep,housing_value_label,\n",
    "                             scoring='neg_mean_squared_error',cv=10)"
   ]
  },
  {
   "cell_type": "code",
   "execution_count": 71,
   "metadata": {},
   "outputs": [],
   "source": [
    "lin_rmse_scores = np.sqrt(-lin_scores)"
   ]
  },
  {
   "cell_type": "code",
   "execution_count": 72,
   "metadata": {},
   "outputs": [
    {
     "name": "stdout",
     "output_type": "stream",
     "text": [
      "scores:  [66782.73843989 66960.118071   70347.95244419 74739.57052552\n",
      " 68031.13388938 71193.84183426 64969.63056405 68281.61137997\n",
      " 71552.91566558 67665.10082067]\n",
      "Mean: 69052.46136345083\n",
      "Standard Deviation 2731.674001798346\n"
     ]
    }
   ],
   "source": [
    "display_scores(lin_rmse_scores)"
   ]
  },
  {
   "cell_type": "markdown",
   "metadata": {},
   "source": [
    "We would expect a low mean sqauared error rate, here the decision tree is performing worse than the linear regression "
   ]
  },
  {
   "cell_type": "markdown",
   "metadata": {},
   "source": [
    "Model is trained on the decision tree"
   ]
  },
  {
   "cell_type": "code",
   "execution_count": 73,
   "metadata": {},
   "outputs": [],
   "source": [
    "from sklearn.ensemble import RandomForestRegressor"
   ]
  },
  {
   "cell_type": "code",
   "execution_count": 74,
   "metadata": {},
   "outputs": [
    {
     "name": "stderr",
     "output_type": "stream",
     "text": [
      "C:\\Users\\bhara\\Anaconda3\\lib\\site-packages\\sklearn\\ensemble\\forest.py:245: FutureWarning: The default value of n_estimators will change from 10 in version 0.20 to 100 in 0.22.\n",
      "  \"10 in version 0.20 to 100 in 0.22.\", FutureWarning)\n"
     ]
    },
    {
     "data": {
      "text/plain": [
       "RandomForestRegressor(bootstrap=True, criterion='mse', max_depth=None,\n",
       "                      max_features='auto', max_leaf_nodes=None,\n",
       "                      min_impurity_decrease=0.0, min_impurity_split=None,\n",
       "                      min_samples_leaf=1, min_samples_split=2,\n",
       "                      min_weight_fraction_leaf=0.0, n_estimators=10, n_jobs=-1,\n",
       "                      oob_score=False, random_state=None, verbose=0,\n",
       "                      warm_start=False)"
      ]
     },
     "execution_count": 74,
     "metadata": {},
     "output_type": "execute_result"
    }
   ],
   "source": [
    "ranfor_reg = RandomForestRegressor(n_jobs=-1)\n",
    "ranfor_reg.fit(data_prep,housing_value_label)"
   ]
  },
  {
   "cell_type": "code",
   "execution_count": 75,
   "metadata": {},
   "outputs": [
    {
     "data": {
      "text/plain": [
       "22145.197674043684"
      ]
     },
     "execution_count": 75,
     "metadata": {},
     "output_type": "execute_result"
    }
   ],
   "source": [
    "forest_predictor = ranfor_reg.predict(data_prep)\n",
    "forest_mse = mean_squared_error(housing_value_label,forest_predictor)\n",
    "forest_mse\n",
    "forest_rmse = np.sqrt(forest_mse)\n",
    "forest_rmse"
   ]
  },
  {
   "cell_type": "code",
   "execution_count": 76,
   "metadata": {},
   "outputs": [
    {
     "name": "stdout",
     "output_type": "stream",
     "text": [
      "scores:  [51238.98810083 49301.95918039 53411.37227583 55326.2434461\n",
      " 51935.93179484 56255.22099153 51674.61436101 50815.08198284\n",
      " 55237.2646709  53506.57232507]\n",
      "Mean: 52870.32491293433\n",
      "Standard Deviation 2137.9975598942615\n"
     ]
    }
   ],
   "source": [
    "forest_scores = cross_val_score(ranfor_reg,data_prep,housing_value_label,\n",
    "                                scoring='neg_mean_squared_error',cv=10,n_jobs=-1)\n",
    "forest_rmse_scores = np.sqrt(-forest_scores)\n",
    "display_scores(forest_rmse_scores)"
   ]
  },
  {
   "cell_type": "markdown",
   "metadata": {},
   "source": [
    "From the above results the training set scores till is less than that of the validation set.\n",
    "The model is still overfitting the training set. \n",
    "\n",
    "Solution is to regularize it(constrain it) or get more training data. \n"
   ]
  },
  {
   "cell_type": "markdown",
   "metadata": {},
   "source": [
    "The Hyperparameter, trained parameter , cross-validation scores and even the actual prediction should be saved in order to compare with multiple models. \n"
   ]
  },
  {
   "cell_type": "markdown",
   "metadata": {},
   "source": [
    "Python's Pickle module is used to serialize objects structure \n",
    "SciKit learn's joblib is more efficient in serializeing NumPy arrays "
   ]
  },
  {
   "cell_type": "code",
   "execution_count": 77,
   "metadata": {},
   "outputs": [
    {
     "name": "stderr",
     "output_type": "stream",
     "text": [
      "C:\\Users\\bhara\\Anaconda3\\lib\\site-packages\\sklearn\\externals\\joblib\\__init__.py:15: DeprecationWarning: sklearn.externals.joblib is deprecated in 0.21 and will be removed in 0.23. Please import this functionality directly from joblib, which can be installed with: pip install joblib. If this warning is raised when loading pickled models, you may need to re-serialize those models with scikit-learn 0.21+.\n",
      "  warnings.warn(msg, category=DeprecationWarning)\n"
     ]
    }
   ],
   "source": [
    "from sklearn.externals import joblib"
   ]
  },
  {
   "cell_type": "code",
   "execution_count": 78,
   "metadata": {},
   "outputs": [
    {
     "data": {
      "text/plain": [
       "['model.pkl']"
      ]
     },
     "execution_count": 78,
     "metadata": {},
     "output_type": "execute_result"
    }
   ],
   "source": [
    "joblib.dump(forest_rmse,\"model.pkl\")"
   ]
  },
  {
   "cell_type": "markdown",
   "metadata": {},
   "source": [
    "#### Fine-Tune your model \n",
    "\n",
    "##### Grid Search \n",
    "In order to fine tune the model we would have to change the hyperparameter manually, which could take time and tedious to perform manually. \n",
    "\n",
    "SciKit learn's GridSearchCV can perform the same automatically, we need to give the hyperparamter to experiment with and the values to try out and this will evaluate all the possible combinations of the hyperparameter values using cross validation. "
   ]
  },
  {
   "cell_type": "code",
   "execution_count": 79,
   "metadata": {},
   "outputs": [],
   "source": [
    "from sklearn.model_selection import GridSearchCV"
   ]
  },
  {
   "cell_type": "code",
   "execution_count": 80,
   "metadata": {},
   "outputs": [],
   "source": [
    "param_grid = [\n",
    "    {'n_estimators':[3,10,30], 'max_features':[2,4,6,8]},\n",
    "    {'bootstrap':[False],'n_estimators':[3,10],'max_features':[2,3,4]}\n",
    "]\n"
   ]
  },
  {
   "cell_type": "code",
   "execution_count": 81,
   "metadata": {},
   "outputs": [
    {
     "data": {
      "text/plain": [
       "GridSearchCV(cv=5, error_score='raise-deprecating',\n",
       "             estimator=RandomForestRegressor(bootstrap=True, criterion='mse',\n",
       "                                             max_depth=None,\n",
       "                                             max_features='auto',\n",
       "                                             max_leaf_nodes=None,\n",
       "                                             min_impurity_decrease=0.0,\n",
       "                                             min_impurity_split=None,\n",
       "                                             min_samples_leaf=1,\n",
       "                                             min_samples_split=2,\n",
       "                                             min_weight_fraction_leaf=0.0,\n",
       "                                             n_estimators=10, n_jobs=-1,\n",
       "                                             oob_score=False, random_state=None,\n",
       "                                             verbose=0, warm_start=False),\n",
       "             iid='warn', n_jobs=-1,\n",
       "             param_grid=[{'max_features': [2, 4, 6, 8],\n",
       "                          'n_estimators': [3, 10, 30]},\n",
       "                         {'bootstrap': [False], 'max_features': [2, 3, 4],\n",
       "                          'n_estimators': [3, 10]}],\n",
       "             pre_dispatch='2*n_jobs', refit=True, return_train_score=True,\n",
       "             scoring='neg_mean_squared_error', verbose=0)"
      ]
     },
     "execution_count": 81,
     "metadata": {},
     "output_type": "execute_result"
    }
   ],
   "source": [
    "grid_search = GridSearchCV(ranfor_reg,param_grid,cv=5,n_jobs=-1,\n",
    "                          scoring='neg_mean_squared_error',\n",
    "                          return_train_score=True)\n",
    "grid_search.fit(data_prep,housing_value_label)"
   ]
  },
  {
   "cell_type": "code",
   "execution_count": 82,
   "metadata": {},
   "outputs": [
    {
     "data": {
      "text/plain": [
       "{'max_features': 6, 'n_estimators': 30}"
      ]
     },
     "execution_count": 82,
     "metadata": {},
     "output_type": "execute_result"
    }
   ],
   "source": [
    "grid_search.best_params_ # getting the best parameters"
   ]
  },
  {
   "cell_type": "code",
   "execution_count": 83,
   "metadata": {},
   "outputs": [
    {
     "data": {
      "text/plain": [
       "RandomForestRegressor(bootstrap=True, criterion='mse', max_depth=None,\n",
       "                      max_features=6, max_leaf_nodes=None,\n",
       "                      min_impurity_decrease=0.0, min_impurity_split=None,\n",
       "                      min_samples_leaf=1, min_samples_split=2,\n",
       "                      min_weight_fraction_leaf=0.0, n_estimators=30, n_jobs=-1,\n",
       "                      oob_score=False, random_state=None, verbose=0,\n",
       "                      warm_start=False)"
      ]
     },
     "execution_count": 83,
     "metadata": {},
     "output_type": "execute_result"
    }
   ],
   "source": [
    "grid_search.best_estimator_ #getting the best estimator"
   ]
  },
  {
   "cell_type": "code",
   "execution_count": 84,
   "metadata": {},
   "outputs": [
    {
     "data": {
      "text/plain": [
       "{'mean_fit_time': array([0.70791097, 0.46829424, 0.69590411, 0.81185122, 0.73432851,\n",
       "        1.51233311, 0.66782765, 0.90208783, 1.70469584, 0.9070375 ,\n",
       "        0.84783568, 2.18994122, 0.92869115, 0.58041506, 0.59859395,\n",
       "        0.51250238, 0.76263309, 0.65911994]),\n",
       " 'std_fit_time': array([0.53131471, 0.06273699, 0.11974501, 0.0405306 , 0.13916168,\n",
       "        0.08656304, 0.16137672, 0.18125188, 0.09935571, 0.36226941,\n",
       "        0.25646756, 0.31710866, 0.76498085, 0.05697907, 0.07413243,\n",
       "        0.11840048, 0.09589417, 0.18532635]),\n",
       " 'mean_score_time': array([0.3978704 , 0.34247537, 0.25862198, 0.13709121, 0.64727969,\n",
       "        0.19883385, 0.56516147, 0.68618612, 0.6538095 , 0.24270511,\n",
       "        0.6616116 , 0.66327062, 0.23832464, 0.27331901, 0.13442421,\n",
       "        0.31222134, 0.214259  , 0.1812016 ]),\n",
       " 'std_score_time': array([0.30210726, 0.06679227, 0.17027986, 0.01229463, 0.45387902,\n",
       "        0.02779156, 0.14607666, 0.11949847, 0.43625606, 0.10265062,\n",
       "        0.37288911, 0.54304431, 0.15301504, 0.093901  , 0.02503852,\n",
       "        0.09964045, 0.10206005, 0.04411513]),\n",
       " 'param_max_features': masked_array(data=[2, 2, 2, 4, 4, 4, 6, 6, 6, 8, 8, 8, 2, 2, 3, 3, 4, 4],\n",
       "              mask=[False, False, False, False, False, False, False, False,\n",
       "                    False, False, False, False, False, False, False, False,\n",
       "                    False, False],\n",
       "        fill_value='?',\n",
       "             dtype=object),\n",
       " 'param_n_estimators': masked_array(data=[3, 10, 30, 3, 10, 30, 3, 10, 30, 3, 10, 30, 3, 10, 3,\n",
       "                    10, 3, 10],\n",
       "              mask=[False, False, False, False, False, False, False, False,\n",
       "                    False, False, False, False, False, False, False, False,\n",
       "                    False, False],\n",
       "        fill_value='?',\n",
       "             dtype=object),\n",
       " 'param_bootstrap': masked_array(data=[--, --, --, --, --, --, --, --, --, --, --, --, False,\n",
       "                    False, False, False, False, False],\n",
       "              mask=[ True,  True,  True,  True,  True,  True,  True,  True,\n",
       "                     True,  True,  True,  True, False, False, False, False,\n",
       "                    False, False],\n",
       "        fill_value='?',\n",
       "             dtype=object),\n",
       " 'params': [{'max_features': 2, 'n_estimators': 3},\n",
       "  {'max_features': 2, 'n_estimators': 10},\n",
       "  {'max_features': 2, 'n_estimators': 30},\n",
       "  {'max_features': 4, 'n_estimators': 3},\n",
       "  {'max_features': 4, 'n_estimators': 10},\n",
       "  {'max_features': 4, 'n_estimators': 30},\n",
       "  {'max_features': 6, 'n_estimators': 3},\n",
       "  {'max_features': 6, 'n_estimators': 10},\n",
       "  {'max_features': 6, 'n_estimators': 30},\n",
       "  {'max_features': 8, 'n_estimators': 3},\n",
       "  {'max_features': 8, 'n_estimators': 10},\n",
       "  {'max_features': 8, 'n_estimators': 30},\n",
       "  {'bootstrap': False, 'max_features': 2, 'n_estimators': 3},\n",
       "  {'bootstrap': False, 'max_features': 2, 'n_estimators': 10},\n",
       "  {'bootstrap': False, 'max_features': 3, 'n_estimators': 3},\n",
       "  {'bootstrap': False, 'max_features': 3, 'n_estimators': 10},\n",
       "  {'bootstrap': False, 'max_features': 4, 'n_estimators': 3},\n",
       "  {'bootstrap': False, 'max_features': 4, 'n_estimators': 10}],\n",
       " 'split0_test_score': array([-3.70670396e+09, -2.90015366e+09, -2.65987769e+09, -3.41187825e+09,\n",
       "        -2.65650053e+09, -2.43285511e+09, -3.35769848e+09, -2.52954394e+09,\n",
       "        -2.36368069e+09, -3.44859741e+09, -2.60897976e+09, -2.37418871e+09,\n",
       "        -3.81164766e+09, -2.82175518e+09, -3.42974340e+09, -2.51510097e+09,\n",
       "        -3.54143375e+09, -2.53939562e+09]),\n",
       " 'split1_test_score': array([-4.32717576e+09, -3.10522970e+09, -2.87340710e+09, -3.69418044e+09,\n",
       "        -2.83130439e+09, -2.60775466e+09, -3.24373559e+09, -2.70939892e+09,\n",
       "        -2.57078699e+09, -3.48395194e+09, -2.81722269e+09, -2.61303154e+09,\n",
       "        -3.94293241e+09, -3.00493583e+09, -3.71785845e+09, -2.84235681e+09,\n",
       "        -3.50033533e+09, -2.65753167e+09]),\n",
       " 'split2_test_score': array([-4.44244914e+09, -3.09027637e+09, -2.87894220e+09, -3.89916194e+09,\n",
       "        -2.97853915e+09, -2.71366003e+09, -3.70684206e+09, -2.97377904e+09,\n",
       "        -2.66289369e+09, -3.75879590e+09, -2.74731497e+09, -2.60015899e+09,\n",
       "        -4.01492610e+09, -3.13139405e+09, -3.55303543e+09, -2.87297195e+09,\n",
       "        -3.57700835e+09, -2.85777763e+09]),\n",
       " 'split3_test_score': array([-3.71402068e+09, -2.89060157e+09, -2.66964993e+09, -3.34837091e+09,\n",
       "        -2.69673472e+09, -2.39331111e+09, -3.26022707e+09, -2.65196375e+09,\n",
       "        -2.32960341e+09, -3.12642750e+09, -2.57615209e+09, -2.36470389e+09,\n",
       "        -3.54632640e+09, -2.78362089e+09, -3.35490191e+09, -2.64834960e+09,\n",
       "        -3.36107493e+09, -2.59163054e+09]),\n",
       " 'split4_test_score': array([-4.42028416e+09, -3.18269450e+09, -2.90547945e+09, -3.66211508e+09,\n",
       "        -2.93502368e+09, -2.67465584e+09, -3.73750012e+09, -2.80244371e+09,\n",
       "        -2.54763154e+09, -3.56084687e+09, -2.88835349e+09, -2.56998649e+09,\n",
       "        -4.20615210e+09, -3.13444989e+09, -3.56736256e+09, -2.79583693e+09,\n",
       "        -3.26951836e+09, -2.77373424e+09]),\n",
       " 'mean_test_score': array([-4.12211400e+09, -3.03378739e+09, -2.79746754e+09, -3.60313525e+09,\n",
       "        -2.81961132e+09, -2.56444200e+09, -3.46118123e+09, -2.73341207e+09,\n",
       "        -2.49491591e+09, -3.47572278e+09, -2.72760285e+09, -2.50441261e+09,\n",
       "        -3.90439365e+09, -2.97522367e+09, -3.52458631e+09, -2.73491645e+09,\n",
       "        -3.44988275e+09, -2.68400358e+09]),\n",
       " 'std_test_score': array([3.38429211e+08, 1.17326131e+08, 1.08940450e+08, 2.00436028e+08,\n",
       "        1.26820296e+08, 1.28752287e+08, 2.16824499e+08, 1.49206970e+08,\n",
       "        1.27514635e+08, 2.05018042e+08, 1.19388344e+08, 1.11124609e+08,\n",
       "        2.19794719e+08, 1.48918206e+08, 1.24728397e+08, 1.34263868e+08,\n",
       "        1.16190571e+08, 1.16954928e+08]),\n",
       " 'rank_test_score': array([18, 11,  8, 16,  9,  3, 13,  6,  1, 14,  5,  2, 17, 10, 15,  7, 12,\n",
       "         4]),\n",
       " 'split0_train_score': array([-1.02753205e+09, -6.12220693e+08, -4.51907754e+08, -9.54675776e+08,\n",
       "        -5.41717199e+08, -4.09292961e+08, -9.23674706e+08, -5.14910304e+08,\n",
       "        -3.94996927e+08, -9.17371829e+08, -5.02446781e+08, -3.93247983e+08,\n",
       "        -0.00000000e+00, -0.00000000e+00, -0.00000000e+00, -0.00000000e+00,\n",
       "        -0.00000000e+00, -0.00000000e+00]),\n",
       " 'split1_train_score': array([-1.11763607e+09, -5.54753087e+08, -4.26699376e+08, -9.48887119e+08,\n",
       "        -5.10078225e+08, -3.78319334e+08, -9.11795468e+08, -5.03391519e+08,\n",
       "        -3.81680304e+08, -8.66783597e+08, -5.01732141e+08, -3.94187019e+08,\n",
       "        -0.00000000e+00, -3.34468923e+01, -0.00000000e+00, -0.00000000e+00,\n",
       "        -0.00000000e+00, -0.00000000e+00]),\n",
       " 'split2_train_score': array([-1.09166144e+09, -5.63196880e+08, -4.22242088e+08, -9.35500913e+08,\n",
       "        -5.26150260e+08, -3.96874763e+08, -8.71314093e+08, -4.96567780e+08,\n",
       "        -3.86426864e+08, -8.68709197e+08, -4.90588484e+08, -3.74166795e+08,\n",
       "        -0.00000000e+00, -3.00529902e+02, -0.00000000e+00, -0.00000000e+00,\n",
       "        -0.00000000e+00, -4.74791824e+01]),\n",
       " 'split3_train_score': array([-1.08012455e+09, -5.96268123e+08, -4.31008894e+08, -9.32136055e+08,\n",
       "        -5.47230304e+08, -3.94768960e+08, -9.73145937e+08, -5.07303175e+08,\n",
       "        -3.93672741e+08, -8.88636578e+08, -5.19302393e+08, -3.95857054e+08,\n",
       "        -0.00000000e+00, -6.20136260e+01, -0.00000000e+00, -0.00000000e+00,\n",
       "        -0.00000000e+00, -0.00000000e+00]),\n",
       " 'split4_train_score': array([-1.13666089e+09, -5.68819972e+08, -4.32036031e+08, -9.44779601e+08,\n",
       "        -5.32792544e+08, -3.84372617e+08, -9.45721851e+08, -4.98593060e+08,\n",
       "        -3.75959750e+08, -8.81243265e+08, -5.03481660e+08, -3.82402030e+08,\n",
       "        -6.46648162e+02, -2.92899319e+02, -0.00000000e+00, -0.00000000e+00,\n",
       "        -0.00000000e+00, -0.00000000e+00]),\n",
       " 'mean_train_score': array([-1.09072300e+09, -5.79051751e+08, -4.32778828e+08, -9.43195893e+08,\n",
       "        -5.31593706e+08, -3.92725727e+08, -9.25130411e+08, -5.04153167e+08,\n",
       "        -3.86547317e+08, -8.84548893e+08, -5.03510292e+08, -3.87972176e+08,\n",
       "        -1.29329632e+02, -1.37777948e+02,  0.00000000e+00,  0.00000000e+00,\n",
       "         0.00000000e+00, -9.49583649e+00]),\n",
       " 'std_train_score': array([3.72583074e+07, 2.16475101e+07, 1.01743092e+07, 8.34528159e+06,\n",
       "        1.29689828e+07, 1.07068309e+07, 3.40753106e+07, 6.55242751e+06,\n",
       "        7.18284731e+06, 1.82837809e+07, 9.17232022e+06, 8.36952542e+06,\n",
       "        2.58659265e+02, 1.31269801e+02, 0.00000000e+00, 0.00000000e+00,\n",
       "        0.00000000e+00, 1.89916730e+01])}"
      ]
     },
     "execution_count": 84,
     "metadata": {},
     "output_type": "execute_result"
    }
   ],
   "source": [
    "cvres = grid_search.cv_results_\n",
    "cvres"
   ]
  },
  {
   "cell_type": "code",
   "execution_count": 85,
   "metadata": {},
   "outputs": [
    {
     "name": "stdout",
     "output_type": "stream",
     "text": [
      "64203.691491080994 {'max_features': 2, 'n_estimators': 3}\n",
      "55079.82746636624 {'max_features': 2, 'n_estimators': 10}\n",
      "52891.0913188661 {'max_features': 2, 'n_estimators': 30}\n",
      "60026.1214251431 {'max_features': 4, 'n_estimators': 3}\n",
      "53100.01243804187 {'max_features': 4, 'n_estimators': 10}\n",
      "50640.31992937155 {'max_features': 4, 'n_estimators': 30}\n",
      "58831.8045374606 {'max_features': 6, 'n_estimators': 3}\n",
      "52282.04346639704 {'max_features': 6, 'n_estimators': 10}\n",
      "49949.13323643673 {'max_features': 6, 'n_estimators': 30}\n",
      "58955.26082395333 {'max_features': 8, 'n_estimators': 3}\n",
      "52226.45732988625 {'max_features': 8, 'n_estimators': 10}\n",
      "50044.10669041852 {'max_features': 8, 'n_estimators': 30}\n",
      "62485.14744317046 {'bootstrap': False, 'max_features': 2, 'n_estimators': 3}\n",
      "54545.610946023095 {'bootstrap': False, 'max_features': 2, 'n_estimators': 10}\n",
      "59368.22643827892 {'bootstrap': False, 'max_features': 3, 'n_estimators': 3}\n",
      "52296.42860788885 {'bootstrap': False, 'max_features': 3, 'n_estimators': 10}\n",
      "58735.70248371506 {'bootstrap': False, 'max_features': 4, 'n_estimators': 3}\n",
      "51807.3699140238 {'bootstrap': False, 'max_features': 4, 'n_estimators': 10}\n"
     ]
    }
   ],
   "source": [
    "for mean_score,params in zip(cvres[\"mean_test_score\"],cvres[\"params\"]):\n",
    "    print(np.sqrt(-mean_score),params)"
   ]
  },
  {
   "cell_type": "markdown",
   "metadata": {},
   "source": [
    "##### Randomized Search \n",
    "Instead of trying out the given possible combinations, it evaluates a given number of random combinations by selecting a random value for each hyperparameter at every iteration. "
   ]
  },
  {
   "cell_type": "markdown",
   "metadata": {},
   "source": [
    "Benefits of Randomized Search over Grid Search \n",
    "\n",
    ">Allowing the random search for eg: 1000 iterations will explore 1000 values for each hyperparameter instead of few.\n",
    "\n",
    ">More control over computing budget that one have to allocate for parameter search"
   ]
  },
  {
   "cell_type": "code",
   "execution_count": 86,
   "metadata": {},
   "outputs": [],
   "source": [
    "from scipy.stats import randint\n",
    "param_grid = {'n_estimators':randint(1,100),\n",
    "              'max_features':randint(1,8)}"
   ]
  },
  {
   "cell_type": "code",
   "execution_count": 87,
   "metadata": {},
   "outputs": [],
   "source": [
    "from sklearn.model_selection import RandomizedSearchCV\n",
    "rand_search = RandomizedSearchCV(ranfor_reg,param_distributions=param_grid,n_iter=10,n_jobs=-1,\n",
    "                                scoring='neg_mean_squared_error',\n",
    "                                return_train_score=True)"
   ]
  },
  {
   "cell_type": "code",
   "execution_count": 88,
   "metadata": {},
   "outputs": [
    {
     "name": "stderr",
     "output_type": "stream",
     "text": [
      "C:\\Users\\bhara\\Anaconda3\\lib\\site-packages\\sklearn\\model_selection\\_split.py:1978: FutureWarning: The default value of cv will change from 3 to 5 in version 0.22. Specify it explicitly to silence this warning.\n",
      "  warnings.warn(CV_WARNING, FutureWarning)\n"
     ]
    },
    {
     "data": {
      "text/plain": [
       "RandomizedSearchCV(cv='warn', error_score='raise-deprecating',\n",
       "                   estimator=RandomForestRegressor(bootstrap=True,\n",
       "                                                   criterion='mse',\n",
       "                                                   max_depth=None,\n",
       "                                                   max_features='auto',\n",
       "                                                   max_leaf_nodes=None,\n",
       "                                                   min_impurity_decrease=0.0,\n",
       "                                                   min_impurity_split=None,\n",
       "                                                   min_samples_leaf=1,\n",
       "                                                   min_samples_split=2,\n",
       "                                                   min_weight_fraction_leaf=0.0,\n",
       "                                                   n_estimators=10, n_jobs=-1,\n",
       "                                                   oob_score=False,\n",
       "                                                   random_stat...\n",
       "                                                   warm_start=False),\n",
       "                   iid='warn', n_iter=10, n_jobs=-1,\n",
       "                   param_distributions={'max_features': <scipy.stats._distn_infrastructure.rv_frozen object at 0x000001D4111CD160>,\n",
       "                                        'n_estimators': <scipy.stats._distn_infrastructure.rv_frozen object at 0x000001D4111CD0F0>},\n",
       "                   pre_dispatch='2*n_jobs', random_state=None, refit=True,\n",
       "                   return_train_score=True, scoring='neg_mean_squared_error',\n",
       "                   verbose=0)"
      ]
     },
     "execution_count": 88,
     "metadata": {},
     "output_type": "execute_result"
    }
   ],
   "source": [
    "rand_search.fit(data_prep,housing_value_label)"
   ]
  },
  {
   "cell_type": "code",
   "execution_count": 89,
   "metadata": {},
   "outputs": [
    {
     "data": {
      "text/plain": [
       "RandomForestRegressor(bootstrap=True, criterion='mse', max_depth=None,\n",
       "                      max_features=6, max_leaf_nodes=None,\n",
       "                      min_impurity_decrease=0.0, min_impurity_split=None,\n",
       "                      min_samples_leaf=1, min_samples_split=2,\n",
       "                      min_weight_fraction_leaf=0.0, n_estimators=82, n_jobs=-1,\n",
       "                      oob_score=False, random_state=None, verbose=0,\n",
       "                      warm_start=False)"
      ]
     },
     "execution_count": 89,
     "metadata": {},
     "output_type": "execute_result"
    }
   ],
   "source": [
    "rand_search.best_estimator_"
   ]
  },
  {
   "cell_type": "code",
   "execution_count": 90,
   "metadata": {},
   "outputs": [
    {
     "data": {
      "text/plain": [
       "{'max_features': 6, 'n_estimators': 82}"
      ]
     },
     "execution_count": 90,
     "metadata": {},
     "output_type": "execute_result"
    }
   ],
   "source": [
    "rand_search.best_params_"
   ]
  },
  {
   "cell_type": "code",
   "execution_count": 91,
   "metadata": {},
   "outputs": [
    {
     "data": {
      "text/plain": [
       "array([7.77171157e-02, 7.15300914e-02, 4.23089929e-02, 1.67969666e-02,\n",
       "       1.64708844e-02, 1.71745634e-02, 1.58918891e-02, 3.29481237e-01,\n",
       "       6.50103363e-02, 1.10487292e-01, 7.07194194e-02, 1.07459030e-02,\n",
       "       1.48582776e-01, 9.76849875e-05, 3.05352434e-03, 3.93132385e-03])"
      ]
     },
     "execution_count": 91,
     "metadata": {},
     "output_type": "execute_result"
    }
   ],
   "source": [
    "rand_search.best_estimator_.feature_importances_"
   ]
  },
  {
   "cell_type": "code",
   "execution_count": 92,
   "metadata": {},
   "outputs": [
    {
     "data": {
      "text/plain": [
       "{'mean_fit_time': array([0.89259632, 3.35125359, 2.93274379, 1.1101946 , 2.72837377,\n",
       "        1.02903644, 3.832745  , 3.79767609, 2.08214339, 0.62281593]),\n",
       " 'std_fit_time': array([0.21835086, 0.82276457, 0.61837946, 0.05384622, 0.02497515,\n",
       "        0.12932913, 0.12293572, 0.03793699, 1.022402  , 0.00914359]),\n",
       " 'mean_score_time': array([1.64390405, 1.42478585, 0.89092541, 1.61188777, 2.74061362,\n",
       "        0.00432507, 0.65915656, 0.38731162, 0.3279686 , 0.11238011]),\n",
       " 'std_score_time': array([0.22145849, 0.41782786, 0.30557813, 0.21648775, 0.05091493,\n",
       "        0.00044125, 0.16769431, 0.11550069, 0.05720583, 0.00191533]),\n",
       " 'param_max_features': masked_array(data=[6, 6, 1, 3, 4, 7, 4, 4, 1, 1],\n",
       "              mask=[False, False, False, False, False, False, False, False,\n",
       "                    False, False],\n",
       "        fill_value='?',\n",
       "             dtype=object),\n",
       " 'param_n_estimators': masked_array(data=[8, 82, 73, 26, 81, 1, 52, 63, 20, 25],\n",
       "              mask=[False, False, False, False, False, False, False, False,\n",
       "                    False, False],\n",
       "        fill_value='?',\n",
       "             dtype=object),\n",
       " 'params': [{'max_features': 6, 'n_estimators': 8},\n",
       "  {'max_features': 6, 'n_estimators': 82},\n",
       "  {'max_features': 1, 'n_estimators': 73},\n",
       "  {'max_features': 3, 'n_estimators': 26},\n",
       "  {'max_features': 4, 'n_estimators': 81},\n",
       "  {'max_features': 7, 'n_estimators': 1},\n",
       "  {'max_features': 4, 'n_estimators': 52},\n",
       "  {'max_features': 4, 'n_estimators': 63},\n",
       "  {'max_features': 1, 'n_estimators': 20},\n",
       "  {'max_features': 1, 'n_estimators': 25}],\n",
       " 'split0_test_score': array([-2.74258539e+09, -2.39268987e+09, -2.98617675e+09, -2.64053891e+09,\n",
       "        -2.46024325e+09, -5.48380382e+09, -2.45523675e+09, -2.48577102e+09,\n",
       "        -3.06199458e+09, -3.05109105e+09]),\n",
       " 'split1_test_score': array([-3.04288082e+09, -2.61141722e+09, -3.15290444e+09, -2.78128011e+09,\n",
       "        -2.62657149e+09, -5.79816037e+09, -2.69709350e+09, -2.65000125e+09,\n",
       "        -3.22887399e+09, -3.19771575e+09]),\n",
       " 'split2_test_score': array([-2.86431577e+09, -2.44648292e+09, -3.14161886e+09, -2.74551204e+09,\n",
       "        -2.54491175e+09, -5.69542423e+09, -2.55763035e+09, -2.51141491e+09,\n",
       "        -3.30988002e+09, -3.24240493e+09]),\n",
       " 'mean_test_score': array([-2.88326066e+09, -2.48353000e+09, -3.09356669e+09, -2.72244369e+09,\n",
       "        -2.54390883e+09, -5.65912947e+09, -2.56998686e+09, -2.54906239e+09,\n",
       "        -3.20024953e+09, -3.16373724e+09]),\n",
       " 'std_test_score': array([1.23324822e+08, 9.30583273e+07, 7.60757960e+07, 5.97278999e+07,\n",
       "        6.79069232e+07, 1.30876513e+08, 9.91234386e+07, 7.21382538e+07,\n",
       "        1.03203096e+08, 8.17155843e+07]),\n",
       " 'rank_test_score': array([ 6,  1,  7,  5,  2, 10,  4,  3,  9,  8]),\n",
       " 'split0_train_score': array([-5.53837047e+08, -3.60003865e+08, -4.56505151e+08, -4.47259497e+08,\n",
       "        -3.72199909e+08, -2.04520427e+09, -3.82919240e+08, -3.74017654e+08,\n",
       "        -5.24082249e+08, -4.90231382e+08]),\n",
       " 'split1_train_score': array([-5.56078187e+08, -3.46968322e+08, -4.40037831e+08, -4.08966741e+08,\n",
       "        -3.55957201e+08, -2.07325480e+09, -3.71029787e+08, -3.61273111e+08,\n",
       "        -5.12751002e+08, -5.02377617e+08]),\n",
       " 'split2_train_score': array([-5.42464182e+08, -3.63254760e+08, -4.48435085e+08, -4.15406158e+08,\n",
       "        -3.61168067e+08, -2.04902086e+09, -3.66607137e+08, -3.62032262e+08,\n",
       "        -5.16761571e+08, -4.96571229e+08]),\n",
       " 'mean_train_score': array([-5.50793138e+08, -3.56742316e+08, -4.48326022e+08, -4.23877465e+08,\n",
       "        -3.63108392e+08, -2.05582665e+09, -3.73518721e+08, -3.65774342e+08,\n",
       "        -5.17864941e+08, -4.96393409e+08]),\n",
       " 'std_train_score': array([ 5960107.31680089,  7037532.37004765,  6723197.91023234,\n",
       "        16741287.68157491,  6771510.51443907, 12421679.0323861 ,\n",
       "         6888022.21459579,  5837134.80775963,  4691294.17291608,\n",
       "         4960273.68840974])}"
      ]
     },
     "execution_count": 92,
     "metadata": {},
     "output_type": "execute_result"
    }
   ],
   "source": [
    "rand_cvres = rand_search.cv_results_\n",
    "rand_cvres"
   ]
  },
  {
   "cell_type": "code",
   "execution_count": 93,
   "metadata": {},
   "outputs": [
    {
     "name": "stdout",
     "output_type": "stream",
     "text": [
      "23468.982474180164 {'max_features': 6, 'n_estimators': 8}\n",
      "18887.62335059716 {'max_features': 6, 'n_estimators': 82}\n",
      "21173.710641306057 {'max_features': 1, 'n_estimators': 73}\n",
      "20588.284665381394 {'max_features': 3, 'n_estimators': 26}\n",
      "19055.403230398068 {'max_features': 4, 'n_estimators': 81}\n",
      "45341.22456582868 {'max_features': 7, 'n_estimators': 1}\n",
      "19326.63243286208 {'max_features': 4, 'n_estimators': 52}\n",
      "19125.22790162574 {'max_features': 4, 'n_estimators': 63}\n",
      "22756.646078675745 {'max_features': 1, 'n_estimators': 20}\n",
      "22279.88800092227 {'max_features': 1, 'n_estimators': 25}\n"
     ]
    }
   ],
   "source": [
    "for mean_score,params in zip(rand_cvres['mean_train_score'],rand_cvres['params']):\n",
    "    print(np.sqrt(-mean_score),params)"
   ]
  },
  {
   "cell_type": "markdown",
   "metadata": {},
   "source": [
    "##### Ensemble Methods\n",
    "One way to choose the best model is to combine the multiple models that perform the best. \n",
    "This would perform better than best individual model. "
   ]
  },
  {
   "cell_type": "code",
   "execution_count": 94,
   "metadata": {},
   "outputs": [],
   "source": [
    "feature_importances = grid_search.best_estimator_.feature_importances_"
   ]
  },
  {
   "cell_type": "code",
   "execution_count": 95,
   "metadata": {},
   "outputs": [
    {
     "data": {
      "text/plain": [
       "array([0.08, 0.07, 0.04, 0.02, 0.02, 0.02, 0.02, 0.32, 0.06, 0.11, 0.07,\n",
       "       0.01, 0.16, 0.  , 0.  , 0.01])"
      ]
     },
     "execution_count": 95,
     "metadata": {},
     "output_type": "execute_result"
    }
   ],
   "source": [
    "feature_importances.round(2)"
   ]
  },
  {
   "cell_type": "code",
   "execution_count": 96,
   "metadata": {},
   "outputs": [
    {
     "data": {
      "text/plain": [
       "9"
      ]
     },
     "execution_count": 96,
     "metadata": {},
     "output_type": "execute_result"
    }
   ],
   "source": [
    "len(data.columns)"
   ]
  },
  {
   "cell_type": "code",
   "execution_count": 97,
   "metadata": {},
   "outputs": [
    {
     "data": {
      "text/plain": [
       "[(0.3221647367858245, 'median_income'),\n",
       " (0.15709087871361224, 'INLAND'),\n",
       " (0.10821622765996927, 'population_per_household'),\n",
       " (0.07751300354203751, 'longitude'),\n",
       " (0.07049795006326232, 'latitude'),\n",
       " (0.06994743548304332, 'bedrooms_per_room'),\n",
       " (0.06335173880669971, 'rooms_per_household'),\n",
       " (0.04331460562747157, 'housing_median_age'),\n",
       " (0.017645657968245763, 'total_rooms'),\n",
       " (0.016692673727132977, 'total_bedrooms'),\n",
       " (0.016660202642069112, 'households'),\n",
       " (0.016616287695412044, 'population'),\n",
       " (0.012532737912547713, '<1H OCEAN'),\n",
       " (0.006032746040737043, 'NEAR OCEAN'),\n",
       " (0.0016566225564951997, 'NEAR BAY'),\n",
       " (6.649477543956369e-05, 'ISLAND')]"
      ]
     },
     "execution_count": 97,
     "metadata": {},
     "output_type": "execute_result"
    }
   ],
   "source": [
    "extra_attribs = [\"rooms_per_household\",\"population_per_household\",\"bedrooms_per_room\"]\n",
    "cat_encoder = full_pipe.named_transformers_[\"cat\"] # get the categorical values from pipeline \n",
    "cat_one_hot_encoder = list(cat_encoder.categories_[0]) # convert them to list \n",
    "attributes = num_attrib + extra_attribs + cat_one_hot_encoder  # stitching the lists and arrays\n",
    "sorted(zip(feature_importances,attributes),reverse=True)"
   ]
  },
  {
   "cell_type": "markdown",
   "metadata": {},
   "source": [
    "Based on the above we may want to drop features which are of less importanance. \n",
    "Ocean_Proximity category is useful. "
   ]
  },
  {
   "cell_type": "markdown",
   "metadata": {},
   "source": [
    "##### Evaluate system on the test set\n",
    "\n",
    "<font color='red'> Ensure when you run the pipleline on the test, use transform() and not fit_transform() we don't to fit the test set</font>\n",
    "\n"
   ]
  },
  {
   "cell_type": "code",
   "execution_count": 98,
   "metadata": {},
   "outputs": [
    {
     "data": {
      "text/plain": [
       "RandomForestRegressor(bootstrap=True, criterion='mse', max_depth=None,\n",
       "                      max_features=6, max_leaf_nodes=None,\n",
       "                      min_impurity_decrease=0.0, min_impurity_split=None,\n",
       "                      min_samples_leaf=1, min_samples_split=2,\n",
       "                      min_weight_fraction_leaf=0.0, n_estimators=82, n_jobs=-1,\n",
       "                      oob_score=False, random_state=None, verbose=0,\n",
       "                      warm_start=False)"
      ]
     },
     "execution_count": 98,
     "metadata": {},
     "output_type": "execute_result"
    }
   ],
   "source": [
    "final_model = rand_search.best_estimator_\n",
    "final_model"
   ]
  },
  {
   "cell_type": "markdown",
   "metadata": {},
   "source": [
    "Removing the median housing value from the stratified test set and copying the median housing value to the y test variable "
   ]
  },
  {
   "cell_type": "code",
   "execution_count": 99,
   "metadata": {},
   "outputs": [],
   "source": [
    "x_test = stest_set.drop(\"median_house_value\",axis=1)\n",
    "y_test = stest_set.median_house_value.copy()"
   ]
  },
  {
   "cell_type": "code",
   "execution_count": 100,
   "metadata": {},
   "outputs": [],
   "source": [
    "x_test_prepared = full_pipe.transform(x_test) # running the x_test into the pipeline for data prep"
   ]
  },
  {
   "cell_type": "code",
   "execution_count": 101,
   "metadata": {},
   "outputs": [
    {
     "data": {
      "text/plain": [
       "47087.12913147569"
      ]
     },
     "execution_count": 101,
     "metadata": {},
     "output_type": "execute_result"
    }
   ],
   "source": [
    "final_predictions = final_model.predict(x_test_prepared)\n",
    "\n",
    "final_mse = mean_squared_error(y_test,final_predictions)\n",
    "final_rmse = np.sqrt(final_mse)\n",
    "final_rmse"
   ]
  },
  {
   "cell_type": "markdown",
   "metadata": {},
   "source": [
    "We would need to have an idea of how precise this estimate is. We would need to compute a 95% confidence interval for the generalization error using scipy status package"
   ]
  },
  {
   "cell_type": "code",
   "execution_count": 102,
   "metadata": {},
   "outputs": [],
   "source": [
    "from scipy import stats\n",
    "confidence = 0.95\n",
    "squared_errors = (final_predictions - y_test)**2"
   ]
  },
  {
   "cell_type": "code",
   "execution_count": 103,
   "metadata": {},
   "outputs": [
    {
     "data": {
      "text/plain": [
       "array([45117.69586122, 48977.43337358])"
      ]
     },
     "execution_count": 103,
     "metadata": {},
     "output_type": "execute_result"
    }
   ],
   "source": [
    "np.sqrt(stats.t.interval(confidence,len(squared_errors) -1,loc=squared_errors.mean(),\n",
    "                 scale=stats.sem(squared_errors)))"
   ]
  },
  {
   "cell_type": "markdown",
   "metadata": {},
   "source": [
    "The final model is not better than the experts who were predicting the prices before. It would be a good idea to still launch it and free up sometime from the experts. "
   ]
  },
  {
   "cell_type": "markdown",
   "metadata": {},
   "source": [
    "Things to be considered when the model is in production:\n",
    "\n",
    "    ..Need to write monitoring code to check the model's performance at regular intervals. This is required as over the period of time the model performance would rot as data evolves over time.\n",
    "    ..Evaluating the system's performance will require sampling the system's predictions and evaluating them. \n",
    "    ..Evaluating input data quality. This is required as the input data feed might be worse \n",
    "    "
   ]
  }
 ],
 "metadata": {
  "kernelspec": {
   "display_name": "Python 3",
   "language": "python",
   "name": "python3"
  },
  "language_info": {
   "codemirror_mode": {
    "name": "ipython",
    "version": 3
   },
   "file_extension": ".py",
   "mimetype": "text/x-python",
   "name": "python",
   "nbconvert_exporter": "python",
   "pygments_lexer": "ipython3",
   "version": "3.7.3"
  }
 },
 "nbformat": 4,
 "nbformat_minor": 2
}
