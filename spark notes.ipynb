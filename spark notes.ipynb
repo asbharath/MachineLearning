{
 "cells": [
  {
   "cell_type": "markdown",
   "metadata": {},
   "source": [
    "#### Overview of Spark \n",
    "\n",
    "What is Big data? \n",
    "\n",
    "spark improves on the concept of distribution \n",
    "\n",
    "local versus distributed? \n",
    "\n",
    "\n",
    "fault tolerance? \n",
    "replicate the data into the network. \n",
    "multiple copies allowes failure of a single node.\n",
    "\n",
    "\n",
    "Hadoop? \n",
    "way to distribute very large files across multiple machines \n",
    "HDFS\n",
    "duplicates blocks of data for fault tolerance\n",
    "\n",
    "\n",
    "\n",
    "MapReduce?\n",
    "allows computations on that data\n",
    "\n",
    "Job tracker sends code to run on the taks trackers\n",
    "task trackers runs the codes.\n",
    "\n",
    "\n",
    "Spark?\n",
    "spark improves on the concept of distribution \n",
    "flexible alternative to MapReduce\n",
    "\n",
    "spark can store data on varity of formats\n",
    "\n",
    "##### Spark versus MapReduce\n",
    "\n",
    "MapReduce requires files to be stored in HDFS while spark does not need to. \n",
    "\n",
    "Spark can work with HDFS, can also work with wide variety of file formats.\n",
    "100x faster than MapReduce.\n",
    "\n",
    "\n",
    "Spark RDD (resilient distrbuted dataset) \n",
    "\n",
    "distributed collection of data\n",
    "fault tolerance\n",
    "...\n",
    "...\n",
    "\n",
    "Transformation and call to action difference? \n",
    "\n",
    "DataFrame based syntax \n",
    "files \n",
    "\n",
    "Spark it self is not a programming data.its a framework to store large data \n",
    "its written in Scala \n",
    "\n",
    "Spark runs on a cluster of machine and mostly linux machines. \n",
    "\n",
    "\n",
    "\n",
    "\n",
    "\n"
   ]
  },
  {
   "cell_type": "markdown",
   "metadata": {},
   "source": []
  },
  {
   "cell_type": "code",
   "execution_count": null,
   "metadata": {},
   "outputs": [],
   "source": []
  }
 ],
 "metadata": {
  "kernelspec": {
   "display_name": "Python 3",
   "language": "python",
   "name": "python3"
  },
  "language_info": {
   "codemirror_mode": {
    "name": "ipython",
    "version": 3
   },
   "file_extension": ".py",
   "mimetype": "text/x-python",
   "name": "python",
   "nbconvert_exporter": "python",
   "pygments_lexer": "ipython3",
   "version": "3.7.3"
  }
 },
 "nbformat": 4,
 "nbformat_minor": 2
}
