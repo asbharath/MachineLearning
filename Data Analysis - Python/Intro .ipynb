{
 "cells": [
  {
   "cell_type": "code",
   "execution_count": 5,
   "metadata": {},
   "outputs": [],
   "source": [
    "import numpy as np"
   ]
  },
  {
   "cell_type": "code",
   "execution_count": 6,
   "metadata": {},
   "outputs": [],
   "source": [
    "import os"
   ]
  },
  {
   "cell_type": "code",
   "execution_count": 7,
   "metadata": {},
   "outputs": [],
   "source": [
    "os.chdir('C:\\\\Users\\\\bhara\\\\Documents\\\\')"
   ]
  },
  {
   "cell_type": "code",
   "execution_count": null,
   "metadata": {},
   "outputs": [],
   "source": [
    "# %load Datacamp.py\n",
    "# Define count_entries()\n",
    "def count_entries(df, col_name='lang'):\n",
    "    \"\"\"Return a dictionary with counts of\n",
    "    occurrences as value for each key.\"\"\"\n",
    "\n",
    "    # Initialize an empty dictionary: cols_count\n",
    "    cols_count = {}\n",
    "\n",
    "    # Add try block\n",
    "    try:\n",
    "        # Extract column from DataFrame: col\n",
    "        col = df[col_name]\n",
    "        \n",
    "        # Iterate over the column in dataframe\n",
    "        for entry in col:\n",
    "    \n",
    "            # If entry is in cols_count, add 1\n",
    "            if entry in cols_count.keys():\n",
    "                cols_count[entry] += 1\n",
    "            # Else add the entry to cols_count, set the value to 1\n",
    "            else:\n",
    "                cols_count[entry] = 1\n",
    "    \n",
    "        # Return the cols_count dictionary\n",
    "        return cols_count\n",
    "\n",
    "    # Add except block\n",
    "    except:\n",
    "        raise 'The DataFrame does not have a ' + col_name + ' column.'\n",
    "\n",
    "# Call count_entries(): result1\n",
    "result1 = count_entries(tweets_df, 'lang')\n",
    "\n",
    "# Print result1\n",
    "print(result1)\n",
    "\n",
    "\n"
   ]
  },
  {
   "cell_type": "markdown",
   "metadata": {},
   "source": [
    "Magic functions "
   ]
  },
  {
   "cell_type": "code",
   "execution_count": null,
   "metadata": {},
   "outputs": [],
   "source": [
    "# %time \n",
    "# %whos\n",
    "%lsmagic"
   ]
  },
  {
   "cell_type": "raw",
   "metadata": {},
   "source": [
    "Duck typing"
   ]
  },
  {
   "cell_type": "code",
   "execution_count": null,
   "metadata": {},
   "outputs": [],
   "source": [
    "def isiterable(obj):\n",
    "    try:\n",
    "        iter(obj)\n",
    "        return True\n",
    "    except TypeError: \n",
    "        return False"
   ]
  },
  {
   "cell_type": "code",
   "execution_count": null,
   "metadata": {},
   "outputs": [],
   "source": [
    "isiterable('this is a string')"
   ]
  },
  {
   "cell_type": "markdown",
   "metadata": {},
   "source": [
    "converting to iterable when the input passed is not an iterable "
   ]
  },
  {
   "cell_type": "code",
   "execution_count": null,
   "metadata": {},
   "outputs": [],
   "source": [
    "c = ''' \n",
    "this is a string\n",
    "having 3 lines \n",
    "..'''"
   ]
  },
  {
   "cell_type": "code",
   "execution_count": 9,
   "metadata": {},
   "outputs": [
    {
     "ename": "NameError",
     "evalue": "name 'c' is not defined",
     "output_type": "error",
     "traceback": [
      "\u001b[1;31m---------------------------------------------------------------------------\u001b[0m",
      "\u001b[1;31mNameError\u001b[0m                                 Traceback (most recent call last)",
      "\u001b[1;32m<ipython-input-9-93fa0401bd7d>\u001b[0m in \u001b[0;36m<module>\u001b[1;34m\u001b[0m\n\u001b[1;32m----> 1\u001b[1;33m \u001b[0mc\u001b[0m\u001b[1;33m.\u001b[0m\u001b[0mcount\u001b[0m\u001b[1;33m(\u001b[0m\u001b[1;34m''\u001b[0m\u001b[1;33m)\u001b[0m\u001b[1;33m\u001b[0m\u001b[1;33m\u001b[0m\u001b[0m\n\u001b[0m",
      "\u001b[1;31mNameError\u001b[0m: name 'c' is not defined"
     ]
    }
   ],
   "source": [
    "c.count('')"
   ]
  },
  {
   "cell_type": "code",
   "execution_count": null,
   "metadata": {},
   "outputs": [],
   "source": [
    "s = r'r\\r'"
   ]
  },
  {
   "cell_type": "code",
   "execution_count": null,
   "metadata": {},
   "outputs": [],
   "source": [
    "print(s)"
   ]
  },
  {
   "cell_type": "markdown",
   "metadata": {},
   "source": [
    "common way to create default values to the input parameters"
   ]
  },
  {
   "cell_type": "code",
   "execution_count": null,
   "metadata": {},
   "outputs": [],
   "source": [
    "from datetime import datetime,date,time"
   ]
  },
  {
   "cell_type": "code",
   "execution_count": null,
   "metadata": {},
   "outputs": [],
   "source": [
    "df = datetime(2019,7,4,15,15,16)"
   ]
  },
  {
   "cell_type": "markdown",
   "metadata": {},
   "source": [
    "force date into string"
   ]
  },
  {
   "cell_type": "code",
   "execution_count": null,
   "metadata": {},
   "outputs": [],
   "source": [
    "df.strftime('%m/%d/%y %H:%')"
   ]
  },
  {
   "cell_type": "markdown",
   "metadata": {},
   "source": [
    "date time string parsed into date "
   ]
  },
  {
   "cell_type": "code",
   "execution_count": null,
   "metadata": {},
   "outputs": [],
   "source": [
    "datetime.strptime('201907041530','%Y%m%d%H%M')"
   ]
  },
  {
   "cell_type": "code",
   "execution_count": null,
   "metadata": {},
   "outputs": [],
   "source": [
    "dt2 = datetime(2019,6,3,5,15,16)"
   ]
  },
  {
   "cell_type": "code",
   "execution_count": null,
   "metadata": {},
   "outputs": [],
   "source": [
    "delta = df-dt2"
   ]
  },
  {
   "cell_type": "code",
   "execution_count": null,
   "metadata": {},
   "outputs": [],
   "source": [
    "print(delta)"
   ]
  },
  {
   "cell_type": "code",
   "execution_count": null,
   "metadata": {},
   "outputs": [],
   "source": [
    "df + delta"
   ]
  },
  {
   "cell_type": "markdown",
   "metadata": {},
   "source": [
    "Newer Tuple unpacking"
   ]
  },
  {
   "cell_type": "code",
   "execution_count": null,
   "metadata": {},
   "outputs": [],
   "source": [
    "values = 1,2,3,4,5 "
   ]
  },
  {
   "cell_type": "code",
   "execution_count": null,
   "metadata": {},
   "outputs": [],
   "source": [
    "type(values)"
   ]
  },
  {
   "cell_type": "code",
   "execution_count": null,
   "metadata": {},
   "outputs": [],
   "source": [
    "a,b, *_ = values"
   ]
  },
  {
   "cell_type": "code",
   "execution_count": null,
   "metadata": {},
   "outputs": [],
   "source": [
    "_"
   ]
  },
  {
   "cell_type": "markdown",
   "metadata": {},
   "source": [
    "Sort based on the key param "
   ]
  },
  {
   "cell_type": "code",
   "execution_count": null,
   "metadata": {},
   "outputs": [],
   "source": [
    "b = list('this is a test text'.split(' '))"
   ]
  },
  {
   "cell_type": "code",
   "execution_count": null,
   "metadata": {},
   "outputs": [],
   "source": [
    "b"
   ]
  },
  {
   "cell_type": "code",
   "execution_count": null,
   "metadata": {},
   "outputs": [],
   "source": [
    "b.sort(key=len)"
   ]
  },
  {
   "cell_type": "code",
   "execution_count": null,
   "metadata": {},
   "outputs": [],
   "source": [
    "b"
   ]
  },
  {
   "cell_type": "markdown",
   "metadata": {},
   "source": [
    "Bisect module allows to insert or check which place to insert a specific value in the list"
   ]
  },
  {
   "cell_type": "code",
   "execution_count": null,
   "metadata": {},
   "outputs": [],
   "source": [
    "import bisect, numpy as np"
   ]
  },
  {
   "cell_type": "code",
   "execution_count": null,
   "metadata": {},
   "outputs": [],
   "source": [
    "type(bisect)"
   ]
  },
  {
   "cell_type": "code",
   "execution_count": null,
   "metadata": {},
   "outputs": [],
   "source": [
    "c = list(np.random.randn(10))"
   ]
  },
  {
   "cell_type": "code",
   "execution_count": null,
   "metadata": {},
   "outputs": [],
   "source": [
    "bisect.bisect(c,0.94343233) # finds out which index position to insert the value given"
   ]
  },
  {
   "cell_type": "code",
   "execution_count": null,
   "metadata": {},
   "outputs": [],
   "source": [
    "bisect.insort(c,0.94343233)"
   ]
  },
  {
   "cell_type": "code",
   "execution_count": null,
   "metadata": {},
   "outputs": [],
   "source": [
    "c"
   ]
  },
  {
   "cell_type": "markdown",
   "metadata": {},
   "source": [
    "the bisect module doesn't check if the list is sorted or not. its better to use this function on a sorted list. \n",
    "Bisect uses binary search"
   ]
  },
  {
   "cell_type": "code",
   "execution_count": null,
   "metadata": {},
   "outputs": [],
   "source": [
    "sorted(list(np.random.rand(10)))"
   ]
  },
  {
   "cell_type": "markdown",
   "metadata": {},
   "source": [
    "common way to zip "
   ]
  },
  {
   "cell_type": "code",
   "execution_count": null,
   "metadata": {},
   "outputs": [],
   "source": [
    "seq1 = ['one','two','three','four']"
   ]
  },
  {
   "cell_type": "code",
   "execution_count": null,
   "metadata": {},
   "outputs": [],
   "source": [
    "seq2 = ['five','six','seven','eight']"
   ]
  },
  {
   "cell_type": "code",
   "execution_count": null,
   "metadata": {},
   "outputs": [],
   "source": [
    "combine = []\n",
    "for a,b in zip(seq1,seq2):\n",
    "    combine.append((a,b))\n",
    "    "
   ]
  },
  {
   "cell_type": "code",
   "execution_count": null,
   "metadata": {},
   "outputs": [],
   "source": [
    "combine"
   ]
  },
  {
   "cell_type": "markdown",
   "metadata": {},
   "source": [
    "Unzip "
   ]
  },
  {
   "cell_type": "code",
   "execution_count": null,
   "metadata": {},
   "outputs": [],
   "source": [
    "num1,num2 = zip(*combine)"
   ]
  },
  {
   "cell_type": "code",
   "execution_count": null,
   "metadata": {},
   "outputs": [],
   "source": [
    "num1"
   ]
  },
  {
   "cell_type": "code",
   "execution_count": null,
   "metadata": {},
   "outputs": [],
   "source": [
    "num2"
   ]
  },
  {
   "cell_type": "markdown",
   "metadata": {},
   "source": [
    "Dictionary - tips "
   ]
  },
  {
   "cell_type": "code",
   "execution_count": null,
   "metadata": {},
   "outputs": [],
   "source": [
    "words = ['apple','apricot','orange','banana','strawberry']"
   ]
  },
  {
   "cell_type": "code",
   "execution_count": null,
   "metadata": {},
   "outputs": [],
   "source": [
    "dic = {}"
   ]
  },
  {
   "cell_type": "markdown",
   "metadata": {},
   "source": [
    "listing letter as key and list of words <br>\n",
    "a)"
   ]
  },
  {
   "cell_type": "code",
   "execution_count": null,
   "metadata": {},
   "outputs": [],
   "source": [
    "for word in words:\n",
    "    letter = word[0]\n",
    "    if letter not in dic:\n",
    "        dic[letter] = [word]\n",
    "    else:\n",
    "        dic[letter].append(word)"
   ]
  },
  {
   "cell_type": "code",
   "execution_count": null,
   "metadata": {},
   "outputs": [],
   "source": [
    "dic"
   ]
  },
  {
   "cell_type": "markdown",
   "metadata": {},
   "source": [
    "b)"
   ]
  },
  {
   "cell_type": "code",
   "execution_count": null,
   "metadata": {},
   "outputs": [],
   "source": [
    "for word in words:\n",
    "    letter = word[0]\n",
    "    dic.setdefault(letter,[]).append(word)"
   ]
  },
  {
   "cell_type": "code",
   "execution_count": null,
   "metadata": {},
   "outputs": [],
   "source": [
    "dic"
   ]
  },
  {
   "cell_type": "code",
   "execution_count": null,
   "metadata": {},
   "outputs": [],
   "source": [
    "from collections import defaultdict\n",
    "dic = defaultdict(list)"
   ]
  },
  {
   "cell_type": "code",
   "execution_count": null,
   "metadata": {},
   "outputs": [],
   "source": [
    "for word in words:\n",
    "    dic[word[0]].append(word)"
   ]
  },
  {
   "cell_type": "code",
   "execution_count": null,
   "metadata": {},
   "outputs": [],
   "source": [
    "dic"
   ]
  },
  {
   "cell_type": "code",
   "execution_count": null,
   "metadata": {},
   "outputs": [],
   "source": [
    "type(dic)"
   ]
  },
  {
   "cell_type": "code",
   "execution_count": null,
   "metadata": {},
   "outputs": [],
   "source": [
    "hash('bharath')"
   ]
  },
  {
   "cell_type": "markdown",
   "metadata": {},
   "source": [
    "In order to store list as add the Key as a tuple which is immuatable. "
   ]
  },
  {
   "cell_type": "code",
   "execution_count": null,
   "metadata": {},
   "outputs": [],
   "source": [
    "set(map(len,words))"
   ]
  },
  {
   "cell_type": "code",
   "execution_count": null,
   "metadata": {},
   "outputs": [],
   "source": [
    "loc_mapping = {k: v for k,v in enumerate(words) }"
   ]
  },
  {
   "cell_type": "code",
   "execution_count": null,
   "metadata": {},
   "outputs": [],
   "source": [
    "loc_mapping"
   ]
  },
  {
   "cell_type": "markdown",
   "metadata": {},
   "source": [
    "formatting the special chars using re module "
   ]
  },
  {
   "cell_type": "code",
   "execution_count": null,
   "metadata": {},
   "outputs": [],
   "source": [
    "import re"
   ]
  },
  {
   "cell_type": "code",
   "execution_count": null,
   "metadata": {},
   "outputs": [],
   "source": [
    "states = [' Alabama ', 'Georgia!', 'Georgia', 'georgia', 'FlOrIda',\n",
    "          'south carolina##', 'West virginia?']"
   ]
  },
  {
   "cell_type": "code",
   "execution_count": null,
   "metadata": {},
   "outputs": [],
   "source": [
    "def clean_strings(strings):\n",
    "    result = []\n",
    "    for value in strings:\n",
    "        value = value.strip()\n",
    "        value = re.sub('[!#?]','',value)\n",
    "        value = value.title()\n",
    "        result.append(value)\n",
    "    return list(set(result))"
   ]
  },
  {
   "cell_type": "code",
   "execution_count": null,
   "metadata": {},
   "outputs": [],
   "source": [
    "clean_strings(states)"
   ]
  },
  {
   "cell_type": "code",
   "execution_count": null,
   "metadata": {},
   "outputs": [],
   "source": [
    "def remove_punc(value):\n",
    "    return re.sub('[!#?]','',value)"
   ]
  },
  {
   "cell_type": "code",
   "execution_count": null,
   "metadata": {},
   "outputs": [],
   "source": [
    "clean_ops = [str.strip,remove_punc,str.title]"
   ]
  },
  {
   "cell_type": "code",
   "execution_count": null,
   "metadata": {},
   "outputs": [],
   "source": [
    "def clean_strings(string,ops):\n",
    "    result = []\n",
    "    for value in string:\n",
    "        for op in ops:\n",
    "            value = op(value)\n",
    "        result.append(value)\n",
    "    return result"
   ]
  },
  {
   "cell_type": "code",
   "execution_count": null,
   "metadata": {},
   "outputs": [],
   "source": [
    "clean_strings(states,clean_ops)"
   ]
  },
  {
   "cell_type": "markdown",
   "metadata": {},
   "source": [
    "Lambda functions"
   ]
  },
  {
   "cell_type": "code",
   "execution_count": null,
   "metadata": {},
   "outputs": [],
   "source": [
    "def apply_to_list(some_list,f):\n",
    "    return [f(x) for x in some_list]"
   ]
  },
  {
   "cell_type": "code",
   "execution_count": null,
   "metadata": {},
   "outputs": [],
   "source": [
    "apply_to_list(states,lambda x:x *2 )"
   ]
  },
  {
   "cell_type": "code",
   "execution_count": null,
   "metadata": {},
   "outputs": [],
   "source": [
    "states.sort(key=lambda x: len(set(list(x))))"
   ]
  },
  {
   "cell_type": "code",
   "execution_count": null,
   "metadata": {},
   "outputs": [],
   "source": [
    "states"
   ]
  },
  {
   "cell_type": "markdown",
   "metadata": {},
   "source": [
    "Partial argument application - Currying <br>\n",
    "Deriving new functions from existing ones by partial argument application. "
   ]
  },
  {
   "cell_type": "code",
   "execution_count": null,
   "metadata": {},
   "outputs": [],
   "source": [
    "def add_numbers(x,y):\n",
    "    return x + y "
   ]
  },
  {
   "cell_type": "code",
   "execution_count": null,
   "metadata": {},
   "outputs": [],
   "source": [
    "add_five = lambda y: add_numbers(5,y)"
   ]
  },
  {
   "cell_type": "code",
   "execution_count": null,
   "metadata": {},
   "outputs": [],
   "source": [
    "from functools import partial"
   ]
  },
  {
   "cell_type": "code",
   "execution_count": null,
   "metadata": {},
   "outputs": [],
   "source": [
    "add_five = partial(add_numbers,5)"
   ]
  },
  {
   "cell_type": "markdown",
   "metadata": {},
   "source": [
    "Instead of [] brackets a () brackets creates a generator of the for loop "
   ]
  },
  {
   "cell_type": "code",
   "execution_count": 10,
   "metadata": {},
   "outputs": [],
   "source": [
    "gen = (x**2 for x in range(1,10))"
   ]
  },
  {
   "cell_type": "code",
   "execution_count": 11,
   "metadata": {},
   "outputs": [
    {
     "data": {
      "text/plain": [
       "1"
      ]
     },
     "execution_count": 11,
     "metadata": {},
     "output_type": "execute_result"
    }
   ],
   "source": [
    "next(gen)"
   ]
  },
  {
   "cell_type": "code",
   "execution_count": 12,
   "metadata": {},
   "outputs": [],
   "source": [
    "import itertools"
   ]
  },
  {
   "cell_type": "code",
   "execution_count": 13,
   "metadata": {},
   "outputs": [],
   "source": [
    "first_letter = lambda x:x[0]"
   ]
  },
  {
   "cell_type": "code",
   "execution_count": 14,
   "metadata": {},
   "outputs": [],
   "source": [
    "names= ['Alan', 'Adam', 'Wes', 'Will', 'Albert', 'Steven']"
   ]
  },
  {
   "cell_type": "code",
   "execution_count": 15,
   "metadata": {},
   "outputs": [
    {
     "name": "stdout",
     "output_type": "stream",
     "text": [
      "A ['Alan', 'Adam']\n",
      "W ['Wes', 'Will']\n",
      "A ['Albert']\n",
      "S ['Steven']\n"
     ]
    }
   ],
   "source": [
    "for letter,names in itertools.groupby(names,first_letter):\n",
    "    print(letter,list(names))"
   ]
  },
  {
   "attachments": {
    "image.png": {
     "image/png": "[encoded data removed]"
    }
   },
   "cell_type": "markdown",
   "metadata": {},
   "source": [
    "![image.png](attachment:image.png)"
   ]
  },
  {
   "cell_type": "markdown",
   "metadata": {},
   "source": [
    "using with open(path, x) will fail if the file already exists in the current path "
   ]
  },
  {
   "cell_type": "code",
   "execution_count": 16,
   "metadata": {},
   "outputs": [
    {
     "data": {
      "text/plain": [
       "'C:\\\\Users\\\\bhara\\\\Documents'"
      ]
     },
     "execution_count": 16,
     "metadata": {},
     "output_type": "execute_result"
    }
   ],
   "source": [
    "%pwd"
   ]
  },
  {
   "cell_type": "code",
   "execution_count": 17,
   "metadata": {},
   "outputs": [],
   "source": [
    "path = 'C:\\\\Users\\\\bhara\\\\Documents\\\\HWtemp.csv'"
   ]
  },
  {
   "cell_type": "code",
   "execution_count": 18,
   "metadata": {},
   "outputs": [
    {
     "data": {
      "text/plain": [
       "'Date,Time,'"
      ]
     },
     "execution_count": 18,
     "metadata": {},
     "output_type": "execute_result"
    }
   ],
   "source": [
    "f = open(path)\n",
    "f.read(10)"
   ]
  },
  {
   "cell_type": "code",
   "execution_count": 19,
   "metadata": {},
   "outputs": [
    {
     "data": {
      "text/plain": [
       "12"
      ]
     },
     "execution_count": 19,
     "metadata": {},
     "output_type": "execute_result"
    }
   ],
   "source": [
    "f.seek(12)"
   ]
  },
  {
   "cell_type": "code",
   "execution_count": 20,
   "metadata": {},
   "outputs": [],
   "source": [
    "f.close()"
   ]
  },
  {
   "cell_type": "markdown",
   "metadata": {},
   "source": [
    "Numpy \n",
    "Are efficient than the python sequences"
   ]
  },
  {
   "cell_type": "code",
   "execution_count": 21,
   "metadata": {},
   "outputs": [],
   "source": [
    "import numpy as np "
   ]
  },
  {
   "cell_type": "code",
   "execution_count": 22,
   "metadata": {},
   "outputs": [],
   "source": [
    "my_nparr = np.arange(1000000)"
   ]
  },
  {
   "cell_type": "code",
   "execution_count": 23,
   "metadata": {},
   "outputs": [],
   "source": [
    "my_list = list(range(1000000))"
   ]
  },
  {
   "cell_type": "code",
   "execution_count": 24,
   "metadata": {},
   "outputs": [
    {
     "name": "stdout",
     "output_type": "stream",
     "text": [
      "Wall time: 18 ms\n"
     ]
    }
   ],
   "source": [
    "%time for _ in range(10): my_nparr * 2 "
   ]
  },
  {
   "cell_type": "code",
   "execution_count": 25,
   "metadata": {},
   "outputs": [
    {
     "name": "stdout",
     "output_type": "stream",
     "text": [
      "Wall time: 774 ms\n"
     ]
    }
   ],
   "source": [
    "%time for _ in range(10): [x * 2 for x in my_list]"
   ]
  },
  {
   "cell_type": "code",
   "execution_count": 26,
   "metadata": {},
   "outputs": [
    {
     "name": "stdout",
     "output_type": "stream",
     "text": [
      "Variable        Type             Data/Info\n",
      "------------------------------------------\n",
      "count_entries   function         <function count_entries at 0x00000176E164A6A8>\n",
      "f               TextIOWrapper    <_io.TextIOWrapper name='<...>de='r' encoding='cp1252'>\n",
      "first_letter    function         <function <lambda> at 0x00000176E271C598>\n",
      "gen             generator        <generator object <genexp<...>r> at 0x00000176E271F390>\n",
      "itertools       module           <module 'itertools' (built-in)>\n",
      "letter          str              S\n",
      "my_list         list             n=1000000\n",
      "my_nparr        ndarray          1000000: 1000000 elems, type `int32`, 4000000 bytes (3.814697265625 Mb)\n",
      "names           _grouper         <itertools._grouper object at 0x00000176E27271D0>\n",
      "np              module           <module 'numpy' from 'C:\\<...>ges\\\\numpy\\\\__init__.py'>\n",
      "os              module           <module 'os' from 'C:\\\\Us<...>\\\\Anaconda3\\\\lib\\\\os.py'>\n",
      "path            str              C:\\Users\\bhara\\Documents\\HWtemp.csv\n"
     ]
    }
   ],
   "source": [
    "%whos"
   ]
  },
  {
   "cell_type": "markdown",
   "metadata": {},
   "source": [
    "np.astype - always creates a separate copy in the memory "
   ]
  },
  {
   "cell_type": "code",
   "execution_count": 27,
   "metadata": {},
   "outputs": [],
   "source": [
    "arr = np.random.randn(10,10)"
   ]
  },
  {
   "cell_type": "code",
   "execution_count": 31,
   "metadata": {},
   "outputs": [],
   "source": [
    "arr[3:5,3:5] = 12"
   ]
  },
  {
   "cell_type": "code",
   "execution_count": 37,
   "metadata": {},
   "outputs": [
    {
     "data": {
      "text/plain": [
       "array([[ 2.54587399e-02,  1.49179380e+00,  1.65404558e+00,\n",
       "        -3.15995005e-04,  3.91825435e-01,  1.15551884e+00,\n",
       "         5.60996405e-01, -8.11625857e-05, -5.53966863e-01,\n",
       "        -1.12138486e-02],\n",
       "       [ 4.64338643e-01,  1.20597478e+00, -3.74711887e-01,\n",
       "        -7.52626583e-01, -4.37866546e-01, -4.47323921e-01,\n",
       "        -2.87523027e-01,  9.05986340e-01,  1.07674255e-01,\n",
       "        -1.79692391e-02],\n",
       "       [ 1.37266644e+00,  6.00567263e-01,  1.77220407e+00,\n",
       "         1.60010597e+00,  6.48041345e-02,  4.11539825e-01,\n",
       "        -8.60378885e-01, -1.59455092e+00,  8.37676292e-01,\n",
       "        -1.60228527e-02],\n",
       "       [-1.19824833e+00, -1.36408365e+00,  2.94936946e-01,\n",
       "         1.20000000e+01,  1.20000000e+01,  1.28888274e+00,\n",
       "        -1.42456755e+00,  3.44148790e-02,  1.12087070e+00,\n",
       "        -5.02812625e-01],\n",
       "       [-7.26097975e-01,  1.05486256e+00, -1.84474754e+00,\n",
       "         1.20000000e+01,  1.20000000e+01,  4.85759724e-01,\n",
       "        -1.19589691e+00,  1.36605548e+00, -9.25755655e-03,\n",
       "         6.03646718e-01],\n",
       "       [ 8.23728096e-01,  1.07657143e+00,  1.58255487e+00,\n",
       "         2.18216765e+00, -4.69116669e-01,  4.47182304e-01,\n",
       "        -1.22616408e+00, -1.19357736e+00,  1.19901449e+00,\n",
       "        -1.57176001e-01],\n",
       "       [-1.14200996e-01, -5.52009751e-02, -8.88208245e-01,\n",
       "        -9.18143862e-01, -3.94221490e-01, -8.29485916e-01,\n",
       "         5.97691050e-01,  7.43889945e-01, -7.84274098e-01,\n",
       "         3.07798727e-01],\n",
       "       [-5.61433731e-01,  1.51702309e+00,  2.47821026e+00,\n",
       "         8.22405849e-01, -2.22241372e-01, -9.04856681e-01,\n",
       "         1.12878668e-01,  2.93689359e+00,  1.51321866e+00,\n",
       "         1.93373727e+00],\n",
       "       [ 4.81047995e-01, -4.24325285e-01, -1.00499554e-01,\n",
       "         8.78048740e-01, -1.39904471e+00,  8.22090018e-01,\n",
       "         1.71785819e+00,  1.32408591e+00,  5.75414342e-01,\n",
       "         1.11135660e+00],\n",
       "       [ 8.49060631e-01,  2.28991049e-01, -2.07736531e+00,\n",
       "         3.59171651e-01,  5.80192219e-01,  7.24299204e-01,\n",
       "        -1.18154823e-01,  6.78783053e-01, -1.34831139e+00,\n",
       "         4.83728850e-01]])"
      ]
     },
     "execution_count": 37,
     "metadata": {},
     "output_type": "execute_result"
    }
   ],
   "source": [
    "arr # the value 12 is broadcasted into the array."
   ]
  },
  {
   "cell_type": "code",
   "execution_count": 39,
   "metadata": {},
   "outputs": [
    {
     "data": {
      "text/plain": [
       "1.6540455819166222"
      ]
     },
     "execution_count": 39,
     "metadata": {},
     "output_type": "execute_result"
    }
   ],
   "source": [
    "arr[0][2]"
   ]
  },
  {
   "cell_type": "code",
   "execution_count": 40,
   "metadata": {},
   "outputs": [],
   "source": [
    "arr3d = np.array([[[1, 2, 3], [4, 5, 6]], [[7, 8, 9], [10, 11, 12]]])"
   ]
  },
  {
   "cell_type": "code",
   "execution_count": 46,
   "metadata": {},
   "outputs": [
    {
     "data": {
      "text/plain": [
       "1"
      ]
     },
     "execution_count": 46,
     "metadata": {},
     "output_type": "execute_result"
    }
   ],
   "source": [
    "arr3d[0,0,0]"
   ]
  },
  {
   "cell_type": "code",
   "execution_count": 60,
   "metadata": {},
   "outputs": [],
   "source": [
    "names = np.array(['Bob', 'Joe', 'Will', 'Bob', 'Will', 'Joe', 'Joe'])"
   ]
  },
  {
   "cell_type": "code",
   "execution_count": 61,
   "metadata": {},
   "outputs": [
    {
     "data": {
      "text/plain": [
       "array([ True, False, False,  True, False, False, False])"
      ]
     },
     "execution_count": 61,
     "metadata": {},
     "output_type": "execute_result"
    }
   ],
   "source": [
    "names == 'Bob'"
   ]
  },
  {
   "cell_type": "code",
   "execution_count": 62,
   "metadata": {},
   "outputs": [],
   "source": [
    "data = np.random.randn(7,4)"
   ]
  },
  {
   "cell_type": "code",
   "execution_count": 63,
   "metadata": {},
   "outputs": [
    {
     "data": {
      "text/plain": [
       "array([[-1.06063663, -0.51437292, -1.02487534,  1.2300417 ],\n",
       "       [ 0.26745161, -0.67994907, -0.17571797, -0.52313142]])"
      ]
     },
     "execution_count": 63,
     "metadata": {},
     "output_type": "execute_result"
    }
   ],
   "source": [
    "data[names == 'Bob'] \n",
    "# gets the row index of the array data. boolean length should be the same as the array  data"
   ]
  },
  {
   "cell_type": "code",
   "execution_count": 55,
   "metadata": {},
   "outputs": [
    {
     "data": {
      "text/plain": [
       "array([[ 0.36620239, -1.36362426, -0.1730087 , -0.69472185],\n",
       "       [-1.60779862, -0.19890794, -1.11396016,  0.24808152],\n",
       "       [ 0.35807856, -0.69264347, -1.28899426,  1.24894322],\n",
       "       [-1.87146258,  0.4170784 ,  1.09649309,  1.47650496],\n",
       "       [ 0.65387894, -0.04232155,  0.24368176,  0.87325972]])"
      ]
     },
     "execution_count": 55,
     "metadata": {},
     "output_type": "execute_result"
    }
   ],
   "source": [
    "data[~(names == 'Bob')] # negation "
   ]
  },
  {
   "cell_type": "code",
   "execution_count": 64,
   "metadata": {},
   "outputs": [],
   "source": [
    "mask = (names == 'Will') | (names == 'Bob')"
   ]
  },
  {
   "cell_type": "code",
   "execution_count": 67,
   "metadata": {},
   "outputs": [],
   "source": [
    "data[data < 0] = 0"
   ]
  },
  {
   "cell_type": "code",
   "execution_count": 68,
   "metadata": {},
   "outputs": [
    {
     "data": {
      "text/plain": [
       "array([[0.        , 0.        , 0.        , 1.2300417 ],\n",
       "       [1.82908088, 1.42712203, 0.        , 0.51269959],\n",
       "       [0.        , 0.        , 0.        , 0.        ],\n",
       "       [0.26745161, 0.        , 0.        , 0.        ],\n",
       "       [0.        , 1.528662  , 0.        , 0.86046838],\n",
       "       [1.18854908, 1.48958922, 0.        , 0.        ],\n",
       "       [0.        , 0.71960563, 1.76079341, 0.47573039]])"
      ]
     },
     "execution_count": 68,
     "metadata": {},
     "output_type": "execute_result"
    }
   ],
   "source": [
    "data"
   ]
  },
  {
   "cell_type": "markdown",
   "metadata": {},
   "source": [
    "Fancy Indexing \n",
    "\n",
    "always copies the data into a new array. "
   ]
  },
  {
   "cell_type": "code",
   "execution_count": 71,
   "metadata": {},
   "outputs": [],
   "source": [
    "arr = np.empty((8,4))"
   ]
  },
  {
   "cell_type": "code",
   "execution_count": 74,
   "metadata": {},
   "outputs": [],
   "source": [
    "for i in range(8):\n",
    "    arr[i] = i"
   ]
  },
  {
   "cell_type": "code",
   "execution_count": 75,
   "metadata": {},
   "outputs": [
    {
     "data": {
      "text/plain": [
       "array([[0., 0., 0., 0.],\n",
       "       [1., 1., 1., 1.],\n",
       "       [2., 2., 2., 2.],\n",
       "       [3., 3., 3., 3.],\n",
       "       [4., 4., 4., 4.],\n",
       "       [5., 5., 5., 5.],\n",
       "       [6., 6., 6., 6.],\n",
       "       [7., 7., 7., 7.]])"
      ]
     },
     "execution_count": 75,
     "metadata": {},
     "output_type": "execute_result"
    }
   ],
   "source": [
    "arr"
   ]
  },
  {
   "cell_type": "code",
   "execution_count": 77,
   "metadata": {},
   "outputs": [
    {
     "data": {
      "text/plain": [
       "array([[1., 1., 1., 1.],\n",
       "       [2., 2., 2., 2.]])"
      ]
     },
     "execution_count": 77,
     "metadata": {},
     "output_type": "execute_result"
    }
   ],
   "source": [
    "arr[[1,2]]"
   ]
  },
  {
   "cell_type": "code",
   "execution_count": 82,
   "metadata": {},
   "outputs": [],
   "source": [
    "arr = np.arange(36).reshape(9,4)"
   ]
  },
  {
   "cell_type": "code",
   "execution_count": 83,
   "metadata": {},
   "outputs": [
    {
     "data": {
      "text/plain": [
       "array([[ 0,  1,  2,  3],\n",
       "       [ 4,  5,  6,  7],\n",
       "       [ 8,  9, 10, 11],\n",
       "       [12, 13, 14, 15],\n",
       "       [16, 17, 18, 19],\n",
       "       [20, 21, 22, 23],\n",
       "       [24, 25, 26, 27],\n",
       "       [28, 29, 30, 31],\n",
       "       [32, 33, 34, 35]])"
      ]
     },
     "execution_count": 83,
     "metadata": {},
     "output_type": "execute_result"
    }
   ],
   "source": [
    "arr"
   ]
  },
  {
   "cell_type": "code",
   "execution_count": 84,
   "metadata": {},
   "outputs": [
    {
     "data": {
      "text/plain": [
       "array([[ 0,  4,  8, 12, 16, 20, 24, 28, 32],\n",
       "       [ 1,  5,  9, 13, 17, 21, 25, 29, 33],\n",
       "       [ 2,  6, 10, 14, 18, 22, 26, 30, 34],\n",
       "       [ 3,  7, 11, 15, 19, 23, 27, 31, 35]])"
      ]
     },
     "execution_count": 84,
     "metadata": {},
     "output_type": "execute_result"
    }
   ],
   "source": [
    "arr.T"
   ]
  },
  {
   "cell_type": "code",
   "execution_count": 85,
   "metadata": {},
   "outputs": [
    {
     "data": {
      "text/plain": [
       "array([[  14,   38,   62,   86,  110,  134,  158,  182,  206],\n",
       "       [  38,  126,  214,  302,  390,  478,  566,  654,  742],\n",
       "       [  62,  214,  366,  518,  670,  822,  974, 1126, 1278],\n",
       "       [  86,  302,  518,  734,  950, 1166, 1382, 1598, 1814],\n",
       "       [ 110,  390,  670,  950, 1230, 1510, 1790, 2070, 2350],\n",
       "       [ 134,  478,  822, 1166, 1510, 1854, 2198, 2542, 2886],\n",
       "       [ 158,  566,  974, 1382, 1790, 2198, 2606, 3014, 3422],\n",
       "       [ 182,  654, 1126, 1598, 2070, 2542, 3014, 3486, 3958],\n",
       "       [ 206,  742, 1278, 1814, 2350, 2886, 3422, 3958, 4494]])"
      ]
     },
     "execution_count": 85,
     "metadata": {},
     "output_type": "execute_result"
    }
   ],
   "source": [
    "arr @ arr.T"
   ]
  },
  {
   "cell_type": "markdown",
   "metadata": {},
   "source": [
    "np.modf - returns the fraction and the reminder of the array"
   ]
  },
  {
   "cell_type": "code",
   "execution_count": 86,
   "metadata": {},
   "outputs": [],
   "source": [
    "arr = np.random.randn(8,4)"
   ]
  },
  {
   "cell_type": "code",
   "execution_count": 87,
   "metadata": {},
   "outputs": [
    {
     "data": {
      "text/plain": [
       "array([[ 0.00702874,  2.0044511 ,  0.16858424, -0.47155542],\n",
       "       [-0.66052369,  1.48922435, -0.98992532, -0.21531992],\n",
       "       [ 1.07904223, -0.45538956, -0.06098439,  1.54145545],\n",
       "       [ 0.68824392, -1.34878031,  0.21225499,  1.3874484 ],\n",
       "       [-1.45983638,  2.02319382,  1.25716831,  0.23976621],\n",
       "       [-2.31784064,  0.2890127 , -0.15787201,  0.63544651],\n",
       "       [-1.04908798, -0.52871444,  0.98957069, -1.49886116],\n",
       "       [-0.35188139,  0.63353334, -2.30668858, -1.66609362]])"
      ]
     },
     "execution_count": 87,
     "metadata": {},
     "output_type": "execute_result"
    }
   ],
   "source": [
    "arr"
   ]
  },
  {
   "cell_type": "code",
   "execution_count": 90,
   "metadata": {},
   "outputs": [],
   "source": [
    "arr[3:5,3:5]  = 12"
   ]
  },
  {
   "cell_type": "code",
   "execution_count": 92,
   "metadata": {},
   "outputs": [],
   "source": [
    "frac, whole = np.modf(arr)"
   ]
  },
  {
   "cell_type": "code",
   "execution_count": 93,
   "metadata": {},
   "outputs": [
    {
     "data": {
      "text/plain": [
       "array([[ 0.00702874,  0.0044511 ,  0.16858424, -0.47155542],\n",
       "       [-0.66052369,  0.48922435, -0.98992532, -0.21531992],\n",
       "       [ 0.07904223, -0.45538956, -0.06098439,  0.54145545],\n",
       "       [ 0.68824392, -0.34878031,  0.21225499,  0.        ],\n",
       "       [-0.45983638,  0.02319382,  0.25716831,  0.        ],\n",
       "       [-0.31784064,  0.2890127 , -0.15787201,  0.63544651],\n",
       "       [-0.04908798, -0.52871444,  0.98957069, -0.49886116],\n",
       "       [-0.35188139,  0.63353334, -0.30668858, -0.66609362]])"
      ]
     },
     "execution_count": 93,
     "metadata": {},
     "output_type": "execute_result"
    }
   ],
   "source": [
    "frac"
   ]
  },
  {
   "cell_type": "code",
   "execution_count": 94,
   "metadata": {},
   "outputs": [
    {
     "data": {
      "text/plain": [
       "array([[ 0.,  2.,  0., -0.],\n",
       "       [-0.,  1., -0., -0.],\n",
       "       [ 1., -0., -0.,  1.],\n",
       "       [ 0., -1.,  0., 12.],\n",
       "       [-1.,  2.,  1., 12.],\n",
       "       [-2.,  0., -0.,  0.],\n",
       "       [-1., -0.,  0., -1.],\n",
       "       [-0.,  0., -2., -1.]])"
      ]
     },
     "execution_count": 94,
     "metadata": {},
     "output_type": "execute_result"
    }
   ],
   "source": [
    "whole"
   ]
  },
  {
   "cell_type": "code",
   "execution_count": 95,
   "metadata": {},
   "outputs": [
    {
     "name": "stderr",
     "output_type": "stream",
     "text": [
      "C:\\Users\\bhara\\Anaconda3\\lib\\site-packages\\ipykernel_launcher.py:1: RuntimeWarning: invalid value encountered in sqrt\n",
      "  \"\"\"Entry point for launching an IPython kernel.\n"
     ]
    },
    {
     "data": {
      "text/plain": [
       "array([[0.08383758, 1.41578639, 0.41059011,        nan],\n",
       "       [       nan, 1.2203378 ,        nan,        nan],\n",
       "       [1.03876958,        nan,        nan, 1.24155364],\n",
       "       [0.82960468,        nan, 0.4607114 , 3.46410162],\n",
       "       [       nan, 1.42239018, 1.12123517, 3.46410162],\n",
       "       [       nan, 0.53759902,        nan, 0.79714899],\n",
       "       [       nan,        nan, 0.99477168,        nan],\n",
       "       [       nan, 0.79594808,        nan,        nan]])"
      ]
     },
     "execution_count": 95,
     "metadata": {},
     "output_type": "execute_result"
    }
   ],
   "source": [
    "np.sqrt(arr)"
   ]
  },
  {
   "attachments": {
    "image.png": {
     "image/png": "[encoded data removed]"
    }
   },
   "cell_type": "markdown",
   "metadata": {},
   "source": [
    "![image.png](attachment:image.png)"
   ]
  },
  {
   "cell_type": "markdown",
   "metadata": {},
   "source": [
    "Replacing explicit loops is called vectorization"
   ]
  },
  {
   "cell_type": "code",
   "execution_count": 137,
   "metadata": {},
   "outputs": [],
   "source": [
    "points = np.arange(-1,1,0.001)"
   ]
  },
  {
   "cell_type": "code",
   "execution_count": 138,
   "metadata": {},
   "outputs": [],
   "source": [
    "xs, ys = np.meshgrid(points,points)"
   ]
  },
  {
   "cell_type": "code",
   "execution_count": 139,
   "metadata": {},
   "outputs": [
    {
     "data": {
      "text/plain": [
       "array([[-1.   , -1.   , -1.   , ..., -1.   , -1.   , -1.   ],\n",
       "       [-0.999, -0.999, -0.999, ..., -0.999, -0.999, -0.999],\n",
       "       [-0.998, -0.998, -0.998, ..., -0.998, -0.998, -0.998],\n",
       "       ...,\n",
       "       [ 0.997,  0.997,  0.997, ...,  0.997,  0.997,  0.997],\n",
       "       [ 0.998,  0.998,  0.998, ...,  0.998,  0.998,  0.998],\n",
       "       [ 0.999,  0.999,  0.999, ...,  0.999,  0.999,  0.999]])"
      ]
     },
     "execution_count": 139,
     "metadata": {},
     "output_type": "execute_result"
    }
   ],
   "source": [
    "ys"
   ]
  },
  {
   "cell_type": "code",
   "execution_count": 146,
   "metadata": {},
   "outputs": [],
   "source": [
    "z = np.sqrt(xs ** 2 + ys ** 2)"
   ]
  },
  {
   "cell_type": "code",
   "execution_count": 147,
   "metadata": {},
   "outputs": [
    {
     "data": {
      "text/plain": [
       "array([[1.41421356, 1.41350663, 1.41280006, ..., 1.41209384, 1.41280006,\n",
       "        1.41350663],\n",
       "       [1.41350663, 1.41279935, 1.41209242, ..., 1.41138584, 1.41209242,\n",
       "        1.41279935],\n",
       "       [1.41280006, 1.41209242, 1.41138514, ..., 1.41067821, 1.41138514,\n",
       "        1.41209242],\n",
       "       ...,\n",
       "       [1.41209384, 1.41138584, 1.41067821, ..., 1.40997092, 1.41067821,\n",
       "        1.41138584],\n",
       "       [1.41280006, 1.41209242, 1.41138514, ..., 1.41067821, 1.41138514,\n",
       "        1.41209242],\n",
       "       [1.41350663, 1.41279935, 1.41209242, ..., 1.41138584, 1.41209242,\n",
       "        1.41279935]])"
      ]
     },
     "execution_count": 147,
     "metadata": {},
     "output_type": "execute_result"
    }
   ],
   "source": [
    "z"
   ]
  },
  {
   "cell_type": "code",
   "execution_count": 148,
   "metadata": {},
   "outputs": [
    {
     "data": {
      "text/plain": [
       "Text(0.5, 1.0, 'Image plot of $\\\\sqrt{x^2 + y^2}$')"
      ]
     },
     "execution_count": 148,
     "metadata": {},
     "output_type": "execute_result"
    },
    {
     "data": {
      "image/png": "[encoded data removed]",
      "text/plain": [
       "<Figure size 432x288 with 2 Axes>"
      ]
     },
     "metadata": {},
     "output_type": "display_data"
    }
   ],
   "source": [
    "%matplotlib inline\n",
    "import matplotlib.pyplot as plt\n",
    "plt.style.use('dark_background')\n",
    "plt.imshow(z, cmap=plt.cm.gray)\n",
    "plt.colorbar()\n",
    "plt.title(\"Image plot of $\\sqrt{x^2 + y^2}$\")"
   ]
  },
  {
   "cell_type": "code",
   "execution_count": 159,
   "metadata": {},
   "outputs": [],
   "source": [
    "first_arr = np.random.randn(5,5)\n",
    "second_arr = np.random.randn(5,5)"
   ]
  },
  {
   "cell_type": "code",
   "execution_count": 160,
   "metadata": {},
   "outputs": [],
   "source": [
    "bool_arr = np.random.choice(a=[True,False],size=(5,5))"
   ]
  },
  {
   "cell_type": "code",
   "execution_count": 161,
   "metadata": {},
   "outputs": [
    {
     "data": {
      "text/plain": [
       "array([[False,  True,  True, False,  True],\n",
       "       [ True,  True, False,  True,  True],\n",
       "       [False, False,  True,  True, False],\n",
       "       [False, False,  True, False, False],\n",
       "       [ True, False,  True,  True,  True]])"
      ]
     },
     "execution_count": 161,
     "metadata": {},
     "output_type": "execute_result"
    }
   ],
   "source": [
    "bool_arr"
   ]
  },
  {
   "cell_type": "code",
   "execution_count": 162,
   "metadata": {},
   "outputs": [
    {
     "data": {
      "text/plain": [
       "array([[-2.39894301,  0.68371021,  0.27205434,  0.53292252, -0.89245632],\n",
       "       [-0.06010354, -0.01654866, -2.39445041, -1.51746166, -0.11477421],\n",
       "       [ 0.09704486, -1.73516642,  0.47228479,  0.5316199 , -0.32701514],\n",
       "       [ 1.00499894,  0.65275552,  0.21431801,  0.27420679, -1.51859995],\n",
       "       [-0.66688375,  0.37898178, -0.27551518,  0.39767766,  1.49880498]])"
      ]
     },
     "execution_count": 162,
     "metadata": {},
     "output_type": "execute_result"
    }
   ],
   "source": [
    "result = np.where(first_arr,second_arr,bool_arr)\n",
    "result # when true selects from first array, else from second array "
   ]
  },
  {
   "cell_type": "code",
   "execution_count": 163,
   "metadata": {},
   "outputs": [
    {
     "data": {
      "text/plain": [
       "-2.3989430069733997"
      ]
     },
     "execution_count": 163,
     "metadata": {},
     "output_type": "execute_result"
    }
   ],
   "source": [
    "second_arr[0,0]"
   ]
  },
  {
   "cell_type": "code",
   "execution_count": 164,
   "metadata": {},
   "outputs": [
    {
     "data": {
      "text/plain": [
       "array([[ 2,  2,  2, -2],\n",
       "       [-2,  2, -2, -2],\n",
       "       [ 2, -2, -2,  2],\n",
       "       [ 2, -2,  2,  2],\n",
       "       [-2,  2,  2,  2],\n",
       "       [-2,  2, -2,  2],\n",
       "       [-2, -2,  2, -2],\n",
       "       [-2,  2, -2, -2]])"
      ]
     },
     "execution_count": 164,
     "metadata": {},
     "output_type": "execute_result"
    }
   ],
   "source": [
    "np.where(arr > 0, 2,-2)  # is also useful when we need to replace with constant "
   ]
  },
  {
   "cell_type": "code",
   "execution_count": 168,
   "metadata": {},
   "outputs": [
    {
     "data": {
      "text/plain": [
       "-0.026977823566608036"
      ]
     },
     "execution_count": 168,
     "metadata": {},
     "output_type": "execute_result"
    }
   ],
   "source": [
    "np.median(arr)"
   ]
  },
  {
   "cell_type": "code",
   "execution_count": 167,
   "metadata": {},
   "outputs": [
    {
     "data": {
      "text/plain": [
       "0.6712142372824067"
      ]
     },
     "execution_count": 167,
     "metadata": {},
     "output_type": "execute_result"
    }
   ],
   "source": [
    "np.mean(arr)"
   ]
  },
  {
   "cell_type": "code",
   "execution_count": 169,
   "metadata": {},
   "outputs": [
    {
     "data": {
      "text/plain": [
       "3.1351782160062207"
      ]
     },
     "execution_count": 169,
     "metadata": {},
     "output_type": "execute_result"
    }
   ],
   "source": [
    "np.std(arr)"
   ]
  },
  {
   "cell_type": "code",
   "execution_count": 186,
   "metadata": {},
   "outputs": [
    {
     "data": {
      "text/plain": [
       "array([ 0.42712716, -0.09413614,  0.52603093,  2.88792965,  3.45513144,\n",
       "       -0.38781336, -0.52177322, -0.92278256])"
      ]
     },
     "execution_count": 186,
     "metadata": {},
     "output_type": "execute_result"
    }
   ],
   "source": [
    "np.mean(arr,axis=1)"
   ]
  },
  {
   "cell_type": "code",
   "execution_count": 189,
   "metadata": {},
   "outputs": [
    {
     "data": {
      "text/plain": [
       "0.4271271646622181"
      ]
     },
     "execution_count": 189,
     "metadata": {},
     "output_type": "execute_result"
    }
   ],
   "source": [
    "np.mean(arr[0,:])"
   ]
  },
  {
   "cell_type": "code",
   "execution_count": 188,
   "metadata": {},
   "outputs": [
    {
     "data": {
      "text/plain": [
       "array([ 0.00702874, -0.66052369,  1.07904223,  0.68824392, -1.45983638,\n",
       "       -2.31784064, -1.04908798, -0.35188139])"
      ]
     },
     "execution_count": 188,
     "metadata": {},
     "output_type": "execute_result"
    }
   ],
   "source": [
    "arr[:,0]"
   ]
  },
  {
   "cell_type": "code",
   "execution_count": 190,
   "metadata": {},
   "outputs": [
    {
     "data": {
      "text/plain": [
       "array([ 0.42712716, -0.09413614,  0.52603093,  2.88792965,  3.45513144,\n",
       "       -0.38781336, -0.52177322, -0.92278256])"
      ]
     },
     "execution_count": 190,
     "metadata": {},
     "output_type": "execute_result"
    }
   ],
   "source": [
    "arr.mean(1)"
   ]
  },
  {
   "cell_type": "code",
   "execution_count": 199,
   "metadata": {},
   "outputs": [
    {
     "ename": "TypeError",
     "evalue": "data type not understood",
     "output_type": "error",
     "traceback": [
      "\u001b[1;31m---------------------------------------------------------------------------\u001b[0m",
      "\u001b[1;31mTypeError\u001b[0m                                 Traceback (most recent call last)",
      "\u001b[1;32m<ipython-input-199-9ae99481377f>\u001b[0m in \u001b[0;36m<module>\u001b[1;34m\u001b[0m\n\u001b[1;32m----> 1\u001b[1;33m \u001b[0mar\u001b[0m \u001b[1;33m=\u001b[0m \u001b[0mnp\u001b[0m\u001b[1;33m.\u001b[0m\u001b[0marray\u001b[0m\u001b[1;33m(\u001b[0m\u001b[0mrange\u001b[0m\u001b[1;33m(\u001b[0m\u001b[1;36m1\u001b[0m\u001b[1;33m,\u001b[0m\u001b[1;36m10\u001b[0m\u001b[1;33m)\u001b[0m\u001b[1;33m,\u001b[0m\u001b[1;36m2\u001b[0m\u001b[1;33m)\u001b[0m\u001b[1;33m\u001b[0m\u001b[1;33m\u001b[0m\u001b[0m\n\u001b[0m",
      "\u001b[1;31mTypeError\u001b[0m: data type not understood"
     ]
    }
   ],
   "source": [
    "ar = np.arange(1,10)"
   ]
  },
  {
   "cell_type": "code",
   "execution_count": 209,
   "metadata": {},
   "outputs": [],
   "source": [
    "ar = np.array([[1,2,3],[4,5,6],[7,8,9]])"
   ]
  },
  {
   "cell_type": "code",
   "execution_count": 210,
   "metadata": {},
   "outputs": [
    {
     "data": {
      "text/plain": [
       "array([[1, 2, 3],\n",
       "       [4, 5, 6],\n",
       "       [7, 8, 9]])"
      ]
     },
     "execution_count": 210,
     "metadata": {},
     "output_type": "execute_result"
    }
   ],
   "source": [
    "ar"
   ]
  },
  {
   "cell_type": "code",
   "execution_count": 214,
   "metadata": {},
   "outputs": [
    {
     "data": {
      "text/plain": [
       "array([[ 1,  2,  3],\n",
       "       [ 5,  7,  9],\n",
       "       [12, 15, 18]], dtype=int32)"
      ]
     },
     "execution_count": 214,
     "metadata": {},
     "output_type": "execute_result"
    }
   ],
   "source": [
    "ar.cumsum(axis=0)"
   ]
  },
  {
   "cell_type": "code",
   "execution_count": 216,
   "metadata": {},
   "outputs": [
    {
     "data": {
      "text/plain": [
       "array([[  1,   2,   3],\n",
       "       [  4,  10,  18],\n",
       "       [ 28,  80, 162]], dtype=int32)"
      ]
     },
     "execution_count": 216,
     "metadata": {},
     "output_type": "execute_result"
    }
   ],
   "source": [
    "ar.cumprod(axis=0)"
   ]
  },
  {
   "cell_type": "code",
   "execution_count": 232,
   "metadata": {},
   "outputs": [],
   "source": [
    "arr = np.random.randn(5,5)"
   ]
  },
  {
   "cell_type": "code",
   "execution_count": 219,
   "metadata": {},
   "outputs": [
    {
     "data": {
      "text/plain": [
       "55"
      ]
     },
     "execution_count": 219,
     "metadata": {},
     "output_type": "execute_result"
    }
   ],
   "source": [
    "(arr > 0).sum()"
   ]
  },
  {
   "cell_type": "code",
   "execution_count": 220,
   "metadata": {},
   "outputs": [
    {
     "data": {
      "text/plain": [
       "array([ 1.89509638,  0.50305742,  1.43364259, -0.94911932, -0.71827365,\n",
       "       -0.62489439,  0.22411343,  1.18846427, -0.40687902, -0.34570275,\n",
       "        1.39082055,  0.89152838,  0.08044501, -1.82300336, -0.62760908,\n",
       "        0.73806622, -0.37448408,  0.21462596,  0.13437905,  0.96066544,\n",
       "       -0.08581796,  0.00898556,  0.07996433,  0.29449086,  1.08407815,\n",
       "        0.84619385,  1.10913325,  0.20202021, -1.81911287, -1.09616299,\n",
       "       -0.21763914, -2.01259962, -2.62470945, -0.74727285,  1.27113185,\n",
       "        1.35323843, -1.38464171, -1.02573314, -1.30403571, -1.13365507,\n",
       "       -0.13696627,  0.05347554, -0.93211417, -0.76949465,  0.07308513,\n",
       "        0.29576204, -0.99301965,  0.16157398,  1.52361214,  2.04197645,\n",
       "       -0.05841479, -1.17181761,  0.32135674, -2.66827671,  0.68410827,\n",
       "        0.07888275,  0.42784581,  0.14814516, -1.91918066, -0.44114263,\n",
       "       -0.04540329,  1.45614982, -1.10032636,  0.63730444,  0.48027173,\n",
       "        0.38529517, -0.66032637,  1.80620613,  0.49297532,  1.53009261,\n",
       "       -1.66680604,  0.21577972, -1.00198522, -0.25415482, -0.15951211,\n",
       "        1.01621929,  0.19630099, -0.3714839 ,  1.64070545,  0.05237588,\n",
       "        0.43628714, -2.28453003,  0.61081245,  0.24508668, -1.22445808,\n",
       "       -0.82479318,  1.57715388, -0.00406136, -0.70038455,  0.17247267,\n",
       "        1.03672629, -0.93559773,  0.80921338,  0.88098875,  0.87293681,\n",
       "       -0.56420839, -1.50088255,  0.71609428, -1.19906602,  1.56143205])"
      ]
     },
     "execution_count": 220,
     "metadata": {},
     "output_type": "execute_result"
    }
   ],
   "source": [
    "arr"
   ]
  },
  {
   "cell_type": "code",
   "execution_count": 224,
   "metadata": {},
   "outputs": [
    {
     "ename": "AxisError",
     "evalue": "axis 1 is out of bounds for array of dimension 1",
     "output_type": "error",
     "traceback": [
      "\u001b[1;31m---------------------------------------------------------------------------\u001b[0m",
      "\u001b[1;31mAxisError\u001b[0m                                 Traceback (most recent call last)",
      "\u001b[1;32m<ipython-input-224-5b14694a16f1>\u001b[0m in \u001b[0;36m<module>\u001b[1;34m\u001b[0m\n\u001b[1;32m----> 1\u001b[1;33m \u001b[0marr\u001b[0m\u001b[1;33m.\u001b[0m\u001b[0msort\u001b[0m\u001b[1;33m(\u001b[0m\u001b[1;36m1\u001b[0m\u001b[1;33m)\u001b[0m\u001b[1;33m\u001b[0m\u001b[1;33m\u001b[0m\u001b[0m\n\u001b[0m",
      "\u001b[1;31mAxisError\u001b[0m: axis 1 is out of bounds for array of dimension 1"
     ]
    }
   ],
   "source": [
    "arr.sort(1)"
   ]
  },
  {
   "cell_type": "code",
   "execution_count": 223,
   "metadata": {},
   "outputs": [
    {
     "data": {
      "text/plain": [
       "array([-2.66827671, -2.62470945, -2.28453003, -2.01259962, -1.91918066,\n",
       "       -1.82300336, -1.81911287, -1.66680604, -1.50088255, -1.38464171,\n",
       "       -1.30403571, -1.22445808, -1.19906602, -1.17181761, -1.13365507,\n",
       "       -1.10032636, -1.09616299, -1.02573314, -1.00198522, -0.99301965,\n",
       "       -0.94911932, -0.93559773, -0.93211417, -0.82479318, -0.76949465,\n",
       "       -0.74727285, -0.71827365, -0.70038455, -0.66032637, -0.62760908,\n",
       "       -0.62489439, -0.56420839, -0.44114263, -0.40687902, -0.37448408,\n",
       "       -0.3714839 , -0.34570275, -0.25415482, -0.21763914, -0.15951211,\n",
       "       -0.13696627, -0.08581796, -0.05841479, -0.04540329, -0.00406136,\n",
       "        0.00898556,  0.05237588,  0.05347554,  0.07308513,  0.07888275,\n",
       "        0.07996433,  0.08044501,  0.13437905,  0.14814516,  0.16157398,\n",
       "        0.17247267,  0.19630099,  0.20202021,  0.21462596,  0.21577972,\n",
       "        0.22411343,  0.24508668,  0.29449086,  0.29576204,  0.32135674,\n",
       "        0.38529517,  0.42784581,  0.43628714,  0.48027173,  0.49297532,\n",
       "        0.50305742,  0.61081245,  0.63730444,  0.68410827,  0.71609428,\n",
       "        0.73806622,  0.80921338,  0.84619385,  0.87293681,  0.88098875,\n",
       "        0.89152838,  0.96066544,  1.01621929,  1.03672629,  1.08407815,\n",
       "        1.10913325,  1.18846427,  1.27113185,  1.35323843,  1.39082055,\n",
       "        1.43364259,  1.45614982,  1.52361214,  1.53009261,  1.56143205,\n",
       "        1.57715388,  1.64070545,  1.80620613,  1.89509638,  2.04197645])"
      ]
     },
     "execution_count": 223,
     "metadata": {},
     "output_type": "execute_result"
    }
   ],
   "source": [
    "arr"
   ]
  },
  {
   "cell_type": "code",
   "execution_count": 227,
   "metadata": {},
   "outputs": [
    {
     "data": {
      "text/plain": [
       "array(['Bob', 'Joe', 'Will'], dtype='<U4')"
      ]
     },
     "execution_count": 227,
     "metadata": {},
     "output_type": "execute_result"
    }
   ],
   "source": [
    "np.unique(names)"
   ]
  },
  {
   "cell_type": "code",
   "execution_count": 259,
   "metadata": {},
   "outputs": [
    {
     "ename": "NameError",
     "evalue": "name 'det' is not defined",
     "output_type": "error",
     "traceback": [
      "\u001b[1;31m---------------------------------------------------------------------------\u001b[0m",
      "\u001b[1;31mNameError\u001b[0m                                 Traceback (most recent call last)",
      "\u001b[1;32m<ipython-input-259-7e5066d5fc93>\u001b[0m in \u001b[0;36m<module>\u001b[1;34m\u001b[0m\n\u001b[1;32m----> 1\u001b[1;33m \u001b[0mdet\u001b[0m\u001b[1;33m(\u001b[0m\u001b[0mmat\u001b[0m\u001b[1;33m)\u001b[0m\u001b[1;33m\u001b[0m\u001b[1;33m\u001b[0m\u001b[0m\n\u001b[0m",
      "\u001b[1;31mNameError\u001b[0m: name 'det' is not defined"
     ]
    }
   ],
   "source": []
  },
  {
   "cell_type": "code",
   "execution_count": 317,
   "metadata": {},
   "outputs": [],
   "source": [
    "x = np.random.randn(5,5)"
   ]
  },
  {
   "cell_type": "code",
   "execution_count": 318,
   "metadata": {},
   "outputs": [],
   "source": [
    "mat = x.T.dot(x)"
   ]
  },
  {
   "cell_type": "code",
   "execution_count": 319,
   "metadata": {},
   "outputs": [
    {
     "data": {
      "text/plain": [
       "array([[ 8.10705139, -0.46021442, -1.41003307, -1.57411159, -4.21159119],\n",
       "       [-0.46021442,  1.47379095,  0.13662675, -1.10240094,  0.70933613],\n",
       "       [-1.41003307,  0.13662675,  1.33309147, -1.2792026 ,  2.97479899],\n",
       "       [-1.57411159, -1.10240094, -1.2792026 ,  3.92465398, -2.83943006],\n",
       "       [-4.21159119,  0.70933613,  2.97479899, -2.83943006, 15.12290509]])"
      ]
     },
     "execution_count": 319,
     "metadata": {},
     "output_type": "execute_result"
    }
   ],
   "source": [
    "mat"
   ]
  },
  {
   "cell_type": "code",
   "execution_count": 320,
   "metadata": {},
   "outputs": [],
   "source": [
    "from numpy.linalg import *"
   ]
  },
  {
   "cell_type": "code",
   "execution_count": 321,
   "metadata": {},
   "outputs": [
    {
     "data": {
      "text/plain": [
       "array([[ 5.83742282e-01,  7.06333770e-01,  1.31196999e+00,\n",
       "         8.87667831e-01,  3.80270533e-02],\n",
       "       [ 7.06333770e-01,  1.77193023e+00,  1.90958106e+00,\n",
       "         1.40465687e+00,  1.69941435e-03],\n",
       "       [ 1.31196999e+00,  1.90958106e+00,  4.74303217e+00,\n",
       "         2.46837329e+00, -1.93735765e-01],\n",
       "       [ 8.87667831e-01,  1.40465687e+00,  2.46837329e+00,\n",
       "         1.83972998e+00,  4.11951516e-02],\n",
       "       [ 3.80270533e-02,  1.69941435e-03, -1.93735765e-01,\n",
       "         4.11951516e-02,  1.22479421e-01]])"
      ]
     },
     "execution_count": 321,
     "metadata": {},
     "output_type": "execute_result"
    }
   ],
   "source": [
    "inv(mat)"
   ]
  },
  {
   "cell_type": "code",
   "execution_count": 322,
   "metadata": {},
   "outputs": [
    {
     "data": {
      "text/plain": [
       "array([[ 1., -0., -0.,  0., -0.],\n",
       "       [ 0.,  1., -0.,  0., -0.],\n",
       "       [ 0.,  0.,  1., -0., -0.],\n",
       "       [ 0., -0., -0.,  1., -0.],\n",
       "       [-0., -0.,  0.,  0.,  1.]])"
      ]
     },
     "execution_count": 322,
     "metadata": {},
     "output_type": "execute_result"
    }
   ],
   "source": [
    "inv(mat).dot(mat).round()"
   ]
  },
  {
   "cell_type": "code",
   "execution_count": 256,
   "metadata": {},
   "outputs": [],
   "source": [
    "q,r = qr(mat)"
   ]
  },
  {
   "cell_type": "code",
   "execution_count": 258,
   "metadata": {},
   "outputs": [
    {
     "data": {
      "text/plain": [
       "array([[-0.70828199,  0.30825465, -0.31262069, -0.20085255, -0.51501675],\n",
       "       [-0.1018864 , -0.62340731,  0.24365455,  0.47172599, -0.56488011],\n",
       "       [ 0.11145431, -0.41235858, -0.89388147,  0.07598829,  0.1128718 ],\n",
       "       [-0.37066034, -0.5877416 ,  0.2065002 , -0.63011309,  0.27836288],\n",
       "       [-0.58150205,  0.02937027,  0.03513339,  0.57820076,  0.57047548]])"
      ]
     },
     "execution_count": 258,
     "metadata": {},
     "output_type": "execute_result"
    }
   ],
   "source": [
    "q"
   ]
  },
  {
   "cell_type": "code",
   "execution_count": 323,
   "metadata": {},
   "outputs": [
    {
     "data": {
      "text/plain": [
       "56.9747034969049"
      ]
     },
     "execution_count": 323,
     "metadata": {},
     "output_type": "execute_result"
    }
   ],
   "source": [
    "det(mat)"
   ]
  },
  {
   "cell_type": "code",
   "execution_count": 324,
   "metadata": {},
   "outputs": [
    {
     "data": {
      "text/plain": [
       "array([ 8.10705139,  1.47379095,  1.33309147,  3.92465398, 15.12290509])"
      ]
     },
     "execution_count": 324,
     "metadata": {},
     "output_type": "execute_result"
    }
   ],
   "source": [
    "np.diag(mat)"
   ]
  },
  {
   "cell_type": "code",
   "execution_count": 325,
   "metadata": {},
   "outputs": [
    {
     "data": {
      "text/plain": [
       "(array([18.14766518,  7.8044471 ,  2.77445522,  0.13138756,  1.10353783]),\n",
       " array([[ 0.37850442, -0.80930608,  0.36969402, -0.23921666, -0.08865545],\n",
       "        [-0.06030093, -0.06130662, -0.5072003 , -0.38853495, -0.76445651],\n",
       "        [-0.2012649 , -0.03926617, -0.23816251, -0.76301016,  0.56484044],\n",
       "        [ 0.15805684,  0.5323728 ,  0.64710598, -0.45757846, -0.25193856],\n",
       "        [-0.8874732 , -0.23728155,  0.36139543,  0.0159196 , -0.15883545]]))"
      ]
     },
     "execution_count": 325,
     "metadata": {},
     "output_type": "execute_result"
    }
   ],
   "source": [
    "eig(mat)"
   ]
  },
  {
   "cell_type": "code",
   "execution_count": 326,
   "metadata": {},
   "outputs": [
    {
     "data": {
      "text/plain": [
       "array([[ 5.83742282e-01,  7.06333770e-01,  1.31196999e+00,\n",
       "         8.87667831e-01,  3.80270533e-02],\n",
       "       [ 7.06333770e-01,  1.77193023e+00,  1.90958106e+00,\n",
       "         1.40465687e+00,  1.69941435e-03],\n",
       "       [ 1.31196999e+00,  1.90958106e+00,  4.74303217e+00,\n",
       "         2.46837329e+00, -1.93735765e-01],\n",
       "       [ 8.87667831e-01,  1.40465687e+00,  2.46837329e+00,\n",
       "         1.83972998e+00,  4.11951516e-02],\n",
       "       [ 3.80270533e-02,  1.69941435e-03, -1.93735765e-01,\n",
       "         4.11951516e-02,  1.22479421e-01]])"
      ]
     },
     "execution_count": 326,
     "metadata": {},
     "output_type": "execute_result"
    }
   ],
   "source": [
    "pinv(mat)"
   ]
  },
  {
   "cell_type": "code",
   "execution_count": 329,
   "metadata": {},
   "outputs": [],
   "source": [
    "np.random.seed(42)"
   ]
  },
  {
   "attachments": {
    "image.png": {
     "image/png": "[encoded data removed]"
    }
   },
   "cell_type": "markdown",
   "metadata": {},
   "source": [
    "![image.png](attachment:image.png)"
   ]
  },
  {
   "cell_type": "code",
   "execution_count": 356,
   "metadata": {},
   "outputs": [],
   "source": [
    "import random \n",
    "position = 0 \n",
    "walk = [position]\n",
    "steps = 1000\n",
    "for step in range(steps):\n",
    "    if random.randint(0,1)  == 1:\n",
    "        step = 1 \n",
    "    else:\n",
    "        step = -1 \n",
    "    position += step\n",
    "    walk.append(position)"
   ]
  },
  {
   "cell_type": "code",
   "execution_count": 357,
   "metadata": {},
   "outputs": [
    {
     "data": {
      "image/png": "[encoded data removed]",
      "text/plain": [
       "<Figure size 432x288 with 1 Axes>"
      ]
     },
     "metadata": {},
     "output_type": "display_data"
    }
   ],
   "source": [
    "plt.plot(walk[:100])\n",
    "plt.show()"
   ]
  },
  {
   "cell_type": "code",
   "execution_count": 374,
   "metadata": {},
   "outputs": [],
   "source": [
    "nsteps = 1000\n",
    "draws = np.random.randint(0,2,size=nsteps)"
   ]
  },
  {
   "cell_type": "code",
   "execution_count": 375,
   "metadata": {},
   "outputs": [],
   "source": [
    "steps = np.where(draws > 0,1,-1)"
   ]
  },
  {
   "cell_type": "code",
   "execution_count": 376,
   "metadata": {},
   "outputs": [],
   "source": [
    "walk = steps.cumsum()"
   ]
  },
  {
   "cell_type": "code",
   "execution_count": 377,
   "metadata": {},
   "outputs": [
    {
     "data": {
      "text/plain": [
       "-27"
      ]
     },
     "execution_count": 377,
     "metadata": {},
     "output_type": "execute_result"
    }
   ],
   "source": [
    "walk.min()"
   ]
  },
  {
   "cell_type": "code",
   "execution_count": 378,
   "metadata": {},
   "outputs": [
    {
     "data": {
      "text/plain": [
       "12"
      ]
     },
     "execution_count": 378,
     "metadata": {},
     "output_type": "execute_result"
    }
   ],
   "source": [
    "walk.max()"
   ]
  },
  {
   "cell_type": "code",
   "execution_count": 373,
   "metadata": {},
   "outputs": [
    {
     "data": {
      "text/plain": [
       "array([  1,   0,  -1,  -2,  -3,  -4,  -3,  -4,  -3,  -2,  -3,  -4,  -3,\n",
       "        -4,  -5,  -4,  -3,  -4,  -3,  -4,  -5,  -6,  -5,  -4,  -3,  -2,\n",
       "        -1,  -2,  -3,  -4,  -5,  -4,  -5,  -4,  -5,  -4,  -3,  -4,  -5,\n",
       "        -6,  -7,  -6,  -7,  -8,  -7,  -8,  -9, -10, -11, -12, -11, -12,\n",
       "       -13, -14, -15, -16, -15, -16, -15, -14, -15, -16, -17, -18, -17,\n",
       "       -18, -19, -20, -21, -22, -23, -22, -21, -22, -23, -24, -23, -24,\n",
       "       -23, -24, -25, -26, -27, -26, -25, -26, -27, -26, -25, -24, -23,\n",
       "       -24, -23, -24, -23, -22, -21, -20, -19, -20, -21, -20, -19, -20,\n",
       "       -19, -18, -19, -18, -17, -18, -19, -20, -19, -20, -21, -22, -23,\n",
       "       -24, -25, -24, -23, -24, -25, -26, -25, -24, -23, -22, -21, -20,\n",
       "       -19, -18, -17, -18, -19, -20, -21, -20, -19, -20, -19, -20, -19,\n",
       "       -20, -19, -18, -19, -18, -19, -20, -21, -22, -21, -20, -19, -20,\n",
       "       -19, -20, -19, -18, -17, -18, -17, -16, -17, -16, -17, -16, -17,\n",
       "       -18, -17, -18, -19, -20, -21, -22, -23, -22, -23, -24, -23, -22,\n",
       "       -21, -20, -19, -18, -17, -18, -19, -18, -19, -20, -21, -20, -19,\n",
       "       -20, -19, -20, -21, -22, -23, -22, -21, -20, -21, -20, -21, -20,\n",
       "       -21, -22, -23, -22, -21, -20, -19, -20, -19, -18, -19, -20, -21,\n",
       "       -20, -21, -22, -23, -22, -23, -22, -21, -22, -23, -22, -23, -24,\n",
       "       -23, -22, -23, -22, -23, -24, -25, -24, -25, -26, -27, -26, -25,\n",
       "       -24, -23, -22, -23, -22, -21, -20, -21, -20, -19, -20, -19, -20,\n",
       "       -21, -22, -23, -24, -23, -24, -25, -24, -25, -24, -23, -22, -23,\n",
       "       -24, -25, -24, -25, -26, -27, -26, -25, -26, -27, -28, -29, -28,\n",
       "       -27, -26, -25, -26, -27, -28, -27, -28, -27, -26, -27, -28, -29,\n",
       "       -28, -29, -28, -29, -28, -27, -28, -27, -26, -27, -26, -27, -26,\n",
       "       -27, -28, -27, -26, -25, -24, -23, -24, -23, -24, -25, -24, -25,\n",
       "       -26, -27, -28, -27, -28, -27, -26, -27, -26, -25, -24, -25, -24,\n",
       "       -23, -22, -23, -22, -23, -24, -25, -26, -27, -28, -27, -28, -27,\n",
       "       -26, -27, -26, -25, -24, -23, -24, -23, -24, -23, -22, -23, -22,\n",
       "       -21, -20, -21, -20, -21, -20, -21, -22, -21, -20, -21, -22, -21,\n",
       "       -22, -21, -20, -19, -18, -19, -18, -19, -18, -19, -18, -19, -20,\n",
       "       -19, -18, -17, -16, -17, -16, -17, -18, -17, -18, -19, -20, -21,\n",
       "       -20, -19, -18, -17, -18, -19, -18, -17, -16, -17, -16, -15, -14,\n",
       "       -15, -16, -17, -18, -19, -20, -21, -22, -21, -20, -21, -22, -21,\n",
       "       -22, -23, -24, -23, -22, -21, -20, -19, -20, -19, -20, -21, -20,\n",
       "       -19, -20, -21, -22, -21, -20, -19, -18, -17, -18, -17, -18, -19,\n",
       "       -20, -19, -18, -17, -18, -19, -20, -21, -22, -23, -22, -21, -20,\n",
       "       -19, -20, -21, -20, -21, -20, -19, -18, -19, -18, -17, -16, -17,\n",
       "       -18, -17, -18, -19, -20, -21, -22, -23, -24, -25, -26, -27, -26,\n",
       "       -25, -26, -25, -24, -25, -26, -27, -26, -25, -26, -27, -28, -27,\n",
       "       -26, -25, -24, -25, -26, -27, -28, -27, -26, -27, -28, -27, -28,\n",
       "       -27, -28, -29, -30, -31, -32, -33, -34, -33, -32, -31, -30, -29,\n",
       "       -30, -31, -30, -31, -30, -29, -30, -31, -32, -31, -32, -31, -30,\n",
       "       -29, -30, -31, -30, -31, -32, -33, -32, -31, -32, -31, -32, -33,\n",
       "       -34, -35, -34, -33, -32, -33, -34, -35, -34, -35, -34, -33, -32,\n",
       "       -31, -30, -29, -30, -31, -30, -29, -30, -29, -28, -29, -28, -27,\n",
       "       -26, -27, -28, -29, -28, -27, -28, -27, -26, -25, -24, -23, -24,\n",
       "       -23, -24, -23, -24, -23, -24, -23, -24, -23, -24, -23, -24, -25,\n",
       "       -24, -23, -24, -23, -24, -25, -26, -25, -26, -27, -26, -25, -24,\n",
       "       -23, -24, -25, -26, -27, -26, -27, -28, -27, -28, -29, -30, -31,\n",
       "       -32, -33, -32, -31, -32, -33, -32, -33, -34, -35, -34, -35, -34,\n",
       "       -35, -34, -33, -34, -33, -34, -33, -34, -35, -34, -35, -36, -35,\n",
       "       -36, -37, -36, -35, -36, -37, -36, -35, -36, -35, -36, -37, -38,\n",
       "       -39, -40, -39, -38, -37, -36, -37, -38, -39, -40, -39, -40, -41,\n",
       "       -40, -39, -38, -37, -38, -39, -38, -39, -40, -41, -40, -41, -40,\n",
       "       -41, -42, -43, -42, -43, -42, -41, -40, -41, -42, -43, -44, -43,\n",
       "       -42, -41, -42, -41, -42, -41, -42, -43, -42, -41, -40, -39, -40,\n",
       "       -39, -38, -37, -38, -39, -38, -39, -38, -39, -40, -41, -42, -41,\n",
       "       -40, -39, -40, -39, -38, -37, -38, -39, -40, -39, -38, -37, -38,\n",
       "       -39, -38, -39, -40, -41, -42, -41, -42, -43, -44, -45, -44, -43,\n",
       "       -44, -45, -46, -47, -48, -49, -48, -49, -48, -47, -48, -47, -46,\n",
       "       -45, -44, -43, -42, -43, -42, -41, -40, -41, -40, -41, -40, -41,\n",
       "       -42, -41, -40, -41, -40, -41, -42, -43, -44, -45, -44, -45, -46,\n",
       "       -45, -46, -45, -44, -43, -44, -45, -46, -45, -46, -45, -46, -45,\n",
       "       -46, -47, -48, -47, -46, -47, -48, -47, -46, -45, -46, -45, -46,\n",
       "       -45, -46, -45, -44, -43, -42, -41, -42, -41, -40, -39, -40, -39,\n",
       "       -40, -39, -38, -39, -38, -39, -40, -39, -40, -39, -38, -39, -40,\n",
       "       -41, -42, -41, -40, -41, -40, -39, -38, -37, -38, -39, -38, -39,\n",
       "       -40, -41, -40, -39, -38, -39, -38, -37, -38, -37, -36, -37, -38,\n",
       "       -39, -38, -37, -36, -37, -38, -37, -36, -37, -38, -39, -40, -39,\n",
       "       -40, -39, -38, -37, -38, -39, -40, -41, -40, -41, -42, -41, -42,\n",
       "       -41, -40, -39, -38, -37, -36, -35, -34, -35, -36, -37, -38, -37,\n",
       "       -38, -37, -38, -39, -40, -39, -40, -39, -38, -39, -40, -41, -40,\n",
       "       -41, -40, -39, -40, -41, -40, -39, -38, -39, -38, -39, -38, -37,\n",
       "       -38, -37, -38, -39, -38, -39, -40, -39, -40, -41, -42, -41, -42,\n",
       "       -41, -40, -41, -42, -43, -42, -43, -44, -45, -46, -47, -46, -45,\n",
       "       -46, -47, -48, -49, -48, -49, -48, -47, -48, -47, -46, -45, -44,\n",
       "       -45, -46, -45, -46, -47, -48, -49, -50, -49, -50, -51, -52],\n",
       "      dtype=int32)"
      ]
     },
     "execution_count": 373,
     "metadata": {},
     "output_type": "execute_result"
    }
   ],
   "source": []
  },
  {
   "cell_type": "code",
   "execution_count": 381,
   "metadata": {},
   "outputs": [
    {
     "data": {
      "text/plain": [
       "135"
      ]
     },
     "execution_count": 381,
     "metadata": {},
     "output_type": "execute_result"
    }
   ],
   "source": [
    "(np.abs(walk) >= 10).argmax() # argmax here is not efficient as it scans the full array "
   ]
  },
  {
   "cell_type": "markdown",
   "metadata": {},
   "source": [
    "Simulating many random walks at once"
   ]
  },
  {
   "cell_type": "code",
   "execution_count": 382,
   "metadata": {},
   "outputs": [],
   "source": [
    "nwalks = 5000\n",
    "nsteps = 1000\n",
    "draws = np.random.randint(0,2,size=(nwalks,nsteps))\n",
    "steps = np.where(draws > 0,1,-1)"
   ]
  },
  {
   "cell_type": "code",
   "execution_count": 391,
   "metadata": {},
   "outputs": [],
   "source": [
    "walks = steps.cumsum(0)"
   ]
  },
  {
   "cell_type": "code",
   "execution_count": 392,
   "metadata": {},
   "outputs": [
    {
     "data": {
      "text/plain": [
       "array([[   1,    1,    1, ...,    1,    1,    1],\n",
       "       [   2,    0,    0, ...,    0,    2,    2],\n",
       "       [   1,   -1,   -1, ...,    1,    3,    3],\n",
       "       ...,\n",
       "       [  28,  -56, -146, ...,  124,    6,  -24],\n",
       "       [  29,  -57, -145, ...,  125,    7,  -25],\n",
       "       [  30,  -58, -144, ...,  124,    8,  -24]], dtype=int32)"
      ]
     },
     "execution_count": 392,
     "metadata": {},
     "output_type": "execute_result"
    }
   ],
   "source": [
    "walks"
   ]
  },
  {
   "cell_type": "code",
   "execution_count": 393,
   "metadata": {},
   "outputs": [
    {
     "data": {
      "text/plain": [
       "294"
      ]
     },
     "execution_count": 393,
     "metadata": {},
     "output_type": "execute_result"
    }
   ],
   "source": [
    "walks.max()"
   ]
  },
  {
   "cell_type": "code",
   "execution_count": 394,
   "metadata": {},
   "outputs": [
    {
     "data": {
      "text/plain": [
       "-245"
      ]
     },
     "execution_count": 394,
     "metadata": {},
     "output_type": "execute_result"
    }
   ],
   "source": [
    "walks.min()"
   ]
  },
  {
   "cell_type": "code",
   "execution_count": 397,
   "metadata": {},
   "outputs": [],
   "source": [
    "hits30 = ((np.abs(walks))>30).any(1)"
   ]
  },
  {
   "cell_type": "code",
   "execution_count": 399,
   "metadata": {},
   "outputs": [
    {
     "data": {
      "text/plain": [
       "4939"
      ]
     },
     "execution_count": 399,
     "metadata": {},
     "output_type": "execute_result"
    }
   ],
   "source": [
    "hits30.sum()"
   ]
  },
  {
   "cell_type": "code",
   "execution_count": 411,
   "metadata": {},
   "outputs": [],
   "source": [
    "corssing_times = np.abs(walks[hits30] >= 30).argmax(1)"
   ]
  },
  {
   "cell_type": "code",
   "execution_count": 413,
   "metadata": {},
   "outputs": [
    {
     "data": {
      "text/plain": [
       "7.951204697307147"
      ]
     },
     "execution_count": 413,
     "metadata": {},
     "output_type": "execute_result"
    }
   ],
   "source": [
    "corssing_times.mean()"
   ]
  },
  {
   "cell_type": "code",
   "execution_count": null,
   "metadata": {},
   "outputs": [],
   "source": []
  }
 ],
 "metadata": {
  "kernelspec": {
   "display_name": "Python 3",
   "language": "python",
   "name": "python3"
  },
  "language_info": {
   "codemirror_mode": {
    "name": "ipython",
    "version": 3
   },
   "file_extension": ".py",
   "mimetype": "text/x-python",
   "name": "python",
   "nbconvert_exporter": "python",
   "pygments_lexer": "ipython3",
   "version": "3.7.3"
  }
 },
 "nbformat": 4,
 "nbformat_minor": 2
}
