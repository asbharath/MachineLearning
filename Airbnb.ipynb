{
 "cells": [
  {
   "cell_type": "code",
   "execution_count": 1,
   "metadata": {},
   "outputs": [],
   "source": [
    "import pandas as pd\n",
    "import os\n",
    "os.getcwd()\n",
    "%matplotlib notebook\n",
    "%matplotlib inline\n",
    "import matplotlib.pyplot as plt\n",
    "plt.style.use('dark_background')\n",
    "import numpy as np"
   ]
  },
  {
   "cell_type": "markdown",
   "metadata": {},
   "source": [
    "##### Loading the dataset\n",
    "Changing to working directory and reading the file using pandas read_csv. \n",
    "The file is ; delimited and contains a header"
   ]
  },
  {
   "cell_type": "code",
   "execution_count": 2,
   "metadata": {},
   "outputs": [
    {
     "data": {
      "text/plain": [
       "['airbnb-listings_netherlands.csv',\n",
       " 'Churn_Modelling.csv',\n",
       " 'creditcard.csv',\n",
       " 'F1',\n",
       " 'housing',\n",
       " 'model.pkl',\n",
       " 'PythonDA',\n",
       " 'WideWorldImporters-Full.bak']"
      ]
     },
     "execution_count": 2,
     "metadata": {},
     "output_type": "execute_result"
    }
   ],
   "source": [
    "os.chdir('E:\\\\Datasets')\n",
    "os.listdir()"
   ]
  },
  {
   "cell_type": "code",
   "execution_count": 3,
   "metadata": {},
   "outputs": [],
   "source": [
    "path = os.path.join(os.listdir()[0])\n",
    "airbnb = pd.read_csv(path,delimiter=';',header=0) "
   ]
  },
  {
   "cell_type": "markdown",
   "metadata": {},
   "source": [
    "##### Inspecting the dataset\n",
    "The file contains 89 columns with 15,180 rows. "
   ]
  },
  {
   "cell_type": "code",
   "execution_count": 4,
   "metadata": {},
   "outputs": [],
   "source": [
    "airbnb.columns = airbnb.columns.str.replace(' ','_',) # replace whitespace with _ in the column header"
   ]
  },
  {
   "cell_type": "code",
   "execution_count": 5,
   "metadata": {},
   "outputs": [
    {
     "name": "stdout",
     "output_type": "stream",
     "text": [
      "<class 'pandas.core.frame.DataFrame'>\n",
      "RangeIndex: 15181 entries, 0 to 15180\n",
      "Data columns (total 89 columns):\n",
      "ID                                15181 non-null int64\n",
      "Listing_Url                       15181 non-null object\n",
      "Scrape_ID                         15181 non-null int64\n",
      "Last_Scraped                      15181 non-null object\n",
      "Name                              15181 non-null object\n",
      "Summary                           14748 non-null object\n",
      "Space                             11289 non-null object\n",
      "Description                       15181 non-null object\n",
      "Experiences_Offered               15181 non-null object\n",
      "Neighborhood_Overview             10022 non-null object\n",
      "Notes                             6506 non-null object\n",
      "Transit                           10210 non-null object\n",
      "Access                            9409 non-null object\n",
      "Interaction                       9115 non-null object\n",
      "House_Rules                       10572 non-null object\n",
      "Thumbnail_Url                     11336 non-null object\n",
      "Medium_Url                        11336 non-null object\n",
      "Picture_Url                       15167 non-null object\n",
      "XL_Picture_Url                    11336 non-null object\n",
      "Host_ID                           15181 non-null int64\n",
      "Host_URL                          15181 non-null object\n",
      "Host_Name                         15178 non-null object\n",
      "Host_Since                        15178 non-null object\n",
      "Host_Location                     15136 non-null object\n",
      "Host_About                        9415 non-null object\n",
      "Host_Response_Time                11535 non-null object\n",
      "Host_Response_Rate                11535 non-null float64\n",
      "Host_Acceptance_Rate              0 non-null float64\n",
      "Host_Thumbnail_Url                15178 non-null object\n",
      "Host_Picture_Url                  15178 non-null object\n",
      "Host_Neighbourhood                10480 non-null object\n",
      "Host_Listings_Count               15178 non-null float64\n",
      "Host_Total_Listings_Count         15178 non-null float64\n",
      "Host_Verifications                15167 non-null object\n",
      "Street                            15181 non-null object\n",
      "Neighbourhood                     9932 non-null object\n",
      "Neighbourhood_Cleansed            15181 non-null object\n",
      "Neighbourhood_Group_Cleansed      0 non-null float64\n",
      "City                              15180 non-null object\n",
      "State                             15155 non-null object\n",
      "Zipcode                           14528 non-null object\n",
      "Market                            15149 non-null object\n",
      "Smart_Location                    15181 non-null object\n",
      "Country_Code                      15181 non-null object\n",
      "Country                           15181 non-null object\n",
      "Latitude                          15181 non-null float64\n",
      "Longitude                         15181 non-null float64\n",
      "Property_Type                     15181 non-null object\n",
      "Room_Type                         15181 non-null object\n",
      "Accommodates                      15181 non-null int64\n",
      "Bathrooms                         15163 non-null float64\n",
      "Bedrooms                          15169 non-null float64\n",
      "Beds                              15164 non-null float64\n",
      "Bed_Type                          15181 non-null object\n",
      "Amenities                         15135 non-null object\n",
      "Square_Feet                       490 non-null float64\n",
      "Price                             15173 non-null float64\n",
      "Weekly_Price                      2718 non-null float64\n",
      "Monthly_Price                     1994 non-null float64\n",
      "Security_Deposit                  7752 non-null float64\n",
      "Cleaning_Fee                      11468 non-null float64\n",
      "Guests_Included                   15181 non-null int64\n",
      "Extra_People                      15181 non-null int64\n",
      "Minimum_Nights                    15181 non-null int64\n",
      "Maximum_Nights                    15181 non-null int64\n",
      "Calendar_Updated                  15181 non-null object\n",
      "Has_Availability                  0 non-null float64\n",
      "Availability_30                   15181 non-null int64\n",
      "Availability_60                   15181 non-null int64\n",
      "Availability_90                   15181 non-null int64\n",
      "Availability_365                  15181 non-null int64\n",
      "Calendar_last_Scraped             15181 non-null object\n",
      "Number_of_Reviews                 15181 non-null int64\n",
      "First_Review                      13001 non-null object\n",
      "Last_Review                       13001 non-null object\n",
      "Review_Scores_Rating              12864 non-null float64\n",
      "Review_Scores_Accuracy            12844 non-null float64\n",
      "Review_Scores_Cleanliness         12847 non-null float64\n",
      "Review_Scores_Checkin             12829 non-null float64\n",
      "Review_Scores_Communication       12850 non-null float64\n",
      "Review_Scores_Location            12830 non-null float64\n",
      "Review_Scores_Value               12829 non-null float64\n",
      "License                           0 non-null float64\n",
      "Jurisdiction_Names                14721 non-null object\n",
      "Cancellation_Policy               15181 non-null object\n",
      "Calculated_host_listings_count    15181 non-null int64\n",
      "Reviews_per_Month                 13001 non-null float64\n",
      "Geolocation                       15181 non-null object\n",
      "Features                          15172 non-null object\n",
      "dtypes: float64(26), int64(14), object(49)\n",
      "memory usage: 10.3+ MB\n"
     ]
    }
   ],
   "source": [
    "airbnb.info()"
   ]
  },
  {
   "cell_type": "code",
   "execution_count": 6,
   "metadata": {},
   "outputs": [
    {
     "data": {
      "text/html": [
       "<div>\n",
       "<style scoped>\n",
       "    .dataframe tbody tr th:only-of-type {\n",
       "        vertical-align: middle;\n",
       "    }\n",
       "\n",
       "    .dataframe tbody tr th {\n",
       "        vertical-align: top;\n",
       "    }\n",
       "\n",
       "    .dataframe thead th {\n",
       "        text-align: right;\n",
       "    }\n",
       "</style>\n",
       "<table border=\"1\" class=\"dataframe\">\n",
       "  <thead>\n",
       "    <tr style=\"text-align: right;\">\n",
       "      <th></th>\n",
       "      <th>ID</th>\n",
       "      <th>Listing_Url</th>\n",
       "      <th>Scrape_ID</th>\n",
       "      <th>Last_Scraped</th>\n",
       "      <th>Name</th>\n",
       "      <th>Summary</th>\n",
       "      <th>Space</th>\n",
       "      <th>Description</th>\n",
       "      <th>Experiences_Offered</th>\n",
       "      <th>Neighborhood_Overview</th>\n",
       "      <th>...</th>\n",
       "      <th>Review_Scores_Communication</th>\n",
       "      <th>Review_Scores_Location</th>\n",
       "      <th>Review_Scores_Value</th>\n",
       "      <th>License</th>\n",
       "      <th>Jurisdiction_Names</th>\n",
       "      <th>Cancellation_Policy</th>\n",
       "      <th>Calculated_host_listings_count</th>\n",
       "      <th>Reviews_per_Month</th>\n",
       "      <th>Geolocation</th>\n",
       "      <th>Features</th>\n",
       "    </tr>\n",
       "  </thead>\n",
       "  <tbody>\n",
       "  </tbody>\n",
       "</table>\n",
       "<p>0 rows × 89 columns</p>\n",
       "</div>"
      ],
      "text/plain": [
       "Empty DataFrame\n",
       "Columns: [ID, Listing_Url, Scrape_ID, Last_Scraped, Name, Summary, Space, Description, Experiences_Offered, Neighborhood_Overview, Notes, Transit, Access, Interaction, House_Rules, Thumbnail_Url, Medium_Url, Picture_Url, XL_Picture_Url, Host_ID, Host_URL, Host_Name, Host_Since, Host_Location, Host_About, Host_Response_Time, Host_Response_Rate, Host_Acceptance_Rate, Host_Thumbnail_Url, Host_Picture_Url, Host_Neighbourhood, Host_Listings_Count, Host_Total_Listings_Count, Host_Verifications, Street, Neighbourhood, Neighbourhood_Cleansed, Neighbourhood_Group_Cleansed, City, State, Zipcode, Market, Smart_Location, Country_Code, Country, Latitude, Longitude, Property_Type, Room_Type, Accommodates, Bathrooms, Bedrooms, Beds, Bed_Type, Amenities, Square_Feet, Price, Weekly_Price, Monthly_Price, Security_Deposit, Cleaning_Fee, Guests_Included, Extra_People, Minimum_Nights, Maximum_Nights, Calendar_Updated, Has_Availability, Availability_30, Availability_60, Availability_90, Availability_365, Calendar_last_Scraped, Number_of_Reviews, First_Review, Last_Review, Review_Scores_Rating, Review_Scores_Accuracy, Review_Scores_Cleanliness, Review_Scores_Checkin, Review_Scores_Communication, Review_Scores_Location, Review_Scores_Value, License, Jurisdiction_Names, Cancellation_Policy, Calculated_host_listings_count, Reviews_per_Month, Geolocation, Features]\n",
       "Index: []\n",
       "\n",
       "[0 rows x 89 columns]"
      ]
     },
     "execution_count": 6,
     "metadata": {},
     "output_type": "execute_result"
    }
   ],
   "source": [
    "airbnb[airbnb.duplicated() == True] == 0 # checking if any rows are duplicated"
   ]
  },
  {
   "cell_type": "code",
   "execution_count": 7,
   "metadata": {},
   "outputs": [],
   "source": [
    "missing_val = airbnb.isnull().sum() /len(airbnb)\n",
    "missing_val_gt_50 = airbnb.columns[missing_val > 0.5]"
   ]
  },
  {
   "cell_type": "code",
   "execution_count": 8,
   "metadata": {},
   "outputs": [
    {
     "data": {
      "text/plain": [
       "Index(['Notes', 'Host_Acceptance_Rate', 'Neighbourhood_Group_Cleansed',\n",
       "       'Square_Feet', 'Weekly_Price', 'Monthly_Price', 'Has_Availability',\n",
       "       'License'],\n",
       "      dtype='object')"
      ]
     },
     "execution_count": 8,
     "metadata": {},
     "output_type": "execute_result"
    }
   ],
   "source": [
    "missing_val_gt_50"
   ]
  },
  {
   "cell_type": "code",
   "execution_count": 9,
   "metadata": {},
   "outputs": [],
   "source": [
    "airbnb.drop(missing_val_gt_50,axis=1,inplace=True)"
   ]
  },
  {
   "cell_type": "code",
   "execution_count": 10,
   "metadata": {},
   "outputs": [
    {
     "data": {
      "text/plain": [
       "Index(['Neighborhood_Overview', 'Transit', 'Access', 'Interaction',\n",
       "       'House_Rules', 'Host_About', 'Host_Neighbourhood', 'Neighbourhood',\n",
       "       'Security_Deposit'],\n",
       "      dtype='object')"
      ]
     },
     "execution_count": 10,
     "metadata": {},
     "output_type": "execute_result"
    }
   ],
   "source": [
    "missing_val = airbnb.isnull().sum() /len(airbnb)\n",
    "missing_val_gt_30 = airbnb.columns[missing_val > 0.3]\n",
    "missing_val_gt_30"
   ]
  },
  {
   "cell_type": "markdown",
   "metadata": {},
   "source": [
    "\n",
    "\n",
    "Getting the columns which are of **numeric data type** and split them into a different column."
   ]
  },
  {
   "cell_type": "code",
   "execution_count": 11,
   "metadata": {},
   "outputs": [
    {
     "data": {
      "text/plain": [
       "Index(['ID', 'Scrape_ID', 'Host_ID', 'Host_Response_Rate',\n",
       "       'Host_Listings_Count', 'Host_Total_Listings_Count', 'Latitude',\n",
       "       'Longitude', 'Accommodates', 'Bathrooms', 'Bedrooms', 'Beds', 'Price',\n",
       "       'Security_Deposit', 'Cleaning_Fee', 'Guests_Included', 'Extra_People',\n",
       "       'Minimum_Nights', 'Maximum_Nights', 'Availability_30',\n",
       "       'Availability_60', 'Availability_90', 'Availability_365',\n",
       "       'Number_of_Reviews', 'Review_Scores_Rating', 'Review_Scores_Accuracy',\n",
       "       'Review_Scores_Cleanliness', 'Review_Scores_Checkin',\n",
       "       'Review_Scores_Communication', 'Review_Scores_Location',\n",
       "       'Review_Scores_Value', 'Calculated_host_listings_count',\n",
       "       'Reviews_per_Month'],\n",
       "      dtype='object')"
      ]
     },
     "execution_count": 11,
     "metadata": {},
     "output_type": "execute_result"
    }
   ],
   "source": [
    "num_airbnb = airbnb.select_dtypes(include=np.number)\n",
    "num_airbnb.columns"
   ]
  },
  {
   "cell_type": "markdown",
   "metadata": {},
   "source": [
    "Getting the columns which are of **categorical data type** and split them into a different column."
   ]
  },
  {
   "cell_type": "code",
   "execution_count": 12,
   "metadata": {},
   "outputs": [
    {
     "data": {
      "text/plain": [
       "Index(['Listing_Url', 'Last_Scraped', 'Name', 'Summary', 'Space',\n",
       "       'Description', 'Experiences_Offered', 'Neighborhood_Overview',\n",
       "       'Transit', 'Access', 'Interaction', 'House_Rules', 'Thumbnail_Url',\n",
       "       'Medium_Url', 'Picture_Url', 'XL_Picture_Url', 'Host_URL', 'Host_Name',\n",
       "       'Host_Since', 'Host_Location', 'Host_About', 'Host_Response_Time',\n",
       "       'Host_Thumbnail_Url', 'Host_Picture_Url', 'Host_Neighbourhood',\n",
       "       'Host_Verifications', 'Street', 'Neighbourhood',\n",
       "       'Neighbourhood_Cleansed', 'City', 'State', 'Zipcode', 'Market',\n",
       "       'Smart_Location', 'Country_Code', 'Country', 'Property_Type',\n",
       "       'Room_Type', 'Bed_Type', 'Amenities', 'Calendar_Updated',\n",
       "       'Calendar_last_Scraped', 'First_Review', 'Last_Review',\n",
       "       'Jurisdiction_Names', 'Cancellation_Policy', 'Geolocation', 'Features'],\n",
       "      dtype='object')"
      ]
     },
     "execution_count": 12,
     "metadata": {},
     "output_type": "execute_result"
    }
   ],
   "source": [
    "cat_airbnb = airbnb.select_dtypes(include=np.object)\n",
    "cat_airbnb.columns"
   ]
  },
  {
   "cell_type": "code",
   "execution_count": 13,
   "metadata": {},
   "outputs": [
    {
     "name": "stdout",
     "output_type": "stream",
     "text": [
      "<class 'pandas.core.frame.DataFrame'>\n",
      "RangeIndex: 15181 entries, 0 to 15180\n",
      "Data columns (total 33 columns):\n",
      "ID                                15181 non-null int64\n",
      "Scrape_ID                         15181 non-null int64\n",
      "Host_ID                           15181 non-null int64\n",
      "Host_Response_Rate                11535 non-null float64\n",
      "Host_Listings_Count               15178 non-null float64\n",
      "Host_Total_Listings_Count         15178 non-null float64\n",
      "Latitude                          15181 non-null float64\n",
      "Longitude                         15181 non-null float64\n",
      "Accommodates                      15181 non-null int64\n",
      "Bathrooms                         15163 non-null float64\n",
      "Bedrooms                          15169 non-null float64\n",
      "Beds                              15164 non-null float64\n",
      "Price                             15173 non-null float64\n",
      "Security_Deposit                  7752 non-null float64\n",
      "Cleaning_Fee                      11468 non-null float64\n",
      "Guests_Included                   15181 non-null int64\n",
      "Extra_People                      15181 non-null int64\n",
      "Minimum_Nights                    15181 non-null int64\n",
      "Maximum_Nights                    15181 non-null int64\n",
      "Availability_30                   15181 non-null int64\n",
      "Availability_60                   15181 non-null int64\n",
      "Availability_90                   15181 non-null int64\n",
      "Availability_365                  15181 non-null int64\n",
      "Number_of_Reviews                 15181 non-null int64\n",
      "Review_Scores_Rating              12864 non-null float64\n",
      "Review_Scores_Accuracy            12844 non-null float64\n",
      "Review_Scores_Cleanliness         12847 non-null float64\n",
      "Review_Scores_Checkin             12829 non-null float64\n",
      "Review_Scores_Communication       12850 non-null float64\n",
      "Review_Scores_Location            12830 non-null float64\n",
      "Review_Scores_Value               12829 non-null float64\n",
      "Calculated_host_listings_count    15181 non-null int64\n",
      "Reviews_per_Month                 13001 non-null float64\n",
      "dtypes: float64(19), int64(14)\n",
      "memory usage: 3.8 MB\n"
     ]
    }
   ],
   "source": [
    "num_airbnb.info()"
   ]
  },
  {
   "cell_type": "markdown",
   "metadata": {},
   "source": [
    "Lets take the mean for the numerical columns which are having Na values"
   ]
  },
  {
   "cell_type": "code",
   "execution_count": 14,
   "metadata": {},
   "outputs": [],
   "source": [
    "num_airbnb = num_airbnb.fillna(num_airbnb.mean())"
   ]
  },
  {
   "cell_type": "markdown",
   "metadata": {},
   "source": [
    "Correlation matrix for all the numerical values"
   ]
  },
  {
   "cell_type": "code",
   "execution_count": 15,
   "metadata": {},
   "outputs": [],
   "source": [
    "correlation = num_airbnb.corr().round(2) "
   ]
  },
  {
   "cell_type": "markdown",
   "metadata": {},
   "source": [
    "Accommodates,Bedroom,Beds have higher correlation. When house has more bedroom,beds and more people to accomodate higher the price. "
   ]
  },
  {
   "cell_type": "code",
   "execution_count": 16,
   "metadata": {},
   "outputs": [
    {
     "data": {
      "text/plain": [
       "Review_Scores_Rating              1.00\n",
       "Review_Scores_Value               0.69\n",
       "Review_Scores_Cleanliness         0.66\n",
       "Review_Scores_Accuracy            0.66\n",
       "Review_Scores_Communication       0.57\n",
       "Review_Scores_Checkin             0.55\n",
       "Review_Scores_Location            0.39\n",
       "Price                             0.06\n",
       "Security_Deposit                  0.06\n",
       "Host_Response_Rate                0.06\n",
       "Bedrooms                          0.03\n",
       "Cleaning_Fee                      0.02\n",
       "Latitude                          0.01\n",
       "Minimum_Nights                    0.00\n",
       "Scrape_ID                        -0.00\n",
       "Bathrooms                         0.00\n",
       "Longitude                        -0.01\n",
       "Guests_Included                  -0.01\n",
       "Availability_365                 -0.01\n",
       "Number_of_Reviews                -0.01\n",
       "Beds                             -0.01\n",
       "Extra_People                     -0.01\n",
       "Accommodates                     -0.02\n",
       "Reviews_per_Month                -0.02\n",
       "Maximum_Nights                   -0.02\n",
       "ID                               -0.03\n",
       "Availability_90                  -0.04\n",
       "Availability_30                  -0.05\n",
       "Availability_60                  -0.05\n",
       "Host_ID                          -0.08\n",
       "Host_Total_Listings_Count        -0.12\n",
       "Host_Listings_Count              -0.12\n",
       "Calculated_host_listings_count   -0.13\n",
       "Name: Review_Scores_Rating, dtype: float64"
      ]
     },
     "execution_count": 16,
     "metadata": {},
     "output_type": "execute_result"
    }
   ],
   "source": [
    "num_airbnb.corr().round(2)['Review_Scores_Rating'].sort_values(ascending=False)"
   ]
  },
  {
   "cell_type": "code",
   "execution_count": 17,
   "metadata": {},
   "outputs": [
    {
     "name": "stdout",
     "output_type": "stream",
     "text": [
      "<class 'pandas.core.frame.DataFrame'>\n",
      "RangeIndex: 15181 entries, 0 to 15180\n",
      "Data columns (total 48 columns):\n",
      "Listing_Url               15181 non-null object\n",
      "Last_Scraped              15181 non-null object\n",
      "Name                      15181 non-null object\n",
      "Summary                   14748 non-null object\n",
      "Space                     11289 non-null object\n",
      "Description               15181 non-null object\n",
      "Experiences_Offered       15181 non-null object\n",
      "Neighborhood_Overview     10022 non-null object\n",
      "Transit                   10210 non-null object\n",
      "Access                    9409 non-null object\n",
      "Interaction               9115 non-null object\n",
      "House_Rules               10572 non-null object\n",
      "Thumbnail_Url             11336 non-null object\n",
      "Medium_Url                11336 non-null object\n",
      "Picture_Url               15167 non-null object\n",
      "XL_Picture_Url            11336 non-null object\n",
      "Host_URL                  15181 non-null object\n",
      "Host_Name                 15178 non-null object\n",
      "Host_Since                15178 non-null object\n",
      "Host_Location             15136 non-null object\n",
      "Host_About                9415 non-null object\n",
      "Host_Response_Time        11535 non-null object\n",
      "Host_Thumbnail_Url        15178 non-null object\n",
      "Host_Picture_Url          15178 non-null object\n",
      "Host_Neighbourhood        10480 non-null object\n",
      "Host_Verifications        15167 non-null object\n",
      "Street                    15181 non-null object\n",
      "Neighbourhood             9932 non-null object\n",
      "Neighbourhood_Cleansed    15181 non-null object\n",
      "City                      15180 non-null object\n",
      "State                     15155 non-null object\n",
      "Zipcode                   14528 non-null object\n",
      "Market                    15149 non-null object\n",
      "Smart_Location            15181 non-null object\n",
      "Country_Code              15181 non-null object\n",
      "Country                   15181 non-null object\n",
      "Property_Type             15181 non-null object\n",
      "Room_Type                 15181 non-null object\n",
      "Bed_Type                  15181 non-null object\n",
      "Amenities                 15135 non-null object\n",
      "Calendar_Updated          15181 non-null object\n",
      "Calendar_last_Scraped     15181 non-null object\n",
      "First_Review              13001 non-null object\n",
      "Last_Review               13001 non-null object\n",
      "Jurisdiction_Names        14721 non-null object\n",
      "Cancellation_Policy       15181 non-null object\n",
      "Geolocation               15181 non-null object\n",
      "Features                  15172 non-null object\n",
      "dtypes: object(48)\n",
      "memory usage: 5.6+ MB\n"
     ]
    }
   ],
   "source": [
    "cat_airbnb.info()"
   ]
  },
  {
   "cell_type": "markdown",
   "metadata": {},
   "source": [
    "Grouping the list of features to impute and clean values."
   ]
  },
  {
   "cell_type": "code",
   "execution_count": 18,
   "metadata": {},
   "outputs": [],
   "source": [
    "categorical_list = ['Property_Type',\n",
    "'Room_Type',\n",
    "'Bed_Type',\n",
    "'Cancellation_Policy',\n",
    "'Host_Response_Time',\n",
    "'Neighbourhood_Cleansed',\n",
    "'City',\n",
    "'Host_Location',\n",
    "'Host_Neighbourhood',\n",
    "'Neighbourhood',\n",
    "'State'\n",
    "]\n",
    "\n",
    "replace_na_with_zero = ['Extra_People',\n",
    "'Minimum_Nights',\n",
    "'Maximum_Nights',\n",
    "'Review_Scores_Cleanliness',\n",
    "'Review_Scores_Checkin',\n",
    "'Review_Scores_Communication',\n",
    "'Review_Scores_Location',\n",
    "'Review_Scores_Value',\n",
    "'Bathrooms',\n",
    "'Bedrooms',\n",
    "'Beds',\n",
    "'Price',\n",
    "'Cleaning_Fee',\n",
    "'Review_Scores_Rating',\n",
    "'Review_Scores_Accuracy',\n",
    "'Reviews_per_Month',\n",
    "'Security_Deposit',\n",
    "'Number_of_Reviews',\n",
    "'Calculated_host_listings_count',\n",
    "'Accommodates',\n",
    "'Guests_Included',\n",
    "'Availability_30',\n",
    "'Availability_60',\n",
    "'Availability_90',\n",
    "'Availability_365',\n",
    "'Latitude',\n",
    "'Longitude'\n",
    "]\n",
    "\n",
    "replace_val_with_0_or_1 = ['Summary',\n",
    "'Space',\n",
    "'Neighborhood_Overview',\n",
    "'Interaction',\n",
    "'Thumbnail_Url',\n",
    "'Medium_Url',\n",
    "'Picture_Url',\n",
    "'XL_Picture_Url',\n",
    "'Host_URL',\n",
    "'Host_Name',\n",
    "'Host_About',\n",
    "'Host_Thumbnail_Url',\n",
    "'Host_Picture_Url',\n",
    "'Transit',\n",
    "'Access',\n",
    "'House_Rules'\n",
    "]\n",
    "\n",
    "\n",
    "\n",
    "replace_with_count_values = ['Host_Verifications',\n",
    "'Amenities',\n",
    "'Features'\n",
    "]\n",
    "\n",
    "replace_na_with_1 = ['Host_Listings_Count',\n",
    "'Host_Total_Listings_Count'\n",
    "]\n",
    "\n",
    "replace_date_values = ['Host_Since',\n",
    "'First_Review',\n",
    "'Last_Review'\n",
    "]"
   ]
  },
  {
   "cell_type": "code",
   "execution_count": 19,
   "metadata": {
    "scrolled": true
   },
   "outputs": [
    {
     "name": "stdout",
     "output_type": "stream",
     "text": [
      "<class 'pandas.core.frame.DataFrame'>\n",
      "RangeIndex: 15181 entries, 0 to 15180\n",
      "Columns: 701 entries, Property_Type_Apartment to State_noord Holland\n",
      "dtypes: int8(701)\n",
      "memory usage: 10.1 MB\n"
     ]
    }
   ],
   "source": [
    "categorical_list = airbnb[categorical_list].replace(np.nan,'Not Available')\n",
    "categorical_list = pd.get_dummies(categorical_list).astype('int8')\n",
    "categorical_list.info()"
   ]
  },
  {
   "cell_type": "code",
   "execution_count": 20,
   "metadata": {},
   "outputs": [
    {
     "name": "stdout",
     "output_type": "stream",
     "text": [
      "<class 'pandas.core.frame.DataFrame'>\n",
      "RangeIndex: 15181 entries, 0 to 15180\n",
      "Data columns (total 27 columns):\n",
      "Extra_People                      15181 non-null int64\n",
      "Minimum_Nights                    15181 non-null int64\n",
      "Maximum_Nights                    15181 non-null int64\n",
      "Review_Scores_Cleanliness         15181 non-null float64\n",
      "Review_Scores_Checkin             15181 non-null float64\n",
      "Review_Scores_Communication       15181 non-null float64\n",
      "Review_Scores_Location            15181 non-null float64\n",
      "Review_Scores_Value               15181 non-null float64\n",
      "Bathrooms                         15181 non-null float64\n",
      "Bedrooms                          15181 non-null float64\n",
      "Beds                              15181 non-null float64\n",
      "Price                             15181 non-null float64\n",
      "Cleaning_Fee                      15181 non-null float64\n",
      "Review_Scores_Rating              15181 non-null float64\n",
      "Review_Scores_Accuracy            15181 non-null float64\n",
      "Reviews_per_Month                 15181 non-null float64\n",
      "Security_Deposit                  15181 non-null float64\n",
      "Number_of_Reviews                 15181 non-null int64\n",
      "Calculated_host_listings_count    15181 non-null int64\n",
      "Accommodates                      15181 non-null int64\n",
      "Guests_Included                   15181 non-null int64\n",
      "Availability_30                   15181 non-null int64\n",
      "Availability_60                   15181 non-null int64\n",
      "Availability_90                   15181 non-null int64\n",
      "Availability_365                  15181 non-null int64\n",
      "Latitude                          15181 non-null float64\n",
      "Longitude                         15181 non-null float64\n",
      "dtypes: float64(16), int64(11)\n",
      "memory usage: 3.1 MB\n"
     ]
    }
   ],
   "source": [
    "replace_na_with_zero = airbnb[replace_na_with_zero].replace(np.nan,0)\n",
    "replace_na_with_zero.info()"
   ]
  },
  {
   "cell_type": "code",
   "execution_count": 21,
   "metadata": {},
   "outputs": [
    {
     "name": "stdout",
     "output_type": "stream",
     "text": [
      "<class 'pandas.core.frame.DataFrame'>\n",
      "RangeIndex: 15181 entries, 0 to 15180\n",
      "Data columns (total 16 columns):\n",
      "Summary                  15181 non-null int8\n",
      "Space                    15181 non-null int8\n",
      "Neighborhood_Overview    15181 non-null int8\n",
      "Interaction              15181 non-null int8\n",
      "Thumbnail_Url            15181 non-null int8\n",
      "Medium_Url               15181 non-null int8\n",
      "Picture_Url              15181 non-null int8\n",
      "XL_Picture_Url           15181 non-null int8\n",
      "Host_URL                 15181 non-null int8\n",
      "Host_Name                15181 non-null int8\n",
      "Host_About               15181 non-null int8\n",
      "Host_Thumbnail_Url       15181 non-null int8\n",
      "Host_Picture_Url         15181 non-null int8\n",
      "Transit                  15181 non-null int8\n",
      "Access                   15181 non-null int8\n",
      "House_Rules              15181 non-null int8\n",
      "dtypes: int8(16)\n",
      "memory usage: 237.3 KB\n"
     ]
    }
   ],
   "source": [
    "replace_val_with_0_or_1 = airbnb[replace_val_with_0_or_1].apply(lambda col: pd.notna(col).astype('int8'))\n",
    "replace_val_with_0_or_1.info()"
   ]
  },
  {
   "cell_type": "code",
   "execution_count": 22,
   "metadata": {},
   "outputs": [
    {
     "name": "stdout",
     "output_type": "stream",
     "text": [
      "<class 'pandas.core.frame.DataFrame'>\n",
      "RangeIndex: 15181 entries, 0 to 15180\n",
      "Data columns (total 3 columns):\n",
      "Host_Verifications    15181 non-null int8\n",
      "Amenities             15181 non-null int8\n",
      "Features              15181 non-null int8\n",
      "dtypes: int8(3)\n",
      "memory usage: 44.6 KB\n"
     ]
    }
   ],
   "source": [
    "replace_with_count_values = airbnb[replace_with_count_values].apply(lambda col: col.str.split(',').str.len().fillna(0).astype('int8'))\n",
    "replace_with_count_values.info()"
   ]
  },
  {
   "cell_type": "code",
   "execution_count": 23,
   "metadata": {},
   "outputs": [
    {
     "name": "stdout",
     "output_type": "stream",
     "text": [
      "<class 'pandas.core.frame.DataFrame'>\n",
      "RangeIndex: 15181 entries, 0 to 15180\n",
      "Data columns (total 2 columns):\n",
      "Host_Listings_Count          15181 non-null float64\n",
      "Host_Total_Listings_Count    15181 non-null float64\n",
      "dtypes: float64(2)\n",
      "memory usage: 237.3 KB\n"
     ]
    }
   ],
   "source": [
    "replace_na_with_1 = airbnb[replace_na_with_1].replace(np.nan,1)\n",
    "replace_na_with_1.info()"
   ]
  },
  {
   "cell_type": "code",
   "execution_count": 24,
   "metadata": {},
   "outputs": [
    {
     "name": "stdout",
     "output_type": "stream",
     "text": [
      "<class 'pandas.core.frame.DataFrame'>\n",
      "RangeIndex: 15181 entries, 0 to 15180\n",
      "Data columns (total 3 columns):\n",
      "Host_Since      15181 non-null int32\n",
      "First_Review    15181 non-null int32\n",
      "Last_Review     15181 non-null int32\n",
      "dtypes: int32(3)\n",
      "memory usage: 178.0 KB\n"
     ]
    }
   ],
   "source": [
    "replace_date_values = airbnb[replace_date_values].fillna(method='ffill')\n",
    "replace_date_values = replace_date_values.apply(lambda col: pd.factorize(col,sort=True)[0].astype('int'))\n",
    "replace_date_values.info()"
   ]
  },
  {
   "cell_type": "code",
   "execution_count": 25,
   "metadata": {},
   "outputs": [],
   "source": [
    "updated = pd.concat([categorical_list,\n",
    "           replace_na_with_zero,\n",
    "           replace_val_with_0_or_1,\n",
    "           replace_with_count_values,\n",
    "           replace_na_with_1,\n",
    "           replace_date_values\n",
    "          ],axis=1)"
   ]
  },
  {
   "cell_type": "code",
   "execution_count": 26,
   "metadata": {},
   "outputs": [
    {
     "name": "stdout",
     "output_type": "stream",
     "text": [
      "<class 'pandas.core.frame.DataFrame'>\n",
      "RangeIndex: 15181 entries, 0 to 15180\n",
      "Columns: 752 entries, Property_Type_Apartment to Last_Review\n",
      "dtypes: float64(18), int32(3), int64(11), int8(720)\n",
      "memory usage: 14.0 MB\n"
     ]
    }
   ],
   "source": [
    "updated.info()"
   ]
  },
  {
   "cell_type": "code",
   "execution_count": 27,
   "metadata": {},
   "outputs": [],
   "source": [
    "correlation = updated.corr()"
   ]
  },
  {
   "cell_type": "code",
   "execution_count": 28,
   "metadata": {},
   "outputs": [
    {
     "data": {
      "text/plain": [
       "Price                        1.000000\n",
       "Accommodates                 0.562822\n",
       "Bedrooms                     0.537698\n",
       "Beds                         0.511277\n",
       "Guests_Included              0.364912\n",
       "Cleaning_Fee                 0.364290\n",
       "Bathrooms                    0.324807\n",
       "Room_Type_Entire home/apt    0.316342\n",
       "Security_Deposit             0.226117\n",
       "Name: Price, dtype: float64"
      ]
     },
     "execution_count": 28,
     "metadata": {},
     "output_type": "execute_result"
    }
   ],
   "source": [
    "correlation['Price'][correlation['Price'] > 0.2].sort_values(ascending=False)"
   ]
  },
  {
   "cell_type": "code",
   "execution_count": 29,
   "metadata": {},
   "outputs": [],
   "source": [
    "val = correlation[correlation > 0.5] "
   ]
  },
  {
   "cell_type": "code",
   "execution_count": 30,
   "metadata": {},
   "outputs": [],
   "source": [
    "updated['updated_cat'] = pd.cut(updated['Accommodates'],\n",
    "                    bins=[0,1,2,3,4,8,12,np.inf],\n",
    "                    labels=[1,2,3,4,5,6,7])\n",
    "# binning the category in order to split train and test data based on the accommodates to get a stratified split"
   ]
  },
  {
   "cell_type": "code",
   "execution_count": 31,
   "metadata": {},
   "outputs": [],
   "source": [
    "from sklearn.model_selection import StratifiedShuffleSplit\n",
    "strata = StratifiedShuffleSplit(n_splits=1,test_size=0.2,random_state=42)\n",
    "for train_size,test_size in strata.split(updated,updated['updated_cat']):\n",
    "    train_set = updated.iloc[train_size]\n",
    "    test_set = updated.iloc[test_size]"
   ]
  },
  {
   "cell_type": "code",
   "execution_count": 32,
   "metadata": {},
   "outputs": [
    {
     "data": {
      "text/plain": [
       "2    0.434688\n",
       "4    0.225809\n",
       "3    0.069495\n",
       "5    0.049338\n",
       "1    0.016929\n",
       "7    0.001976\n",
       "6    0.001713\n",
       "Name: updated_cat, dtype: float64"
      ]
     },
     "execution_count": 32,
     "metadata": {},
     "output_type": "execute_result"
    }
   ],
   "source": [
    "train_set['updated_cat'].value_counts() / len(updated)"
   ]
  },
  {
   "cell_type": "code",
   "execution_count": 33,
   "metadata": {},
   "outputs": [],
   "source": [
    "data = train_set.drop(['Price','updated_cat'],axis=1)\n",
    "price = train_set['Price'].copy()"
   ]
  },
  {
   "cell_type": "code",
   "execution_count": 34,
   "metadata": {},
   "outputs": [],
   "source": [
    "from sklearn.preprocessing import StandardScaler\n",
    "stdsclr = StandardScaler()\n",
    "scaled = stdsclr.fit_transform(data)"
   ]
  },
  {
   "cell_type": "code",
   "execution_count": 35,
   "metadata": {},
   "outputs": [],
   "source": [
    "from sklearn.ensemble import RandomForestRegressor\n",
    "from sklearn.metrics import mean_squared_error\n",
    "rforest_reg = RandomForestRegressor(n_jobs=-1,random_state=42)"
   ]
  },
  {
   "cell_type": "code",
   "execution_count": 36,
   "metadata": {},
   "outputs": [
    {
     "name": "stderr",
     "output_type": "stream",
     "text": [
      "C:\\Users\\bhara\\Anaconda3\\lib\\site-packages\\sklearn\\ensemble\\forest.py:245: FutureWarning: The default value of n_estimators will change from 10 in version 0.20 to 100 in 0.22.\n",
      "  \"10 in version 0.20 to 100 in 0.22.\", FutureWarning)\n"
     ]
    },
    {
     "data": {
      "text/plain": [
       "RandomForestRegressor(bootstrap=True, criterion='mse', max_depth=None,\n",
       "                      max_features='auto', max_leaf_nodes=None,\n",
       "                      min_impurity_decrease=0.0, min_impurity_split=None,\n",
       "                      min_samples_leaf=1, min_samples_split=2,\n",
       "                      min_weight_fraction_leaf=0.0, n_estimators=10, n_jobs=-1,\n",
       "                      oob_score=False, random_state=42, verbose=0,\n",
       "                      warm_start=False)"
      ]
     },
     "execution_count": 36,
     "metadata": {},
     "output_type": "execute_result"
    }
   ],
   "source": [
    "rforest_reg.fit(scaled,price)"
   ]
  },
  {
   "cell_type": "code",
   "execution_count": 37,
   "metadata": {},
   "outputs": [
    {
     "data": {
      "text/plain": [
       "22.00901229497279"
      ]
     },
     "execution_count": 37,
     "metadata": {},
     "output_type": "execute_result"
    }
   ],
   "source": [
    "rpredictor = rforest_reg.predict(scaled)\n",
    "mse = mean_squared_error(price,rpredictor)\n",
    "rmse = np.sqrt(mse)\n",
    "rmse"
   ]
  },
  {
   "cell_type": "code",
   "execution_count": 38,
   "metadata": {},
   "outputs": [],
   "source": [
    "from sklearn.model_selection import cross_val_score\n",
    "rand_score = cross_val_score(rforest_reg,scaled,price,\n",
    "                            scoring='neg_mean_squared_error',cv=10,n_jobs=-1)\n",
    "forest_rmse = np.sqrt(-rand_score)"
   ]
  },
  {
   "cell_type": "code",
   "execution_count": 39,
   "metadata": {},
   "outputs": [
    {
     "data": {
      "text/plain": [
       "(53.447874733918226, 4.322072315818356)"
      ]
     },
     "execution_count": 39,
     "metadata": {},
     "output_type": "execute_result"
    }
   ],
   "source": [
    "np.mean(forest_rmse),np.std(forest_rmse)"
   ]
  },
  {
   "cell_type": "code",
   "execution_count": null,
   "metadata": {},
   "outputs": [],
   "source": []
  }
 ],
 "metadata": {
  "kernelspec": {
   "display_name": "Python 3",
   "language": "python",
   "name": "python3"
  },
  "language_info": {
   "codemirror_mode": {
    "name": "ipython",
    "version": 3
   },
   "file_extension": ".py",
   "mimetype": "text/x-python",
   "name": "python",
   "nbconvert_exporter": "python",
   "pygments_lexer": "ipython3",
   "version": "3.7.3"
  }
 },
 "nbformat": 4,
 "nbformat_minor": 2
}
